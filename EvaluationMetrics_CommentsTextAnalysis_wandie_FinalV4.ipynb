{
  "cells": [
    {
      "cell_type": "markdown",
      "metadata": {
        "id": "1nS1fZzWBuYD"
      },
      "source": [
        "<h1><center>MASTER OF SCIENCE IN COMPUTER SCIENCE</center></h1>\n",
        "<p><center>DATA ANALYTICS & VIZUALIZATION , SEMESTER 2 | EXAM </center></p>\n",
        "<p><center><strong> NAME  : WENAREEBA INNOCENT | REG-NO: 2021/HD05/2315U | STUDENT NO : 2100702315</strong></center></p>\n",
        "\n",
        "\n",
        "\n",
        "\n",
        "---\n",
        "\n"
      ]
    },
    {
      "cell_type": "markdown",
      "metadata": {
        "id": "lpluLp_pDLS5"
      },
      "source": [
        "**INSTRUCTIONS** \n",
        "\n",
        "Dataset Source :  *https://www.fams-cit.com/fscomments* to perform the\n",
        "following text analysis tasks of the dataset\n",
        "\n",
        "\n",
        "---\n",
        "\n",
        "\n",
        "\n",
        "1.   Create a corpus from the downloaded comments from Field Supervisors.\n",
        "2.   Cluster the comments of Field Supervisors about Interns into categories: Excellent, Good, Neutral, Poor, Very Poor.\n",
        "\n",
        "3.   Assess the performance of your clustering algorithm above.\n",
        "4.   Create a Named Entity Recognition (NER) model that takes in a comment as an input and outputs the Entities, if any, belonging\n",
        "to the categories: Person, Organization, Place/Location, Time\n",
        "5.   Create a visualization to show insights about the dataset. (Create the visualization using D3 and host it at the same server you\n",
        "have used in the previous assignments)\n",
        "\n",
        "\n"
      ]
    },
    {
      "cell_type": "markdown",
      "metadata": {
        "id": "RupbWjoGCtdE"
      },
      "source": [
        "**Data preprocessing**\n",
        "\n",
        "**Data cleaning** , this involves removing punctuations and symbols from the dataset\n",
        "\n",
        "**Tokenization**, breaking down of sentenses into words\n",
        "stop words , words without meaning in the dataset\n",
        "\n",
        "**lemmanization** , reducing a word to its root form, it resolves words to dictionary form.\n",
        "\n",
        "**stemming** , this is reducing words to their word stems ie males to male , playing to play, the algorithm will be able to detect the meaning of the words"
      ]
    },
    {
      "cell_type": "markdown",
      "metadata": {
        "id": "AeR2QZ-6CGGQ"
      },
      "source": [
        "IMPORT THE LIBRARIES TO USE WHILE WORKING ON THE COMMENTS TEXT ANALYSIS"
      ]
    },
    {
      "cell_type": "code",
      "execution_count": 1,
      "metadata": {
        "colab": {
          "base_uri": "https://localhost:8080/"
        },
        "id": "HMGc0rRs7kaY",
        "outputId": "2bb0ce07-ed8a-4946-8d80-533cccf0b604"
      },
      "outputs": [
        {
          "output_type": "stream",
          "name": "stderr",
          "text": [
            "[nltk_data] Downloading package omw-1.4 to /root/nltk_data...\n",
            "[nltk_data]   Package omw-1.4 is already up-to-date!\n",
            "[nltk_data] Downloading package averaged_perceptron_tagger to\n",
            "[nltk_data]     /root/nltk_data...\n",
            "[nltk_data]   Package averaged_perceptron_tagger is already up-to-\n",
            "[nltk_data]       date!\n",
            "[nltk_data] Downloading package wordnet to /root/nltk_data...\n",
            "[nltk_data]   Package wordnet is already up-to-date!\n",
            "[nltk_data] Downloading package stopwords to /root/nltk_data...\n",
            "[nltk_data]   Package stopwords is already up-to-date!\n",
            "[nltk_data] Downloading package punkt to /root/nltk_data...\n",
            "[nltk_data]   Package punkt is already up-to-date!\n"
          ]
        }
      ],
      "source": [
        "# Import Libraries\n",
        "import numpy as np\n",
        "import pandas as pd\n",
        "# matplotlib\n",
        "import matplotlib.pyplot as plt\n",
        "import gensim\n",
        "import matplotlib.colors as mcolors\n",
        "from gensim.utils import simple_preprocess\n",
        "from gensim import corpora, models\n",
        "from gensim.parsing.preprocessing import STOPWORDS\n",
        "from nltk.stem import WordNetLemmatizer, SnowballStemmer\n",
        "from nltk.stem.porter import *\n",
        "# word cloud\n",
        "from wordcloud import WordCloud, STOPWORDS\n",
        "import datetime\n",
        "import time\n",
        "# natural language processing\n",
        "import nltk  \n",
        "nltk.download('omw-1.4')\n",
        "nltk.download('averaged_perceptron_tagger')\n",
        "nltk.download('wordnet')\n",
        "nltk.download('stopwords')\n",
        "nltk.download('punkt')\n",
        "\n",
        "# Working with corpus and stop words\n",
        "from nltk.corpus import stopwords\n",
        "# import wordnet from nltk.corpus\n",
        "from nltk.corpus import wordnet\n",
        "from nltk import pos_tag\n",
        "# import lemannatizer library\n",
        "from nltk.stem import WordNetLemmatizer \n",
        "import string\n",
        "\n",
        "  "
      ]
    },
    {
      "cell_type": "markdown",
      "metadata": {
        "id": "-TC7NzaQEFPR"
      },
      "source": [
        "**CLONING THE GITHUB REPOSITORY**\n",
        "\n",
        "I converted the dataset(Comments.xlsx) to csv for readability purposes, and uploaded the dataset to my github repository so i can be able to pick up the dataset from there with ease"
      ]
    },
    {
      "cell_type": "code",
      "execution_count": 2,
      "metadata": {
        "colab": {
          "base_uri": "https://localhost:8080/"
        },
        "id": "Fwr4iHRKSS_X",
        "outputId": "43111383-0865-44d3-c90f-72b7eeec65bc"
      },
      "outputs": [
        {
          "output_type": "stream",
          "name": "stdout",
          "text": [
            "fatal: destination path 'feedback_text_analysis_nlp_python' already exists and is not an empty directory.\n"
          ]
        }
      ],
      "source": [
        "!git clone https://github.com/wandieinnocents/feedback_text_analysis_nlp_python.git"
      ]
    },
    {
      "cell_type": "markdown",
      "metadata": {
        "id": "a5wCOfkmFAtn"
      },
      "source": [
        "**LOADING THE DATASET**\n",
        "\n",
        "Load dataset from the github repository in the CommentsCsv.csv File"
      ]
    },
    {
      "cell_type": "code",
      "execution_count": 3,
      "metadata": {
        "id": "MdflkJgE6mmY"
      },
      "outputs": [],
      "source": [
        "# Load dataset from the github repository in\n",
        "dataFrame=pd.read_csv('/content/feedback_text_analysis_nlp_python/CommentsCsv.csv', sep=\",\", encoding='ISO-8859-1')"
      ]
    },
    {
      "cell_type": "markdown",
      "metadata": {
        "id": "-z4y69m8TaXd"
      },
      "source": [
        "After loading dataset , Incase there are null fields, fill them with 'na'"
      ]
    },
    {
      "cell_type": "code",
      "execution_count": 4,
      "metadata": {
        "id": "cGRFUsUtTRnT"
      },
      "outputs": [],
      "source": [
        "#fill fields which are null with 'na'\n",
        "dataFrame=dataFrame.fillna('There is no data available') "
      ]
    },
    {
      "cell_type": "markdown",
      "metadata": {
        "id": "qvoYPxFiTuKk"
      },
      "source": [
        "Display the dataset after the running fillna (to avoid erros incase there are null fields)"
      ]
    },
    {
      "cell_type": "code",
      "execution_count": 5,
      "metadata": {
        "colab": {
          "base_uri": "https://localhost:8080/",
          "height": 520
        },
        "id": "dTHNFlNaTVU6",
        "outputId": "0de6e803-25af-474a-ee36-a24d3e747535"
      },
      "outputs": [
        {
          "output_type": "execute_result",
          "data": {
            "text/plain": [
              "    comment_id                                            Comment\n",
              "0            5                             djfjkdfjkjkffdk edited\n",
              "1           41  Faith has exhibited enthusiasm in taking on th...\n",
              "2           49  He now has now understood the structure of gra...\n",
              "3           50  The Intern was oriented on ICT setup and Infra...\n",
              "4           52  The student was oriented on the organization s...\n",
              "5           53                          Activities well completed\n",
              "6           54                                   finished on time\n",
              "7           55  The student's weekly progress was justifiably ...\n",
              "8           56                                              Noted\n",
              "9           57  She found this very interesting as she was abl...\n",
              "10          58  Partially done, expected a better result based...\n",
              "11          63  Done to partial satisfaction. Hopefully learni...\n",
              "12          65                       Confirmed done as specified.\n",
              "13          66  He faced some problem of identifying the symbo...\n",
              "14          68  This activity took some time to be completed, ..."
            ],
            "text/html": [
              "\n",
              "  <div id=\"df-3a8c3b88-3678-499b-924c-d2e303445fe9\">\n",
              "    <div class=\"colab-df-container\">\n",
              "      <div>\n",
              "<style scoped>\n",
              "    .dataframe tbody tr th:only-of-type {\n",
              "        vertical-align: middle;\n",
              "    }\n",
              "\n",
              "    .dataframe tbody tr th {\n",
              "        vertical-align: top;\n",
              "    }\n",
              "\n",
              "    .dataframe thead th {\n",
              "        text-align: right;\n",
              "    }\n",
              "</style>\n",
              "<table border=\"1\" class=\"dataframe\">\n",
              "  <thead>\n",
              "    <tr style=\"text-align: right;\">\n",
              "      <th></th>\n",
              "      <th>comment_id</th>\n",
              "      <th>Comment</th>\n",
              "    </tr>\n",
              "  </thead>\n",
              "  <tbody>\n",
              "    <tr>\n",
              "      <th>0</th>\n",
              "      <td>5</td>\n",
              "      <td>djfjkdfjkjkffdk edited</td>\n",
              "    </tr>\n",
              "    <tr>\n",
              "      <th>1</th>\n",
              "      <td>41</td>\n",
              "      <td>Faith has exhibited enthusiasm in taking on th...</td>\n",
              "    </tr>\n",
              "    <tr>\n",
              "      <th>2</th>\n",
              "      <td>49</td>\n",
              "      <td>He now has now understood the structure of gra...</td>\n",
              "    </tr>\n",
              "    <tr>\n",
              "      <th>3</th>\n",
              "      <td>50</td>\n",
              "      <td>The Intern was oriented on ICT setup and Infra...</td>\n",
              "    </tr>\n",
              "    <tr>\n",
              "      <th>4</th>\n",
              "      <td>52</td>\n",
              "      <td>The student was oriented on the organization s...</td>\n",
              "    </tr>\n",
              "    <tr>\n",
              "      <th>5</th>\n",
              "      <td>53</td>\n",
              "      <td>Activities well completed</td>\n",
              "    </tr>\n",
              "    <tr>\n",
              "      <th>6</th>\n",
              "      <td>54</td>\n",
              "      <td>finished on time</td>\n",
              "    </tr>\n",
              "    <tr>\n",
              "      <th>7</th>\n",
              "      <td>55</td>\n",
              "      <td>The student's weekly progress was justifiably ...</td>\n",
              "    </tr>\n",
              "    <tr>\n",
              "      <th>8</th>\n",
              "      <td>56</td>\n",
              "      <td>Noted</td>\n",
              "    </tr>\n",
              "    <tr>\n",
              "      <th>9</th>\n",
              "      <td>57</td>\n",
              "      <td>She found this very interesting as she was abl...</td>\n",
              "    </tr>\n",
              "    <tr>\n",
              "      <th>10</th>\n",
              "      <td>58</td>\n",
              "      <td>Partially done, expected a better result based...</td>\n",
              "    </tr>\n",
              "    <tr>\n",
              "      <th>11</th>\n",
              "      <td>63</td>\n",
              "      <td>Done to partial satisfaction. Hopefully learni...</td>\n",
              "    </tr>\n",
              "    <tr>\n",
              "      <th>12</th>\n",
              "      <td>65</td>\n",
              "      <td>Confirmed done as specified.</td>\n",
              "    </tr>\n",
              "    <tr>\n",
              "      <th>13</th>\n",
              "      <td>66</td>\n",
              "      <td>He faced some problem of identifying the symbo...</td>\n",
              "    </tr>\n",
              "    <tr>\n",
              "      <th>14</th>\n",
              "      <td>68</td>\n",
              "      <td>This activity took some time to be completed, ...</td>\n",
              "    </tr>\n",
              "  </tbody>\n",
              "</table>\n",
              "</div>\n",
              "      <button class=\"colab-df-convert\" onclick=\"convertToInteractive('df-3a8c3b88-3678-499b-924c-d2e303445fe9')\"\n",
              "              title=\"Convert this dataframe to an interactive table.\"\n",
              "              style=\"display:none;\">\n",
              "        \n",
              "  <svg xmlns=\"http://www.w3.org/2000/svg\" height=\"24px\"viewBox=\"0 0 24 24\"\n",
              "       width=\"24px\">\n",
              "    <path d=\"M0 0h24v24H0V0z\" fill=\"none\"/>\n",
              "    <path d=\"M18.56 5.44l.94 2.06.94-2.06 2.06-.94-2.06-.94-.94-2.06-.94 2.06-2.06.94zm-11 1L8.5 8.5l.94-2.06 2.06-.94-2.06-.94L8.5 2.5l-.94 2.06-2.06.94zm10 10l.94 2.06.94-2.06 2.06-.94-2.06-.94-.94-2.06-.94 2.06-2.06.94z\"/><path d=\"M17.41 7.96l-1.37-1.37c-.4-.4-.92-.59-1.43-.59-.52 0-1.04.2-1.43.59L10.3 9.45l-7.72 7.72c-.78.78-.78 2.05 0 2.83L4 21.41c.39.39.9.59 1.41.59.51 0 1.02-.2 1.41-.59l7.78-7.78 2.81-2.81c.8-.78.8-2.07 0-2.86zM5.41 20L4 18.59l7.72-7.72 1.47 1.35L5.41 20z\"/>\n",
              "  </svg>\n",
              "      </button>\n",
              "      \n",
              "  <style>\n",
              "    .colab-df-container {\n",
              "      display:flex;\n",
              "      flex-wrap:wrap;\n",
              "      gap: 12px;\n",
              "    }\n",
              "\n",
              "    .colab-df-convert {\n",
              "      background-color: #E8F0FE;\n",
              "      border: none;\n",
              "      border-radius: 50%;\n",
              "      cursor: pointer;\n",
              "      display: none;\n",
              "      fill: #1967D2;\n",
              "      height: 32px;\n",
              "      padding: 0 0 0 0;\n",
              "      width: 32px;\n",
              "    }\n",
              "\n",
              "    .colab-df-convert:hover {\n",
              "      background-color: #E2EBFA;\n",
              "      box-shadow: 0px 1px 2px rgba(60, 64, 67, 0.3), 0px 1px 3px 1px rgba(60, 64, 67, 0.15);\n",
              "      fill: #174EA6;\n",
              "    }\n",
              "\n",
              "    [theme=dark] .colab-df-convert {\n",
              "      background-color: #3B4455;\n",
              "      fill: #D2E3FC;\n",
              "    }\n",
              "\n",
              "    [theme=dark] .colab-df-convert:hover {\n",
              "      background-color: #434B5C;\n",
              "      box-shadow: 0px 1px 3px 1px rgba(0, 0, 0, 0.15);\n",
              "      filter: drop-shadow(0px 1px 2px rgba(0, 0, 0, 0.3));\n",
              "      fill: #FFFFFF;\n",
              "    }\n",
              "  </style>\n",
              "\n",
              "      <script>\n",
              "        const buttonEl =\n",
              "          document.querySelector('#df-3a8c3b88-3678-499b-924c-d2e303445fe9 button.colab-df-convert');\n",
              "        buttonEl.style.display =\n",
              "          google.colab.kernel.accessAllowed ? 'block' : 'none';\n",
              "\n",
              "        async function convertToInteractive(key) {\n",
              "          const element = document.querySelector('#df-3a8c3b88-3678-499b-924c-d2e303445fe9');\n",
              "          const dataTable =\n",
              "            await google.colab.kernel.invokeFunction('convertToInteractive',\n",
              "                                                     [key], {});\n",
              "          if (!dataTable) return;\n",
              "\n",
              "          const docLinkHtml = 'Like what you see? Visit the ' +\n",
              "            '<a target=\"_blank\" href=https://colab.research.google.com/notebooks/data_table.ipynb>data table notebook</a>'\n",
              "            + ' to learn more about interactive tables.';\n",
              "          element.innerHTML = '';\n",
              "          dataTable['output_type'] = 'display_data';\n",
              "          await google.colab.output.renderOutput(dataTable, element);\n",
              "          const docLink = document.createElement('div');\n",
              "          docLink.innerHTML = docLinkHtml;\n",
              "          element.appendChild(docLink);\n",
              "        }\n",
              "      </script>\n",
              "    </div>\n",
              "  </div>\n",
              "  "
            ]
          },
          "metadata": {},
          "execution_count": 5
        }
      ],
      "source": [
        "# Display the dataset\n",
        "dataFrame.head(15)"
      ]
    },
    {
      "cell_type": "markdown",
      "metadata": {
        "id": "NiVRVQSpH1zB"
      },
      "source": [
        "Shape of the dataset"
      ]
    },
    {
      "cell_type": "code",
      "execution_count": 6,
      "metadata": {
        "colab": {
          "base_uri": "https://localhost:8080/"
        },
        "id": "Ko0kU66pS8hC",
        "outputId": "861b8ab6-d626-4521-8676-84130afcaf64"
      },
      "outputs": [
        {
          "output_type": "stream",
          "name": "stdout",
          "text": [
            "Display all Comments in Dataset\n",
            "RowsxColumns : (4920, 2)\n"
          ]
        }
      ],
      "source": [
        "print ('Display all Comments in Dataset')\n",
        "print('RowsxColumns :' , dataFrame.shape)"
      ]
    },
    {
      "cell_type": "code",
      "source": [
        "dataFrame.count()"
      ],
      "metadata": {
        "colab": {
          "base_uri": "https://localhost:8080/"
        },
        "id": "0pWdo4qOw7Pe",
        "outputId": "ea9223c6-dfad-46ba-eccd-c183618bbb50"
      },
      "execution_count": 7,
      "outputs": [
        {
          "output_type": "execute_result",
          "data": {
            "text/plain": [
              "comment_id    4920\n",
              "Comment       4920\n",
              "dtype: int64"
            ]
          },
          "metadata": {},
          "execution_count": 7
        }
      ]
    },
    {
      "cell_type": "markdown",
      "metadata": {
        "id": "TzVyRfy-btb-"
      },
      "source": [
        "Pick a comment from dataset to handle  data cleaning which later will be converted to the entire dataset"
      ]
    },
    {
      "cell_type": "code",
      "execution_count": 8,
      "metadata": {
        "colab": {
          "base_uri": "https://localhost:8080/"
        },
        "id": "1zCHUhWEUrP-",
        "outputId": "11370ed2-03f1-4ca5-e48b-05d14bee29d3"
      },
      "outputs": [
        {
          "output_type": "stream",
          "name": "stdout",
          "text": [
            "The Intern was oriented on ICT setup and Infrastructure of Soroti University, drafted workplan and started off the Internship. Simon was encouraged to take the Internship seriously as there was a lot to learn.\n"
          ]
        }
      ],
      "source": [
        "# Pick the second row of dataset \n",
        "pick_single_comment_for_testing = dataFrame.loc[3,:].copy()\n",
        "print(pick_single_comment_for_testing.Comment)"
      ]
    },
    {
      "cell_type": "markdown",
      "metadata": {
        "id": "aYuVYA_fb-Tz"
      },
      "source": [
        "**Convert the String to Lower case** \n",
        "\n",
        "If the original case of the character is already lowercase then the it will retain its lower case. we convert to lower case so the algorithm can easily work with the string data when it is uniform, and its easily interpreted"
      ]
    },
    {
      "cell_type": "code",
      "execution_count": 9,
      "metadata": {
        "id": "hiF4Aw9TYBnw"
      },
      "outputs": [],
      "source": [
        "#convert upper case to lower case and still search accurately\n",
        "def process_string(text):\n",
        "    text = text.lower()#make the text lowercase\n",
        "    text = text.translate(str.maketrans('','',string.punctuation)) #strip punctuation\n",
        "    return text\n"
      ]
    },
    {
      "cell_type": "markdown",
      "metadata": {
        "id": "cqox2v7Mfc3T"
      },
      "source": [
        "Display string converted to lower case"
      ]
    },
    {
      "cell_type": "code",
      "execution_count": 10,
      "metadata": {
        "colab": {
          "base_uri": "https://localhost:8080/",
          "height": 53
        },
        "id": "-GjPfajSYGXl",
        "outputId": "b23e5731-b2a0-47e6-a2da-22ea6c9d23a8"
      },
      "outputs": [
        {
          "output_type": "execute_result",
          "data": {
            "text/plain": [
              "'the intern was oriented on ict setup and infrastructure of soroti university drafted workplan and started off the internship simon was encouraged to take the internship seriously as there was a lot to learn'"
            ],
            "application/vnd.google.colaboratory.intrinsic+json": {
              "type": "string"
            }
          },
          "metadata": {},
          "execution_count": 10
        }
      ],
      "source": [
        "# converted string to lower case\n",
        "process_string(pick_single_comment_for_testing.Comment)"
      ]
    },
    {
      "cell_type": "markdown",
      "metadata": {
        "id": "FAfhzNWGf4wu"
      },
      "source": [
        "**PARTS OF SPEECH TAGGIN** \n",
        "\n",
        "POS Tagging (Parts of Speech Tagging) is a process to mark up the words in text format for a particular part of a speech based on its definition and context. It is responsible for text reading in a language and assigning some specific token (Parts of Speech) to each word. It is also called grammatical tagging."
      ]
    },
    {
      "cell_type": "code",
      "execution_count": 11,
      "metadata": {
        "id": "_c-wk4mBYJfn"
      },
      "outputs": [],
      "source": [
        "def get_wordnet_pos(word):\n",
        "    # \"\"\"Map POS tag to first character lemmatize() accepts\"\"\"\n",
        "    tag = pos_tag([word])[0][1][0].upper()\n",
        "    tag_dict = {\"J\": wordnet.ADJ,\"N\": wordnet.NOUN,\"V\": wordnet.VERB,\"R\": wordnet.ADV  }\n",
        "    return tag_dict.get(tag, wordnet.NOUN)"
      ]
    },
    {
      "cell_type": "markdown",
      "metadata": {
        "id": "CBMd4KrXiFPO"
      },
      "source": [
        "Display the Parts of speech tags on some words"
      ]
    },
    {
      "cell_type": "code",
      "execution_count": 12,
      "metadata": {
        "colab": {
          "base_uri": "https://localhost:8080/"
        },
        "id": "Bn5zvdrUYPJz",
        "outputId": "04ff7da0-b284-4e17-9684-8667aa83eeb9"
      },
      "outputs": [
        {
          "output_type": "stream",
          "name": "stdout",
          "text": [
            "intern:n\n",
            " oriented:v\n",
            " at:a\n"
          ]
        }
      ],
      "source": [
        "print(\"intern:{}\\n oriented:{}\\n at:{}\".format(get_wordnet_pos(\"windows\"),get_wordnet_pos(\"run\"), get_wordnet_pos(\"happy\")))"
      ]
    },
    {
      "cell_type": "code",
      "execution_count": 13,
      "metadata": {
        "id": "qtke6Q8pYS0y"
      },
      "outputs": [],
      "source": [
        "stop = stopwords.words(\"english\")"
      ]
    },
    {
      "cell_type": "markdown",
      "metadata": {
        "id": "ng7nNgsaa4in"
      },
      "source": [
        "\n",
        "**LEMMATIZATION** \n",
        "\n",
        "Lemmatization is the grouping together of different forms of the same word. In search queries, lemmatization allows end users to query any version of a base word and get relevant results. Because search engine algorithms use lemmatization, the user is free to query any inflectional form of a word and get relevant results. For example, if the user queries the plural form of a word (investments), the search engine knows to also return relevant content that uses the singular form of the same word (investment).\n",
        "\n"
      ]
    },
    {
      "cell_type": "code",
      "execution_count": 14,
      "metadata": {
        "id": "zSm_k5aKYXY3"
      },
      "outputs": [],
      "source": [
        "# lemmatization \n",
        "lem = WordNetLemmatizer()\n",
        "\n",
        "def stop_lemmatize(doc):\n",
        "    tokens = nltk.word_tokenize(doc)\n",
        "    tmp = \"\"\n",
        "    for w in tokens:\n",
        "        if w not in stop:\n",
        "            tmp += lem.lemmatize(w, get_wordnet_pos(w)) + \" \"\n",
        "    return tmp"
      ]
    },
    {
      "cell_type": "markdown",
      "metadata": {
        "id": "VZRt2lV_j7_y"
      },
      "source": [
        "String before lemmatization"
      ]
    },
    {
      "cell_type": "code",
      "execution_count": 15,
      "metadata": {
        "colab": {
          "base_uri": "https://localhost:8080/",
          "height": 53
        },
        "id": "IYdcg3_YjedX",
        "outputId": "09eccd51-4468-4542-a9c0-0f69348c5845"
      },
      "outputs": [
        {
          "output_type": "execute_result",
          "data": {
            "text/plain": [
              "'The Intern was oriented on ICT setup and Infrastructure of Soroti University, drafted workplan and started off the Internship. Simon was encouraged to take the Internship seriously as there was a lot to learn.'"
            ],
            "application/vnd.google.colaboratory.intrinsic+json": {
              "type": "string"
            }
          },
          "metadata": {},
          "execution_count": 15
        }
      ],
      "source": [
        "# String before lemmatization\n",
        "pick_single_comment_for_testing.Comment"
      ]
    },
    {
      "cell_type": "markdown",
      "metadata": {
        "id": "LWWV94dUj-vz"
      },
      "source": [
        "String After lemmatization"
      ]
    },
    {
      "cell_type": "code",
      "execution_count": 16,
      "metadata": {
        "colab": {
          "base_uri": "https://localhost:8080/",
          "height": 53
        },
        "id": "-7sg9V5DYcTH",
        "outputId": "979ada82-8142-4ba4-a6d7-0e0365474290"
      },
      "outputs": [
        {
          "output_type": "execute_result",
          "data": {
            "text/plain": [
              "'The Intern orient ICT setup Infrastructure Soroti University , draft workplan start Internship . Simon encourage take Internship seriously lot learn . '"
            ],
            "application/vnd.google.colaboratory.intrinsic+json": {
              "type": "string"
            }
          },
          "metadata": {},
          "execution_count": 16
        }
      ],
      "source": [
        "# Lemmatize the string\n",
        "stop_lemmatize(doc = pick_single_comment_for_testing.Comment) "
      ]
    },
    {
      "cell_type": "code",
      "execution_count": 17,
      "metadata": {
        "id": "72k0VStnYkcg"
      },
      "outputs": [],
      "source": [
        "dataFrame_processed = dataFrame.copy()"
      ]
    },
    {
      "cell_type": "code",
      "execution_count": 18,
      "metadata": {
        "colab": {
          "base_uri": "https://localhost:8080/",
          "height": 87
        },
        "id": "PSsFYrtwZoHp",
        "outputId": "ac5ab868-adc4-4d3e-a855-6065fbf8342a"
      },
      "outputs": [
        {
          "output_type": "stream",
          "name": "stdout",
          "text": [
            "CPU times: user 103 µs, sys: 13 µs, total: 116 µs\n",
            "Wall time: 122 µs\n"
          ]
        },
        {
          "output_type": "execute_result",
          "data": {
            "text/plain": [
              "'the intern was oriented on ict setup and infrastructure of soroti university drafted workplan and started off the internship simon was encouraged to take the internship seriously as there was a lot to learn'"
            ],
            "application/vnd.google.colaboratory.intrinsic+json": {
              "type": "string"
            }
          },
          "metadata": {},
          "execution_count": 18
        }
      ],
      "source": [
        "%time process_string(pick_single_comment_for_testing.Comment)"
      ]
    },
    {
      "cell_type": "code",
      "execution_count": 19,
      "metadata": {
        "id": "ht28MWXDbcfi"
      },
      "outputs": [],
      "source": [
        "#Transform the dataframe to enable the processing of column contents \n",
        "# as strings which are arrays of uncoded characters\n",
        "def transform_dataFrame(dataFrame):\n",
        "    dataFrame['Comment'] = dataFrame['Comment'].apply(process_string)\n",
        " "
      ]
    },
    {
      "cell_type": "code",
      "execution_count": 20,
      "metadata": {
        "colab": {
          "base_uri": "https://localhost:8080/"
        },
        "id": "QAGdaVmWbfLY",
        "outputId": "1900102d-babd-4db2-e8e1-f3fae83b9340"
      },
      "outputs": [
        {
          "output_type": "stream",
          "name": "stdout",
          "text": [
            "CPU times: user 28.5 ms, sys: 1.95 ms, total: 30.4 ms\n",
            "Wall time: 30.3 ms\n"
          ]
        }
      ],
      "source": [
        "%time transform_dataFrame(dataFrame_processed)"
      ]
    },
    {
      "cell_type": "code",
      "execution_count": 21,
      "metadata": {
        "colab": {
          "base_uri": "https://localhost:8080/",
          "height": 206
        },
        "id": "sKNsYsHYcCL6",
        "outputId": "73f68da5-4861-4736-b651-eb29345a6165"
      },
      "outputs": [
        {
          "output_type": "execute_result",
          "data": {
            "text/plain": [
              "   comment_id                                            Comment\n",
              "0           5                             djfjkdfjkjkffdk edited\n",
              "1          41  faith has exhibited enthusiasm in taking on th...\n",
              "2          49  he now has now understood the structure of gra...\n",
              "3          50  the intern was oriented on ict setup and infra...\n",
              "4          52  the student was oriented on the organization s..."
            ],
            "text/html": [
              "\n",
              "  <div id=\"df-425a1372-a4cb-4d20-851c-f97881ddf4a7\">\n",
              "    <div class=\"colab-df-container\">\n",
              "      <div>\n",
              "<style scoped>\n",
              "    .dataframe tbody tr th:only-of-type {\n",
              "        vertical-align: middle;\n",
              "    }\n",
              "\n",
              "    .dataframe tbody tr th {\n",
              "        vertical-align: top;\n",
              "    }\n",
              "\n",
              "    .dataframe thead th {\n",
              "        text-align: right;\n",
              "    }\n",
              "</style>\n",
              "<table border=\"1\" class=\"dataframe\">\n",
              "  <thead>\n",
              "    <tr style=\"text-align: right;\">\n",
              "      <th></th>\n",
              "      <th>comment_id</th>\n",
              "      <th>Comment</th>\n",
              "    </tr>\n",
              "  </thead>\n",
              "  <tbody>\n",
              "    <tr>\n",
              "      <th>0</th>\n",
              "      <td>5</td>\n",
              "      <td>djfjkdfjkjkffdk edited</td>\n",
              "    </tr>\n",
              "    <tr>\n",
              "      <th>1</th>\n",
              "      <td>41</td>\n",
              "      <td>faith has exhibited enthusiasm in taking on th...</td>\n",
              "    </tr>\n",
              "    <tr>\n",
              "      <th>2</th>\n",
              "      <td>49</td>\n",
              "      <td>he now has now understood the structure of gra...</td>\n",
              "    </tr>\n",
              "    <tr>\n",
              "      <th>3</th>\n",
              "      <td>50</td>\n",
              "      <td>the intern was oriented on ict setup and infra...</td>\n",
              "    </tr>\n",
              "    <tr>\n",
              "      <th>4</th>\n",
              "      <td>52</td>\n",
              "      <td>the student was oriented on the organization s...</td>\n",
              "    </tr>\n",
              "  </tbody>\n",
              "</table>\n",
              "</div>\n",
              "      <button class=\"colab-df-convert\" onclick=\"convertToInteractive('df-425a1372-a4cb-4d20-851c-f97881ddf4a7')\"\n",
              "              title=\"Convert this dataframe to an interactive table.\"\n",
              "              style=\"display:none;\">\n",
              "        \n",
              "  <svg xmlns=\"http://www.w3.org/2000/svg\" height=\"24px\"viewBox=\"0 0 24 24\"\n",
              "       width=\"24px\">\n",
              "    <path d=\"M0 0h24v24H0V0z\" fill=\"none\"/>\n",
              "    <path d=\"M18.56 5.44l.94 2.06.94-2.06 2.06-.94-2.06-.94-.94-2.06-.94 2.06-2.06.94zm-11 1L8.5 8.5l.94-2.06 2.06-.94-2.06-.94L8.5 2.5l-.94 2.06-2.06.94zm10 10l.94 2.06.94-2.06 2.06-.94-2.06-.94-.94-2.06-.94 2.06-2.06.94z\"/><path d=\"M17.41 7.96l-1.37-1.37c-.4-.4-.92-.59-1.43-.59-.52 0-1.04.2-1.43.59L10.3 9.45l-7.72 7.72c-.78.78-.78 2.05 0 2.83L4 21.41c.39.39.9.59 1.41.59.51 0 1.02-.2 1.41-.59l7.78-7.78 2.81-2.81c.8-.78.8-2.07 0-2.86zM5.41 20L4 18.59l7.72-7.72 1.47 1.35L5.41 20z\"/>\n",
              "  </svg>\n",
              "      </button>\n",
              "      \n",
              "  <style>\n",
              "    .colab-df-container {\n",
              "      display:flex;\n",
              "      flex-wrap:wrap;\n",
              "      gap: 12px;\n",
              "    }\n",
              "\n",
              "    .colab-df-convert {\n",
              "      background-color: #E8F0FE;\n",
              "      border: none;\n",
              "      border-radius: 50%;\n",
              "      cursor: pointer;\n",
              "      display: none;\n",
              "      fill: #1967D2;\n",
              "      height: 32px;\n",
              "      padding: 0 0 0 0;\n",
              "      width: 32px;\n",
              "    }\n",
              "\n",
              "    .colab-df-convert:hover {\n",
              "      background-color: #E2EBFA;\n",
              "      box-shadow: 0px 1px 2px rgba(60, 64, 67, 0.3), 0px 1px 3px 1px rgba(60, 64, 67, 0.15);\n",
              "      fill: #174EA6;\n",
              "    }\n",
              "\n",
              "    [theme=dark] .colab-df-convert {\n",
              "      background-color: #3B4455;\n",
              "      fill: #D2E3FC;\n",
              "    }\n",
              "\n",
              "    [theme=dark] .colab-df-convert:hover {\n",
              "      background-color: #434B5C;\n",
              "      box-shadow: 0px 1px 3px 1px rgba(0, 0, 0, 0.15);\n",
              "      filter: drop-shadow(0px 1px 2px rgba(0, 0, 0, 0.3));\n",
              "      fill: #FFFFFF;\n",
              "    }\n",
              "  </style>\n",
              "\n",
              "      <script>\n",
              "        const buttonEl =\n",
              "          document.querySelector('#df-425a1372-a4cb-4d20-851c-f97881ddf4a7 button.colab-df-convert');\n",
              "        buttonEl.style.display =\n",
              "          google.colab.kernel.accessAllowed ? 'block' : 'none';\n",
              "\n",
              "        async function convertToInteractive(key) {\n",
              "          const element = document.querySelector('#df-425a1372-a4cb-4d20-851c-f97881ddf4a7');\n",
              "          const dataTable =\n",
              "            await google.colab.kernel.invokeFunction('convertToInteractive',\n",
              "                                                     [key], {});\n",
              "          if (!dataTable) return;\n",
              "\n",
              "          const docLinkHtml = 'Like what you see? Visit the ' +\n",
              "            '<a target=\"_blank\" href=https://colab.research.google.com/notebooks/data_table.ipynb>data table notebook</a>'\n",
              "            + ' to learn more about interactive tables.';\n",
              "          element.innerHTML = '';\n",
              "          dataTable['output_type'] = 'display_data';\n",
              "          await google.colab.output.renderOutput(dataTable, element);\n",
              "          const docLink = document.createElement('div');\n",
              "          docLink.innerHTML = docLinkHtml;\n",
              "          element.appendChild(docLink);\n",
              "        }\n",
              "      </script>\n",
              "    </div>\n",
              "  </div>\n",
              "  "
            ]
          },
          "metadata": {},
          "execution_count": 21
        }
      ],
      "source": [
        "dataFrame_processed.head() #checking out the data"
      ]
    },
    {
      "cell_type": "code",
      "execution_count": 22,
      "metadata": {
        "colab": {
          "base_uri": "https://localhost:8080/"
        },
        "id": "l6izWym7ia_c",
        "outputId": "ae70d400-9755-4d36-f926-c847259c709b"
      },
      "outputs": [
        {
          "output_type": "stream",
          "name": "stdout",
          "text": [
            "comment_id                                                   41\n",
            "Comment       faith has exhibited enthusiasm in taking on th...\n",
            "Name: 1, dtype: object\n"
          ]
        }
      ],
      "source": [
        "#Let's see the content of the index we are building\n",
        "pick_single_comment_for_testing = dataFrame_processed.loc[1,:].copy()\n",
        "print(pick_single_comment_for_testing)\n",
        "Comment = pick_single_comment_for_testing.Comment\n",
        "index_test = {}"
      ]
    },
    {
      "cell_type": "code",
      "execution_count": 23,
      "metadata": {
        "colab": {
          "base_uri": "https://localhost:8080/"
        },
        "id": "MS0rnwIio3gH",
        "outputId": "b22d066a-c889-4938-ae88-04683d5acbcd"
      },
      "outputs": [
        {
          "output_type": "stream",
          "name": "stdout",
          "text": [
            "{'taking': ['faith has exhibited enthusiasm in taking on the project at hand she has already shown promising signs in understanding the core concepts of software engineering i look forward discovering more as time goes on']}\n"
          ]
        }
      ],
      "source": [
        "# Here we want the words in the index to be searched and retrieved as single words not\n",
        "# as a sentence for accurate search\n",
        "words = pick_single_comment_for_testing.Comment.split()\n",
        "text = pick_single_comment_for_testing.Comment\n",
        "word = words[5]\n",
        "sample = {word:[text]}\n",
        "print(sample)"
      ]
    },
    {
      "cell_type": "code",
      "execution_count": 24,
      "metadata": {
        "id": "Ed6bSH34pm4E"
      },
      "outputs": [],
      "source": [
        "for word in words:                       \n",
        "    if word in index_test.keys():\n",
        "        if text not in index_test[word]:\n",
        "            index_test[word].append(text)\n",
        "    else:\n",
        "        index_test[word] = [text]"
      ]
    },
    {
      "cell_type": "code",
      "execution_count": 25,
      "metadata": {
        "colab": {
          "base_uri": "https://localhost:8080/"
        },
        "id": "9SAoBimzp6y8",
        "outputId": "bfaf2d5a-fefe-4358-e76b-bc4ea29e0475"
      },
      "outputs": [
        {
          "output_type": "stream",
          "name": "stdout",
          "text": [
            "{'faith': ['faith has exhibited enthusiasm in taking on the project at hand she has already shown promising signs in understanding the core concepts of software engineering i look forward discovering more as time goes on'], 'has': ['faith has exhibited enthusiasm in taking on the project at hand she has already shown promising signs in understanding the core concepts of software engineering i look forward discovering more as time goes on'], 'exhibited': ['faith has exhibited enthusiasm in taking on the project at hand she has already shown promising signs in understanding the core concepts of software engineering i look forward discovering more as time goes on'], 'enthusiasm': ['faith has exhibited enthusiasm in taking on the project at hand she has already shown promising signs in understanding the core concepts of software engineering i look forward discovering more as time goes on'], 'in': ['faith has exhibited enthusiasm in taking on the project at hand she has already shown promising signs in understanding the core concepts of software engineering i look forward discovering more as time goes on'], 'taking': ['faith has exhibited enthusiasm in taking on the project at hand she has already shown promising signs in understanding the core concepts of software engineering i look forward discovering more as time goes on'], 'on': ['faith has exhibited enthusiasm in taking on the project at hand she has already shown promising signs in understanding the core concepts of software engineering i look forward discovering more as time goes on'], 'the': ['faith has exhibited enthusiasm in taking on the project at hand she has already shown promising signs in understanding the core concepts of software engineering i look forward discovering more as time goes on'], 'project': ['faith has exhibited enthusiasm in taking on the project at hand she has already shown promising signs in understanding the core concepts of software engineering i look forward discovering more as time goes on'], 'at': ['faith has exhibited enthusiasm in taking on the project at hand she has already shown promising signs in understanding the core concepts of software engineering i look forward discovering more as time goes on'], 'hand': ['faith has exhibited enthusiasm in taking on the project at hand she has already shown promising signs in understanding the core concepts of software engineering i look forward discovering more as time goes on'], 'she': ['faith has exhibited enthusiasm in taking on the project at hand she has already shown promising signs in understanding the core concepts of software engineering i look forward discovering more as time goes on'], 'already': ['faith has exhibited enthusiasm in taking on the project at hand she has already shown promising signs in understanding the core concepts of software engineering i look forward discovering more as time goes on'], 'shown': ['faith has exhibited enthusiasm in taking on the project at hand she has already shown promising signs in understanding the core concepts of software engineering i look forward discovering more as time goes on'], 'promising': ['faith has exhibited enthusiasm in taking on the project at hand she has already shown promising signs in understanding the core concepts of software engineering i look forward discovering more as time goes on'], 'signs': ['faith has exhibited enthusiasm in taking on the project at hand she has already shown promising signs in understanding the core concepts of software engineering i look forward discovering more as time goes on'], 'understanding': ['faith has exhibited enthusiasm in taking on the project at hand she has already shown promising signs in understanding the core concepts of software engineering i look forward discovering more as time goes on'], 'core': ['faith has exhibited enthusiasm in taking on the project at hand she has already shown promising signs in understanding the core concepts of software engineering i look forward discovering more as time goes on'], 'concepts': ['faith has exhibited enthusiasm in taking on the project at hand she has already shown promising signs in understanding the core concepts of software engineering i look forward discovering more as time goes on'], 'of': ['faith has exhibited enthusiasm in taking on the project at hand she has already shown promising signs in understanding the core concepts of software engineering i look forward discovering more as time goes on'], 'software': ['faith has exhibited enthusiasm in taking on the project at hand she has already shown promising signs in understanding the core concepts of software engineering i look forward discovering more as time goes on'], 'engineering': ['faith has exhibited enthusiasm in taking on the project at hand she has already shown promising signs in understanding the core concepts of software engineering i look forward discovering more as time goes on'], 'i': ['faith has exhibited enthusiasm in taking on the project at hand she has already shown promising signs in understanding the core concepts of software engineering i look forward discovering more as time goes on'], 'look': ['faith has exhibited enthusiasm in taking on the project at hand she has already shown promising signs in understanding the core concepts of software engineering i look forward discovering more as time goes on'], 'forward': ['faith has exhibited enthusiasm in taking on the project at hand she has already shown promising signs in understanding the core concepts of software engineering i look forward discovering more as time goes on'], 'discovering': ['faith has exhibited enthusiasm in taking on the project at hand she has already shown promising signs in understanding the core concepts of software engineering i look forward discovering more as time goes on'], 'more': ['faith has exhibited enthusiasm in taking on the project at hand she has already shown promising signs in understanding the core concepts of software engineering i look forward discovering more as time goes on'], 'as': ['faith has exhibited enthusiasm in taking on the project at hand she has already shown promising signs in understanding the core concepts of software engineering i look forward discovering more as time goes on'], 'time': ['faith has exhibited enthusiasm in taking on the project at hand she has already shown promising signs in understanding the core concepts of software engineering i look forward discovering more as time goes on'], 'goes': ['faith has exhibited enthusiasm in taking on the project at hand she has already shown promising signs in understanding the core concepts of software engineering i look forward discovering more as time goes on']}\n"
          ]
        }
      ],
      "source": [
        "print(index_test)"
      ]
    },
    {
      "cell_type": "code",
      "execution_count": 26,
      "metadata": {
        "colab": {
          "base_uri": "https://localhost:8080/"
        },
        "id": "iE8CgO4WeAJL",
        "outputId": "14507338-a67d-4e66-f07a-9f15f43be2a0"
      },
      "outputs": [
        {
          "output_type": "stream",
          "name": "stdout",
          "text": [
            "                                                Comment  index\n",
            "0                                djfjkdfjkjkffdk edited      0\n",
            "1     Faith has exhibited enthusiasm in taking on th...      1\n",
            "2     He now has now understood the structure of gra...      2\n",
            "3     The Intern was oriented on ICT setup and Infra...      3\n",
            "4     The student was oriented on the organization s...      4\n",
            "...                                                 ...    ...\n",
            "4915                     Good listener and fast learner   4915\n",
            "4916                     Fast learner and good listener   4916\n",
            "4917  Needs more support to accomplish the pending t...   4917\n",
            "4918         Positive attitude towards work. Keep it up   4918\n",
            "4919  The the intern is more committed to accomplish...   4919\n",
            "\n",
            "[4920 rows x 2 columns]\n"
          ]
        }
      ],
      "source": [
        "data_text = dataFrame[['Comment']]\n",
        "data_text['index'] = data_text.index\n",
        "documents = data_text\n",
        "print(documents)"
      ]
    },
    {
      "cell_type": "code",
      "execution_count": 27,
      "metadata": {
        "id": "C17eTZ17dLvw"
      },
      "outputs": [],
      "source": [
        "def lemmatize_stemming(text):\n",
        "    stemmer = nltk.stem.porter.PorterStemmer()\n",
        "    return stemmer.stem(WordNetLemmatizer().lemmatize(text, pos='v'))\n",
        "def preprocess(text):\n",
        "    \n",
        "    result = []\n",
        "    for token in gensim.utils.simple_preprocess(text):\n",
        "        if token not in gensim.parsing.preprocessing.STOPWORDS and len(token) > 3:\n",
        "            result.append(lemmatize_stemming(token))\n",
        "    return result"
      ]
    },
    {
      "cell_type": "code",
      "execution_count": 28,
      "metadata": {
        "colab": {
          "base_uri": "https://localhost:8080/"
        },
        "id": "7yftEoNzdg1i",
        "outputId": "f6f5f25b-31ba-4cd5-b384-622026f8bb93"
      },
      "outputs": [
        {
          "output_type": "stream",
          "name": "stdout",
          "text": [
            "original document: \n",
            "['The', 'Intern', 'was', 'oriented', 'on', 'ICT', 'setup', 'and', 'Infrastructure', 'of', 'Soroti', 'University,', 'drafted', 'workplan', 'and', 'started', 'off', 'the', 'Internship.', 'Simon', 'was', 'encouraged', 'to', 'take', 'the', 'Internship', 'seriously', 'as', 'there', 'was', 'a', 'lot', 'to', 'learn.']\n",
            "\n",
            "\n",
            " tokenized and lemmatized document: \n",
            "['intern', 'orient', 'setup', 'infrastructur', 'soroti', 'univers', 'draft', 'workplan', 'start', 'internship', 'simon', 'encourag', 'internship', 'serious', 'learn']\n"
          ]
        }
      ],
      "source": [
        "document_num = 1000  \n",
        "doc_sample = documents[documents['index'] == 3].values[0][0]\n",
        "print('original document: ')\n",
        "words = []\n",
        "for word in doc_sample.split(' '):\n",
        "    words.append(word)\n",
        "print(words)\n",
        "print('\\n\\n tokenized and lemmatized document: ')\n",
        "print(preprocess(doc_sample))"
      ]
    },
    {
      "cell_type": "code",
      "execution_count": 29,
      "metadata": {
        "colab": {
          "base_uri": "https://localhost:8080/"
        },
        "id": "ovm7BfMCV5Ia",
        "outputId": "eb10669a-985d-45ba-ed26-7fd1abfa0a9f"
      },
      "outputs": [
        {
          "output_type": "execute_result",
          "data": {
            "text/plain": [
              "0                              [djfjkdfjkjkffdk, edit]\n",
              "1    [faith, exhibit, enthusiasm, take, project, ha...\n",
              "2    [understand, structur, grail, differ, compon, ...\n",
              "3    [intern, orient, setup, infrastructur, soroti,...\n",
              "4    [student, orient, organ, structur, develop, wo...\n",
              "5                                     [activ, complet]\n",
              "6                                       [finish, time]\n",
              "7    [student, weekli, progress, justifi, good, cha...\n",
              "8                                               [note]\n",
              "9    [interest, abl, identifi, know, problem, assoc...\n",
              "Name: Comment, dtype: object"
            ]
          },
          "metadata": {},
          "execution_count": 29
        }
      ],
      "source": [
        "processed_docs = documents['Comment'].map(preprocess)\n",
        "processed_docs[:10]"
      ]
    },
    {
      "cell_type": "markdown",
      "source": [
        "DO SOME TEXT SENTIMENTS ON OUR DATASET\n",
        "\n",
        "We first print existing processed documents to do sentiments on"
      ],
      "metadata": {
        "id": "se-eIVSs9DKk"
      }
    },
    {
      "cell_type": "code",
      "source": [
        "# Processed documents \n",
        "processed_docs"
      ],
      "metadata": {
        "colab": {
          "base_uri": "https://localhost:8080/"
        },
        "id": "lOkBZ3Fy5oGp",
        "outputId": "9a498af5-53e0-43f1-ba50-ddd4f8546089"
      },
      "execution_count": 30,
      "outputs": [
        {
          "output_type": "execute_result",
          "data": {
            "text/plain": [
              "0                                 [djfjkdfjkjkffdk, edit]\n",
              "1       [faith, exhibit, enthusiasm, take, project, ha...\n",
              "2       [understand, structur, grail, differ, compon, ...\n",
              "3       [intern, orient, setup, infrastructur, soroti,...\n",
              "4       [student, orient, organ, structur, develop, wo...\n",
              "                              ...                        \n",
              "4915                        [good, listen, fast, learner]\n",
              "4916                        [fast, learner, good, listen]\n",
              "4917              [need, support, accomplish, pend, task]\n",
              "4918                               [posit, attitud, work]\n",
              "4919                   [intern, commit, accomplish, task]\n",
              "Name: Comment, Length: 4920, dtype: object"
            ]
          },
          "metadata": {},
          "execution_count": 30
        }
      ]
    },
    {
      "cell_type": "markdown",
      "metadata": {
        "id": "BdKpZ-GvlEpY"
      },
      "source": [
        "Tranforming the comments to corpus"
      ]
    },
    {
      "cell_type": "code",
      "source": [
        "processed_docs = []\n",
        "for sentence in dataFrame[\"Comment\"]:\n",
        "     tokens = [word for word in sentence.split()]\n",
        "     processed_docs.append(tokens)\n",
        "    "
      ],
      "metadata": {
        "id": "x-jKnbU0oY3X"
      },
      "execution_count": 31,
      "outputs": []
    },
    {
      "cell_type": "code",
      "execution_count": 32,
      "metadata": {
        "colab": {
          "base_uri": "https://localhost:8080/"
        },
        "id": "hisdqi61YlpS",
        "outputId": "bd6cf846-eeb1-4e51-f6a9-82d814806cea"
      },
      "outputs": [
        {
          "output_type": "stream",
          "name": "stdout",
          "text": [
            "0 djfjkdfjkjkffdk\n",
            "1 edited\n",
            "2 Faith\n",
            "3 I\n",
            "4 She\n",
            "5 already\n",
            "6 as\n",
            "7 at\n",
            "8 concepts\n",
            "9 core\n",
            "10 discovering\n"
          ]
        }
      ],
      "source": [
        "##create dictionary based on the preprocessed_documents\n",
        "dictionary = gensim.corpora.Dictionary(processed_docs)\n",
        "\n",
        "##check the dictionary\n",
        "count = 0\n",
        "for k, v in dictionary.iteritems():\n",
        "    print(k, v)\n",
        "    count += 1\n",
        "    if count > 10:\n",
        "        break"
      ]
    },
    {
      "cell_type": "code",
      "execution_count": 33,
      "metadata": {
        "id": "RAIZMwMRYynA"
      },
      "outputs": [],
      "source": [
        "## remove extreme words (very common and very rare)\n",
        "dictionary.filter_extremes(no_below=15, no_above=0.1)\n",
        "\n",
        "##create bag-of-word model for each documents\n",
        "bow_corpus = [dictionary.doc2bow(doc) for doc in processed_docs]"
      ]
    },
    {
      "cell_type": "code",
      "execution_count": 34,
      "metadata": {
        "colab": {
          "base_uri": "https://localhost:8080/"
        },
        "id": "l6SjmPG4Y6VB",
        "outputId": "e3d804f9-5ec4-4c7a-a944-ec9f8cfa4bb8"
      },
      "outputs": [
        {
          "output_type": "stream",
          "name": "stdout",
          "text": [
            "Word 96 (\"can\") appears 1 time.\n",
            "Word 129 (\"knowledge\") appears 1 time.\n",
            "Word 264 (\"PHP,\") appears 1 time.\n",
            "Word 330 (\"payment\") appears 1 time.\n",
            "Word 466 (\"making\") appears 1 time.\n",
            "Word 493 (\"enable\") appears 1 time.\n",
            "Word 572 (\"customers\") appears 1 time.\n",
            "Word 617 (\"integration\") appears 1 time.\n"
          ]
        }
      ],
      "source": [
        "## check the bow_corpus\n",
        "bow_doc_1000 = bow_corpus[document_num]\n",
        "\n",
        "for i in range(len(bow_doc_1000)):\n",
        "    print(\"Word {} (\\\"{}\\\") appears {} time.\".format(bow_doc_1000[i][0], \n",
        "                                                     dictionary[bow_doc_1000[i][0]], \n",
        "                                                     bow_doc_1000[i][1]))"
      ]
    },
    {
      "cell_type": "code",
      "execution_count": 35,
      "metadata": {
        "colab": {
          "base_uri": "https://localhost:8080/"
        },
        "id": "Ow-23T1IU1nR",
        "outputId": "8adde03e-b8da-4ac8-95b0-5f5b55ed96d7"
      },
      "outputs": [
        {
          "output_type": "stream",
          "name": "stdout",
          "text": [
            "start model building at  2022-09-16 18:04:38\n",
            "Model training finished at  2022-09-16 18:06:19\n"
          ]
        }
      ],
      "source": [
        "now = datetime.datetime.now()\n",
        "print (\"start model building at \",now.strftime(\"%Y-%m-%d %H:%M:%S\"))\n",
        "\n",
        "\n",
        "lda_model = gensim.models.LdaMulticore(bow_corpus, # Stream of document vectors or sparse matrix of shape \n",
        "                                       num_topics=5, # The number of requested latent topics to be extracted from the training corpus.\n",
        "                                       id2word = dictionary, #Mapping from word IDs to words. It is used to determine the vocabulary size. \n",
        "                                       passes = 50, #Number of passes through the corpus during training.\n",
        "                                       workers=10) #Number of workers processes to be used for parallelization.\n",
        "\n",
        "\n",
        "now = datetime.datetime.now()\n",
        "print ('Model training finished at ',now.strftime(\"%Y-%m-%d %H:%M:%S\"))"
      ]
    },
    {
      "cell_type": "code",
      "execution_count": 36,
      "metadata": {
        "colab": {
          "base_uri": "https://localhost:8080/"
        },
        "id": "8s-sRPwuokkW",
        "outputId": "5f3405be-d4b7-4de7-e392-37cd99b38865"
      },
      "outputs": [
        {
          "output_type": "stream",
          "name": "stdout",
          "text": [
            "Topic: 0 \n",
            "Words: 0.047*\"week's\" + 0.045*\"completed\" + 0.024*\"tasks\" + 0.022*\"good\" + 0.020*\"tasks.\" + 0.020*\"any\" + 0.018*\"without\" + 0.017*\"challenges.\" + 0.017*\"devices\" + 0.014*\"She\"\n",
            "\n",
            "\n",
            "Topic: 1 \n",
            "Words: 0.019*\"work\" + 0.017*\"as\" + 0.015*\"The\" + 0.015*\"tasks\" + 0.015*\"good\" + 0.014*\"that\" + 0.014*\"up\" + 0.013*\"Good\" + 0.013*\"well\" + 0.012*\"have\"\n",
            "\n",
            "\n",
            "Topic: 2 \n",
            "Words: 0.050*\"skills\" + 0.044*\"she\" + 0.038*\"new\" + 0.034*\"all\" + 0.034*\"end\" + 0.033*\"She\" + 0.031*\"report\" + 0.027*\"supposed\" + 0.026*\"internship.\" + 0.026*\"detail\"\n",
            "\n",
            "\n",
            "Topic: 3 \n",
            "Words: 0.034*\"can\" + 0.025*\"using\" + 0.020*\"server\" + 0.019*\"also\" + 0.015*\"website\" + 0.014*\"by\" + 0.014*\"set\" + 0.014*\"his\" + 0.013*\"web\" + 0.013*\"it\"\n",
            "\n",
            "\n",
            "Topic: 4 \n",
            "Words: 0.038*\"encourage\" + 0.035*\"you\" + 0.020*\"him\" + 0.018*\"are\" + 0.018*\"at\" + 0.018*\"doing\" + 0.018*\"coding\" + 0.016*\"your\" + 0.016*\"going\" + 0.014*\"any\"\n",
            "\n",
            "\n"
          ]
        }
      ],
      "source": [
        "##print out the key words of five topics\n",
        "for idx, topic in lda_model.print_topics(-1):\n",
        "    print(\"Topic: {} \\nWords: {}\".format(idx, topic))\n",
        "    print(\"\\n\")"
      ]
    },
    {
      "cell_type": "code",
      "execution_count": 37,
      "metadata": {
        "colab": {
          "base_uri": "https://localhost:8080/"
        },
        "id": "31NqlUTEo2sv",
        "outputId": "c0d20b9f-9d8e-426e-93f1-11de31641d49"
      },
      "outputs": [
        {
          "output_type": "stream",
          "name": "stdout",
          "text": [
            "0\n",
            "50\n",
            "100\n",
            "150\n",
            "200\n",
            "250\n",
            "300\n",
            "350\n",
            "400\n",
            "450\n",
            "500\n",
            "550\n",
            "600\n",
            "650\n",
            "700\n",
            "750\n",
            "800\n",
            "850\n",
            "900\n",
            "950\n",
            "1000\n",
            "1050\n",
            "1100\n",
            "1150\n",
            "1200\n",
            "1250\n",
            "1300\n",
            "1350\n",
            "1400\n",
            "1450\n",
            "1500\n",
            "1550\n",
            "1600\n",
            "1650\n",
            "1700\n",
            "1750\n",
            "1800\n",
            "1850\n",
            "1900\n",
            "1950\n",
            "2000\n",
            "2050\n",
            "2100\n",
            "2150\n",
            "2200\n",
            "2250\n",
            "2300\n",
            "2350\n",
            "2400\n",
            "2450\n",
            "2500\n",
            "2550\n",
            "2600\n",
            "2650\n",
            "2700\n",
            "2750\n",
            "2800\n",
            "2850\n",
            "2900\n",
            "2950\n",
            "3000\n",
            "3050\n",
            "3100\n",
            "3150\n",
            "3200\n",
            "3250\n",
            "3300\n",
            "3350\n",
            "3400\n",
            "3450\n",
            "3500\n",
            "3550\n",
            "3600\n",
            "3650\n",
            "3700\n",
            "3750\n",
            "3800\n",
            "3850\n",
            "3900\n",
            "3950\n",
            "4000\n",
            "4050\n",
            "4100\n",
            "4150\n",
            "4200\n",
            "4250\n",
            "4300\n",
            "4350\n",
            "4400\n",
            "4450\n",
            "4500\n",
            "4550\n",
            "4600\n",
            "4650\n",
            "4700\n",
            "4750\n",
            "4800\n",
            "4850\n",
            "4900\n"
          ]
        }
      ],
      "source": [
        "\n",
        "documents_lda_topics = pd.DataFrame(columns = [\"Excellent\", \"Good\", \"Neutral\", \"Poor\", \"Very Poor\"])\n",
        "for i in range(len(bow_corpus)):\n",
        "    if i % 50 ==0:\n",
        "        print(i)\n",
        "    documents_lda_topics.loc[i] = [0] * 5\n",
        "\n",
        "    output = lda_model.get_document_topics(bow_corpus[i])\n",
        "    for j in range(len(output)):\n",
        "        a = output[j][0]\n",
        "        b = output[j][1]\n",
        "        documents_lda_topics.iloc[i,a] = b\n",
        "\n",
        "#print(\"Data processing finished\")"
      ]
    },
    {
      "cell_type": "code",
      "execution_count": 38,
      "metadata": {
        "id": "rKkbD2gIpZ76"
      },
      "outputs": [],
      "source": [
        "## pick the final topic for each abstract based on max-probability\n",
        "for i in range(5):\n",
        "    documents_lda_topics.iloc[:, i] = documents_lda_topics.iloc[:, i].astype('float64', copy=False)\n",
        "    \n",
        "documents_lda_topics[\"final_topic\"] =documents_lda_topics.iloc[:, :10].idxmax(axis=1)\n"
      ]
    },
    {
      "cell_type": "code",
      "execution_count": 39,
      "metadata": {
        "colab": {
          "base_uri": "https://localhost:8080/",
          "height": 694
        },
        "id": "eu2RPrmvpfra",
        "outputId": "6a43e159-426d-4ea9-cf36-a0db79d6f482"
      },
      "outputs": [
        {
          "output_type": "stream",
          "name": "stdout",
          "text": [
            "LDA + bow_corpus: topic probability:\n"
          ]
        },
        {
          "output_type": "execute_result",
          "data": {
            "text/plain": [
              "    Excellent      Good   Neutral      Poor  Very Poor final_topic\n",
              "0    0.200000  0.200000  0.200000  0.200000   0.200000   Excellent\n",
              "1    0.011976  0.860906  0.103205  0.011916   0.011997        Good\n",
              "2    0.022404  0.022607  0.022358  0.910255   0.022376        Poor\n",
              "3    0.016667  0.760938  0.016694  0.016714   0.188985        Good\n",
              "4    0.016869  0.269640  0.277672  0.418782   0.017038        Poor\n",
              "5    0.728514  0.070845  0.066676  0.067106   0.066859   Excellent\n",
              "6    0.067202  0.378678  0.419694  0.066667   0.067758     Neutral\n",
              "7    0.033383  0.699601  0.199640  0.033706   0.033670        Good\n",
              "8    0.200000  0.200000  0.200000  0.200000   0.200000   Excellent\n",
              "9    0.020260  0.800634  0.138364  0.020597   0.020146        Good\n",
              "10   0.033943  0.865346  0.033438  0.033402   0.033871        Good\n",
              "11   0.050000  0.799987  0.050001  0.050008   0.050003        Good\n",
              "12   0.066669  0.732399  0.066750  0.067089   0.067093        Good\n",
              "13   0.014356  0.942676  0.014302  0.014366   0.014300        Good\n",
              "14   0.018838  0.926296  0.018187  0.018374   0.018305        Good\n",
              "15   0.166805  0.484914  0.022442  0.303516   0.022322        Good\n",
              "16   0.228524  0.721280  0.016667  0.016780   0.016749        Good\n",
              "17   0.272061  0.686888  0.013629  0.013887   0.013535        Good\n",
              "18   0.011860  0.418152  0.078919  0.479230   0.011838        Poor\n",
              "19   0.732487  0.067391  0.066667  0.066728   0.066727   Excellent"
            ],
            "text/html": [
              "\n",
              "  <div id=\"df-51b46ed6-754d-4859-b624-2af6f275ae25\">\n",
              "    <div class=\"colab-df-container\">\n",
              "      <div>\n",
              "<style scoped>\n",
              "    .dataframe tbody tr th:only-of-type {\n",
              "        vertical-align: middle;\n",
              "    }\n",
              "\n",
              "    .dataframe tbody tr th {\n",
              "        vertical-align: top;\n",
              "    }\n",
              "\n",
              "    .dataframe thead th {\n",
              "        text-align: right;\n",
              "    }\n",
              "</style>\n",
              "<table border=\"1\" class=\"dataframe\">\n",
              "  <thead>\n",
              "    <tr style=\"text-align: right;\">\n",
              "      <th></th>\n",
              "      <th>Excellent</th>\n",
              "      <th>Good</th>\n",
              "      <th>Neutral</th>\n",
              "      <th>Poor</th>\n",
              "      <th>Very Poor</th>\n",
              "      <th>final_topic</th>\n",
              "    </tr>\n",
              "  </thead>\n",
              "  <tbody>\n",
              "    <tr>\n",
              "      <th>0</th>\n",
              "      <td>0.200000</td>\n",
              "      <td>0.200000</td>\n",
              "      <td>0.200000</td>\n",
              "      <td>0.200000</td>\n",
              "      <td>0.200000</td>\n",
              "      <td>Excellent</td>\n",
              "    </tr>\n",
              "    <tr>\n",
              "      <th>1</th>\n",
              "      <td>0.011976</td>\n",
              "      <td>0.860906</td>\n",
              "      <td>0.103205</td>\n",
              "      <td>0.011916</td>\n",
              "      <td>0.011997</td>\n",
              "      <td>Good</td>\n",
              "    </tr>\n",
              "    <tr>\n",
              "      <th>2</th>\n",
              "      <td>0.022404</td>\n",
              "      <td>0.022607</td>\n",
              "      <td>0.022358</td>\n",
              "      <td>0.910255</td>\n",
              "      <td>0.022376</td>\n",
              "      <td>Poor</td>\n",
              "    </tr>\n",
              "    <tr>\n",
              "      <th>3</th>\n",
              "      <td>0.016667</td>\n",
              "      <td>0.760938</td>\n",
              "      <td>0.016694</td>\n",
              "      <td>0.016714</td>\n",
              "      <td>0.188985</td>\n",
              "      <td>Good</td>\n",
              "    </tr>\n",
              "    <tr>\n",
              "      <th>4</th>\n",
              "      <td>0.016869</td>\n",
              "      <td>0.269640</td>\n",
              "      <td>0.277672</td>\n",
              "      <td>0.418782</td>\n",
              "      <td>0.017038</td>\n",
              "      <td>Poor</td>\n",
              "    </tr>\n",
              "    <tr>\n",
              "      <th>5</th>\n",
              "      <td>0.728514</td>\n",
              "      <td>0.070845</td>\n",
              "      <td>0.066676</td>\n",
              "      <td>0.067106</td>\n",
              "      <td>0.066859</td>\n",
              "      <td>Excellent</td>\n",
              "    </tr>\n",
              "    <tr>\n",
              "      <th>6</th>\n",
              "      <td>0.067202</td>\n",
              "      <td>0.378678</td>\n",
              "      <td>0.419694</td>\n",
              "      <td>0.066667</td>\n",
              "      <td>0.067758</td>\n",
              "      <td>Neutral</td>\n",
              "    </tr>\n",
              "    <tr>\n",
              "      <th>7</th>\n",
              "      <td>0.033383</td>\n",
              "      <td>0.699601</td>\n",
              "      <td>0.199640</td>\n",
              "      <td>0.033706</td>\n",
              "      <td>0.033670</td>\n",
              "      <td>Good</td>\n",
              "    </tr>\n",
              "    <tr>\n",
              "      <th>8</th>\n",
              "      <td>0.200000</td>\n",
              "      <td>0.200000</td>\n",
              "      <td>0.200000</td>\n",
              "      <td>0.200000</td>\n",
              "      <td>0.200000</td>\n",
              "      <td>Excellent</td>\n",
              "    </tr>\n",
              "    <tr>\n",
              "      <th>9</th>\n",
              "      <td>0.020260</td>\n",
              "      <td>0.800634</td>\n",
              "      <td>0.138364</td>\n",
              "      <td>0.020597</td>\n",
              "      <td>0.020146</td>\n",
              "      <td>Good</td>\n",
              "    </tr>\n",
              "    <tr>\n",
              "      <th>10</th>\n",
              "      <td>0.033943</td>\n",
              "      <td>0.865346</td>\n",
              "      <td>0.033438</td>\n",
              "      <td>0.033402</td>\n",
              "      <td>0.033871</td>\n",
              "      <td>Good</td>\n",
              "    </tr>\n",
              "    <tr>\n",
              "      <th>11</th>\n",
              "      <td>0.050000</td>\n",
              "      <td>0.799987</td>\n",
              "      <td>0.050001</td>\n",
              "      <td>0.050008</td>\n",
              "      <td>0.050003</td>\n",
              "      <td>Good</td>\n",
              "    </tr>\n",
              "    <tr>\n",
              "      <th>12</th>\n",
              "      <td>0.066669</td>\n",
              "      <td>0.732399</td>\n",
              "      <td>0.066750</td>\n",
              "      <td>0.067089</td>\n",
              "      <td>0.067093</td>\n",
              "      <td>Good</td>\n",
              "    </tr>\n",
              "    <tr>\n",
              "      <th>13</th>\n",
              "      <td>0.014356</td>\n",
              "      <td>0.942676</td>\n",
              "      <td>0.014302</td>\n",
              "      <td>0.014366</td>\n",
              "      <td>0.014300</td>\n",
              "      <td>Good</td>\n",
              "    </tr>\n",
              "    <tr>\n",
              "      <th>14</th>\n",
              "      <td>0.018838</td>\n",
              "      <td>0.926296</td>\n",
              "      <td>0.018187</td>\n",
              "      <td>0.018374</td>\n",
              "      <td>0.018305</td>\n",
              "      <td>Good</td>\n",
              "    </tr>\n",
              "    <tr>\n",
              "      <th>15</th>\n",
              "      <td>0.166805</td>\n",
              "      <td>0.484914</td>\n",
              "      <td>0.022442</td>\n",
              "      <td>0.303516</td>\n",
              "      <td>0.022322</td>\n",
              "      <td>Good</td>\n",
              "    </tr>\n",
              "    <tr>\n",
              "      <th>16</th>\n",
              "      <td>0.228524</td>\n",
              "      <td>0.721280</td>\n",
              "      <td>0.016667</td>\n",
              "      <td>0.016780</td>\n",
              "      <td>0.016749</td>\n",
              "      <td>Good</td>\n",
              "    </tr>\n",
              "    <tr>\n",
              "      <th>17</th>\n",
              "      <td>0.272061</td>\n",
              "      <td>0.686888</td>\n",
              "      <td>0.013629</td>\n",
              "      <td>0.013887</td>\n",
              "      <td>0.013535</td>\n",
              "      <td>Good</td>\n",
              "    </tr>\n",
              "    <tr>\n",
              "      <th>18</th>\n",
              "      <td>0.011860</td>\n",
              "      <td>0.418152</td>\n",
              "      <td>0.078919</td>\n",
              "      <td>0.479230</td>\n",
              "      <td>0.011838</td>\n",
              "      <td>Poor</td>\n",
              "    </tr>\n",
              "    <tr>\n",
              "      <th>19</th>\n",
              "      <td>0.732487</td>\n",
              "      <td>0.067391</td>\n",
              "      <td>0.066667</td>\n",
              "      <td>0.066728</td>\n",
              "      <td>0.066727</td>\n",
              "      <td>Excellent</td>\n",
              "    </tr>\n",
              "  </tbody>\n",
              "</table>\n",
              "</div>\n",
              "      <button class=\"colab-df-convert\" onclick=\"convertToInteractive('df-51b46ed6-754d-4859-b624-2af6f275ae25')\"\n",
              "              title=\"Convert this dataframe to an interactive table.\"\n",
              "              style=\"display:none;\">\n",
              "        \n",
              "  <svg xmlns=\"http://www.w3.org/2000/svg\" height=\"24px\"viewBox=\"0 0 24 24\"\n",
              "       width=\"24px\">\n",
              "    <path d=\"M0 0h24v24H0V0z\" fill=\"none\"/>\n",
              "    <path d=\"M18.56 5.44l.94 2.06.94-2.06 2.06-.94-2.06-.94-.94-2.06-.94 2.06-2.06.94zm-11 1L8.5 8.5l.94-2.06 2.06-.94-2.06-.94L8.5 2.5l-.94 2.06-2.06.94zm10 10l.94 2.06.94-2.06 2.06-.94-2.06-.94-.94-2.06-.94 2.06-2.06.94z\"/><path d=\"M17.41 7.96l-1.37-1.37c-.4-.4-.92-.59-1.43-.59-.52 0-1.04.2-1.43.59L10.3 9.45l-7.72 7.72c-.78.78-.78 2.05 0 2.83L4 21.41c.39.39.9.59 1.41.59.51 0 1.02-.2 1.41-.59l7.78-7.78 2.81-2.81c.8-.78.8-2.07 0-2.86zM5.41 20L4 18.59l7.72-7.72 1.47 1.35L5.41 20z\"/>\n",
              "  </svg>\n",
              "      </button>\n",
              "      \n",
              "  <style>\n",
              "    .colab-df-container {\n",
              "      display:flex;\n",
              "      flex-wrap:wrap;\n",
              "      gap: 12px;\n",
              "    }\n",
              "\n",
              "    .colab-df-convert {\n",
              "      background-color: #E8F0FE;\n",
              "      border: none;\n",
              "      border-radius: 50%;\n",
              "      cursor: pointer;\n",
              "      display: none;\n",
              "      fill: #1967D2;\n",
              "      height: 32px;\n",
              "      padding: 0 0 0 0;\n",
              "      width: 32px;\n",
              "    }\n",
              "\n",
              "    .colab-df-convert:hover {\n",
              "      background-color: #E2EBFA;\n",
              "      box-shadow: 0px 1px 2px rgba(60, 64, 67, 0.3), 0px 1px 3px 1px rgba(60, 64, 67, 0.15);\n",
              "      fill: #174EA6;\n",
              "    }\n",
              "\n",
              "    [theme=dark] .colab-df-convert {\n",
              "      background-color: #3B4455;\n",
              "      fill: #D2E3FC;\n",
              "    }\n",
              "\n",
              "    [theme=dark] .colab-df-convert:hover {\n",
              "      background-color: #434B5C;\n",
              "      box-shadow: 0px 1px 3px 1px rgba(0, 0, 0, 0.15);\n",
              "      filter: drop-shadow(0px 1px 2px rgba(0, 0, 0, 0.3));\n",
              "      fill: #FFFFFF;\n",
              "    }\n",
              "  </style>\n",
              "\n",
              "      <script>\n",
              "        const buttonEl =\n",
              "          document.querySelector('#df-51b46ed6-754d-4859-b624-2af6f275ae25 button.colab-df-convert');\n",
              "        buttonEl.style.display =\n",
              "          google.colab.kernel.accessAllowed ? 'block' : 'none';\n",
              "\n",
              "        async function convertToInteractive(key) {\n",
              "          const element = document.querySelector('#df-51b46ed6-754d-4859-b624-2af6f275ae25');\n",
              "          const dataTable =\n",
              "            await google.colab.kernel.invokeFunction('convertToInteractive',\n",
              "                                                     [key], {});\n",
              "          if (!dataTable) return;\n",
              "\n",
              "          const docLinkHtml = 'Like what you see? Visit the ' +\n",
              "            '<a target=\"_blank\" href=https://colab.research.google.com/notebooks/data_table.ipynb>data table notebook</a>'\n",
              "            + ' to learn more about interactive tables.';\n",
              "          element.innerHTML = '';\n",
              "          dataTable['output_type'] = 'display_data';\n",
              "          await google.colab.output.renderOutput(dataTable, element);\n",
              "          const docLink = document.createElement('div');\n",
              "          docLink.innerHTML = docLinkHtml;\n",
              "          element.appendChild(docLink);\n",
              "        }\n",
              "      </script>\n",
              "    </div>\n",
              "  </div>\n",
              "  "
            ]
          },
          "metadata": {},
          "execution_count": 39
        }
      ],
      "source": [
        "##preview the dataframe for both models\n",
        "print(\"LDA + bow_corpus: topic probability:\")\n",
        "documents_lda_topics.head(20)"
      ]
    },
    {
      "cell_type": "code",
      "source": [
        "# export the topics to csv\n",
        "topics_to_csv = dataFrame.join(documents_lda_topics)\n",
        "topics_to_csv.to_csv('topics_to-csv.csv')\n",
        "topics_to_csv"
      ],
      "metadata": {
        "colab": {
          "base_uri": "https://localhost:8080/",
          "height": 424
        },
        "id": "d9ujyBalHPCw",
        "outputId": "ccca21bd-85fd-4085-ec67-c4c4ec43835d"
      },
      "execution_count": 40,
      "outputs": [
        {
          "output_type": "execute_result",
          "data": {
            "text/plain": [
              "      comment_id                                            Comment  \\\n",
              "0              5                             djfjkdfjkjkffdk edited   \n",
              "1             41  Faith has exhibited enthusiasm in taking on th...   \n",
              "2             49  He now has now understood the structure of gra...   \n",
              "3             50  The Intern was oriented on ICT setup and Infra...   \n",
              "4             52  The student was oriented on the organization s...   \n",
              "...          ...                                                ...   \n",
              "4915        8150                     Good listener and fast learner   \n",
              "4916        8151                     Fast learner and good listener   \n",
              "4917        8160  Needs more support to accomplish the pending t...   \n",
              "4918        8161         Positive attitude towards work. Keep it up   \n",
              "4919        8162  The the intern is more committed to accomplish...   \n",
              "\n",
              "      Excellent      Good   Neutral      Poor  Very Poor final_topic  \n",
              "0      0.200000  0.200000  0.200000  0.200000   0.200000   Excellent  \n",
              "1      0.011976  0.860906  0.103205  0.011916   0.011997        Good  \n",
              "2      0.022404  0.022607  0.022358  0.910255   0.022376        Poor  \n",
              "3      0.016667  0.760938  0.016694  0.016714   0.188985        Good  \n",
              "4      0.016869  0.269640  0.277672  0.418782   0.017038        Poor  \n",
              "...         ...       ...       ...       ...        ...         ...  \n",
              "4915   0.050000  0.299979  0.549859  0.050000   0.050161     Neutral  \n",
              "4916   0.397491  0.068401  0.400715  0.066726   0.066667     Neutral  \n",
              "4917   0.040524  0.836102  0.040002  0.043240   0.040133        Good  \n",
              "4918   0.028600  0.884535  0.028686  0.029431   0.028749        Good  \n",
              "4919   0.025277  0.899335  0.025075  0.025166   0.025147        Good  \n",
              "\n",
              "[4920 rows x 8 columns]"
            ],
            "text/html": [
              "\n",
              "  <div id=\"df-f704e448-d168-48a2-b0b7-53985a879312\">\n",
              "    <div class=\"colab-df-container\">\n",
              "      <div>\n",
              "<style scoped>\n",
              "    .dataframe tbody tr th:only-of-type {\n",
              "        vertical-align: middle;\n",
              "    }\n",
              "\n",
              "    .dataframe tbody tr th {\n",
              "        vertical-align: top;\n",
              "    }\n",
              "\n",
              "    .dataframe thead th {\n",
              "        text-align: right;\n",
              "    }\n",
              "</style>\n",
              "<table border=\"1\" class=\"dataframe\">\n",
              "  <thead>\n",
              "    <tr style=\"text-align: right;\">\n",
              "      <th></th>\n",
              "      <th>comment_id</th>\n",
              "      <th>Comment</th>\n",
              "      <th>Excellent</th>\n",
              "      <th>Good</th>\n",
              "      <th>Neutral</th>\n",
              "      <th>Poor</th>\n",
              "      <th>Very Poor</th>\n",
              "      <th>final_topic</th>\n",
              "    </tr>\n",
              "  </thead>\n",
              "  <tbody>\n",
              "    <tr>\n",
              "      <th>0</th>\n",
              "      <td>5</td>\n",
              "      <td>djfjkdfjkjkffdk edited</td>\n",
              "      <td>0.200000</td>\n",
              "      <td>0.200000</td>\n",
              "      <td>0.200000</td>\n",
              "      <td>0.200000</td>\n",
              "      <td>0.200000</td>\n",
              "      <td>Excellent</td>\n",
              "    </tr>\n",
              "    <tr>\n",
              "      <th>1</th>\n",
              "      <td>41</td>\n",
              "      <td>Faith has exhibited enthusiasm in taking on th...</td>\n",
              "      <td>0.011976</td>\n",
              "      <td>0.860906</td>\n",
              "      <td>0.103205</td>\n",
              "      <td>0.011916</td>\n",
              "      <td>0.011997</td>\n",
              "      <td>Good</td>\n",
              "    </tr>\n",
              "    <tr>\n",
              "      <th>2</th>\n",
              "      <td>49</td>\n",
              "      <td>He now has now understood the structure of gra...</td>\n",
              "      <td>0.022404</td>\n",
              "      <td>0.022607</td>\n",
              "      <td>0.022358</td>\n",
              "      <td>0.910255</td>\n",
              "      <td>0.022376</td>\n",
              "      <td>Poor</td>\n",
              "    </tr>\n",
              "    <tr>\n",
              "      <th>3</th>\n",
              "      <td>50</td>\n",
              "      <td>The Intern was oriented on ICT setup and Infra...</td>\n",
              "      <td>0.016667</td>\n",
              "      <td>0.760938</td>\n",
              "      <td>0.016694</td>\n",
              "      <td>0.016714</td>\n",
              "      <td>0.188985</td>\n",
              "      <td>Good</td>\n",
              "    </tr>\n",
              "    <tr>\n",
              "      <th>4</th>\n",
              "      <td>52</td>\n",
              "      <td>The student was oriented on the organization s...</td>\n",
              "      <td>0.016869</td>\n",
              "      <td>0.269640</td>\n",
              "      <td>0.277672</td>\n",
              "      <td>0.418782</td>\n",
              "      <td>0.017038</td>\n",
              "      <td>Poor</td>\n",
              "    </tr>\n",
              "    <tr>\n",
              "      <th>...</th>\n",
              "      <td>...</td>\n",
              "      <td>...</td>\n",
              "      <td>...</td>\n",
              "      <td>...</td>\n",
              "      <td>...</td>\n",
              "      <td>...</td>\n",
              "      <td>...</td>\n",
              "      <td>...</td>\n",
              "    </tr>\n",
              "    <tr>\n",
              "      <th>4915</th>\n",
              "      <td>8150</td>\n",
              "      <td>Good listener and fast learner</td>\n",
              "      <td>0.050000</td>\n",
              "      <td>0.299979</td>\n",
              "      <td>0.549859</td>\n",
              "      <td>0.050000</td>\n",
              "      <td>0.050161</td>\n",
              "      <td>Neutral</td>\n",
              "    </tr>\n",
              "    <tr>\n",
              "      <th>4916</th>\n",
              "      <td>8151</td>\n",
              "      <td>Fast learner and good listener</td>\n",
              "      <td>0.397491</td>\n",
              "      <td>0.068401</td>\n",
              "      <td>0.400715</td>\n",
              "      <td>0.066726</td>\n",
              "      <td>0.066667</td>\n",
              "      <td>Neutral</td>\n",
              "    </tr>\n",
              "    <tr>\n",
              "      <th>4917</th>\n",
              "      <td>8160</td>\n",
              "      <td>Needs more support to accomplish the pending t...</td>\n",
              "      <td>0.040524</td>\n",
              "      <td>0.836102</td>\n",
              "      <td>0.040002</td>\n",
              "      <td>0.043240</td>\n",
              "      <td>0.040133</td>\n",
              "      <td>Good</td>\n",
              "    </tr>\n",
              "    <tr>\n",
              "      <th>4918</th>\n",
              "      <td>8161</td>\n",
              "      <td>Positive attitude towards work. Keep it up</td>\n",
              "      <td>0.028600</td>\n",
              "      <td>0.884535</td>\n",
              "      <td>0.028686</td>\n",
              "      <td>0.029431</td>\n",
              "      <td>0.028749</td>\n",
              "      <td>Good</td>\n",
              "    </tr>\n",
              "    <tr>\n",
              "      <th>4919</th>\n",
              "      <td>8162</td>\n",
              "      <td>The the intern is more committed to accomplish...</td>\n",
              "      <td>0.025277</td>\n",
              "      <td>0.899335</td>\n",
              "      <td>0.025075</td>\n",
              "      <td>0.025166</td>\n",
              "      <td>0.025147</td>\n",
              "      <td>Good</td>\n",
              "    </tr>\n",
              "  </tbody>\n",
              "</table>\n",
              "<p>4920 rows × 8 columns</p>\n",
              "</div>\n",
              "      <button class=\"colab-df-convert\" onclick=\"convertToInteractive('df-f704e448-d168-48a2-b0b7-53985a879312')\"\n",
              "              title=\"Convert this dataframe to an interactive table.\"\n",
              "              style=\"display:none;\">\n",
              "        \n",
              "  <svg xmlns=\"http://www.w3.org/2000/svg\" height=\"24px\"viewBox=\"0 0 24 24\"\n",
              "       width=\"24px\">\n",
              "    <path d=\"M0 0h24v24H0V0z\" fill=\"none\"/>\n",
              "    <path d=\"M18.56 5.44l.94 2.06.94-2.06 2.06-.94-2.06-.94-.94-2.06-.94 2.06-2.06.94zm-11 1L8.5 8.5l.94-2.06 2.06-.94-2.06-.94L8.5 2.5l-.94 2.06-2.06.94zm10 10l.94 2.06.94-2.06 2.06-.94-2.06-.94-.94-2.06-.94 2.06-2.06.94z\"/><path d=\"M17.41 7.96l-1.37-1.37c-.4-.4-.92-.59-1.43-.59-.52 0-1.04.2-1.43.59L10.3 9.45l-7.72 7.72c-.78.78-.78 2.05 0 2.83L4 21.41c.39.39.9.59 1.41.59.51 0 1.02-.2 1.41-.59l7.78-7.78 2.81-2.81c.8-.78.8-2.07 0-2.86zM5.41 20L4 18.59l7.72-7.72 1.47 1.35L5.41 20z\"/>\n",
              "  </svg>\n",
              "      </button>\n",
              "      \n",
              "  <style>\n",
              "    .colab-df-container {\n",
              "      display:flex;\n",
              "      flex-wrap:wrap;\n",
              "      gap: 12px;\n",
              "    }\n",
              "\n",
              "    .colab-df-convert {\n",
              "      background-color: #E8F0FE;\n",
              "      border: none;\n",
              "      border-radius: 50%;\n",
              "      cursor: pointer;\n",
              "      display: none;\n",
              "      fill: #1967D2;\n",
              "      height: 32px;\n",
              "      padding: 0 0 0 0;\n",
              "      width: 32px;\n",
              "    }\n",
              "\n",
              "    .colab-df-convert:hover {\n",
              "      background-color: #E2EBFA;\n",
              "      box-shadow: 0px 1px 2px rgba(60, 64, 67, 0.3), 0px 1px 3px 1px rgba(60, 64, 67, 0.15);\n",
              "      fill: #174EA6;\n",
              "    }\n",
              "\n",
              "    [theme=dark] .colab-df-convert {\n",
              "      background-color: #3B4455;\n",
              "      fill: #D2E3FC;\n",
              "    }\n",
              "\n",
              "    [theme=dark] .colab-df-convert:hover {\n",
              "      background-color: #434B5C;\n",
              "      box-shadow: 0px 1px 3px 1px rgba(0, 0, 0, 0.15);\n",
              "      filter: drop-shadow(0px 1px 2px rgba(0, 0, 0, 0.3));\n",
              "      fill: #FFFFFF;\n",
              "    }\n",
              "  </style>\n",
              "\n",
              "      <script>\n",
              "        const buttonEl =\n",
              "          document.querySelector('#df-f704e448-d168-48a2-b0b7-53985a879312 button.colab-df-convert');\n",
              "        buttonEl.style.display =\n",
              "          google.colab.kernel.accessAllowed ? 'block' : 'none';\n",
              "\n",
              "        async function convertToInteractive(key) {\n",
              "          const element = document.querySelector('#df-f704e448-d168-48a2-b0b7-53985a879312');\n",
              "          const dataTable =\n",
              "            await google.colab.kernel.invokeFunction('convertToInteractive',\n",
              "                                                     [key], {});\n",
              "          if (!dataTable) return;\n",
              "\n",
              "          const docLinkHtml = 'Like what you see? Visit the ' +\n",
              "            '<a target=\"_blank\" href=https://colab.research.google.com/notebooks/data_table.ipynb>data table notebook</a>'\n",
              "            + ' to learn more about interactive tables.';\n",
              "          element.innerHTML = '';\n",
              "          dataTable['output_type'] = 'display_data';\n",
              "          await google.colab.output.renderOutput(dataTable, element);\n",
              "          const docLink = document.createElement('div');\n",
              "          docLink.innerHTML = docLinkHtml;\n",
              "          element.appendChild(docLink);\n",
              "        }\n",
              "      </script>\n",
              "    </div>\n",
              "  </div>\n",
              "  "
            ]
          },
          "metadata": {},
          "execution_count": 40
        }
      ]
    },
    {
      "cell_type": "code",
      "execution_count": 41,
      "metadata": {
        "id": "1iecoMNIjC3-"
      },
      "outputs": [],
      "source": [
        "def get_wordcloud(topic):\n",
        "\n",
        "  cols = [color for name, color in mcolors.TABLEAU_COLORS.items()]  # more colors: 'mcolors.XKCD_COLORS'\n",
        "\n",
        "  cloud = WordCloud(stopwords=STOPWORDS,\n",
        "                    background_color='black',\n",
        "                    width=2500,\n",
        "                    height=1800,\n",
        "                    max_words=10,\n",
        "                    colormap='tab10',\n",
        "                    color_func=lambda *args, **kwargs: cols[i],\n",
        "                    prefer_horizontal=1.0)\n",
        "\n",
        "  topics = topic.show_topics(formatted=False)\n",
        "\n",
        "  fig, axes = plt.subplots(2, 2, figsize=(10,10), sharex=True, sharey=True)\n",
        "\n",
        "  for i, ax in enumerate(axes.flatten()):\n",
        "      fig.add_subplot(ax)\n",
        "      topic_words = dict(topics[i][1])\n",
        "      cloud.generate_from_frequencies(topic_words, max_font_size=300)\n",
        "      plt.gca().imshow(cloud)\n",
        "      plt.gca().set_title('Topic ' + str(i), fontdict=dict(size=16))\n",
        "      plt.gca().axis('off')\n",
        "\n",
        "\n",
        "  plt.subplots_adjust(wspace=0, hspace=0)\n",
        "  plt.axis('off')\n",
        "  plt.margins(x=0, y=0)\n",
        "  plt.tight_layout()\n",
        "  plt.show()"
      ]
    },
    {
      "cell_type": "code",
      "execution_count": 42,
      "metadata": {
        "colab": {
          "base_uri": "https://localhost:8080/",
          "height": 625
        },
        "id": "eYMumePtpj7S",
        "outputId": "5eda8c73-4a9c-44ee-c146-ab489a694340"
      },
      "outputs": [
        {
          "output_type": "display_data",
          "data": {
            "text/plain": [
              "<Figure size 720x720 with 4 Axes>"
            ],
            "image/png": "[encoded data removed]"
          },
          "metadata": {
            "needs_background": "light"
          }
        }
      ],
      "source": [
        "get_wordcloud(topic= lda_model)"
      ]
    },
    {
      "cell_type": "markdown",
      "source": [
        "**Word Counts of Topic Keywords**\n",
        "\n",
        "\n",
        "I also obtained the weights which are useful in to measure the frequency of the words as regards to their appearance in the document  , and it is summerized per topic .I plotted the word counts and the weights with each having a keywork in the chart and corresponding weights . "
      ],
      "metadata": {
        "id": "MP8DOes6iMu8"
      }
    },
    {
      "cell_type": "code",
      "source": [
        "\n",
        "from collections import Counter\n",
        "topics = lda_model.show_topics(formatted=False)\n",
        "data_flat = [w for w_list in processed_docs for w in w_list]\n",
        "counter = Counter(data_flat)\n",
        "\n",
        "out = []\n",
        "for i, topic in topics:\n",
        "    for word, weight in topic:\n",
        "        out.append([word, i , weight, counter[word]])\n",
        "\n",
        "df = pd.DataFrame(out, columns=['word', 'topic_id', 'importance', 'word_count'])        \n",
        "\n",
        "# Plot Word Count and Weights of Topic Keywords\n",
        "fig, axes = plt.subplots(2, 2, figsize=(16,10), sharey=True, dpi=160)\n",
        "cols = [color for name, color in mcolors.TABLEAU_COLORS.items()]\n",
        "for i, ax in enumerate(axes.flatten()):\n",
        "    ax.bar(x='word', height=\"word_count\", data=df.loc[df.topic_id==i, :], color=cols[i], width=0.5, alpha=0.3, label='Word Count')\n",
        "    ax_twin = ax.twinx()\n",
        "    ax_twin.bar(x='word', height=\"importance\", data=df.loc[df.topic_id==i, :], color=cols[i], width=0.2, label='Weights')\n",
        "    ax.set_ylabel('Word Count', color=cols[i])\n",
        "    ax_twin.set_ylim(0, 0.030); ax.set_ylim(0, 3500)\n",
        "    ax.set_title('Topic: ' + str(i), color=cols[i], fontsize=16)\n",
        "    ax.tick_params(axis='y', left=False)\n",
        "    ax.set_xticklabels(df.loc[df.topic_id==i, 'word'], rotation=30, horizontalalignment= 'right')\n",
        "    ax.legend(loc='upper left'); ax_twin.legend(loc='upper right')\n",
        "\n",
        "fig.tight_layout(w_pad=2)    \n",
        "fig.suptitle('Word Count and Importance of Topic Keywords', fontsize=22, y=1.05)    \n",
        "plt.show()"
      ],
      "metadata": {
        "colab": {
          "base_uri": "https://localhost:8080/",
          "height": 843
        },
        "id": "Ms3Rv7E9g8NJ",
        "outputId": "9b48dcfd-04f3-4def-d280-c2730a792570"
      },
      "execution_count": 43,
      "outputs": [
        {
          "output_type": "display_data",
          "data": {
            "text/plain": [
              "<Figure size 2560x1600 with 8 Axes>"
            ],
            "image/png": "[encoded data removed]"
          },
          "metadata": {
            "needs_background": "light"
          }
        }
      ]
    },
    {
      "cell_type": "markdown",
      "source": [
        "**Vizualize the topics key_words**\n",
        "\n",
        "I used pyLDAvis package to handle the interactive charting in my notebook. Since i have build the LDA model , the next part is to do the examination of the topics that have been produced and the key words associated. In this topics vizualization , each buble on the left side is to represent a topic , and the larger the buble , the more prevalent the topic. When a curseor is moved on the buble on the left side of the vizualization , the right hand side will display the salient keywords that are in that topic that has been selected on the specific buble , and this is the topic modeling for the model . "
      ],
      "metadata": {
        "id": "k2sPaiZkYD_X"
      }
    },
    {
      "cell_type": "code",
      "source": [
        "# Vizualize the topics keywords\n",
        "!pip install pyLDAvis\n",
        "import pyLDAvis.gensim_models \n",
        "import pickle \n",
        "import pyLDAvis# Visualize the topics\n",
        "pyLDAvis.enable_notebook()\n",
        "LDAvis_prepared = pyLDAvis.gensim_models.prepare(lda_model, bow_corpus, dictionary)\n",
        "LDAvis_prepared"
      ],
      "metadata": {
        "colab": {
          "base_uri": "https://localhost:8080/",
          "height": 1000
        },
        "id": "UcnW29g4OV0U",
        "outputId": "7c01bcfd-aba4-4d3f-be56-ff155fd608e8"
      },
      "execution_count": 44,
      "outputs": [
        {
          "output_type": "stream",
          "name": "stdout",
          "text": [
            "Looking in indexes: https://pypi.org/simple, https://us-python.pkg.dev/colab-wheels/public/simple/\n",
            "Collecting pyLDAvis\n",
            "  Downloading pyLDAvis-3.3.1.tar.gz (1.7 MB)\n",
            "\u001b[K     |████████████████████████████████| 1.7 MB 5.2 MB/s \n",
            "\u001b[?25h  Installing build dependencies ... \u001b[?25l\u001b[?25hdone\n",
            "  Getting requirements to build wheel ... \u001b[?25l\u001b[?25hdone\n",
            "  Installing backend dependencies ... \u001b[?25l\u001b[?25hdone\n",
            "    Preparing wheel metadata ... \u001b[?25l\u001b[?25hdone\n",
            "Requirement already satisfied: numpy>=1.20.0 in /usr/local/lib/python3.7/dist-packages (from pyLDAvis) (1.21.6)\n",
            "Requirement already satisfied: scikit-learn in /usr/local/lib/python3.7/dist-packages (from pyLDAvis) (1.0.2)\n",
            "Collecting funcy\n",
            "  Downloading funcy-1.17-py2.py3-none-any.whl (33 kB)\n",
            "Collecting sklearn\n",
            "  Downloading sklearn-0.0.tar.gz (1.1 kB)\n",
            "Requirement already satisfied: gensim in /usr/local/lib/python3.7/dist-packages (from pyLDAvis) (3.6.0)\n",
            "Requirement already satisfied: setuptools in /usr/local/lib/python3.7/dist-packages (from pyLDAvis) (57.4.0)\n",
            "Requirement already satisfied: pandas>=1.2.0 in /usr/local/lib/python3.7/dist-packages (from pyLDAvis) (1.3.5)\n",
            "Requirement already satisfied: future in /usr/local/lib/python3.7/dist-packages (from pyLDAvis) (0.16.0)\n",
            "Requirement already satisfied: jinja2 in /usr/local/lib/python3.7/dist-packages (from pyLDAvis) (2.11.3)\n",
            "Requirement already satisfied: joblib in /usr/local/lib/python3.7/dist-packages (from pyLDAvis) (1.1.0)\n",
            "Requirement already satisfied: scipy in /usr/local/lib/python3.7/dist-packages (from pyLDAvis) (1.7.3)\n",
            "Requirement already satisfied: numexpr in /usr/local/lib/python3.7/dist-packages (from pyLDAvis) (2.8.3)\n",
            "Requirement already satisfied: pytz>=2017.3 in /usr/local/lib/python3.7/dist-packages (from pandas>=1.2.0->pyLDAvis) (2022.2.1)\n",
            "Requirement already satisfied: python-dateutil>=2.7.3 in /usr/local/lib/python3.7/dist-packages (from pandas>=1.2.0->pyLDAvis) (2.8.2)\n",
            "Requirement already satisfied: six>=1.5 in /usr/local/lib/python3.7/dist-packages (from python-dateutil>=2.7.3->pandas>=1.2.0->pyLDAvis) (1.15.0)\n",
            "Requirement already satisfied: smart-open>=1.2.1 in /usr/local/lib/python3.7/dist-packages (from gensim->pyLDAvis) (5.2.1)\n",
            "Requirement already satisfied: MarkupSafe>=0.23 in /usr/local/lib/python3.7/dist-packages (from jinja2->pyLDAvis) (2.0.1)\n",
            "Requirement already satisfied: packaging in /usr/local/lib/python3.7/dist-packages (from numexpr->pyLDAvis) (21.3)\n",
            "Requirement already satisfied: pyparsing!=3.0.5,>=2.0.2 in /usr/local/lib/python3.7/dist-packages (from packaging->numexpr->pyLDAvis) (3.0.9)\n",
            "Requirement already satisfied: threadpoolctl>=2.0.0 in /usr/local/lib/python3.7/dist-packages (from scikit-learn->pyLDAvis) (3.1.0)\n",
            "Building wheels for collected packages: pyLDAvis, sklearn\n",
            "  Building wheel for pyLDAvis (PEP 517) ... \u001b[?25l\u001b[?25hdone\n",
            "  Created wheel for pyLDAvis: filename=pyLDAvis-3.3.1-py2.py3-none-any.whl size=136898 sha256=2a296a16f11aab6f16f496fc386008f5a5730052361d9fe0834646cb4ea83f31\n",
            "  Stored in directory: /root/.cache/pip/wheels/c9/21/f6/17bcf2667e8a68532ba2fbf6d5c72fdf4c7f7d9abfa4852d2f\n",
            "  Building wheel for sklearn (setup.py) ... \u001b[?25l\u001b[?25hdone\n",
            "  Created wheel for sklearn: filename=sklearn-0.0-py2.py3-none-any.whl size=1310 sha256=a7496ea95fc1e7ff9eeb0ee9bbf8649a7ca80306e53fdebaf5b336de48042558\n",
            "  Stored in directory: /root/.cache/pip/wheels/46/ef/c3/157e41f5ee1372d1be90b09f74f82b10e391eaacca8f22d33e\n",
            "Successfully built pyLDAvis sklearn\n",
            "Installing collected packages: sklearn, funcy, pyLDAvis\n",
            "Successfully installed funcy-1.17 pyLDAvis-3.3.1 sklearn-0.0\n"
          ]
        },
        {
          "output_type": "stream",
          "name": "stderr",
          "text": [
            "/usr/local/lib/python3.7/dist-packages/past/types/oldstr.py:5: DeprecationWarning: Using or importing the ABCs from 'collections' instead of from 'collections.abc' is deprecated since Python 3.3,and in 3.9 it will stop working\n",
            "  from collections import Iterable\n",
            "/usr/local/lib/python3.7/dist-packages/pyLDAvis/_prepare.py:247: FutureWarning: In a future version of pandas all arguments of DataFrame.drop except for the argument 'labels' will be keyword-only\n",
            "  by='saliency', ascending=False).head(R).drop('saliency', 1)\n"
          ]
        },
        {
          "output_type": "execute_result",
          "data": {
            "text/plain": [
              "PreparedData(topic_coordinates=              x         y  topics  cluster       Freq\n",
              "topic                                                \n",
              "1     -0.116486  0.080403       1        1  36.822393\n",
              "4      0.065397 -0.109114       2        1  19.397373\n",
              "3     -0.292429 -0.022162       3        1  15.417673\n",
              "0      0.174557  0.254730       4        1  14.954315\n",
              "2      0.168961 -0.203858       5        1  13.408246, topic_info=          Term        Freq       Total Category  logprob  loglift\n",
              "234     week's  375.000000  375.000000  Default  30.0000  30.0000\n",
              "38      skills  457.000000  457.000000  Default  29.0000  29.0000\n",
              "449        you  364.000000  364.000000  Default  28.0000  28.0000\n",
              "42   completed  486.000000  486.000000  Default  27.0000  27.0000\n",
              "54         she  506.000000  506.000000  Default  26.0000  26.0000\n",
              "..         ...         ...         ...      ...      ...      ...\n",
              "179       also   87.941903  435.431979   Topic5  -4.3953   0.4096\n",
              "55        very   75.040077  289.356574   Topic5  -4.5540   0.6597\n",
              "84          up   83.566634  475.866794   Topic5  -4.4464   0.2698\n",
              "243         We   63.045867  206.610546   Topic5  -4.7282   0.8223\n",
              "137         so   61.525076  292.075124   Topic5  -4.7526   0.4517\n",
              "\n",
              "[315 rows x 6 columns], token_table=      Topic      Freq           Term\n",
              "term                                \n",
              "270       3  0.991980              -\n",
              "847       3  0.992071      -Attended\n",
              "843       3  0.958063     -Presented\n",
              "830       3  0.992091  -Successfully\n",
              "831       3  0.964039        -Worked\n",
              "...     ...       ...            ...\n",
              "620       5  0.649863          write\n",
              "449       1  0.005490            you\n",
              "449       2  0.993771            you\n",
              "338       1  0.005905           your\n",
              "338       2  0.992088           your\n",
              "\n",
              "[490 rows x 3 columns], R=30, lambda_step=0.01, plot_opts={'xlab': 'PC1', 'ylab': 'PC2'}, topic_order=[2, 5, 4, 1, 3])"
            ],
            "text/html": [
              "\n",
              "<link rel=\"stylesheet\" type=\"text/css\" href=\"https://cdn.jsdelivr.net/gh/bmabey/pyLDAvis@3.3.1/pyLDAvis/js/ldavis.v1.0.0.css\">\n",
              "\n",
              "\n",
              "<div id=\"ldavis_el1441399600536389921859891991\"></div>\n",
              "<script type=\"text/javascript\">\n",
              "\n",
              "var ldavis_el1441399600536389921859891991_data = {\"mdsDat\": {\"x\": [-0.11648632330824754, 0.06539745404205956, -0.29242873082256354, 0.174556666914406, 0.1689609331743456], \"y\": [0.08040338105294241, -0.10911382616799785, -0.022161990583189028, 0.2547304342250565, -0.2038579985268122], \"topics\": [1, 2, 3, 4, 5], \"cluster\": [1, 1, 1, 1, 1], \"Freq\": [36.82239299566233, 19.397372897209568, 15.417672567175705, 14.954315246068484, 13.408246293883913]}, \"tinfo\": {\"Term\": [\"week's\", \"skills\", \"you\", \"completed\", \"she\", \"new\", \"encourage\", \"all\", \"end\", \"report\", \"tasks\", \"She\", \"supposed\", \"can\", \"detail\", \"internship.\", \"good\", \"acquired.\", \"explaining\", \"using\", \"server\", \"any\", \"coding\", \"her\", \"tasks.\", \"finished\", \"going\", \"are\", \"your\", \"doing\", \"Good\", \"Progressive\", \"were\", \"great\", \"task\", \"our\", \"environment\", \"Very\", \"given\", \"made\", \"Great\", \"am\", \"where\", \"impressed\", \"enviroment\", \"progress.\", \"lot\", \"learning\", \"required\", \"most\", \"excellent\", \"analysis\", \"him.\", \"performance\", \"taken\", \"accomplished\", \"asked\", \"engaging\", \"everything\", \"effort\", \"have\", \"which\", \"what\", \"but\", \"work.\", \"Keep\", \"The\", \"progress\", \"work\", \"been\", \"improve\", \"as\", \"other\", \"well\", \"This\", \"team\", \"more\", \"done\", \"time\", \"we\", \"good\", \"tasks\", \"that\", \"up\", \"an\", \"it\", \"his\", \"be\", \"very\", \"week\", \"by\", \"her\", \"at\", \"coding\", \"going\", \"you\", \"contact\", \"started\", \"incase\", \"your\", \"equip\", \"should\", \"6\", \"Lead\", \"weeks.\", \"Trainer\", \"competence\", \"run\", \"Developer\", \"handle\", \"Thank\", \"scratch.\", \"built\", \"errors\", \"embark\", \"apk\", \"semester\", \"Stratcom\", \"multitasking.\", \"By\", \"so,\", \"sign\", \"almost\", \"He's\", \"practice\", \"doing\", \"encourage\", \"hands-on\", \"practical\", \"challenge.\", \"are\", \"him\", \"well.\", \"at\", \"use\", \"always\", \"next\", \"mobile\", \"any\", \"We\", \"also\", \"that\", \"skills\", \"will\", \"can\", \"end\", \"her\", \"server\", \"-\", \"R\", \"hosting\", \"-Successfully\", \"-Attended\", \"online\", \"server.\", \"simple\", \"PHP,\", \"messaging\", \"graphs\", \"learned\", \"internet.\", \"accessed\", \"4\", \"deployed\", \"SQL\", \"applications\", \"legacy\", \"Ministry\", \"deploy\", \"Development\", \"-Worked\", \"server,\", \"-Presented\", \"Atara\", \"flutter\", \"knows\", \"meetings\", \"remote\", \"using\", \"PHP\", \"web\", \"website\", \"user\", \"file\", \"local\", \"can\", \"set\", \"install\", \"application\", \"project\", \"code\", \"by\", \"app\", \"knowledge\", \"also\", \"training\", \"it\", \"how\", \"able\", \"his\", \"now\", \"up\", \"data\", \"student\", \"from\", \"managed\", \"as\", \"devices\", \"week's\", \"IOS\", \"configure\", \"layer\", \"3\", \"perfected\", \"Cisco\", \"operating\", \"configuring\", \"linux\", \"attendance\", \"Has\", \"relationships\", \"relationship\", \"proper\", \"devices.\", \"require\", \"commands.\", \"regardless\", \"record\", \"exceedingly\", \"cisco\", \"supervision.\", \"attentive\", \"Maintains\", \"coworkers.\", \"protocols\", \"constant\", \"Takes\", \"2\", \"without\", \"main\", \"tasks.\", \"continued\", \"completed\", \"challenges.\", \"tasks,\", \"commands\", \"network\", \"complete\", \"any\", \"tasks\", \"good\", \"setting\", \"managed\", \"working\", \"She\", \"now\", \"can\", \"all\", \"week\", \"Despite\", \"assigned\", \"so\", \"report\", \"detail\", \"supposed\", \"acquired.\", \"explaining\", \"finished\", \"resources\", \"LAN\", \"early\", \"movements\", \"wish\", \"learner\", \"less\", \"best.\", \"repair\", \"transport.\", \"number\", \"Challenged\", \"printers\", \"20\", \"Administration,\", \"Django\", \"report,\", \"Always\", \"loves\", \"Systems\", \"tests\", \"network.\", \"share\", \"Software\", \"plan\", \"skills\", \"present\", \"spend\", \"new\", \"internship.\", \"end\", \"she\", \"all\", \"write\", \"She\", \"bit\", \"acquired\", \"her\", \"can\", \"set\", \"managed\", \"Despite\", \"also\", \"very\", \"up\", \"We\", \"so\"], \"Freq\": [375.0, 457.0, 364.0, 486.0, 506.0, 381.0, 495.0, 441.0, 341.0, 219.0, 482.0, 495.0, 195.0, 619.0, 185.0, 254.0, 464.0, 180.0, 177.0, 214.0, 166.0, 311.0, 182.0, 456.0, 186.0, 140.0, 168.0, 284.0, 169.0, 215.0, 257.254004835097, 200.6643857525928, 165.13672349457687, 105.68295006195059, 137.94722475558305, 128.4285574245506, 87.4253724727627, 74.04665598468515, 79.69876417819923, 62.533668900337, 76.65760947663821, 60.31696128466373, 43.30477304815559, 41.41164975600615, 40.44740220709809, 37.59828965009332, 46.057455379697714, 121.17440594814316, 43.19462308443366, 35.67265292605642, 37.5422276858987, 34.71868549337189, 32.80112698039845, 30.881692517169583, 28.95878879964089, 28.00630981837409, 28.003086739806445, 28.9157559140125, 27.04756703236621, 26.08667704691652, 226.05941840351412, 149.21048479487186, 102.77235055702349, 168.01511956668668, 82.89964134184788, 82.45991677845237, 290.8188076866082, 163.7194442163059, 368.980113241133, 225.14209468444588, 58.445186899066314, 340.58773605135934, 95.2077623647147, 253.0157887241315, 147.65409799267857, 220.9326173108077, 195.26640841445823, 147.0106675697122, 213.03934804555692, 172.31954783198947, 285.0368144415089, 286.8837889014939, 279.3876102098726, 269.6522170583228, 138.33119507444917, 187.06720653744307, 225.1877557239558, 175.92512878172582, 169.6653357933202, 163.186555814709, 151.38738032407946, 171.3776612454213, 149.35632112214049, 181.34449853886744, 167.47030958033682, 361.980843094477, 105.5467777742818, 117.2352281381772, 100.62466571484985, 167.83983301262063, 83.88574798055816, 86.803597911059, 79.94240040170308, 78.9638328440326, 78.96179157000326, 56.317770657712636, 56.316483454324725, 49.421933928828395, 47.456993942198785, 47.45229180743475, 48.41715641262129, 41.54420596785413, 40.56420231386654, 40.55478843834303, 39.58047633664898, 38.596094750243175, 35.64176845358762, 138.60275634746702, 33.673115749723486, 33.67134824656397, 32.68812178110889, 31.700858396073446, 29.73028689462174, 67.62700994293091, 108.88483236896646, 182.30797988071174, 391.07605841908867, 102.46001602010209, 105.05574810577676, 102.78536147939347, 184.16139906337185, 202.4889082922548, 120.02397349006999, 183.90416971768983, 116.76896272589624, 97.22308667237242, 87.34836351801147, 99.10883002966169, 139.6911060239338, 88.25811852740378, 106.52210330849394, 99.97185187127661, 96.86514807057976, 87.0621336721198, 94.65765189629074, 90.02246131442159, 90.21768395958911, 165.22937332781623, 80.72574748549677, 95.5900114487031, 61.709100449618624, 52.570677644599904, 46.58493937580789, 48.52462184354713, 43.55220705850774, 42.54762965328734, 39.52466652628136, 48.38839145837816, 38.517764214109356, 38.513912274677224, 35.48990694800328, 34.48441332329457, 33.47009726842961, 32.46656969803957, 31.458632821362013, 31.456556057188497, 34.37522668335572, 30.435559235221234, 29.440493333563914, 29.435620191160435, 34.33358832519296, 29.43192095497636, 28.434980620949194, 28.434978712158593, 28.432846593057658, 28.426891166383605, 28.40767728019738, 82.46423578876424, 202.04550034999443, 71.09783823642647, 107.6162855468508, 126.72060715259839, 43.665154015929886, 31.02221839117113, 36.7804631785955, 278.0218866848823, 114.35272825339449, 47.7432507760053, 62.17132936389281, 85.43978073966868, 64.77132739928015, 117.59186955108741, 87.69891076717167, 76.87440359603595, 151.87805497050363, 76.2153669180903, 105.21218669080902, 80.94884693090171, 88.98478664321107, 111.99947194379183, 81.61101402543244, 97.3465950868648, 71.82537759144853, 68.59170307003589, 65.7705563732375, 67.04498714083536, 59.75276951026044, 131.76346582473897, 373.23831750193756, 94.6077463794051, 91.58570323284519, 89.58614257976947, 79.54203889105098, 76.530408155754, 67.49058375505433, 61.46013875748668, 54.433423734190995, 52.42360248665951, 51.4163424052315, 50.414866173872, 43.385785030093736, 41.377526384821486, 38.359645240487595, 37.35707296583727, 36.354208166119456, 36.352760352177846, 34.34639015987291, 41.16472365534763, 32.33973114534945, 32.33797229209557, 32.337194693814915, 31.323047313329624, 30.331168866462843, 30.33116331218941, 30.330541233564883, 30.328995294125953, 29.32554914712212, 59.52941776934306, 143.34831755815236, 79.80546697144473, 160.92569711582883, 45.236343041199255, 356.59238219332474, 135.546918396325, 40.036454470053144, 60.02299272371835, 103.11998145522405, 104.52704924692667, 158.48544559716058, 194.23208290096005, 173.47776261921626, 64.6824171641654, 106.99305037723161, 85.61472598950323, 110.88821049610783, 85.40566313747445, 102.43380651527623, 87.79423029042151, 77.8857619589438, 66.51067661886076, 63.23122622430878, 61.28458668850537, 218.29842209172745, 185.14441979539228, 195.15011401663705, 180.11995931753177, 177.10452606495826, 139.91205780011052, 70.55118998524416, 69.50461164711565, 60.471485751330775, 57.46397408005224, 43.42041149491897, 41.3968657972921, 39.39928934060791, 45.27740146378451, 39.35980095505789, 32.36485211011318, 30.344722718920732, 27.32983893059883, 25.326356148213147, 22.312372086853077, 17.282644388236285, 16.27717128816853, 15.276897348330415, 25.709875555778343, 15.225553151043473, 25.655950038517872, 18.930424598295613, 20.511214990006586, 73.08648776266455, 18.035348992452587, 63.84273943714261, 359.00165529373044, 106.81861941240184, 33.7376893727414, 269.9246223607296, 186.25619015795834, 239.79244104639437, 314.5278394878655, 244.916701496479, 102.24050318822749, 233.1804372445706, 57.49400039238739, 61.329154627731064, 177.80470620275503, 143.96539748371174, 73.61973700879707, 86.20284021330684, 63.299271151938036, 87.94190286968404, 75.04007719898956, 83.56663357508212, 63.04586687116706, 61.525075983715354], \"Total\": [375.0, 457.0, 364.0, 486.0, 506.0, 381.0, 495.0, 441.0, 341.0, 219.0, 482.0, 495.0, 195.0, 619.0, 185.0, 254.0, 464.0, 180.0, 177.0, 214.0, 166.0, 311.0, 182.0, 456.0, 186.0, 140.0, 168.0, 284.0, 169.0, 215.0, 258.0661956964917, 201.47145358680496, 165.9813562237985, 106.50868956113648, 139.13157979411298, 129.54044158612044, 88.2849010219642, 74.85324423491242, 80.61160536966544, 63.342536140383864, 77.74299774684735, 61.43190842553135, 44.15998698213796, 42.24000685028957, 41.28138701635321, 38.40239806217618, 47.04374621192398, 123.84980835798711, 44.162451532907845, 36.48416977385232, 38.405061729200405, 35.52481580621272, 33.60632592712625, 31.687857858593915, 29.769611347101, 28.81011624563881, 28.810252374028106, 29.771507518764075, 27.850840167733516, 26.891713684939663, 234.27774905326817, 155.58567310235904, 107.5712333883665, 178.89326070483986, 87.50173296397108, 87.43292826848409, 324.91446182137577, 179.10481652948508, 418.5322408122626, 255.5590951373223, 61.481712475942594, 407.0224737916996, 103.9359116680804, 310.41746231013025, 173.63604113324493, 291.8748041497742, 253.01296637760714, 183.26102211766488, 287.28292859198245, 232.74983469905146, 464.6783147804807, 482.63426789327, 483.0931780602429, 475.86679425683604, 190.1855035453747, 313.593268624126, 462.6262878040752, 304.7452195836771, 289.3565739250363, 287.75039047570795, 270.5344820721512, 456.28720760212053, 367.95136111984164, 182.15783248152246, 168.37107351249088, 364.26901750773203, 106.34416323318179, 118.15906638732557, 101.4211745357799, 169.33984649930775, 84.68303686079464, 87.63707287988576, 80.7447204361456, 79.76004381338403, 79.76002841822387, 57.11434819262983, 57.1143053732394, 50.22209784579912, 48.25296147534133, 48.252924753753085, 49.23695922547977, 42.34540615740618, 41.36077121090446, 41.36077905366489, 40.37618731162302, 39.39159171071444, 36.4377878420585, 141.83755339603132, 34.46860815116808, 34.46861985197392, 33.4840136166986, 32.49944854181508, 30.53029757193789, 71.95532265498917, 119.03415048442253, 215.28236474833992, 495.36526412332466, 129.52665985787888, 135.8855319050001, 135.52552410845394, 284.87049010037265, 401.21332950561526, 191.03137717413577, 367.95136111984164, 192.55646862751223, 148.1991135393479, 131.87244841406329, 167.49935756287434, 311.5969200449119, 206.61054577525394, 435.43197868660593, 483.0931780602429, 457.28031736633886, 208.51850122685866, 619.958217635183, 341.86095642009667, 456.28720760212053, 166.34251192178615, 81.6548976902249, 96.76430352934615, 62.50061301975837, 53.422502675474114, 47.37564037367684, 49.39026352433158, 44.35053027804087, 43.342198776989164, 40.31725468736482, 49.382142059953146, 39.30894741351131, 39.30882075871449, 36.283916160041784, 35.27564503149879, 34.26718560672512, 33.25892669502419, 32.25061143903359, 32.25050090221087, 35.27029739584601, 31.241724876921513, 30.233868913194264, 30.23371089475259, 35.26827607701167, 30.233886159096464, 29.225645377297347, 29.22564874198796, 29.225575177413937, 29.225414330599484, 29.224815858450405, 85.68244753139513, 214.54931490287052, 74.46861381535632, 119.6886982594531, 142.80706379268426, 48.193382765370146, 32.248873985008345, 40.18363041485744, 619.958217635183, 198.87333551473415, 58.428921317174485, 87.91286794168973, 156.97274543171375, 100.80943318454831, 270.5344820721512, 167.4781372690755, 135.42782213964185, 435.43197868660593, 139.06440483277092, 313.593268624126, 183.47623737511435, 240.37498474791883, 462.6262878040752, 276.56175758019833, 475.86679425683604, 206.2160314836815, 204.80666725091947, 245.73664146109363, 337.25138214353467, 407.0224737916996, 132.56134202696916, 375.54246560782815, 95.40067523317506, 92.38758328226491, 90.37896883991093, 80.33551031570727, 77.32251186574166, 68.2834103526596, 62.25726885734962, 55.226917634319335, 53.218202291329014, 52.21366488977071, 51.209483981811495, 44.179147202065934, 42.1704088023544, 39.15733567081542, 38.15306583466599, 37.1486512500103, 37.148655724522094, 35.13998727481045, 42.16095895667953, 33.13135170049026, 33.13131346813493, 33.13131075370658, 32.12696373522111, 31.12266729171493, 31.12266893594219, 31.12265804137028, 31.12259520441703, 30.118278796993646, 61.211412464968824, 155.43483072604639, 87.0621183121129, 186.93618108948968, 48.205028278879276, 486.9468249225442, 185.8039624641935, 43.06979220727407, 71.33801523283549, 145.32628468362304, 169.5381404205197, 311.5969200449119, 482.63426789327, 464.6783147804807, 97.89871067439825, 337.25138214353467, 226.03100931079652, 495.8067526599838, 276.56175758019833, 619.958217635183, 441.134854631838, 287.75039047570795, 148.32065046577452, 144.8431828551802, 292.0751243771277, 219.10675161642763, 185.93756976405297, 195.98799193872773, 180.91190928774353, 177.8964818231808, 140.706344044203, 71.35181329352258, 70.34673219122557, 61.299796273962045, 58.28455601341434, 44.213203615207334, 42.202548516378585, 40.1926137483937, 46.220307842034124, 40.191614792263394, 33.156710066044845, 31.146232538853695, 28.130738473717795, 26.120698124819228, 23.105342989337906, 18.0795424082456, 17.074379036089212, 16.06936578063532, 27.12504835990062, 16.068977774455515, 27.112026962279682, 20.08229475025866, 22.083891192766668, 79.28037015585546, 20.040538927523507, 72.00614945272397, 457.28031736633886, 133.1378559337823, 38.10772543910346, 381.2300452219072, 254.88187651420543, 341.86095642009667, 506.8864670235223, 441.134854631838, 156.95624099704767, 495.8067526599838, 77.97699324185692, 91.54586380659563, 456.28720760212053, 619.958217635183, 198.87333551473415, 337.25138214353467, 148.32065046577452, 435.43197868660593, 289.3565739250363, 475.86679425683604, 206.61054577525394, 292.0751243771277], \"Category\": [\"Default\", \"Default\", \"Default\", \"Default\", \"Default\", \"Default\", \"Default\", \"Default\", \"Default\", \"Default\", \"Default\", \"Default\", \"Default\", \"Default\", \"Default\", \"Default\", \"Default\", \"Default\", \"Default\", \"Default\", \"Default\", \"Default\", \"Default\", \"Default\", \"Default\", \"Default\", \"Default\", \"Default\", \"Default\", \"Default\", \"Topic1\", \"Topic1\", \"Topic1\", \"Topic1\", \"Topic1\", \"Topic1\", \"Topic1\", \"Topic1\", \"Topic1\", \"Topic1\", \"Topic1\", \"Topic1\", \"Topic1\", \"Topic1\", \"Topic1\", \"Topic1\", \"Topic1\", \"Topic1\", \"Topic1\", \"Topic1\", \"Topic1\", \"Topic1\", \"Topic1\", \"Topic1\", \"Topic1\", \"Topic1\", \"Topic1\", \"Topic1\", \"Topic1\", \"Topic1\", \"Topic1\", \"Topic1\", \"Topic1\", \"Topic1\", \"Topic1\", \"Topic1\", \"Topic1\", \"Topic1\", \"Topic1\", \"Topic1\", \"Topic1\", \"Topic1\", \"Topic1\", \"Topic1\", \"Topic1\", \"Topic1\", \"Topic1\", \"Topic1\", \"Topic1\", \"Topic1\", \"Topic1\", \"Topic1\", \"Topic1\", \"Topic1\", \"Topic1\", \"Topic1\", \"Topic1\", \"Topic1\", \"Topic1\", \"Topic1\", \"Topic1\", \"Topic1\", \"Topic1\", \"Topic2\", \"Topic2\", \"Topic2\", \"Topic2\", \"Topic2\", \"Topic2\", \"Topic2\", \"Topic2\", \"Topic2\", \"Topic2\", \"Topic2\", \"Topic2\", \"Topic2\", \"Topic2\", \"Topic2\", \"Topic2\", \"Topic2\", \"Topic2\", \"Topic2\", \"Topic2\", \"Topic2\", \"Topic2\", \"Topic2\", \"Topic2\", \"Topic2\", \"Topic2\", \"Topic2\", \"Topic2\", \"Topic2\", \"Topic2\", \"Topic2\", \"Topic2\", \"Topic2\", \"Topic2\", \"Topic2\", \"Topic2\", \"Topic2\", \"Topic2\", \"Topic2\", \"Topic2\", \"Topic2\", \"Topic2\", \"Topic2\", \"Topic2\", \"Topic2\", \"Topic2\", \"Topic2\", \"Topic2\", \"Topic2\", \"Topic2\", \"Topic2\", \"Topic2\", \"Topic2\", \"Topic2\", \"Topic3\", \"Topic3\", \"Topic3\", \"Topic3\", \"Topic3\", \"Topic3\", \"Topic3\", \"Topic3\", \"Topic3\", \"Topic3\", \"Topic3\", \"Topic3\", \"Topic3\", \"Topic3\", \"Topic3\", \"Topic3\", \"Topic3\", \"Topic3\", \"Topic3\", \"Topic3\", \"Topic3\", \"Topic3\", \"Topic3\", \"Topic3\", \"Topic3\", \"Topic3\", \"Topic3\", \"Topic3\", \"Topic3\", \"Topic3\", \"Topic3\", \"Topic3\", \"Topic3\", \"Topic3\", \"Topic3\", \"Topic3\", \"Topic3\", \"Topic3\", \"Topic3\", \"Topic3\", \"Topic3\", \"Topic3\", \"Topic3\", \"Topic3\", \"Topic3\", \"Topic3\", \"Topic3\", \"Topic3\", \"Topic3\", \"Topic3\", \"Topic3\", \"Topic3\", \"Topic3\", \"Topic3\", \"Topic3\", \"Topic3\", \"Topic3\", \"Topic3\", \"Topic3\", \"Topic3\", \"Topic4\", \"Topic4\", \"Topic4\", \"Topic4\", \"Topic4\", \"Topic4\", \"Topic4\", \"Topic4\", \"Topic4\", \"Topic4\", \"Topic4\", \"Topic4\", \"Topic4\", \"Topic4\", \"Topic4\", \"Topic4\", \"Topic4\", \"Topic4\", \"Topic4\", \"Topic4\", \"Topic4\", \"Topic4\", \"Topic4\", \"Topic4\", \"Topic4\", \"Topic4\", \"Topic4\", \"Topic4\", \"Topic4\", \"Topic4\", \"Topic4\", \"Topic4\", \"Topic4\", \"Topic4\", \"Topic4\", \"Topic4\", \"Topic4\", \"Topic4\", \"Topic4\", \"Topic4\", \"Topic4\", \"Topic4\", \"Topic4\", \"Topic4\", \"Topic4\", \"Topic4\", \"Topic4\", \"Topic4\", \"Topic4\", \"Topic4\", \"Topic4\", \"Topic4\", \"Topic4\", \"Topic4\", \"Topic4\", \"Topic5\", \"Topic5\", \"Topic5\", \"Topic5\", \"Topic5\", \"Topic5\", \"Topic5\", \"Topic5\", \"Topic5\", \"Topic5\", \"Topic5\", \"Topic5\", \"Topic5\", \"Topic5\", \"Topic5\", \"Topic5\", \"Topic5\", \"Topic5\", \"Topic5\", \"Topic5\", \"Topic5\", \"Topic5\", \"Topic5\", \"Topic5\", \"Topic5\", \"Topic5\", \"Topic5\", \"Topic5\", \"Topic5\", \"Topic5\", \"Topic5\", \"Topic5\", \"Topic5\", \"Topic5\", \"Topic5\", \"Topic5\", \"Topic5\", \"Topic5\", \"Topic5\", \"Topic5\", \"Topic5\", \"Topic5\", \"Topic5\", \"Topic5\", \"Topic5\", \"Topic5\", \"Topic5\", \"Topic5\", \"Topic5\", \"Topic5\", \"Topic5\", \"Topic5\", \"Topic5\"], \"logprob\": [30.0, 29.0, 28.0, 27.0, 26.0, 25.0, 24.0, 23.0, 22.0, 21.0, 20.0, 19.0, 18.0, 17.0, 16.0, 15.0, 14.0, 13.0, 12.0, 11.0, 10.0, 9.0, 8.0, 7.0, 6.0, 5.0, 4.0, 3.0, 2.0, 1.0, -4.3322, -4.5806, -4.7755, -5.2218, -4.9554, -5.0269, -5.4115, -5.5776, -5.504, -5.7466, -5.5429, -5.7826, -6.114, -6.1587, -6.1823, -6.2553, -6.0524, -5.085, -6.1165, -6.3079, -6.2568, -6.335, -6.3918, -6.4521, -6.5164, -6.5498, -6.5499, -6.5179, -6.5847, -6.6208, -4.4615, -4.8769, -5.2497, -4.7582, -5.4646, -5.4699, -4.2096, -4.7841, -3.9715, -4.4655, -5.8142, -4.0516, -5.3262, -4.3488, -4.8874, -4.4844, -4.6079, -4.8918, -4.5208, -4.7329, -4.2296, -4.2232, -4.2497, -4.2851, -4.9526, -4.6508, -4.4653, -4.7122, -4.7484, -4.7874, -4.8624, -4.7384, -4.8759, -4.0409, -4.1205, -3.3497, -4.5821, -4.4771, -4.6299, -4.1183, -4.8118, -4.7776, -4.86, -4.8723, -4.8723, -5.2103, -5.2103, -5.3409, -5.3815, -5.3816, -5.3614, -5.5145, -5.5384, -5.5386, -5.563, -5.5881, -5.6678, -4.3097, -5.7246, -5.7246, -5.7543, -5.7849, -5.8491, -5.0273, -4.551, -4.0356, -3.2724, -4.6118, -4.5868, -4.6086, -4.0255, -3.9306, -4.4536, -4.0269, -4.4811, -4.6643, -4.7714, -4.6451, -4.3019, -4.761, -4.5729, -4.6364, -4.668, -4.7747, -4.691, -4.7412, -4.7391, -3.9043, -4.6206, -4.4516, -4.8892, -5.0495, -5.1704, -5.1296, -5.2377, -5.261, -5.3347, -5.1324, -5.3605, -5.3606, -5.4424, -5.4712, -5.501, -5.5315, -5.563, -5.5631, -5.4743, -5.5961, -5.6293, -5.6295, -5.4755, -5.6296, -5.664, -5.664, -5.6641, -5.6643, -5.665, -4.5993, -3.7032, -4.7476, -4.3331, -4.1697, -5.2351, -5.577, -5.4067, -3.384, -4.2724, -5.1458, -4.8818, -4.5639, -4.8408, -4.2444, -4.5378, -4.6695, -3.9886, -4.6781, -4.3557, -4.6179, -4.5232, -4.2932, -4.6097, -4.4334, -4.7374, -4.7835, -4.8255, -4.8063, -4.9215, -4.1001, -3.0589, -4.4314, -4.4639, -4.486, -4.6049, -4.6435, -4.7692, -4.8628, -4.9842, -5.0218, -5.0412, -5.0609, -5.211, -5.2584, -5.3341, -5.3606, -5.3878, -5.3879, -5.4447, -5.2636, -5.5049, -5.5049, -5.5049, -5.5368, -5.569, -5.569, -5.569, -5.5691, -5.6027, -4.8947, -4.0159, -4.6016, -3.9002, -5.1693, -3.1046, -4.0718, -5.2914, -4.8864, -4.3453, -4.3317, -3.9155, -3.7121, -3.8251, -4.8117, -4.3084, -4.5313, -4.2726, -4.5337, -4.3519, -4.5062, -4.6259, -4.7838, -4.8344, -4.8656, -3.4862, -3.6509, -3.5983, -3.6784, -3.6953, -3.931, -4.6157, -4.6306, -4.7699, -4.8209, -5.1011, -5.1488, -5.1983, -5.0592, -5.1993, -5.395, -5.4594, -5.564, -5.6402, -5.7669, -6.0223, -6.0823, -6.1457, -5.6251, -6.149, -5.6272, -5.9313, -5.8511, -4.5804, -5.9797, -4.7156, -2.9887, -4.2009, -5.3534, -3.2739, -3.6449, -3.3923, -3.121, -3.3711, -4.2447, -3.4202, -4.8203, -4.7558, -3.6913, -3.9025, -4.5731, -4.4153, -4.7242, -4.3953, -4.554, -4.4464, -4.7282, -4.7526], \"loglift\": [30.0, 29.0, 28.0, 27.0, 26.0, 25.0, 24.0, 23.0, 22.0, 21.0, 20.0, 19.0, 18.0, 17.0, 16.0, 15.0, 14.0, 13.0, 12.0, 11.0, 10.0, 9.0, 8.0, 7.0, 6.0, 5.0, 4.0, 3.0, 2.0, 1.0, 0.9959, 0.9951, 0.994, 0.9913, 0.9905, 0.9904, 0.9893, 0.9882, 0.9877, 0.9862, 0.985, 0.9807, 0.9795, 0.9793, 0.9787, 0.9779, 0.9779, 0.9772, 0.9769, 0.9766, 0.9763, 0.9761, 0.9748, 0.9733, 0.9714, 0.9708, 0.9706, 0.9699, 0.9698, 0.9687, 0.9634, 0.9572, 0.9534, 0.9363, 0.945, 0.9405, 0.8882, 0.9092, 0.8731, 0.8723, 0.9484, 0.8209, 0.9114, 0.7946, 0.837, 0.7206, 0.74, 0.7787, 0.7001, 0.6985, 0.5103, 0.4789, 0.4515, 0.4311, 0.6807, 0.4824, 0.2791, 0.4496, 0.4652, 0.4319, 0.4185, 0.0198, 0.0974, 1.6356, 1.6347, 1.6337, 1.6325, 1.6322, 1.6321, 1.6311, 1.6306, 1.6305, 1.63, 1.63, 1.63, 1.626, 1.626, 1.624, 1.6234, 1.6233, 1.6232, 1.6209, 1.6206, 1.6204, 1.6201, 1.6196, 1.6179, 1.617, 1.6167, 1.6166, 1.616, 1.6152, 1.6135, 1.578, 1.5509, 1.4738, 1.4036, 1.4056, 1.3827, 1.3635, 1.2038, 0.9562, 1.1753, 0.9465, 1.1398, 1.2185, 1.2281, 1.1153, 0.8378, 0.7895, 0.232, 0.0647, 0.0881, 0.7666, -0.2394, 0.3057, 0.0191, 1.8629, 1.8582, 1.8574, 1.8569, 1.8536, 1.8528, 1.852, 1.8515, 1.8512, 1.8498, 1.8493, 1.8493, 1.8492, 1.8475, 1.847, 1.8461, 1.8455, 1.8448, 1.8447, 1.844, 1.8435, 1.8431, 1.8429, 1.8428, 1.8428, 1.8422, 1.8422, 1.8422, 1.842, 1.8413, 1.8314, 1.8096, 1.8233, 1.7633, 1.7501, 1.771, 1.8309, 1.7812, 1.0677, 1.3163, 1.6677, 1.5232, 1.2614, 1.4273, 1.0365, 1.2227, 1.3034, 0.8164, 1.2683, 0.7775, 1.0514, 0.8759, 0.4512, 0.6492, 0.2828, 0.815, 0.7758, 0.5516, 0.2542, -0.049, 1.8941, 1.894, 1.8918, 1.8915, 1.8914, 1.8902, 1.8899, 1.8885, 1.8873, 1.8857, 1.8851, 1.8848, 1.8845, 1.882, 1.8812, 1.8796, 1.8791, 1.8786, 1.8785, 1.8773, 1.8763, 1.876, 1.8759, 1.8759, 1.8748, 1.8744, 1.8744, 1.8744, 1.8743, 1.8735, 1.8723, 1.8192, 1.8131, 1.7503, 1.8366, 1.5886, 1.5848, 1.8271, 1.7275, 1.5571, 1.4165, 1.2241, 0.99, 0.9149, 1.4857, 0.7521, 0.9294, 0.4025, 0.7251, 0.0997, 0.2858, 0.5933, 1.0982, 1.0713, 0.3387, 2.0056, 2.005, 2.005, 2.0049, 2.0048, 2.0036, 1.998, 1.9973, 1.9957, 1.9951, 1.9912, 1.99, 1.9894, 1.9887, 1.9884, 1.9851, 1.9832, 1.9804, 1.9784, 1.9744, 1.9642, 1.9615, 1.9587, 1.9557, 1.9554, 1.9541, 1.9502, 1.9354, 1.928, 1.9039, 1.889, 1.7673, 1.789, 1.8875, 1.664, 1.6956, 1.6547, 1.5321, 1.4209, 1.5807, 1.2549, 1.7046, 1.6087, 1.0669, 0.5492, 1.0155, 0.6452, 1.1578, 0.4096, 0.6597, 0.2698, 0.8223, 0.4517]}, \"token.table\": {\"Topic\": [3, 3, 3, 3, 3, 1, 4, 5, 4, 3, 2, 5, 4, 5, 3, 2, 5, 4, 2, 4, 5, 2, 3, 5, 1, 1, 4, 2, 5, 4, 1, 2, 5, 2, 4, 3, 1, 3, 3, 1, 1, 3, 3, 1, 2, 4, 5, 1, 2, 5, 2, 4, 2, 5, 4, 2, 1, 3, 1, 2, 3, 2, 1, 1, 2, 5, 1, 2, 3, 5, 3, 1, 3, 5, 5, 1, 2, 4, 5, 2, 1, 2, 3, 4, 5, 1, 2, 5, 1, 2, 1, 2, 3, 5, 1, 2, 3, 4, 2, 2, 3, 1, 3, 4, 3, 1, 2, 1, 2, 3, 4, 5, 1, 1, 4, 1, 2, 3, 4, 5, 4, 4, 1, 2, 3, 1, 4, 5, 2, 5, 2, 1, 2, 3, 4, 5, 1, 2, 3, 5, 1, 2, 3, 4, 5, 2, 4, 2, 4, 4, 1, 2, 3, 2, 3, 4, 4, 2, 1, 2, 4, 5, 1, 2, 3, 4, 4, 4, 4, 2, 3, 4, 4, 1, 3, 5, 3, 3, 5, 4, 4, 2, 4, 1, 2, 5, 5, 1, 2, 2, 4, 5, 2, 4, 5, 1, 1, 1, 2, 2, 1, 4, 1, 5, 3, 4, 5, 3, 1, 2, 3, 4, 5, 1, 2, 1, 3, 4, 5, 3, 1, 2, 2, 5, 1, 2, 1, 2, 4, 5, 1, 2, 4, 5, 1, 1, 2, 3, 5, 3, 1, 2, 3, 1, 1, 2, 2, 3, 4, 5, 3, 2, 5, 1, 2, 3, 1, 3, 5, 3, 4, 3, 5, 1, 2, 3, 3, 5, 4, 1, 3, 1, 5, 1, 1, 4, 1, 2, 3, 4, 5, 3, 3, 1, 2, 3, 1, 2, 3, 5, 1, 5, 2, 1, 3, 4, 5, 2, 5, 1, 2, 3, 5, 1, 2, 3, 2, 3, 4, 5, 5, 3, 4, 1, 2, 3, 1, 4, 1, 1, 5, 1, 2, 4, 5, 1, 2, 5, 2, 5, 5, 1, 4, 1, 1, 2, 3, 4, 4, 4, 4, 4, 4, 3, 4, 5, 5, 5, 4, 1, 5, 2, 2, 2, 1, 3, 3, 3, 1, 3, 5, 1, 4, 2, 5, 1, 2, 4, 5, 2, 2, 3, 1, 2, 5, 1, 2, 3, 4, 5, 2, 2, 5, 2, 1, 3, 4, 5, 1, 1, 2, 1, 2, 4, 1, 4, 1, 2, 4, 1, 2, 3, 4, 2, 5, 1, 2, 3, 4, 5, 1, 2, 4, 5, 1, 2, 3, 5, 1, 2, 3, 4, 5, 1, 2, 3, 4, 5, 1, 3, 1, 3, 4, 1, 4, 5, 1, 2, 1, 2, 3, 5, 2, 3, 5, 1, 2, 4, 5, 1, 4, 2, 1, 2, 3, 4, 5, 1, 2, 3, 4, 1, 1, 2, 1, 1, 2, 3, 1, 2, 5, 2, 4, 1, 3, 4, 5, 1, 3, 5, 1, 2, 3, 4, 3, 5, 1, 2, 1, 2], \"Freq\": [0.9919796888031213, 0.9920710227721681, 0.9580626753840845, 0.9920912975934375, 0.9640391814376674, 0.016336822819965117, 0.9802093691979071, 0.9521607192826363, 0.9958236362177976, 0.9630204353147569, 0.9907768528750491, 0.9402892847689966, 0.036866293719804585, 0.9585236367149192, 0.9580625650842408, 0.9864044497868956, 0.9598041667205349, 0.9812046535749863, 0.12135869107554621, 0.45172401678119983, 0.42475541876441175, 0.9740334802873886, 0.9591941955439313, 0.9370765382554556, 0.9958685185651139, 0.9904428981595648, 0.9763816409038396, 0.9450308537430354, 0.05559005022017856, 0.995800079693401, 0.9378617601391439, 0.045749354153128974, 0.99507109739962, 0.9904708701619783, 0.9639276646441615, 0.9602542791150823, 0.040285428266980366, 0.9534218023185352, 0.9921310443921607, 0.9976599484521919, 0.010334389475523124, 0.99210138965022, 0.961222085931681, 0.2621989299309763, 0.04235521175808079, 0.22387754786414132, 0.4699411590301345, 0.049898857691227476, 0.049898857691227476, 0.8981794384420946, 0.9799943433308634, 0.021150957050306406, 0.03688399990864852, 0.9589839976248615, 0.9628704281366414, 0.9748774245010716, 0.8956203376382166, 0.10156519292804518, 0.8523576040669326, 0.07486924900587921, 0.07486924900587921, 0.9804891725478252, 0.9886011054880309, 0.2662013199453415, 0.4259221119125464, 0.3049215119373912, 0.46593866710986737, 0.15808633348370502, 0.3702548336855196, 0.004160166670623816, 0.9638377971441847, 0.9718808407876021, 0.3167811061487917, 0.6663326715543549, 0.9949593739221827, 0.23575557203884115, 0.00906752200149389, 0.1994854840328656, 0.5553857225915008, 0.9826304486325965, 0.14698047716440876, 0.2457329852592459, 0.3490786332654708, 0.05741424889234717, 0.20209815610106202, 0.21592571801385152, 0.6545248327294874, 0.12145821638279147, 0.976691129052793, 0.01627818548421322, 0.7256073540172623, 0.07887036456709373, 0.18403085065655203, 0.010516048608945831, 0.985226783185152, 0.4492984076345208, 0.0417205664232055, 0.5070653457589591, 0.9900590026016155, 0.4717033595440352, 0.5254417169604443, 0.17062348608566727, 0.7052437424874247, 0.11374899072377817, 0.9612253804676522, 0.3510367113307016, 0.6459075488484909, 0.8377915765273254, 0.002456866793335265, 0.1474120076001159, 0.002456866793335265, 0.012284333966676326, 0.971876248652423, 0.5592254906534809, 0.4349531593971518, 0.4049448262578128, 0.5000660941707218, 0.002717750511797401, 0.008153251535392203, 0.08425026586571943, 0.9767557996104487, 0.9649215610753279, 0.5775316188402877, 0.2526700832426259, 0.16735291227758337, 0.8804225882827545, 0.11738967843770061, 0.9735980156989708, 0.2564859090933028, 0.730984840915913, 0.9912774544491727, 0.9391074841952101, 0.005589925501161965, 0.02235970200464786, 0.027949627505809826, 0.005589925501161965, 0.5581543574165473, 0.003696386472957267, 0.43617360380895753, 0.003696386472957267, 0.0016130119281497356, 0.15323613317422488, 0.4484173160256265, 0.16452721667127304, 0.23227371765356195, 0.7600044395886234, 0.23611788414403834, 0.2691008272207088, 0.731954250040328, 0.9658536487174587, 0.05951823961767556, 0.28767149148543186, 0.6447809291914852, 0.9936437952420195, 0.15419548699382535, 0.8410662926935929, 0.9690794807478361, 0.9804899076342177, 0.011796755556237857, 0.035390266668713574, 0.6193296667024876, 0.33030915557466, 0.16223537346724887, 0.05750114502636668, 0.047233083414515493, 0.7331395990861752, 0.9958048119834376, 0.9777840646033648, 0.9639298973288156, 0.9967636847879734, 0.04148944770718633, 0.9335125734116925, 0.9639276137193469, 0.6158590051717192, 0.3491484123808172, 0.03394498453702389, 0.9591891822797514, 0.9621477052892228, 0.9949576098835609, 0.9957654168373239, 0.9697778983303011, 0.8454013416879445, 0.14864199414293527, 0.802134563593217, 0.18007102448010992, 0.01637009313455545, 0.9787960751426812, 0.9668405779048936, 0.9906829411920544, 0.7893165474409563, 0.10497304467245454, 0.10497304467245454, 0.2632649277719895, 0.0351019903695986, 0.702039807391972, 0.9740857086837871, 0.9689596908203303, 0.9854459708614892, 0.9919341950157332, 0.9912772664848313, 0.9694501076948029, 0.965852534158046, 0.9894529077428242, 0.9949606545672339, 0.9612738731408448, 0.031008834617446603, 0.9949800128132026, 0.95806497665233, 0.3703151449410837, 0.27671900940652405, 0.2685802150122145, 0.061040957957321486, 0.024416383182928596, 0.9924129364889737, 0.9918568345269286, 0.6133275234387411, 0.010760131990153353, 0.372300566859306, 0.0021520263980306705, 0.9921405320203227, 0.9952239618829928, 0.9740342215493242, 0.7874826704550084, 0.2007308767826492, 0.9646669430335613, 0.03414750240826765, 0.374763958206584, 0.19724418852978104, 0.03725723561118086, 0.3901051728700114, 0.3464491076886183, 0.5034728039791432, 0.014954637741954747, 0.13209930005393358, 0.9819579823024677, 0.48635368532124734, 0.14266374769423254, 0.2420960566932431, 0.12753274415090485, 0.9919902702458276, 0.5286788163291413, 0.027251485377790787, 0.4414740631202107, 0.9706437819793804, 0.9433699496040393, 0.03252999826220825, 0.9958472721529041, 0.8215109729552884, 0.15403330742911656, 0.017114811936568507, 0.9646147302739136, 0.266790251743184, 0.7297498062387091, 0.5963138201928017, 0.0669657231232558, 0.33482861561627897, 0.38396836911681226, 0.5685685465768181, 0.03692003549200118, 0.9580702495185345, 0.9958068913069567, 0.992143728741951, 0.9715053104929935, 0.9769898040556529, 0.008074295901286388, 0.008074295901286388, 0.963983932951027, 0.9703275393867272, 0.9771092927066516, 0.07465726638006266, 0.9207729520207729, 0.9778132845283604, 0.9334756828057323, 0.9945923204018117, 0.08040236253964538, 0.9188841433102328, 0.10971044733703345, 0.11860588901300913, 0.1986648640967903, 0.3172707531097994, 0.2550026613779696, 0.958089869089928, 0.9720112979652616, 0.17910516456004247, 0.5910470430481402, 0.22686654177605378, 0.7707114887897636, 0.19366596384973547, 0.0316189328734262, 0.003952366609178275, 0.9867293191306407, 0.9779606108156903, 0.9864047846343863, 0.05504854140746865, 0.11697815049087087, 0.7087499706211589, 0.11697815049087087, 0.04528187497715705, 0.9509193745202981, 0.24657028263678504, 0.03147705735788745, 0.01311544056578644, 0.7082337905524677, 0.16682787242201422, 0.6597284045779653, 0.16682787242201422, 0.180791445778619, 0.29649797107693515, 0.3073454578236523, 0.2169497349343428, 0.9631983567378875, 0.9920983712885167, 0.979805268036566, 0.9140247915790911, 0.03848525438227752, 0.0481065679778469, 0.9881084118036118, 0.9958290042840091, 0.9782926993151932, 0.09721391927221282, 0.8888129762030886, 0.09566875750310579, 0.7727091952173929, 0.058873081540372796, 0.06623221673291939, 0.05880665314544383, 0.915703598979054, 0.025202851348047357, 0.19528630544367043, 0.8036782570181822, 0.9570953992322905, 0.9156649339634121, 0.0837498415210438, 0.9895215381725727, 0.38223195902565893, 0.07007585915470414, 0.5414952752863501, 0.9704439627725233, 0.9639279511448551, 0.9724636491814046, 0.9675586884566793, 0.9722457325979478, 0.9733098695483466, 0.9570221482054906, 0.0350130054221521, 0.97035165672187, 0.9949488018590813, 0.93345314337645, 0.9690795974723313, 0.9736778305424997, 0.9950693153084237, 0.9756661330725088, 0.991843125648099, 0.9879853342371905, 0.006011692311525256, 0.9919292314016672, 0.959188635142584, 0.9920963678259688, 0.0502832618265163, 0.5732291848222858, 0.3720961375162206, 0.33708309100979733, 0.6639515428980857, 0.07568077682034957, 0.9207827846475864, 0.19728283650421358, 0.08680444806185397, 0.09666858988706466, 0.6214409349882728, 0.9927305550156961, 0.9846320917977279, 0.9921047204192409, 0.0021868424290802674, 0.2121237156207859, 0.7850764320398159, 0.3766154349316236, 0.1883077174658118, 0.013695106724786313, 0.20885037755299127, 0.21227415423418786, 0.9855449343009102, 0.10496559303682507, 0.8922075408130131, 0.9901906267308668, 0.6640408821914924, 0.3369030946412719, 0.9658537278492668, 0.9949589159572766, 0.9741477529508982, 0.991866837163874, 0.00718744084901358, 0.5946531754837336, 0.002071962283915448, 0.4019606830795969, 0.046436258396023083, 0.9287251679204617, 0.07489186907748988, 0.06419303063784847, 0.8612564943911336, 0.7571739556066472, 0.02398288547170376, 0.09250541539085735, 0.12334055385447648, 0.0497951062085233, 0.9461070179619427, 0.5775283375357622, 0.20699940413468176, 0.01862994637212136, 0.0703797974057918, 0.12626963652215586, 0.7414293673625006, 0.17056356338386164, 0.06961778097300475, 0.017404445243251188, 0.15820008021790805, 0.28763650948710556, 0.5465093680255005, 0.9651138468279635, 0.567385670230806, 0.0021014284082622446, 0.20383855560143774, 0.05253571020655611, 0.17651998629402854, 0.12463876270200205, 0.60761396817226, 0.2129245529492535, 0.04673953601325077, 0.010386563558500171, 0.0829989465457121, 0.9129884120028332, 0.018643732336366844, 0.9415084829865257, 0.03728746467273369, 0.5875104121326857, 0.15206151843434218, 0.2591957700585378, 0.7389908578126305, 0.2577875085392897, 0.01671001547418065, 0.07519506963381292, 0.9023408356057551, 0.01671001547418065, 0.10503682102011275, 0.8893117513036213, 0.0070024547346741834, 0.5664631757076992, 0.1494350708922151, 0.2710682681300646, 0.013900936827182802, 0.0053256294112116786, 0.9932298851909781, 0.990471061341169, 0.8150314680017392, 0.02255027777079911, 0.04510055554159822, 0.11597285710696684, 0.003221468252971301, 0.15704226417555125, 0.628169056702205, 0.010469484278370083, 0.20415494342821663, 0.9940875514809306, 0.9575050573989156, 0.03718466242325886, 0.9737321711030587, 0.9576717253520743, 0.032136635078928666, 0.006427327015785734, 0.5802842399502838, 0.4172291642617743, 0.9725601513573641, 0.07076920886147765, 0.9199997151992094, 0.8816525084993849, 0.002389302191055244, 0.11229720297959646, 0.002389302191055244, 0.9485526421993874, 0.034285035260218824, 0.022856690173479213, 0.37605459648734985, 0.030969202063664103, 0.21236024272226814, 0.3804787682107304, 0.3440449367095618, 0.6498626582291723, 0.005490447729218551, 0.9937710389885578, 0.005905284672642525, 0.9920878250039442], \"Term\": [\"-\", \"-Attended\", \"-Presented\", \"-Successfully\", \"-Worked\", \"2\", \"2\", \"20\", \"3\", \"4\", \"6\", \"Administration,\", \"Always\", \"Always\", \"Atara\", \"By\", \"Challenged\", \"Cisco\", \"Despite\", \"Despite\", \"Despite\", \"Developer\", \"Development\", \"Django\", \"Good\", \"Great\", \"Has\", \"He's\", \"He's\", \"IOS\", \"Keep\", \"Keep\", \"LAN\", \"Lead\", \"Maintains\", \"Ministry\", \"PHP\", \"PHP\", \"PHP,\", \"Progressive\", \"R\", \"R\", \"SQL\", \"She\", \"She\", \"She\", \"She\", \"Software\", \"Software\", \"Software\", \"Stratcom\", \"Stratcom\", \"Systems\", \"Systems\", \"Takes\", \"Thank\", \"The\", \"The\", \"This\", \"This\", \"This\", \"Trainer\", \"Very\", \"We\", \"We\", \"We\", \"able\", \"able\", \"able\", \"able\", \"accessed\", \"accomplished\", \"acquired\", \"acquired\", \"acquired.\", \"all\", \"all\", \"all\", \"all\", \"almost\", \"also\", \"also\", \"also\", \"also\", \"also\", \"always\", \"always\", \"always\", \"am\", \"am\", \"an\", \"an\", \"an\", \"an\", \"analysis\", \"any\", \"any\", \"any\", \"apk\", \"app\", \"app\", \"application\", \"application\", \"application\", \"applications\", \"are\", \"are\", \"as\", \"as\", \"as\", \"as\", \"as\", \"asked\", \"assigned\", \"assigned\", \"at\", \"at\", \"at\", \"at\", \"at\", \"attendance\", \"attentive\", \"be\", \"be\", \"be\", \"been\", \"been\", \"best.\", \"bit\", \"bit\", \"built\", \"but\", \"but\", \"but\", \"but\", \"but\", \"by\", \"by\", \"by\", \"by\", \"can\", \"can\", \"can\", \"can\", \"can\", \"challenge.\", \"challenge.\", \"challenges.\", \"challenges.\", \"cisco\", \"code\", \"code\", \"code\", \"coding\", \"commands\", \"commands\", \"commands.\", \"competence\", \"complete\", \"complete\", \"complete\", \"complete\", \"completed\", \"completed\", \"completed\", \"completed\", \"configure\", \"configuring\", \"constant\", \"contact\", \"continued\", \"continued\", \"coworkers.\", \"data\", \"data\", \"data\", \"deploy\", \"deployed\", \"detail\", \"devices\", \"devices.\", \"doing\", \"doing\", \"done\", \"done\", \"done\", \"early\", \"effort\", \"embark\", \"encourage\", \"encourage\", \"encourage\", \"end\", \"end\", \"end\", \"engaging\", \"enviroment\", \"environment\", \"equip\", \"errors\", \"everything\", \"exceedingly\", \"excellent\", \"explaining\", \"file\", \"file\", \"finished\", \"flutter\", \"from\", \"from\", \"from\", \"from\", \"from\", \"given\", \"going\", \"good\", \"good\", \"good\", \"good\", \"graphs\", \"great\", \"handle\", \"hands-on\", \"hands-on\", \"have\", \"have\", \"her\", \"her\", \"her\", \"her\", \"him\", \"him\", \"him\", \"him\", \"him.\", \"his\", \"his\", \"his\", \"his\", \"hosting\", \"how\", \"how\", \"how\", \"impressed\", \"improve\", \"improve\", \"incase\", \"install\", \"install\", \"install\", \"internet.\", \"internship.\", \"internship.\", \"it\", \"it\", \"it\", \"knowledge\", \"knowledge\", \"knowledge\", \"knows\", \"layer\", \"learned\", \"learner\", \"learning\", \"learning\", \"learning\", \"legacy\", \"less\", \"linux\", \"local\", \"local\", \"lot\", \"loves\", \"made\", \"main\", \"main\", \"managed\", \"managed\", \"managed\", \"managed\", \"managed\", \"meetings\", \"messaging\", \"mobile\", \"mobile\", \"mobile\", \"more\", \"more\", \"more\", \"more\", \"most\", \"movements\", \"multitasking.\", \"network\", \"network\", \"network\", \"network\", \"network.\", \"network.\", \"new\", \"new\", \"new\", \"new\", \"next\", \"next\", \"next\", \"now\", \"now\", \"now\", \"now\", \"number\", \"online\", \"operating\", \"other\", \"other\", \"other\", \"our\", \"perfected\", \"performance\", \"plan\", \"plan\", \"practical\", \"practical\", \"practical\", \"practical\", \"practice\", \"practice\", \"practice\", \"present\", \"present\", \"printers\", \"progress\", \"progress\", \"progress.\", \"project\", \"project\", \"project\", \"proper\", \"protocols\", \"record\", \"regardless\", \"relationship\", \"relationships\", \"remote\", \"remote\", \"repair\", \"report\", \"report,\", \"require\", \"required\", \"resources\", \"run\", \"scratch.\", \"semester\", \"server\", \"server\", \"server,\", \"server.\", \"set\", \"set\", \"set\", \"setting\", \"setting\", \"share\", \"share\", \"she\", \"she\", \"she\", \"she\", \"should\", \"sign\", \"simple\", \"skills\", \"skills\", \"skills\", \"so\", \"so\", \"so\", \"so\", \"so\", \"so,\", \"spend\", \"spend\", \"started\", \"student\", \"student\", \"supervision.\", \"supposed\", \"taken\", \"task\", \"task\", \"tasks\", \"tasks\", \"tasks\", \"tasks,\", \"tasks,\", \"tasks.\", \"tasks.\", \"tasks.\", \"team\", \"team\", \"team\", \"team\", \"tests\", \"tests\", \"that\", \"that\", \"that\", \"that\", \"that\", \"time\", \"time\", \"time\", \"time\", \"training\", \"training\", \"training\", \"transport.\", \"up\", \"up\", \"up\", \"up\", \"up\", \"use\", \"use\", \"use\", \"use\", \"use\", \"user\", \"user\", \"using\", \"using\", \"using\", \"very\", \"very\", \"very\", \"we\", \"we\", \"web\", \"web\", \"web\", \"web\", \"website\", \"website\", \"website\", \"week\", \"week\", \"week\", \"week\", \"week's\", \"week's\", \"weeks.\", \"well\", \"well\", \"well\", \"well\", \"well\", \"well.\", \"well.\", \"well.\", \"well.\", \"were\", \"what\", \"what\", \"where\", \"which\", \"which\", \"which\", \"will\", \"will\", \"wish\", \"without\", \"without\", \"work\", \"work\", \"work\", \"work\", \"work.\", \"work.\", \"work.\", \"working\", \"working\", \"working\", \"working\", \"write\", \"write\", \"you\", \"you\", \"your\", \"your\"]}, \"R\": 30, \"lambda.step\": 0.01, \"plot.opts\": {\"xlab\": \"PC1\", \"ylab\": \"PC2\"}, \"topic.order\": [2, 5, 4, 1, 3]};\n",
              "\n",
              "function LDAvis_load_lib(url, callback){\n",
              "  var s = document.createElement('script');\n",
              "  s.src = url;\n",
              "  s.async = true;\n",
              "  s.onreadystatechange = s.onload = callback;\n",
              "  s.onerror = function(){console.warn(\"failed to load library \" + url);};\n",
              "  document.getElementsByTagName(\"head\")[0].appendChild(s);\n",
              "}\n",
              "\n",
              "if(typeof(LDAvis) !== \"undefined\"){\n",
              "   // already loaded: just create the visualization\n",
              "   !function(LDAvis){\n",
              "       new LDAvis(\"#\" + \"ldavis_el1441399600536389921859891991\", ldavis_el1441399600536389921859891991_data);\n",
              "   }(LDAvis);\n",
              "}else if(typeof define === \"function\" && define.amd){\n",
              "   // require.js is available: use it to load d3/LDAvis\n",
              "   require.config({paths: {d3: \"https://d3js.org/d3.v5\"}});\n",
              "   require([\"d3\"], function(d3){\n",
              "      window.d3 = d3;\n",
              "      LDAvis_load_lib(\"https://cdn.jsdelivr.net/gh/bmabey/pyLDAvis@3.3.1/pyLDAvis/js/ldavis.v3.0.0.js\", function(){\n",
              "        new LDAvis(\"#\" + \"ldavis_el1441399600536389921859891991\", ldavis_el1441399600536389921859891991_data);\n",
              "      });\n",
              "    });\n",
              "}else{\n",
              "    // require.js not available: dynamically load d3 & LDAvis\n",
              "    LDAvis_load_lib(\"https://d3js.org/d3.v5.js\", function(){\n",
              "         LDAvis_load_lib(\"https://cdn.jsdelivr.net/gh/bmabey/pyLDAvis@3.3.1/pyLDAvis/js/ldavis.v3.0.0.js\", function(){\n",
              "                 new LDAvis(\"#\" + \"ldavis_el1441399600536389921859891991\", ldavis_el1441399600536389921859891991_data);\n",
              "            })\n",
              "         });\n",
              "}\n",
              "</script>"
            ]
          },
          "metadata": {},
          "execution_count": 44
        }
      ]
    },
    {
      "cell_type": "code",
      "source": [
        "# coherence \n",
        "from gensim.models import CoherenceModel# Compute Coherence Score\n",
        "coherence_model_lda = CoherenceModel(model=lda_model, texts=processed_docs, dictionary=dictionary, coherence='c_v')\n",
        "coherence_lda = coherence_model_lda.get_coherence()\n",
        "print('\\nCoherence Score: ', coherence_lda)"
      ],
      "metadata": {
        "colab": {
          "base_uri": "https://localhost:8080/"
        },
        "id": "mFDsVN9FoySf",
        "outputId": "a408c78b-f09e-4f20-efba-5c4ee27d3c4c"
      },
      "execution_count": 45,
      "outputs": [
        {
          "output_type": "stream",
          "name": "stdout",
          "text": [
            "\n",
            "Coherence Score:  0.46940412874981885\n"
          ]
        }
      ]
    },
    {
      "cell_type": "code",
      "execution_count": 46,
      "metadata": {
        "colab": {
          "base_uri": "https://localhost:8080/",
          "height": 1000
        },
        "id": "pw3WwB1q9gTS",
        "outputId": "90dc6dbe-9b05-497e-a48a-de3e12272253"
      },
      "outputs": [
        {
          "output_type": "display_data",
          "data": {
            "text/plain": [
              "<IPython.core.display.HTML object>"
            ],
            "text/html": [
              "<h1>Clustered comments of Field Supervisors about Interns into categories: Excellent, Good, Neutral, Poor, Very Poor.</h1>"
            ]
          },
          "metadata": {}
        },
        {
          "output_type": "display_data",
          "data": {
            "text/plain": [
              "<IPython.core.display.HTML object>"
            ],
            "text/html": [
              "<h3>Task Topic: excellent</h3>"
            ]
          },
          "metadata": {}
        },
        {
          "output_type": "display_data",
          "data": {
            "text/plain": [
              "<IPython.core.display.HTML object>"
            ],
            "text/html": [
              "<b>The tasks given to her were assessed and she was excellent and submitted them in time despite the internet shut down</b> - <i>faith has exhibited enthusiasm in taking on the project at hand she has already shown promising signs in understanding the core concepts of software engineering i look forward discovering more as time goes on</i>"
            ]
          },
          "metadata": {}
        },
        {
          "output_type": "display_data",
          "data": {
            "text/plain": [
              "<IPython.core.display.HTML object>"
            ],
            "text/html": [
              "<b>Overall she is an excellent intern and has been resourceful</b> - <i>faith has exhibited enthusiasm in taking on the project at hand she has already shown promising signs in understanding the core concepts of software engineering i look forward discovering more as time goes on</i>"
            ]
          },
          "metadata": {}
        },
        {
          "output_type": "display_data",
          "data": {
            "text/plain": [
              "<IPython.core.display.HTML object>"
            ],
            "text/html": [
              "<b>These combined with outstanding social skills and a dedicated work ethic made her an outstanding asset to our IT team, so intelligent and committed to the work, Her sense of purpose and professionalism\n",
              "will see her far in the career path of her choice, she could take more initiative, self-confidence, excellent prospects</b> - <i>faith has exhibited enthusiasm in taking on the project at hand she has already shown promising signs in understanding the core concepts of software engineering i look forward discovering more as time goes on</i>"
            ]
          },
          "metadata": {}
        },
        {
          "output_type": "display_data",
          "data": {
            "text/plain": [
              "<IPython.core.display.HTML object>"
            ],
            "text/html": [
              "<b>she is an excellent asset to our company (BILLBRAIN TECHNOLOGIES LDT) and brought new and innovative ideas to the table</b> - <i>faith has exhibited enthusiasm in taking on the project at hand she has already shown promising signs in understanding the core concepts of software engineering i look forward discovering more as time goes on</i>"
            ]
          },
          "metadata": {}
        },
        {
          "output_type": "display_data",
          "data": {
            "text/plain": [
              "<IPython.core.display.HTML object>"
            ],
            "text/html": [
              "<b>She was unbelievably responsible, poised, professional, personable, and a great team member!  she did an excellent job during her internship program</b> - <i>faith has exhibited enthusiasm in taking on the project at hand she has already shown promising signs in understanding the core concepts of software engineering i look forward discovering more as time goes on</i>"
            ]
          },
          "metadata": {}
        },
        {
          "output_type": "display_data",
          "data": {
            "text/plain": [
              "<IPython.core.display.HTML object>"
            ],
            "text/html": [
              "<b>She is picking up so well and with persistency will be excellent</b> - <i>faith has exhibited enthusiasm in taking on the project at hand she has already shown promising signs in understanding the core concepts of software engineering i look forward discovering more as time goes on</i>"
            ]
          },
          "metadata": {}
        },
        {
          "output_type": "display_data",
          "data": {
            "text/plain": [
              "<IPython.core.display.HTML object>"
            ],
            "text/html": [
              "<b>He was able to complete and demo all the tasks assigned, excellent performance for DevOps.</b> - <i>faith has exhibited enthusiasm in taking on the project at hand she has already shown promising signs in understanding the core concepts of software engineering i look forward discovering more as time goes on</i>"
            ]
          },
          "metadata": {}
        },
        {
          "output_type": "display_data",
          "data": {
            "text/plain": [
              "<IPython.core.display.HTML object>"
            ],
            "text/html": [
              "<b>Ms Angella's work attitude is excellent</b> - <i>faith has exhibited enthusiasm in taking on the project at hand she has already shown promising signs in understanding the core concepts of software engineering i look forward discovering more as time goes on</i>"
            ]
          },
          "metadata": {}
        },
        {
          "output_type": "display_data",
          "data": {
            "text/plain": [
              "<IPython.core.display.HTML object>"
            ],
            "text/html": [
              "<b>I commend you Benadette for the excellent attitude and diligence this week</b> - <i>faith has exhibited enthusiasm in taking on the project at hand she has already shown promising signs in understanding the core concepts of software engineering i look forward discovering more as time goes on</i>"
            ]
          },
          "metadata": {}
        },
        {
          "output_type": "display_data",
          "data": {
            "text/plain": [
              "<IPython.core.display.HTML object>"
            ],
            "text/html": [
              "<b>And we have a registered an excellent working ethics improvement of him this week</b> - <i>faith has exhibited enthusiasm in taking on the project at hand she has already shown promising signs in understanding the core concepts of software engineering i look forward discovering more as time goes on</i>"
            ]
          },
          "metadata": {}
        },
        {
          "output_type": "display_data",
          "data": {
            "text/plain": [
              "<IPython.core.display.HTML object>"
            ],
            "text/html": [
              "<h3>Task Topic: good</h3>"
            ]
          },
          "metadata": {}
        },
        {
          "output_type": "display_data",
          "data": {
            "text/plain": [
              "<IPython.core.display.HTML object>"
            ],
            "text/html": [
              "<b>Namugema is very focused and good at time management</b> - <i>faith has exhibited enthusiasm in taking on the project at hand she has already shown promising signs in understanding the core concepts of software engineering i look forward discovering more as time goes on</i>"
            ]
          },
          "metadata": {}
        },
        {
          "output_type": "display_data",
          "data": {
            "text/plain": [
              "<IPython.core.display.HTML object>"
            ],
            "text/html": [
              "<b> Awesome leadership skills, computer competency, very good communication skills, great team player and cooperation, fantastic time management, hardworking spirit are a great description of Bridget</b> - <i>faith has exhibited enthusiasm in taking on the project at hand she has already shown promising signs in understanding the core concepts of software engineering i look forward discovering more as time goes on</i>"
            ]
          },
          "metadata": {}
        },
        {
          "output_type": "display_data",
          "data": {
            "text/plain": [
              "<IPython.core.display.HTML object>"
            ],
            "text/html": [
              "<b>she was a good time keeper that is to say, she could make it  to the office early in the morning in order to start up her given tasks, however there are days she used to come at the office a little bit late but she had strong evident reasons, she is confident and self driven, she's has got leadership skills and good communication skills as well.\n",
              "its a pleasure to work with her because she is very diligent, responsible</b> - <i>faith has exhibited enthusiasm in taking on the project at hand she has already shown promising signs in understanding the core concepts of software engineering i look forward discovering more as time goes on</i>"
            ]
          },
          "metadata": {}
        },
        {
          "output_type": "display_data",
          "data": {
            "text/plain": [
              "<IPython.core.display.HTML object>"
            ],
            "text/html": [
              "<b>Very hard working, good ideas; needs a little work on taking constructive criticism, she is a tremendous help to us that is to say, she was able to put together all of the information that was needed in a precise research and computer skills, communication skills are some of the best I've seen in her</b> - <i>faith has exhibited enthusiasm in taking on the project at hand she has already shown promising signs in understanding the core concepts of software engineering i look forward discovering more as time goes on</i>"
            ]
          },
          "metadata": {}
        },
        {
          "output_type": "display_data",
          "data": {
            "text/plain": [
              "<IPython.core.display.HTML object>"
            ],
            "text/html": [
              "<b>He was good at asking were necessary thus he did an excellent job.</b> - <i>faith has exhibited enthusiasm in taking on the project at hand she has already shown promising signs in understanding the core concepts of software engineering i look forward discovering more as time goes on</i>"
            ]
          },
          "metadata": {}
        },
        {
          "output_type": "display_data",
          "data": {
            "text/plain": [
              "<IPython.core.display.HTML object>"
            ],
            "text/html": [
              "<b>Has many good qualities such - he is result-oriented, keeps time, respects colleagues, good communication skills and is excelled with solving the problems assigned to him</b> - <i>faith has exhibited enthusiasm in taking on the project at hand she has already shown promising signs in understanding the core concepts of software engineering i look forward discovering more as time goes on</i>"
            ]
          },
          "metadata": {}
        },
        {
          "output_type": "display_data",
          "data": {
            "text/plain": [
              "<IPython.core.display.HTML object>"
            ],
            "text/html": [
              "<b>Time management is excellent, His general application of knowledge to address problems is excellent, He is a good listener and fast learner</b> - <i>faith has exhibited enthusiasm in taking on the project at hand she has already shown promising signs in understanding the core concepts of software engineering i look forward discovering more as time goes on</i>"
            ]
          },
          "metadata": {}
        },
        {
          "output_type": "display_data",
          "data": {
            "text/plain": [
              "<IPython.core.display.HTML object>"
            ],
            "text/html": [
              "<b>Passionate about motion graphics and willing to learnt more and more, Good presenter, Has good ideas, His time management is excellent.</b> - <i>faith has exhibited enthusiasm in taking on the project at hand she has already shown promising signs in understanding the core concepts of software engineering i look forward discovering more as time goes on</i>"
            ]
          },
          "metadata": {}
        },
        {
          "output_type": "display_data",
          "data": {
            "text/plain": [
              "<IPython.core.display.HTML object>"
            ],
            "text/html": [
              "<b>The student's weekly progress was justifiably good, characterized with enthusiasm to learning more.</b> - <i>faith has exhibited enthusiasm in taking on the project at hand she has already shown promising signs in understanding the core concepts of software engineering i look forward discovering more as time goes on</i>"
            ]
          },
          "metadata": {}
        },
        {
          "output_type": "display_data",
          "data": {
            "text/plain": [
              "<IPython.core.display.HTML object>"
            ],
            "text/html": [
              "<b>Very good</b> - <i>faith has exhibited enthusiasm in taking on the project at hand she has already shown promising signs in understanding the core concepts of software engineering i look forward discovering more as time goes on</i>"
            ]
          },
          "metadata": {}
        },
        {
          "output_type": "display_data",
          "data": {
            "text/plain": [
              "<IPython.core.display.HTML object>"
            ],
            "text/html": [
              "<h3>Task Topic: neutral</h3>"
            ]
          },
          "metadata": {}
        },
        {
          "output_type": "display_data",
          "data": {
            "text/plain": [
              "<IPython.core.display.HTML object>"
            ],
            "text/html": [
              "<h3>Task Topic: poor</h3>"
            ]
          },
          "metadata": {}
        },
        {
          "output_type": "display_data",
          "data": {
            "text/plain": [
              "<IPython.core.display.HTML object>"
            ],
            "text/html": [
              "<b>You can record the resultant challenges such as poor connectivity</b> - <i>faith has exhibited enthusiasm in taking on the project at hand she has already shown promising signs in understanding the core concepts of software engineering i look forward discovering more as time goes on</i>"
            ]
          },
          "metadata": {}
        },
        {
          "output_type": "display_data",
          "data": {
            "text/plain": [
              "<IPython.core.display.HTML object>"
            ],
            "text/html": [
              "<b>\n",
              "For internet, may be it is limited but not poor</b> - <i>faith has exhibited enthusiasm in taking on the project at hand she has already shown promising signs in understanding the core concepts of software engineering i look forward discovering more as time goes on</i>"
            ]
          },
          "metadata": {}
        },
        {
          "output_type": "display_data",
          "data": {
            "text/plain": [
              "<IPython.core.display.HTML object>"
            ],
            "text/html": [
              "<b>You can record the resultant challenges such as poor connectivity</b> - <i>faith has exhibited enthusiasm in taking on the project at hand she has already shown promising signs in understanding the core concepts of software engineering i look forward discovering more as time goes on</i>"
            ]
          },
          "metadata": {}
        },
        {
          "output_type": "display_data",
          "data": {
            "text/plain": [
              "<IPython.core.display.HTML object>"
            ],
            "text/html": [
              "<b>You could highlight resultant challenges from this new normal such as poor or intermittent network connectivity</b> - <i>faith has exhibited enthusiasm in taking on the project at hand she has already shown promising signs in understanding the core concepts of software engineering i look forward discovering more as time goes on</i>"
            ]
          },
          "metadata": {}
        },
        {
          "output_type": "display_data",
          "data": {
            "text/plain": [
              "<IPython.core.display.HTML object>"
            ],
            "text/html": [
              "<b>\n",
              "In order to address the challenges you have highlighted, you will need to make better preparations for the online collaboration sessions to avoid being affected by some of them such as poor network</b> - <i>faith has exhibited enthusiasm in taking on the project at hand she has already shown promising signs in understanding the core concepts of software engineering i look forward discovering more as time goes on</i>"
            ]
          },
          "metadata": {}
        },
        {
          "output_type": "display_data",
          "data": {
            "text/plain": [
              "<IPython.core.display.HTML object>"
            ],
            "text/html": [
              "<b>Indeed there was poor network, especially during our weekly catch up meeting</b> - <i>faith has exhibited enthusiasm in taking on the project at hand she has already shown promising signs in understanding the core concepts of software engineering i look forward discovering more as time goes on</i>"
            ]
          },
          "metadata": {}
        },
        {
          "output_type": "display_data",
          "data": {
            "text/plain": [
              "<IPython.core.display.HTML object>"
            ],
            "text/html": [
              "<b>Incase of poor network, I encourage her to make use of recordings and contact the Lead developer for guidance.</b> - <i>faith has exhibited enthusiasm in taking on the project at hand she has already shown promising signs in understanding the core concepts of software engineering i look forward discovering more as time goes on</i>"
            ]
          },
          "metadata": {}
        },
        {
          "output_type": "display_data",
          "data": {
            "text/plain": [
              "<IPython.core.display.HTML object>"
            ],
            "text/html": [
              "<b>In case of poor network, I encourage her to make use of recordings</b> - <i>faith has exhibited enthusiasm in taking on the project at hand she has already shown promising signs in understanding the core concepts of software engineering i look forward discovering more as time goes on</i>"
            ]
          },
          "metadata": {}
        },
        {
          "output_type": "display_data",
          "data": {
            "text/plain": [
              "<IPython.core.display.HTML object>"
            ],
            "text/html": [
              "<b>Internet was too poor this week</b> - <i>faith has exhibited enthusiasm in taking on the project at hand she has already shown promising signs in understanding the core concepts of software engineering i look forward discovering more as time goes on</i>"
            ]
          },
          "metadata": {}
        },
        {
          "output_type": "display_data",
          "data": {
            "text/plain": [
              "<IPython.core.display.HTML object>"
            ],
            "text/html": [
              "<b>Another week of low performance due to the online nature of the work hampered by poor connectivity</b> - <i>faith has exhibited enthusiasm in taking on the project at hand she has already shown promising signs in understanding the core concepts of software engineering i look forward discovering more as time goes on</i>"
            ]
          },
          "metadata": {}
        },
        {
          "output_type": "display_data",
          "data": {
            "text/plain": [
              "<IPython.core.display.HTML object>"
            ],
            "text/html": [
              "<h3>Task Topic: very poor</h3>"
            ]
          },
          "metadata": {}
        }
      ],
      "source": [
        "import functools\n",
        "from IPython.core.display import display, HTML\n",
        "from nltk import PorterStemmer\n",
        "\n",
        "#tell the system how many sentences are needed\n",
        "max_sentences=10\n",
        "\n",
        "# function to stem keywords into a common base word\n",
        "def stem_words(words):\n",
        "    stemmer = PorterStemmer()\n",
        "    singles=[]\n",
        "    for w in words:\n",
        "        singles.append(stemmer.stem(w))\n",
        "    return singles\n",
        "\n",
        "# list of lists for topic words related to this tasks\n",
        "display(HTML('<h1>Clustered comments of Field Supervisors about Interns into categories: Excellent, Good, Neutral, Poor, Very Poor.</h1>'))\n",
        "tasks = [[\"excellent\"], [\"good\"],[\"neutral\"],['poor'],[\"very poor\"]]\n",
        "\n",
        "\n",
        "# loop through the list of lists\n",
        "for search_words in tasks:\n",
        "    #str1=''\n",
        "    # a string of the search words to print readable search\n",
        "    str1=' '.join(search_words)\n",
        "    search_words=stem_words(search_words)\n",
        "    # add excellent to focus the search for comments and avoid unrelated comments\n",
        "    search_words.append(\"excellent\")\n",
        "    # search the dataframe for all the keywords\n",
        "    dataFrame1=dataFrame[functools.reduce(lambda a, b: a&b, (dataFrame['Comment'].str.contains(s) for s in search_words))]\n",
        "    search_words.pop()\n",
        "\n",
        "    search_words.append(\"good\")\n",
        "    # search the dataframe for all the keywords\n",
        "    dataFrame3=dataFrame[functools.reduce(lambda a, b: a&b, (dataFrame['Comment'].str.contains(s) for s in search_words))]\n",
        "    search_words.pop()\n",
        "\n",
        "    search_words.append(\"poor\")\n",
        "    # search the dataframe for all the keywords\n",
        "    dataFrame4=dataFrame[functools.reduce(lambda a, b: a&b, (dataFrame['Comment'].str.contains(s) for s in search_words))]\n",
        "    search_words.pop()\n",
        "\n",
        "    search_words.append(\"very poor\")\n",
        "    # search the dataframe for all the keywords\n",
        "    dataFrame5=dataFrame[functools.reduce(lambda a, b: a&b, (dataFrame['Comment'].str.contains(s) for s in search_words))]\n",
        "    search_words.pop()\n",
        "\n",
        "    search_words.append(\"neutral\")\n",
        "    dataFrame2=dataFrame[functools.reduce(lambda a, b: a&b, (dataFrame['Comment'].str.contains(s) for s in search_words))]\n",
        "    # remove the neutral word for sentence level analysis\n",
        "    search_words.pop()\n",
        "    #combine frames with excellent, good, neutral, poor, and very poor and drop duplicates\n",
        "    frames = [dataFrame1, dataFrame2, dataFrame3, dataFrame4, dataFrame5]\n",
        "    dataFrame1a = pd.concat(frames)\n",
        "    dataFrame=dataFrame.drop_duplicates()\n",
        "    \n",
        "    display(HTML('<h3>Task Topic: '+str1+'</h3>'))\n",
        "    # record how many sentences have been saved for display\n",
        "    sentences_used=0\n",
        "    # loop through the result of the dataframe search\n",
        "    for index, row in dataFrame1a.iterrows():\n",
        "        #break apart the comment to sentence level\n",
        "        sentences = row['Comment'].split('. ')\n",
        "        #loop through the sentences of the comment\n",
        "        for sentence in sentences:\n",
        "            # missing lets the system know if all the words are in the sentence\n",
        "            missing=0\n",
        "            #loop through the words of sentence\n",
        "            for word in search_words:\n",
        "                #if keyword missing change missing variable\n",
        "                if word not in sentence:\n",
        "                    missing=1\n",
        "            # after all sentences processed show the sentences not missing keywords limit to max_sentences\n",
        "            if missing==0 and sentences_used < max_sentences:\n",
        "                sentences_used=sentences_used+1\n",
        "              \n",
        "                display(HTML('<b>'+sentence+'</b> - <i>'+Comment+'</i>'))\n"
      ]
    },
    {
      "cell_type": "markdown",
      "metadata": {
        "id": "S5oBeTlGuqmU"
      },
      "source": [
        "**NAMED ENTITY RECOGNITION** \n",
        "\n",
        "Create a Named Entity Recognition (NER) model that takes in a comment as an input and outputs the Entities, if any, belonging\n",
        "to the categories: \n",
        "\n",
        "\n",
        "1.   Person\n",
        "2.   Organization\n",
        "3.   Place/Location\n",
        "4. Time\n",
        "\n"
      ]
    },
    {
      "cell_type": "markdown",
      "metadata": {
        "id": "cD1bgEnVz4sf"
      },
      "source": [
        "**Implementation of NER Using spaCy Package**\n"
      ]
    },
    {
      "cell_type": "markdown",
      "metadata": {
        "id": "rDI_ANfdvLWE"
      },
      "source": [
        "Import Libraries to use for the NER"
      ]
    },
    {
      "cell_type": "code",
      "execution_count": 47,
      "metadata": {
        "colab": {
          "base_uri": "https://localhost:8080/"
        },
        "id": "czRtago-vOJL",
        "outputId": "54691673-5721-4985-eb3e-11f6c475d91f"
      },
      "outputs": [
        {
          "output_type": "stream",
          "name": "stderr",
          "text": [
            "[nltk_data] Downloading package punkt to /root/nltk_data...\n",
            "[nltk_data]   Package punkt is already up-to-date!\n",
            "[nltk_data] Downloading package averaged_perceptron_tagger to\n",
            "[nltk_data]     /root/nltk_data...\n",
            "[nltk_data]   Package averaged_perceptron_tagger is already up-to-\n",
            "[nltk_data]       date!\n",
            "[nltk_data] Downloading package maxent_ne_chunker to\n",
            "[nltk_data]     /root/nltk_data...\n",
            "[nltk_data]   Unzipping chunkers/maxent_ne_chunker.zip.\n",
            "[nltk_data] Downloading package words to /root/nltk_data...\n",
            "[nltk_data]   Unzipping corpora/words.zip.\n"
          ]
        }
      ],
      "source": [
        "# Importing libraries\n",
        "import nltk\n",
        "import re\n",
        "import time\n",
        "nltk.download('punkt')\n",
        "nltk.download('averaged_perceptron_tagger')\n",
        "nltk.download('maxent_ne_chunker')\n",
        "nltk.download('words')\n",
        "import spacy"
      ]
    },
    {
      "cell_type": "markdown",
      "metadata": {
        "id": "D5Ed-627vVDC"
      },
      "source": [
        "Capture a string to use for picking and classifying the categories\n"
      ]
    },
    {
      "cell_type": "code",
      "execution_count": 48,
      "metadata": {
        "id": "39FT9GZ_vZnG"
      },
      "outputs": [],
      "source": [
        "# custom_text_to_process =  \"\"\" Faith has exhibited enthusiasm in\n",
        "#  taking on the project at hand. She has already shown promising signs in\n",
        "#   understanding the core concepts of software engineering. I look forward\n",
        "#    discovering more as time goes on. The Intern was oriented on ICT setup and \n",
        "#    Infrastructure of Soroti University, drafted workplan and started off the Internship. \n",
        "#    Simon was encouraged to take the Internship seriously as there was a lot to learn. \n",
        "#    The student was oriented on the organization structure, developed workplan for the 4 week \n",
        "#    internship and participated in assessment of printers for servicing.  He acquired both technical and \n",
        "#    teamwork skills at workplace. A little delays and constant supervision. The task has been finally completed,\n",
        "#     and reviewed by the line supervisor. Good job Mahad. Stephen was diligent in his work. He made effort to resolve\n",
        "#      issues that were assigned to him. He has a quick understanding of technical problems and he tries his best to solve them \n",
        "#      independently. Stephen is a quick learner and he has great future ahead of him in the software engineering field.\n",
        "#  \"\"\""
      ]
    },
    {
      "cell_type": "markdown",
      "source": [
        "**EXTRACT THE INPUT TEXT TO PROCESS FROM THE DATASET (DIRECTLY)**\n",
        "\n",
        "In this case we are extracting , random rows to test how the model reacts to the entities predictions"
      ],
      "metadata": {
        "id": "7G9oRw-BQhh2"
      }
    },
    {
      "cell_type": "code",
      "execution_count": 49,
      "metadata": {
        "colab": {
          "base_uri": "https://localhost:8080/"
        },
        "id": "qb4aRyRvyitp",
        "outputId": "990f17f3-ed17-46d6-94a1-a1bafec4ebd1"
      },
      "outputs": [
        {
          "output_type": "stream",
          "name": "stdout",
          "text": [
            "Billbrain staff, stake holders and I are satisfied with Sherinah's overall performance. I certainly would consider her for a more permanent job in the future, she did all of the tasks asked of her and more. She felt comfortable enough\n",
            "to trust her instincts and handled many situations which alleviated much of our work load. We were all very impressed by her ability to assess the work and get things accomplished in a short work day. Our IT department trusted her to deal with our Websites with her intern team, and they  always delivered above and beyond. I expected Nantambi to come in each day and know exactly what had to get done. She also did this with ease and was great about updating me, asked\n",
            "intelligent questions and picked everything up very quickly, which was the biggest advantage. She surpassed all expectations and really ran with everything we handed to her.\n",
            "I would like to express what an amazing intern Nantambi Sherinah was for me and our for the short period we interacted with her, truly one of a kind. She was unbelievably responsible, poised, professional, personable, and a great team member!  she did an excellent job during her internship program. She shows a strong desire to learn and great maturity. She was given many different tasks and completed all with little guidance. I believe that she has an amazing future ahead of her in information system and anywhere else. She is the type of person that people want to work with and be around which is rare. I hope she is\n",
            "proud of what she accomplished here.\n"
          ]
        }
      ],
      "source": [
        "pick_single_comment_for_testing = dataFrame.loc[155,:].copy()\n",
        "print(pick_single_comment_for_testing.Comment)"
      ]
    },
    {
      "cell_type": "markdown",
      "metadata": {
        "id": "s7b4seJUvprS"
      },
      "source": [
        "Loading  the Named Entity recognition Model of spicy on the String Data Provided\n",
        "\n"
      ]
    },
    {
      "cell_type": "code",
      "execution_count": 50,
      "metadata": {
        "id": "gJjNNH0pv2nj"
      },
      "outputs": [],
      "source": [
        "NER = spacy.load(\"en_core_web_sm\", disable=[\"tok2vec\", \"tagger\", \"parser\", \"attribute_ruler\", \"lemmatizer\"])\n"
      ]
    },
    {
      "cell_type": "markdown",
      "metadata": {
        "id": "FhGbHxaNv7Sb"
      },
      "source": [
        "Fitting the model on the text data that has been captured for extracting the respective categories"
      ]
    },
    {
      "cell_type": "code",
      "execution_count": 51,
      "metadata": {
        "id": "rRdtuM_5wCjH"
      },
      "outputs": [],
      "source": [
        "# Fitting the model\n",
        "text= NER(pick_single_comment_for_testing.Comment)"
      ]
    },
    {
      "cell_type": "markdown",
      "metadata": {
        "id": "LJ-Svbs9wSI1"
      },
      "source": [
        "Printing the named entity found by the model in our sample text."
      ]
    },
    {
      "cell_type": "code",
      "execution_count": 52,
      "metadata": {
        "colab": {
          "base_uri": "https://localhost:8080/"
        },
        "id": "Bs7M1NLNwTjU",
        "outputId": "07b90e86-d636-4e6d-9f62-c83e7140cca0"
      },
      "outputs": [
        {
          "output_type": "stream",
          "name": "stdout",
          "text": [
            "a short work day  , Belongs to Entity :  DATE\n",
            "Nantambi Sherinah  , Belongs to Entity :  PERSON\n"
          ]
        }
      ],
      "source": [
        "for w in text.ents:\n",
        "    print(w.text , ' , Belongs to Entity : ',w.label_)"
      ]
    },
    {
      "cell_type": "markdown",
      "metadata": {
        "id": "W2oE7KvkwbRw"
      },
      "source": [
        "Vizualizing  the name entities with the data using the display package of spacy."
      ]
    },
    {
      "cell_type": "code",
      "execution_count": 53,
      "metadata": {
        "colab": {
          "base_uri": "https://localhost:8080/",
          "height": 402
        },
        "id": "v3R444pqwkhR",
        "outputId": "3ab06f5b-be97-4ec4-8c67-ed7801a3ae4f"
      },
      "outputs": [
        {
          "output_type": "display_data",
          "data": {
            "text/plain": [
              "<IPython.core.display.HTML object>"
            ],
            "text/html": [
              "<span class=\"tex2jax_ignore\"><div class=\"entities\" style=\"line-height: 2.5; direction: ltr\">Billbrain staff, stake holders and I are satisfied with Sherinah's overall performance. I certainly would consider her for a more permanent job in the future, she did all of the tasks asked of her and more. She felt comfortable enough</br>to trust her instincts and handled many situations which alleviated much of our work load. We were all very impressed by her ability to assess the work and get things accomplished in \n",
              "<mark class=\"entity\" style=\"background: #bfe1d9; padding: 0.45em 0.6em; margin: 0 0.25em; line-height: 1; border-radius: 0.35em;\">\n",
              "    a short work day\n",
              "    <span style=\"font-size: 0.8em; font-weight: bold; line-height: 1; border-radius: 0.35em; vertical-align: middle; margin-left: 0.5rem\">DATE</span>\n",
              "</mark>\n",
              ". Our IT department trusted her to deal with our Websites with her intern team, and they  always delivered above and beyond. I expected Nantambi to come in each day and know exactly what had to get done. She also did this with ease and was great about updating me, asked</br>intelligent questions and picked everything up very quickly, which was the biggest advantage. She surpassed all expectations and really ran with everything we handed to her.</br>I would like to express what an amazing intern \n",
              "<mark class=\"entity\" style=\"background: #aa9cfc; padding: 0.45em 0.6em; margin: 0 0.25em; line-height: 1; border-radius: 0.35em;\">\n",
              "    Nantambi Sherinah\n",
              "    <span style=\"font-size: 0.8em; font-weight: bold; line-height: 1; border-radius: 0.35em; vertical-align: middle; margin-left: 0.5rem\">PERSON</span>\n",
              "</mark>\n",
              " was for me and our for the short period we interacted with her, truly one of a kind. She was unbelievably responsible, poised, professional, personable, and a great team member!  she did an excellent job during her internship program. She shows a strong desire to learn and great maturity. She was given many different tasks and completed all with little guidance. I believe that she has an amazing future ahead of her in information system and anywhere else. She is the type of person that people want to work with and be around which is rare. I hope she is</br>proud of what she accomplished here.</div></span>"
            ]
          },
          "metadata": {}
        }
      ],
      "source": [
        "# displaying with spacy package\n",
        "spacy.displacy.render(text, style=\"ent\",jupyter=True)"
      ]
    },
    {
      "cell_type": "markdown",
      "source": [
        "**A Different way of using Spacy to do the analysis**"
      ],
      "metadata": {
        "id": "d-e_0h3qPdwj"
      }
    },
    {
      "cell_type": "markdown",
      "source": [
        "Import libraries"
      ],
      "metadata": {
        "id": "T-KBJZPcPpdb"
      }
    },
    {
      "cell_type": "code",
      "source": [
        "#import libraries\n",
        "import spacy \n",
        "from spacy import displacy\n",
        "#SpaCy 2.x brough significant speed and accuracy improvements\n",
        "spacy.__version__"
      ],
      "metadata": {
        "colab": {
          "base_uri": "https://localhost:8080/",
          "height": 35
        },
        "id": "eG3TG_p1Pq0g",
        "outputId": "375f7e4e-50b5-44e8-a9b1-8b1c1a95f09b"
      },
      "execution_count": 54,
      "outputs": [
        {
          "output_type": "execute_result",
          "data": {
            "text/plain": [
              "'3.4.1'"
            ],
            "application/vnd.google.colaboratory.intrinsic+json": {
              "type": "string"
            }
          },
          "metadata": {},
          "execution_count": 54
        }
      ]
    },
    {
      "cell_type": "code",
      "source": [
        "#Download spacy models\n",
        "#!python -m spacy download en_core_web_sm"
      ],
      "metadata": {
        "id": "rODzPvBSPvum"
      },
      "execution_count": 55,
      "outputs": []
    },
    {
      "cell_type": "code",
      "source": [
        "# Load SpaCy model\n",
        "nlp = spacy.load(\"en_core_web_sm\")"
      ],
      "metadata": {
        "id": "4nkqobzYPzi1"
      },
      "execution_count": 56,
      "outputs": []
    },
    {
      "cell_type": "code",
      "source": [
        "doc = nlp(text)\n",
        "\n",
        "entities = []\n",
        "labels = []\n",
        "position_start = []\n",
        "position_end = []\n",
        "\n",
        "for ent in doc.ents:\n",
        "    entities.append(ent)\n",
        "    labels.append(ent.label_)\n",
        "    position_start.append(ent.start_char)\n",
        "    position_end.append(ent.end_char)\n",
        "    \n",
        "df = pd.DataFrame({'Entities':entities,'Labels':labels,'Position_Start':position_start, 'Position_End':position_end})\n",
        "\n",
        "df"
      ],
      "metadata": {
        "colab": {
          "base_uri": "https://localhost:8080/",
          "height": 112
        },
        "id": "fD9qQF9iP3_u",
        "outputId": "d22ebb6d-6af6-42de-c5d5-e274f435a7b9"
      },
      "execution_count": 57,
      "outputs": [
        {
          "output_type": "execute_result",
          "data": {
            "text/plain": [
              "                Entities  Labels  Position_Start  Position_End\n",
              "0  (a, short, work, day)    DATE             418           434\n",
              "1   (Nantambi, Sherinah)  PERSON             926           943"
            ],
            "text/html": [
              "\n",
              "  <div id=\"df-45c68290-cc1a-4655-bac2-fa1e6e66f708\">\n",
              "    <div class=\"colab-df-container\">\n",
              "      <div>\n",
              "<style scoped>\n",
              "    .dataframe tbody tr th:only-of-type {\n",
              "        vertical-align: middle;\n",
              "    }\n",
              "\n",
              "    .dataframe tbody tr th {\n",
              "        vertical-align: top;\n",
              "    }\n",
              "\n",
              "    .dataframe thead th {\n",
              "        text-align: right;\n",
              "    }\n",
              "</style>\n",
              "<table border=\"1\" class=\"dataframe\">\n",
              "  <thead>\n",
              "    <tr style=\"text-align: right;\">\n",
              "      <th></th>\n",
              "      <th>Entities</th>\n",
              "      <th>Labels</th>\n",
              "      <th>Position_Start</th>\n",
              "      <th>Position_End</th>\n",
              "    </tr>\n",
              "  </thead>\n",
              "  <tbody>\n",
              "    <tr>\n",
              "      <th>0</th>\n",
              "      <td>(a, short, work, day)</td>\n",
              "      <td>DATE</td>\n",
              "      <td>418</td>\n",
              "      <td>434</td>\n",
              "    </tr>\n",
              "    <tr>\n",
              "      <th>1</th>\n",
              "      <td>(Nantambi, Sherinah)</td>\n",
              "      <td>PERSON</td>\n",
              "      <td>926</td>\n",
              "      <td>943</td>\n",
              "    </tr>\n",
              "  </tbody>\n",
              "</table>\n",
              "</div>\n",
              "      <button class=\"colab-df-convert\" onclick=\"convertToInteractive('df-45c68290-cc1a-4655-bac2-fa1e6e66f708')\"\n",
              "              title=\"Convert this dataframe to an interactive table.\"\n",
              "              style=\"display:none;\">\n",
              "        \n",
              "  <svg xmlns=\"http://www.w3.org/2000/svg\" height=\"24px\"viewBox=\"0 0 24 24\"\n",
              "       width=\"24px\">\n",
              "    <path d=\"M0 0h24v24H0V0z\" fill=\"none\"/>\n",
              "    <path d=\"M18.56 5.44l.94 2.06.94-2.06 2.06-.94-2.06-.94-.94-2.06-.94 2.06-2.06.94zm-11 1L8.5 8.5l.94-2.06 2.06-.94-2.06-.94L8.5 2.5l-.94 2.06-2.06.94zm10 10l.94 2.06.94-2.06 2.06-.94-2.06-.94-.94-2.06-.94 2.06-2.06.94z\"/><path d=\"M17.41 7.96l-1.37-1.37c-.4-.4-.92-.59-1.43-.59-.52 0-1.04.2-1.43.59L10.3 9.45l-7.72 7.72c-.78.78-.78 2.05 0 2.83L4 21.41c.39.39.9.59 1.41.59.51 0 1.02-.2 1.41-.59l7.78-7.78 2.81-2.81c.8-.78.8-2.07 0-2.86zM5.41 20L4 18.59l7.72-7.72 1.47 1.35L5.41 20z\"/>\n",
              "  </svg>\n",
              "      </button>\n",
              "      \n",
              "  <style>\n",
              "    .colab-df-container {\n",
              "      display:flex;\n",
              "      flex-wrap:wrap;\n",
              "      gap: 12px;\n",
              "    }\n",
              "\n",
              "    .colab-df-convert {\n",
              "      background-color: #E8F0FE;\n",
              "      border: none;\n",
              "      border-radius: 50%;\n",
              "      cursor: pointer;\n",
              "      display: none;\n",
              "      fill: #1967D2;\n",
              "      height: 32px;\n",
              "      padding: 0 0 0 0;\n",
              "      width: 32px;\n",
              "    }\n",
              "\n",
              "    .colab-df-convert:hover {\n",
              "      background-color: #E2EBFA;\n",
              "      box-shadow: 0px 1px 2px rgba(60, 64, 67, 0.3), 0px 1px 3px 1px rgba(60, 64, 67, 0.15);\n",
              "      fill: #174EA6;\n",
              "    }\n",
              "\n",
              "    [theme=dark] .colab-df-convert {\n",
              "      background-color: #3B4455;\n",
              "      fill: #D2E3FC;\n",
              "    }\n",
              "\n",
              "    [theme=dark] .colab-df-convert:hover {\n",
              "      background-color: #434B5C;\n",
              "      box-shadow: 0px 1px 3px 1px rgba(0, 0, 0, 0.15);\n",
              "      filter: drop-shadow(0px 1px 2px rgba(0, 0, 0, 0.3));\n",
              "      fill: #FFFFFF;\n",
              "    }\n",
              "  </style>\n",
              "\n",
              "      <script>\n",
              "        const buttonEl =\n",
              "          document.querySelector('#df-45c68290-cc1a-4655-bac2-fa1e6e66f708 button.colab-df-convert');\n",
              "        buttonEl.style.display =\n",
              "          google.colab.kernel.accessAllowed ? 'block' : 'none';\n",
              "\n",
              "        async function convertToInteractive(key) {\n",
              "          const element = document.querySelector('#df-45c68290-cc1a-4655-bac2-fa1e6e66f708');\n",
              "          const dataTable =\n",
              "            await google.colab.kernel.invokeFunction('convertToInteractive',\n",
              "                                                     [key], {});\n",
              "          if (!dataTable) return;\n",
              "\n",
              "          const docLinkHtml = 'Like what you see? Visit the ' +\n",
              "            '<a target=\"_blank\" href=https://colab.research.google.com/notebooks/data_table.ipynb>data table notebook</a>'\n",
              "            + ' to learn more about interactive tables.';\n",
              "          element.innerHTML = '';\n",
              "          dataTable['output_type'] = 'display_data';\n",
              "          await google.colab.output.renderOutput(dataTable, element);\n",
              "          const docLink = document.createElement('div');\n",
              "          docLink.innerHTML = docLinkHtml;\n",
              "          element.appendChild(docLink);\n",
              "        }\n",
              "      </script>\n",
              "    </div>\n",
              "  </div>\n",
              "  "
            ]
          },
          "metadata": {},
          "execution_count": 57
        }
      ]
    },
    {
      "cell_type": "markdown",
      "source": [
        "**Implementation of NER Using NLTK**\n"
      ],
      "metadata": {
        "id": "8ZIqdDiSG60d"
      }
    },
    {
      "cell_type": "code",
      "source": [
        "import nltk \n",
        "import pandas as pd\n",
        "nltk.download('tagsets')\n"
      ],
      "metadata": {
        "colab": {
          "base_uri": "https://localhost:8080/"
        },
        "id": "Xz4YwLGvG_qg",
        "outputId": "f1cae859-d55f-4a8d-a735-ee0a2870bdc7"
      },
      "execution_count": 58,
      "outputs": [
        {
          "output_type": "stream",
          "name": "stderr",
          "text": [
            "[nltk_data] Downloading package tagsets to /root/nltk_data...\n",
            "[nltk_data]   Unzipping help/tagsets.zip.\n"
          ]
        },
        {
          "output_type": "execute_result",
          "data": {
            "text/plain": [
              "True"
            ]
          },
          "metadata": {},
          "execution_count": 58
        }
      ]
    },
    {
      "cell_type": "markdown",
      "source": [
        "Load the text data"
      ],
      "metadata": {
        "id": "IEvplRC3HaEP"
      }
    },
    {
      "cell_type": "code",
      "source": [
        "# ner_text_processing = \"Apple acquired Zoom in China on Wednesday New York German, Califonia, USA, Faith has exhibited enthusiasm in taking on the project at hand. She has already shown promising signs in understanding the core concepts of software engineering. I look forward discovering more as time goes on. The Intern was oriented on ICT setup and Infrastructure of Soroti University, drafted workplan and started off the Internship. Simon was encouraged to take the Internship seriously as there was a lot to learn. The student was oriented on the organization structure, developed workplan for the 4 week internship and participated in assessment of printers for servicing.  He acquired both technical and teamwork skills at workplace. A little delays and constant supervision. The task has been finally completed, and reviewed by the line supervisor. Good job Mahad. Stephen was diligent in his work. He made effort to resolve issues that were assigned to him. He has a quick understanding of technical problems and he tries his best to solve them independently. Stephen is a quick learner and he has great future ahead of him in the software engineering field.\"\n",
        "ner_text_processing = pick_single_comment_for_testing.Comment"
      ],
      "metadata": {
        "id": "qloUCvElHS7F"
      },
      "execution_count": 59,
      "outputs": []
    },
    {
      "cell_type": "markdown",
      "source": [
        "NER using NLTKT Word based approach"
      ],
      "metadata": {
        "id": "B5L4dBZ6H2I7"
      }
    },
    {
      "cell_type": "code",
      "source": [
        "# tokenize the words\n",
        "words = nltk.word_tokenize(ner_text_processing)"
      ],
      "metadata": {
        "id": "okXBt1yTH23-"
      },
      "execution_count": 60,
      "outputs": []
    },
    {
      "cell_type": "code",
      "source": [
        "# display the words to process\n",
        "words"
      ],
      "metadata": {
        "colab": {
          "base_uri": "https://localhost:8080/"
        },
        "id": "YPx_pG1gITwC",
        "outputId": "4454be1f-5c82-4db5-eda0-ad4d3eec7dcb"
      },
      "execution_count": 61,
      "outputs": [
        {
          "output_type": "execute_result",
          "data": {
            "text/plain": [
              "['Billbrain',\n",
              " 'staff',\n",
              " ',',\n",
              " 'stake',\n",
              " 'holders',\n",
              " 'and',\n",
              " 'I',\n",
              " 'are',\n",
              " 'satisfied',\n",
              " 'with',\n",
              " 'Sherinah',\n",
              " \"'s\",\n",
              " 'overall',\n",
              " 'performance',\n",
              " '.',\n",
              " 'I',\n",
              " 'certainly',\n",
              " 'would',\n",
              " 'consider',\n",
              " 'her',\n",
              " 'for',\n",
              " 'a',\n",
              " 'more',\n",
              " 'permanent',\n",
              " 'job',\n",
              " 'in',\n",
              " 'the',\n",
              " 'future',\n",
              " ',',\n",
              " 'she',\n",
              " 'did',\n",
              " 'all',\n",
              " 'of',\n",
              " 'the',\n",
              " 'tasks',\n",
              " 'asked',\n",
              " 'of',\n",
              " 'her',\n",
              " 'and',\n",
              " 'more',\n",
              " '.',\n",
              " 'She',\n",
              " 'felt',\n",
              " 'comfortable',\n",
              " 'enough',\n",
              " 'to',\n",
              " 'trust',\n",
              " 'her',\n",
              " 'instincts',\n",
              " 'and',\n",
              " 'handled',\n",
              " 'many',\n",
              " 'situations',\n",
              " 'which',\n",
              " 'alleviated',\n",
              " 'much',\n",
              " 'of',\n",
              " 'our',\n",
              " 'work',\n",
              " 'load',\n",
              " '.',\n",
              " 'We',\n",
              " 'were',\n",
              " 'all',\n",
              " 'very',\n",
              " 'impressed',\n",
              " 'by',\n",
              " 'her',\n",
              " 'ability',\n",
              " 'to',\n",
              " 'assess',\n",
              " 'the',\n",
              " 'work',\n",
              " 'and',\n",
              " 'get',\n",
              " 'things',\n",
              " 'accomplished',\n",
              " 'in',\n",
              " 'a',\n",
              " 'short',\n",
              " 'work',\n",
              " 'day',\n",
              " '.',\n",
              " 'Our',\n",
              " 'IT',\n",
              " 'department',\n",
              " 'trusted',\n",
              " 'her',\n",
              " 'to',\n",
              " 'deal',\n",
              " 'with',\n",
              " 'our',\n",
              " 'Websites',\n",
              " 'with',\n",
              " 'her',\n",
              " 'intern',\n",
              " 'team',\n",
              " ',',\n",
              " 'and',\n",
              " 'they',\n",
              " 'always',\n",
              " 'delivered',\n",
              " 'above',\n",
              " 'and',\n",
              " 'beyond',\n",
              " '.',\n",
              " 'I',\n",
              " 'expected',\n",
              " 'Nantambi',\n",
              " 'to',\n",
              " 'come',\n",
              " 'in',\n",
              " 'each',\n",
              " 'day',\n",
              " 'and',\n",
              " 'know',\n",
              " 'exactly',\n",
              " 'what',\n",
              " 'had',\n",
              " 'to',\n",
              " 'get',\n",
              " 'done',\n",
              " '.',\n",
              " 'She',\n",
              " 'also',\n",
              " 'did',\n",
              " 'this',\n",
              " 'with',\n",
              " 'ease',\n",
              " 'and',\n",
              " 'was',\n",
              " 'great',\n",
              " 'about',\n",
              " 'updating',\n",
              " 'me',\n",
              " ',',\n",
              " 'asked',\n",
              " 'intelligent',\n",
              " 'questions',\n",
              " 'and',\n",
              " 'picked',\n",
              " 'everything',\n",
              " 'up',\n",
              " 'very',\n",
              " 'quickly',\n",
              " ',',\n",
              " 'which',\n",
              " 'was',\n",
              " 'the',\n",
              " 'biggest',\n",
              " 'advantage',\n",
              " '.',\n",
              " 'She',\n",
              " 'surpassed',\n",
              " 'all',\n",
              " 'expectations',\n",
              " 'and',\n",
              " 'really',\n",
              " 'ran',\n",
              " 'with',\n",
              " 'everything',\n",
              " 'we',\n",
              " 'handed',\n",
              " 'to',\n",
              " 'her',\n",
              " '.',\n",
              " 'I',\n",
              " 'would',\n",
              " 'like',\n",
              " 'to',\n",
              " 'express',\n",
              " 'what',\n",
              " 'an',\n",
              " 'amazing',\n",
              " 'intern',\n",
              " 'Nantambi',\n",
              " 'Sherinah',\n",
              " 'was',\n",
              " 'for',\n",
              " 'me',\n",
              " 'and',\n",
              " 'our',\n",
              " 'for',\n",
              " 'the',\n",
              " 'short',\n",
              " 'period',\n",
              " 'we',\n",
              " 'interacted',\n",
              " 'with',\n",
              " 'her',\n",
              " ',',\n",
              " 'truly',\n",
              " 'one',\n",
              " 'of',\n",
              " 'a',\n",
              " 'kind',\n",
              " '.',\n",
              " 'She',\n",
              " 'was',\n",
              " 'unbelievably',\n",
              " 'responsible',\n",
              " ',',\n",
              " 'poised',\n",
              " ',',\n",
              " 'professional',\n",
              " ',',\n",
              " 'personable',\n",
              " ',',\n",
              " 'and',\n",
              " 'a',\n",
              " 'great',\n",
              " 'team',\n",
              " 'member',\n",
              " '!',\n",
              " 'she',\n",
              " 'did',\n",
              " 'an',\n",
              " 'excellent',\n",
              " 'job',\n",
              " 'during',\n",
              " 'her',\n",
              " 'internship',\n",
              " 'program',\n",
              " '.',\n",
              " 'She',\n",
              " 'shows',\n",
              " 'a',\n",
              " 'strong',\n",
              " 'desire',\n",
              " 'to',\n",
              " 'learn',\n",
              " 'and',\n",
              " 'great',\n",
              " 'maturity',\n",
              " '.',\n",
              " 'She',\n",
              " 'was',\n",
              " 'given',\n",
              " 'many',\n",
              " 'different',\n",
              " 'tasks',\n",
              " 'and',\n",
              " 'completed',\n",
              " 'all',\n",
              " 'with',\n",
              " 'little',\n",
              " 'guidance',\n",
              " '.',\n",
              " 'I',\n",
              " 'believe',\n",
              " 'that',\n",
              " 'she',\n",
              " 'has',\n",
              " 'an',\n",
              " 'amazing',\n",
              " 'future',\n",
              " 'ahead',\n",
              " 'of',\n",
              " 'her',\n",
              " 'in',\n",
              " 'information',\n",
              " 'system',\n",
              " 'and',\n",
              " 'anywhere',\n",
              " 'else',\n",
              " '.',\n",
              " 'She',\n",
              " 'is',\n",
              " 'the',\n",
              " 'type',\n",
              " 'of',\n",
              " 'person',\n",
              " 'that',\n",
              " 'people',\n",
              " 'want',\n",
              " 'to',\n",
              " 'work',\n",
              " 'with',\n",
              " 'and',\n",
              " 'be',\n",
              " 'around',\n",
              " 'which',\n",
              " 'is',\n",
              " 'rare',\n",
              " '.',\n",
              " 'I',\n",
              " 'hope',\n",
              " 'she',\n",
              " 'is',\n",
              " 'proud',\n",
              " 'of',\n",
              " 'what',\n",
              " 'she',\n",
              " 'accomplished',\n",
              " 'here',\n",
              " '.']"
            ]
          },
          "metadata": {},
          "execution_count": 61
        }
      ]
    },
    {
      "cell_type": "code",
      "source": [
        "# part of speech tagging \n",
        "pos_tags = nltk.pos_tag(words)"
      ],
      "metadata": {
        "id": "puQyzuM5Iljy"
      },
      "execution_count": 62,
      "outputs": []
    },
    {
      "cell_type": "code",
      "source": [
        "# print pos tags\n",
        "pos_tags"
      ],
      "metadata": {
        "colab": {
          "base_uri": "https://localhost:8080/"
        },
        "id": "b2RhdbJ5Izvh",
        "outputId": "7c71f86d-ac4c-439f-8a09-79c1cd094752"
      },
      "execution_count": 63,
      "outputs": [
        {
          "output_type": "execute_result",
          "data": {
            "text/plain": [
              "[('Billbrain', 'NNP'),\n",
              " ('staff', 'NN'),\n",
              " (',', ','),\n",
              " ('stake', 'NN'),\n",
              " ('holders', 'NNS'),\n",
              " ('and', 'CC'),\n",
              " ('I', 'PRP'),\n",
              " ('are', 'VBP'),\n",
              " ('satisfied', 'JJ'),\n",
              " ('with', 'IN'),\n",
              " ('Sherinah', 'NNP'),\n",
              " (\"'s\", 'POS'),\n",
              " ('overall', 'JJ'),\n",
              " ('performance', 'NN'),\n",
              " ('.', '.'),\n",
              " ('I', 'PRP'),\n",
              " ('certainly', 'RB'),\n",
              " ('would', 'MD'),\n",
              " ('consider', 'VB'),\n",
              " ('her', 'PRP$'),\n",
              " ('for', 'IN'),\n",
              " ('a', 'DT'),\n",
              " ('more', 'RBR'),\n",
              " ('permanent', 'JJ'),\n",
              " ('job', 'NN'),\n",
              " ('in', 'IN'),\n",
              " ('the', 'DT'),\n",
              " ('future', 'NN'),\n",
              " (',', ','),\n",
              " ('she', 'PRP'),\n",
              " ('did', 'VBD'),\n",
              " ('all', 'DT'),\n",
              " ('of', 'IN'),\n",
              " ('the', 'DT'),\n",
              " ('tasks', 'NNS'),\n",
              " ('asked', 'VBD'),\n",
              " ('of', 'IN'),\n",
              " ('her', 'PRP$'),\n",
              " ('and', 'CC'),\n",
              " ('more', 'RBR'),\n",
              " ('.', '.'),\n",
              " ('She', 'PRP'),\n",
              " ('felt', 'VBD'),\n",
              " ('comfortable', 'JJ'),\n",
              " ('enough', 'RB'),\n",
              " ('to', 'TO'),\n",
              " ('trust', 'VB'),\n",
              " ('her', 'PRP$'),\n",
              " ('instincts', 'NNS'),\n",
              " ('and', 'CC'),\n",
              " ('handled', 'VBD'),\n",
              " ('many', 'JJ'),\n",
              " ('situations', 'NNS'),\n",
              " ('which', 'WDT'),\n",
              " ('alleviated', 'VBD'),\n",
              " ('much', 'RB'),\n",
              " ('of', 'IN'),\n",
              " ('our', 'PRP$'),\n",
              " ('work', 'NN'),\n",
              " ('load', 'NN'),\n",
              " ('.', '.'),\n",
              " ('We', 'PRP'),\n",
              " ('were', 'VBD'),\n",
              " ('all', 'DT'),\n",
              " ('very', 'RB'),\n",
              " ('impressed', 'JJ'),\n",
              " ('by', 'IN'),\n",
              " ('her', 'PRP$'),\n",
              " ('ability', 'NN'),\n",
              " ('to', 'TO'),\n",
              " ('assess', 'VB'),\n",
              " ('the', 'DT'),\n",
              " ('work', 'NN'),\n",
              " ('and', 'CC'),\n",
              " ('get', 'VB'),\n",
              " ('things', 'NNS'),\n",
              " ('accomplished', 'VBN'),\n",
              " ('in', 'IN'),\n",
              " ('a', 'DT'),\n",
              " ('short', 'JJ'),\n",
              " ('work', 'NN'),\n",
              " ('day', 'NN'),\n",
              " ('.', '.'),\n",
              " ('Our', 'PRP$'),\n",
              " ('IT', 'NNP'),\n",
              " ('department', 'NN'),\n",
              " ('trusted', 'VBD'),\n",
              " ('her', 'PRP'),\n",
              " ('to', 'TO'),\n",
              " ('deal', 'VB'),\n",
              " ('with', 'IN'),\n",
              " ('our', 'PRP$'),\n",
              " ('Websites', 'NNS'),\n",
              " ('with', 'IN'),\n",
              " ('her', 'PRP$'),\n",
              " ('intern', 'JJ'),\n",
              " ('team', 'NN'),\n",
              " (',', ','),\n",
              " ('and', 'CC'),\n",
              " ('they', 'PRP'),\n",
              " ('always', 'RB'),\n",
              " ('delivered', 'VBD'),\n",
              " ('above', 'IN'),\n",
              " ('and', 'CC'),\n",
              " ('beyond', 'IN'),\n",
              " ('.', '.'),\n",
              " ('I', 'PRP'),\n",
              " ('expected', 'VBD'),\n",
              " ('Nantambi', 'NNP'),\n",
              " ('to', 'TO'),\n",
              " ('come', 'VB'),\n",
              " ('in', 'IN'),\n",
              " ('each', 'DT'),\n",
              " ('day', 'NN'),\n",
              " ('and', 'CC'),\n",
              " ('know', 'VB'),\n",
              " ('exactly', 'RB'),\n",
              " ('what', 'WP'),\n",
              " ('had', 'VBD'),\n",
              " ('to', 'TO'),\n",
              " ('get', 'VB'),\n",
              " ('done', 'VBN'),\n",
              " ('.', '.'),\n",
              " ('She', 'PRP'),\n",
              " ('also', 'RB'),\n",
              " ('did', 'VBD'),\n",
              " ('this', 'DT'),\n",
              " ('with', 'IN'),\n",
              " ('ease', 'NN'),\n",
              " ('and', 'CC'),\n",
              " ('was', 'VBD'),\n",
              " ('great', 'JJ'),\n",
              " ('about', 'IN'),\n",
              " ('updating', 'VBG'),\n",
              " ('me', 'PRP'),\n",
              " (',', ','),\n",
              " ('asked', 'VBD'),\n",
              " ('intelligent', 'JJ'),\n",
              " ('questions', 'NNS'),\n",
              " ('and', 'CC'),\n",
              " ('picked', 'VBD'),\n",
              " ('everything', 'NN'),\n",
              " ('up', 'RP'),\n",
              " ('very', 'RB'),\n",
              " ('quickly', 'RB'),\n",
              " (',', ','),\n",
              " ('which', 'WDT'),\n",
              " ('was', 'VBD'),\n",
              " ('the', 'DT'),\n",
              " ('biggest', 'JJS'),\n",
              " ('advantage', 'NN'),\n",
              " ('.', '.'),\n",
              " ('She', 'PRP'),\n",
              " ('surpassed', 'VBD'),\n",
              " ('all', 'DT'),\n",
              " ('expectations', 'NNS'),\n",
              " ('and', 'CC'),\n",
              " ('really', 'RB'),\n",
              " ('ran', 'VB'),\n",
              " ('with', 'IN'),\n",
              " ('everything', 'NN'),\n",
              " ('we', 'PRP'),\n",
              " ('handed', 'VBD'),\n",
              " ('to', 'TO'),\n",
              " ('her', 'PRP$'),\n",
              " ('.', '.'),\n",
              " ('I', 'PRP'),\n",
              " ('would', 'MD'),\n",
              " ('like', 'VB'),\n",
              " ('to', 'TO'),\n",
              " ('express', 'VB'),\n",
              " ('what', 'WP'),\n",
              " ('an', 'DT'),\n",
              " ('amazing', 'JJ'),\n",
              " ('intern', 'JJ'),\n",
              " ('Nantambi', 'NNP'),\n",
              " ('Sherinah', 'NNP'),\n",
              " ('was', 'VBD'),\n",
              " ('for', 'IN'),\n",
              " ('me', 'PRP'),\n",
              " ('and', 'CC'),\n",
              " ('our', 'PRP$'),\n",
              " ('for', 'IN'),\n",
              " ('the', 'DT'),\n",
              " ('short', 'JJ'),\n",
              " ('period', 'NN'),\n",
              " ('we', 'PRP'),\n",
              " ('interacted', 'VBD'),\n",
              " ('with', 'IN'),\n",
              " ('her', 'PRP'),\n",
              " (',', ','),\n",
              " ('truly', 'RB'),\n",
              " ('one', 'CD'),\n",
              " ('of', 'IN'),\n",
              " ('a', 'DT'),\n",
              " ('kind', 'NN'),\n",
              " ('.', '.'),\n",
              " ('She', 'PRP'),\n",
              " ('was', 'VBD'),\n",
              " ('unbelievably', 'RB'),\n",
              " ('responsible', 'JJ'),\n",
              " (',', ','),\n",
              " ('poised', 'VBN'),\n",
              " (',', ','),\n",
              " ('professional', 'JJ'),\n",
              " (',', ','),\n",
              " ('personable', 'JJ'),\n",
              " (',', ','),\n",
              " ('and', 'CC'),\n",
              " ('a', 'DT'),\n",
              " ('great', 'JJ'),\n",
              " ('team', 'NN'),\n",
              " ('member', 'NN'),\n",
              " ('!', '.'),\n",
              " ('she', 'PRP'),\n",
              " ('did', 'VBD'),\n",
              " ('an', 'DT'),\n",
              " ('excellent', 'JJ'),\n",
              " ('job', 'NN'),\n",
              " ('during', 'IN'),\n",
              " ('her', 'PRP$'),\n",
              " ('internship', 'JJ'),\n",
              " ('program', 'NN'),\n",
              " ('.', '.'),\n",
              " ('She', 'PRP'),\n",
              " ('shows', 'VBZ'),\n",
              " ('a', 'DT'),\n",
              " ('strong', 'JJ'),\n",
              " ('desire', 'NN'),\n",
              " ('to', 'TO'),\n",
              " ('learn', 'VB'),\n",
              " ('and', 'CC'),\n",
              " ('great', 'JJ'),\n",
              " ('maturity', 'NN'),\n",
              " ('.', '.'),\n",
              " ('She', 'PRP'),\n",
              " ('was', 'VBD'),\n",
              " ('given', 'VBN'),\n",
              " ('many', 'JJ'),\n",
              " ('different', 'JJ'),\n",
              " ('tasks', 'NNS'),\n",
              " ('and', 'CC'),\n",
              " ('completed', 'VBD'),\n",
              " ('all', 'DT'),\n",
              " ('with', 'IN'),\n",
              " ('little', 'JJ'),\n",
              " ('guidance', 'NN'),\n",
              " ('.', '.'),\n",
              " ('I', 'PRP'),\n",
              " ('believe', 'VBP'),\n",
              " ('that', 'IN'),\n",
              " ('she', 'PRP'),\n",
              " ('has', 'VBZ'),\n",
              " ('an', 'DT'),\n",
              " ('amazing', 'JJ'),\n",
              " ('future', 'NN'),\n",
              " ('ahead', 'RB'),\n",
              " ('of', 'IN'),\n",
              " ('her', 'PRP$'),\n",
              " ('in', 'IN'),\n",
              " ('information', 'NN'),\n",
              " ('system', 'NN'),\n",
              " ('and', 'CC'),\n",
              " ('anywhere', 'RB'),\n",
              " ('else', 'RB'),\n",
              " ('.', '.'),\n",
              " ('She', 'PRP'),\n",
              " ('is', 'VBZ'),\n",
              " ('the', 'DT'),\n",
              " ('type', 'NN'),\n",
              " ('of', 'IN'),\n",
              " ('person', 'NN'),\n",
              " ('that', 'WDT'),\n",
              " ('people', 'NNS'),\n",
              " ('want', 'VBP'),\n",
              " ('to', 'TO'),\n",
              " ('work', 'VB'),\n",
              " ('with', 'IN'),\n",
              " ('and', 'CC'),\n",
              " ('be', 'VB'),\n",
              " ('around', 'IN'),\n",
              " ('which', 'WDT'),\n",
              " ('is', 'VBZ'),\n",
              " ('rare', 'JJ'),\n",
              " ('.', '.'),\n",
              " ('I', 'PRP'),\n",
              " ('hope', 'VBP'),\n",
              " ('she', 'PRP'),\n",
              " ('is', 'VBZ'),\n",
              " ('proud', 'JJ'),\n",
              " ('of', 'IN'),\n",
              " ('what', 'WP'),\n",
              " ('she', 'PRP'),\n",
              " ('accomplished', 'VBD'),\n",
              " ('here', 'RB'),\n",
              " ('.', '.')]"
            ]
          },
          "metadata": {},
          "execution_count": 63
        }
      ]
    },
    {
      "cell_type": "code",
      "source": [
        "#check nltk help for description of the tag\n",
        "nltk.help.upenn_tagset('NNP')"
      ],
      "metadata": {
        "colab": {
          "base_uri": "https://localhost:8080/"
        },
        "id": "jQu3US5LJK5U",
        "outputId": "707a8dea-0793-4bb9-c6c9-19109030c0f2"
      },
      "execution_count": 64,
      "outputs": [
        {
          "output_type": "stream",
          "name": "stdout",
          "text": [
            "NNP: noun, proper, singular\n",
            "    Motown Venneboerger Czestochwa Ranzer Conchita Trumplane Christos\n",
            "    Oceanside Escobar Kreisler Sawyer Cougar Yvette Ervin ODI Darryl CTCA\n",
            "    Shannon A.K.C. Meltex Liverpool ...\n"
          ]
        }
      ]
    },
    {
      "cell_type": "code",
      "source": [
        "# Binary = True  // will give us 2 outputs, either named entity or NOT\n",
        "# Binary = False  // will have multiple labels ,ie person , organization or entity\n",
        "\n",
        "chunks = nltk.ne_chunk(pos_tags, binary=True) #either NE or not NE\n",
        "for chunk in chunks:\n",
        "    print(chunk)\n"
      ],
      "metadata": {
        "colab": {
          "base_uri": "https://localhost:8080/"
        },
        "id": "ulHFzoIQK6-n",
        "outputId": "e4bd5d01-393b-47e9-9da3-8edbbefe9c7c"
      },
      "execution_count": 65,
      "outputs": [
        {
          "output_type": "stream",
          "name": "stdout",
          "text": [
            "(NE Billbrain/NNP)\n",
            "('staff', 'NN')\n",
            "(',', ',')\n",
            "('stake', 'NN')\n",
            "('holders', 'NNS')\n",
            "('and', 'CC')\n",
            "('I', 'PRP')\n",
            "('are', 'VBP')\n",
            "('satisfied', 'JJ')\n",
            "('with', 'IN')\n",
            "(NE Sherinah/NNP)\n",
            "(\"'s\", 'POS')\n",
            "('overall', 'JJ')\n",
            "('performance', 'NN')\n",
            "('.', '.')\n",
            "('I', 'PRP')\n",
            "('certainly', 'RB')\n",
            "('would', 'MD')\n",
            "('consider', 'VB')\n",
            "('her', 'PRP$')\n",
            "('for', 'IN')\n",
            "('a', 'DT')\n",
            "('more', 'RBR')\n",
            "('permanent', 'JJ')\n",
            "('job', 'NN')\n",
            "('in', 'IN')\n",
            "('the', 'DT')\n",
            "('future', 'NN')\n",
            "(',', ',')\n",
            "('she', 'PRP')\n",
            "('did', 'VBD')\n",
            "('all', 'DT')\n",
            "('of', 'IN')\n",
            "('the', 'DT')\n",
            "('tasks', 'NNS')\n",
            "('asked', 'VBD')\n",
            "('of', 'IN')\n",
            "('her', 'PRP$')\n",
            "('and', 'CC')\n",
            "('more', 'RBR')\n",
            "('.', '.')\n",
            "('She', 'PRP')\n",
            "('felt', 'VBD')\n",
            "('comfortable', 'JJ')\n",
            "('enough', 'RB')\n",
            "('to', 'TO')\n",
            "('trust', 'VB')\n",
            "('her', 'PRP$')\n",
            "('instincts', 'NNS')\n",
            "('and', 'CC')\n",
            "('handled', 'VBD')\n",
            "('many', 'JJ')\n",
            "('situations', 'NNS')\n",
            "('which', 'WDT')\n",
            "('alleviated', 'VBD')\n",
            "('much', 'RB')\n",
            "('of', 'IN')\n",
            "('our', 'PRP$')\n",
            "('work', 'NN')\n",
            "('load', 'NN')\n",
            "('.', '.')\n",
            "('We', 'PRP')\n",
            "('were', 'VBD')\n",
            "('all', 'DT')\n",
            "('very', 'RB')\n",
            "('impressed', 'JJ')\n",
            "('by', 'IN')\n",
            "('her', 'PRP$')\n",
            "('ability', 'NN')\n",
            "('to', 'TO')\n",
            "('assess', 'VB')\n",
            "('the', 'DT')\n",
            "('work', 'NN')\n",
            "('and', 'CC')\n",
            "('get', 'VB')\n",
            "('things', 'NNS')\n",
            "('accomplished', 'VBN')\n",
            "('in', 'IN')\n",
            "('a', 'DT')\n",
            "('short', 'JJ')\n",
            "('work', 'NN')\n",
            "('day', 'NN')\n",
            "('.', '.')\n",
            "('Our', 'PRP$')\n",
            "('IT', 'NNP')\n",
            "('department', 'NN')\n",
            "('trusted', 'VBD')\n",
            "('her', 'PRP')\n",
            "('to', 'TO')\n",
            "('deal', 'VB')\n",
            "('with', 'IN')\n",
            "('our', 'PRP$')\n",
            "('Websites', 'NNS')\n",
            "('with', 'IN')\n",
            "('her', 'PRP$')\n",
            "('intern', 'JJ')\n",
            "('team', 'NN')\n",
            "(',', ',')\n",
            "('and', 'CC')\n",
            "('they', 'PRP')\n",
            "('always', 'RB')\n",
            "('delivered', 'VBD')\n",
            "('above', 'IN')\n",
            "('and', 'CC')\n",
            "('beyond', 'IN')\n",
            "('.', '.')\n",
            "('I', 'PRP')\n",
            "('expected', 'VBD')\n",
            "(NE Nantambi/NNP)\n",
            "('to', 'TO')\n",
            "('come', 'VB')\n",
            "('in', 'IN')\n",
            "('each', 'DT')\n",
            "('day', 'NN')\n",
            "('and', 'CC')\n",
            "('know', 'VB')\n",
            "('exactly', 'RB')\n",
            "('what', 'WP')\n",
            "('had', 'VBD')\n",
            "('to', 'TO')\n",
            "('get', 'VB')\n",
            "('done', 'VBN')\n",
            "('.', '.')\n",
            "('She', 'PRP')\n",
            "('also', 'RB')\n",
            "('did', 'VBD')\n",
            "('this', 'DT')\n",
            "('with', 'IN')\n",
            "('ease', 'NN')\n",
            "('and', 'CC')\n",
            "('was', 'VBD')\n",
            "('great', 'JJ')\n",
            "('about', 'IN')\n",
            "('updating', 'VBG')\n",
            "('me', 'PRP')\n",
            "(',', ',')\n",
            "('asked', 'VBD')\n",
            "('intelligent', 'JJ')\n",
            "('questions', 'NNS')\n",
            "('and', 'CC')\n",
            "('picked', 'VBD')\n",
            "('everything', 'NN')\n",
            "('up', 'RP')\n",
            "('very', 'RB')\n",
            "('quickly', 'RB')\n",
            "(',', ',')\n",
            "('which', 'WDT')\n",
            "('was', 'VBD')\n",
            "('the', 'DT')\n",
            "('biggest', 'JJS')\n",
            "('advantage', 'NN')\n",
            "('.', '.')\n",
            "('She', 'PRP')\n",
            "('surpassed', 'VBD')\n",
            "('all', 'DT')\n",
            "('expectations', 'NNS')\n",
            "('and', 'CC')\n",
            "('really', 'RB')\n",
            "('ran', 'VB')\n",
            "('with', 'IN')\n",
            "('everything', 'NN')\n",
            "('we', 'PRP')\n",
            "('handed', 'VBD')\n",
            "('to', 'TO')\n",
            "('her', 'PRP$')\n",
            "('.', '.')\n",
            "('I', 'PRP')\n",
            "('would', 'MD')\n",
            "('like', 'VB')\n",
            "('to', 'TO')\n",
            "('express', 'VB')\n",
            "('what', 'WP')\n",
            "('an', 'DT')\n",
            "('amazing', 'JJ')\n",
            "('intern', 'JJ')\n",
            "(NE Nantambi/NNP Sherinah/NNP)\n",
            "('was', 'VBD')\n",
            "('for', 'IN')\n",
            "('me', 'PRP')\n",
            "('and', 'CC')\n",
            "('our', 'PRP$')\n",
            "('for', 'IN')\n",
            "('the', 'DT')\n",
            "('short', 'JJ')\n",
            "('period', 'NN')\n",
            "('we', 'PRP')\n",
            "('interacted', 'VBD')\n",
            "('with', 'IN')\n",
            "('her', 'PRP')\n",
            "(',', ',')\n",
            "('truly', 'RB')\n",
            "('one', 'CD')\n",
            "('of', 'IN')\n",
            "('a', 'DT')\n",
            "('kind', 'NN')\n",
            "('.', '.')\n",
            "('She', 'PRP')\n",
            "('was', 'VBD')\n",
            "('unbelievably', 'RB')\n",
            "('responsible', 'JJ')\n",
            "(',', ',')\n",
            "('poised', 'VBN')\n",
            "(',', ',')\n",
            "('professional', 'JJ')\n",
            "(',', ',')\n",
            "('personable', 'JJ')\n",
            "(',', ',')\n",
            "('and', 'CC')\n",
            "('a', 'DT')\n",
            "('great', 'JJ')\n",
            "('team', 'NN')\n",
            "('member', 'NN')\n",
            "('!', '.')\n",
            "('she', 'PRP')\n",
            "('did', 'VBD')\n",
            "('an', 'DT')\n",
            "('excellent', 'JJ')\n",
            "('job', 'NN')\n",
            "('during', 'IN')\n",
            "('her', 'PRP$')\n",
            "('internship', 'JJ')\n",
            "('program', 'NN')\n",
            "('.', '.')\n",
            "('She', 'PRP')\n",
            "('shows', 'VBZ')\n",
            "('a', 'DT')\n",
            "('strong', 'JJ')\n",
            "('desire', 'NN')\n",
            "('to', 'TO')\n",
            "('learn', 'VB')\n",
            "('and', 'CC')\n",
            "('great', 'JJ')\n",
            "('maturity', 'NN')\n",
            "('.', '.')\n",
            "('She', 'PRP')\n",
            "('was', 'VBD')\n",
            "('given', 'VBN')\n",
            "('many', 'JJ')\n",
            "('different', 'JJ')\n",
            "('tasks', 'NNS')\n",
            "('and', 'CC')\n",
            "('completed', 'VBD')\n",
            "('all', 'DT')\n",
            "('with', 'IN')\n",
            "('little', 'JJ')\n",
            "('guidance', 'NN')\n",
            "('.', '.')\n",
            "('I', 'PRP')\n",
            "('believe', 'VBP')\n",
            "('that', 'IN')\n",
            "('she', 'PRP')\n",
            "('has', 'VBZ')\n",
            "('an', 'DT')\n",
            "('amazing', 'JJ')\n",
            "('future', 'NN')\n",
            "('ahead', 'RB')\n",
            "('of', 'IN')\n",
            "('her', 'PRP$')\n",
            "('in', 'IN')\n",
            "('information', 'NN')\n",
            "('system', 'NN')\n",
            "('and', 'CC')\n",
            "('anywhere', 'RB')\n",
            "('else', 'RB')\n",
            "('.', '.')\n",
            "('She', 'PRP')\n",
            "('is', 'VBZ')\n",
            "('the', 'DT')\n",
            "('type', 'NN')\n",
            "('of', 'IN')\n",
            "('person', 'NN')\n",
            "('that', 'WDT')\n",
            "('people', 'NNS')\n",
            "('want', 'VBP')\n",
            "('to', 'TO')\n",
            "('work', 'VB')\n",
            "('with', 'IN')\n",
            "('and', 'CC')\n",
            "('be', 'VB')\n",
            "('around', 'IN')\n",
            "('which', 'WDT')\n",
            "('is', 'VBZ')\n",
            "('rare', 'JJ')\n",
            "('.', '.')\n",
            "('I', 'PRP')\n",
            "('hope', 'VBP')\n",
            "('she', 'PRP')\n",
            "('is', 'VBZ')\n",
            "('proud', 'JJ')\n",
            "('of', 'IN')\n",
            "('what', 'WP')\n",
            "('she', 'PRP')\n",
            "('accomplished', 'VBD')\n",
            "('here', 'RB')\n",
            "('.', '.')\n"
          ]
        }
      ]
    },
    {
      "cell_type": "code",
      "source": [
        "# showing the table of named entities are those which are not\n",
        "entities =[]\n",
        "labels =[]\n",
        "for chunk in chunks:\n",
        "    if hasattr(chunk,'label'):\n",
        "        #print(chunk)\n",
        "        entities.append(' '.join(c[0] for c in chunk))\n",
        "        labels.append(chunk.label())\n",
        "        \n",
        "entities_labels = list(set(zip(entities, labels)))\n",
        "entities_df = pd.DataFrame(entities_labels)\n",
        "entities_df.columns = [\"Entities\",\"Labels\"]\n",
        "entities_df"
      ],
      "metadata": {
        "colab": {
          "base_uri": "https://localhost:8080/",
          "height": 175
        },
        "id": "PtPBG6fWL1H7",
        "outputId": "227cd551-34d2-463c-8a2c-54a9b34e5551"
      },
      "execution_count": 66,
      "outputs": [
        {
          "output_type": "execute_result",
          "data": {
            "text/plain": [
              "            Entities Labels\n",
              "0           Sherinah     NE\n",
              "1          Billbrain     NE\n",
              "2           Nantambi     NE\n",
              "3  Nantambi Sherinah     NE"
            ],
            "text/html": [
              "\n",
              "  <div id=\"df-cc5c9f79-4286-49d7-819d-74c14a8aac17\">\n",
              "    <div class=\"colab-df-container\">\n",
              "      <div>\n",
              "<style scoped>\n",
              "    .dataframe tbody tr th:only-of-type {\n",
              "        vertical-align: middle;\n",
              "    }\n",
              "\n",
              "    .dataframe tbody tr th {\n",
              "        vertical-align: top;\n",
              "    }\n",
              "\n",
              "    .dataframe thead th {\n",
              "        text-align: right;\n",
              "    }\n",
              "</style>\n",
              "<table border=\"1\" class=\"dataframe\">\n",
              "  <thead>\n",
              "    <tr style=\"text-align: right;\">\n",
              "      <th></th>\n",
              "      <th>Entities</th>\n",
              "      <th>Labels</th>\n",
              "    </tr>\n",
              "  </thead>\n",
              "  <tbody>\n",
              "    <tr>\n",
              "      <th>0</th>\n",
              "      <td>Sherinah</td>\n",
              "      <td>NE</td>\n",
              "    </tr>\n",
              "    <tr>\n",
              "      <th>1</th>\n",
              "      <td>Billbrain</td>\n",
              "      <td>NE</td>\n",
              "    </tr>\n",
              "    <tr>\n",
              "      <th>2</th>\n",
              "      <td>Nantambi</td>\n",
              "      <td>NE</td>\n",
              "    </tr>\n",
              "    <tr>\n",
              "      <th>3</th>\n",
              "      <td>Nantambi Sherinah</td>\n",
              "      <td>NE</td>\n",
              "    </tr>\n",
              "  </tbody>\n",
              "</table>\n",
              "</div>\n",
              "      <button class=\"colab-df-convert\" onclick=\"convertToInteractive('df-cc5c9f79-4286-49d7-819d-74c14a8aac17')\"\n",
              "              title=\"Convert this dataframe to an interactive table.\"\n",
              "              style=\"display:none;\">\n",
              "        \n",
              "  <svg xmlns=\"http://www.w3.org/2000/svg\" height=\"24px\"viewBox=\"0 0 24 24\"\n",
              "       width=\"24px\">\n",
              "    <path d=\"M0 0h24v24H0V0z\" fill=\"none\"/>\n",
              "    <path d=\"M18.56 5.44l.94 2.06.94-2.06 2.06-.94-2.06-.94-.94-2.06-.94 2.06-2.06.94zm-11 1L8.5 8.5l.94-2.06 2.06-.94-2.06-.94L8.5 2.5l-.94 2.06-2.06.94zm10 10l.94 2.06.94-2.06 2.06-.94-2.06-.94-.94-2.06-.94 2.06-2.06.94z\"/><path d=\"M17.41 7.96l-1.37-1.37c-.4-.4-.92-.59-1.43-.59-.52 0-1.04.2-1.43.59L10.3 9.45l-7.72 7.72c-.78.78-.78 2.05 0 2.83L4 21.41c.39.39.9.59 1.41.59.51 0 1.02-.2 1.41-.59l7.78-7.78 2.81-2.81c.8-.78.8-2.07 0-2.86zM5.41 20L4 18.59l7.72-7.72 1.47 1.35L5.41 20z\"/>\n",
              "  </svg>\n",
              "      </button>\n",
              "      \n",
              "  <style>\n",
              "    .colab-df-container {\n",
              "      display:flex;\n",
              "      flex-wrap:wrap;\n",
              "      gap: 12px;\n",
              "    }\n",
              "\n",
              "    .colab-df-convert {\n",
              "      background-color: #E8F0FE;\n",
              "      border: none;\n",
              "      border-radius: 50%;\n",
              "      cursor: pointer;\n",
              "      display: none;\n",
              "      fill: #1967D2;\n",
              "      height: 32px;\n",
              "      padding: 0 0 0 0;\n",
              "      width: 32px;\n",
              "    }\n",
              "\n",
              "    .colab-df-convert:hover {\n",
              "      background-color: #E2EBFA;\n",
              "      box-shadow: 0px 1px 2px rgba(60, 64, 67, 0.3), 0px 1px 3px 1px rgba(60, 64, 67, 0.15);\n",
              "      fill: #174EA6;\n",
              "    }\n",
              "\n",
              "    [theme=dark] .colab-df-convert {\n",
              "      background-color: #3B4455;\n",
              "      fill: #D2E3FC;\n",
              "    }\n",
              "\n",
              "    [theme=dark] .colab-df-convert:hover {\n",
              "      background-color: #434B5C;\n",
              "      box-shadow: 0px 1px 3px 1px rgba(0, 0, 0, 0.15);\n",
              "      filter: drop-shadow(0px 1px 2px rgba(0, 0, 0, 0.3));\n",
              "      fill: #FFFFFF;\n",
              "    }\n",
              "  </style>\n",
              "\n",
              "      <script>\n",
              "        const buttonEl =\n",
              "          document.querySelector('#df-cc5c9f79-4286-49d7-819d-74c14a8aac17 button.colab-df-convert');\n",
              "        buttonEl.style.display =\n",
              "          google.colab.kernel.accessAllowed ? 'block' : 'none';\n",
              "\n",
              "        async function convertToInteractive(key) {\n",
              "          const element = document.querySelector('#df-cc5c9f79-4286-49d7-819d-74c14a8aac17');\n",
              "          const dataTable =\n",
              "            await google.colab.kernel.invokeFunction('convertToInteractive',\n",
              "                                                     [key], {});\n",
              "          if (!dataTable) return;\n",
              "\n",
              "          const docLinkHtml = 'Like what you see? Visit the ' +\n",
              "            '<a target=\"_blank\" href=https://colab.research.google.com/notebooks/data_table.ipynb>data table notebook</a>'\n",
              "            + ' to learn more about interactive tables.';\n",
              "          element.innerHTML = '';\n",
              "          dataTable['output_type'] = 'display_data';\n",
              "          await google.colab.output.renderOutput(dataTable, element);\n",
              "          const docLink = document.createElement('div');\n",
              "          docLink.innerHTML = docLinkHtml;\n",
              "          element.appendChild(docLink);\n",
              "        }\n",
              "      </script>\n",
              "    </div>\n",
              "  </div>\n",
              "  "
            ]
          },
          "metadata": {},
          "execution_count": 66
        }
      ]
    }
  ],
  "metadata": {
    "accelerator": "TPU",
    "colab": {
      "collapsed_sections": [],
      "provenance": []
    },
    "gpuClass": "standard",
    "kernelspec": {
      "display_name": "Python 3",
      "name": "python3"
    }
  },
  "nbformat": 4,
  "nbformat_minor": 0
}