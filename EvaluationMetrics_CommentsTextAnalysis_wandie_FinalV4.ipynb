{
  "cells": [
    {
      "cell_type": "markdown",
      "metadata": {
        "id": "view-in-github",
        "colab_type": "text"
      },
      "source": [
        "<a href=\"https://colab.research.google.com/github/wandieinnocents/feedback_text_analysis_nlp_python/blob/main/EvaluationMetrics_CommentsTextAnalysis_wandie_FinalV4.ipynb\" target=\"_parent\"><img src=\"https://colab.research.google.com/assets/colab-badge.svg\" alt=\"Open In Colab\"/></a>"
      ]
    },
    {
      "cell_type": "markdown",
      "metadata": {
        "id": "1nS1fZzWBuYD"
      },
      "source": [
        "<h1><center>MASTER OF SCIENCE IN COMPUTER SCIENCE</center></h1>\n",
        "<p><center>DATA ANALYTICS & VIZUALIZATION , SEMESTER 2 | EXAM </center></p>\n",
        "<p><center><strong> NAME  : WENAREEBA INNOCENT | REG-NO: 2021/HD05/2315U | STUDENT NO : 2100702315</strong></center></p>\n",
        "\n",
        "\n",
        "\n",
        "\n",
        "---\n",
        "\n"
      ]
    },
    {
      "cell_type": "markdown",
      "metadata": {
        "id": "lpluLp_pDLS5"
      },
      "source": [
        "**INSTRUCTIONS** \n",
        "\n",
        "Dataset Source :  *https://www.fams-cit.com/fscomments* to perform the\n",
        "following text analysis tasks of the dataset\n",
        "\n",
        "\n",
        "---\n",
        "\n",
        "\n",
        "\n",
        "1.   Create a corpus from the downloaded comments from Field Supervisors.\n",
        "2.   Cluster the comments of Field Supervisors about Interns into categories: Excellent, Good, Neutral, Poor, Very Poor.\n",
        "\n",
        "3.   Assess the performance of your clustering algorithm above.\n",
        "4.   Create a Named Entity Recognition (NER) model that takes in a comment as an input and outputs the Entities, if any, belonging\n",
        "to the categories: Person, Organization, Place/Location, Time\n",
        "5.   Create a visualization to show insights about the dataset. (Create the visualization using D3 and host it at the same server you\n",
        "have used in the previous assignments)\n",
        "\n",
        "\n"
      ]
    },
    {
      "cell_type": "markdown",
      "metadata": {
        "id": "RupbWjoGCtdE"
      },
      "source": [
        "**Data preprocessing**\n",
        "\n",
        "**Data cleaning** , this involves removing punctuations and symbols from the dataset\n",
        "\n",
        "**Tokenization**, breaking down of sentenses into words\n",
        "stop words , words without meaning in the dataset\n",
        "\n",
        "**lemmanization** , reducing a word to its root form, it resolves words to dictionary form.\n",
        "\n",
        "**stemming** , this is reducing words to their word stems ie males to male , playing to play, the algorithm will be able to detect the meaning of the words"
      ]
    },
    {
      "cell_type": "markdown",
      "metadata": {
        "id": "AeR2QZ-6CGGQ"
      },
      "source": [
        "IMPORT THE LIBRARIES TO USE WHILE WORKING ON THE COMMENTS TEXT ANALYSIS"
      ]
    },
    {
      "cell_type": "code",
      "execution_count": 1,
      "metadata": {
        "colab": {
          "base_uri": "https://localhost:8080/"
        },
        "id": "HMGc0rRs7kaY",
        "outputId": "ef928580-7bfe-404a-ab9c-d952a0293142"
      },
      "outputs": [
        {
          "output_type": "stream",
          "name": "stderr",
          "text": [
            "[nltk_data] Downloading package omw-1.4 to /root/nltk_data...\n",
            "[nltk_data] Downloading package averaged_perceptron_tagger to\n",
            "[nltk_data]     /root/nltk_data...\n",
            "[nltk_data]   Unzipping taggers/averaged_perceptron_tagger.zip.\n",
            "[nltk_data] Downloading package wordnet to /root/nltk_data...\n",
            "[nltk_data] Downloading package stopwords to /root/nltk_data...\n",
            "[nltk_data]   Unzipping corpora/stopwords.zip.\n",
            "[nltk_data] Downloading package punkt to /root/nltk_data...\n",
            "[nltk_data]   Unzipping tokenizers/punkt.zip.\n"
          ]
        }
      ],
      "source": [
        "# Import Libraries\n",
        "import numpy as np\n",
        "import pandas as pd\n",
        "# matplotlib\n",
        "import matplotlib.pyplot as plt\n",
        "import gensim\n",
        "import matplotlib.colors as mcolors\n",
        "from gensim.utils import simple_preprocess\n",
        "from gensim import corpora, models\n",
        "from gensim.parsing.preprocessing import STOPWORDS\n",
        "from nltk.stem import WordNetLemmatizer, SnowballStemmer\n",
        "from nltk.stem.porter import *\n",
        "# word cloud\n",
        "from wordcloud import WordCloud, STOPWORDS\n",
        "import datetime\n",
        "import time\n",
        "# natural language processing\n",
        "import nltk  \n",
        "nltk.download('omw-1.4')\n",
        "nltk.download('averaged_perceptron_tagger')\n",
        "nltk.download('wordnet')\n",
        "nltk.download('stopwords')\n",
        "nltk.download('punkt')\n",
        "\n",
        "# Working with corpus and stop words\n",
        "from nltk.corpus import stopwords\n",
        "# import wordnet from nltk.corpus\n",
        "from nltk.corpus import wordnet\n",
        "from nltk import pos_tag\n",
        "# import lemannatizer library\n",
        "from nltk.stem import WordNetLemmatizer \n",
        "import string\n",
        "\n",
        "  "
      ]
    },
    {
      "cell_type": "markdown",
      "metadata": {
        "id": "-TC7NzaQEFPR"
      },
      "source": [
        "**CLONING THE GITHUB REPOSITORY**\n",
        "\n",
        "I converted the dataset(Comments.xlsx) to csv for readability purposes, and uploaded the dataset to my github repository so i can be able to pick up the dataset from there with ease"
      ]
    },
    {
      "cell_type": "code",
      "execution_count": 2,
      "metadata": {
        "colab": {
          "base_uri": "https://localhost:8080/"
        },
        "id": "Fwr4iHRKSS_X",
        "outputId": "36f15f86-9a3a-4dcd-e8da-e0818396ee1a"
      },
      "outputs": [
        {
          "output_type": "stream",
          "name": "stdout",
          "text": [
            "Cloning into 'feedback_text_analysis_nlp_python'...\n",
            "remote: Enumerating objects: 14, done.\u001b[K\n",
            "remote: Counting objects: 100% (14/14), done.\u001b[K\n",
            "remote: Compressing objects: 100% (13/13), done.\u001b[K\n",
            "remote: Total 14 (delta 2), reused 0 (delta 0), pack-reused 0\u001b[K\n",
            "Unpacking objects: 100% (14/14), done.\n"
          ]
        }
      ],
      "source": [
        "!git clone https://github.com/wandieinnocents/feedback_text_analysis_nlp_python.git"
      ]
    },
    {
      "cell_type": "markdown",
      "metadata": {
        "id": "a5wCOfkmFAtn"
      },
      "source": [
        "**LOADING THE DATASET**\n",
        "\n",
        "Load dataset from the github repository in the CommentsCsv.csv File"
      ]
    },
    {
      "cell_type": "code",
      "execution_count": 3,
      "metadata": {
        "id": "MdflkJgE6mmY"
      },
      "outputs": [],
      "source": [
        "# Load dataset from the github repository in\n",
        "dataFrame=pd.read_csv('/content/feedback_text_analysis_nlp_python/CommentsCsv.csv', sep=\",\", encoding='ISO-8859-1')"
      ]
    },
    {
      "cell_type": "markdown",
      "metadata": {
        "id": "-z4y69m8TaXd"
      },
      "source": [
        "After loading dataset , Incase there are null fields, fill them with 'na'"
      ]
    },
    {
      "cell_type": "code",
      "execution_count": 4,
      "metadata": {
        "id": "cGRFUsUtTRnT"
      },
      "outputs": [],
      "source": [
        "#fill fields which are null with 'na'\n",
        "dataFrame=dataFrame.fillna('There is no data available') "
      ]
    },
    {
      "cell_type": "markdown",
      "metadata": {
        "id": "qvoYPxFiTuKk"
      },
      "source": [
        "Display the dataset after the running fillna (to avoid erros incase there are null fields)"
      ]
    },
    {
      "cell_type": "code",
      "execution_count": 5,
      "metadata": {
        "colab": {
          "base_uri": "https://localhost:8080/",
          "height": 520
        },
        "id": "dTHNFlNaTVU6",
        "outputId": "31783b8c-6e55-4a91-c2c5-88fe1f2c5ee9"
      },
      "outputs": [
        {
          "output_type": "execute_result",
          "data": {
            "text/plain": [
              "    comment_id                                            Comment\n",
              "0            5                             djfjkdfjkjkffdk edited\n",
              "1           41  Faith has exhibited enthusiasm in taking on th...\n",
              "2           49  He now has now understood the structure of gra...\n",
              "3           50  The Intern was oriented on ICT setup and Infra...\n",
              "4           52  The student was oriented on the organization s...\n",
              "5           53                          Activities well completed\n",
              "6           54                                   finished on time\n",
              "7           55  The student's weekly progress was justifiably ...\n",
              "8           56                                              Noted\n",
              "9           57  She found this very interesting as she was abl...\n",
              "10          58  Partially done, expected a better result based...\n",
              "11          63  Done to partial satisfaction. Hopefully learni...\n",
              "12          65                       Confirmed done as specified.\n",
              "13          66  He faced some problem of identifying the symbo...\n",
              "14          68  This activity took some time to be completed, ..."
            ],
            "text/html": [
              "\n",
              "  <div id=\"df-3baa1415-6c85-4e70-b67f-3c5cd55a73c5\">\n",
              "    <div class=\"colab-df-container\">\n",
              "      <div>\n",
              "<style scoped>\n",
              "    .dataframe tbody tr th:only-of-type {\n",
              "        vertical-align: middle;\n",
              "    }\n",
              "\n",
              "    .dataframe tbody tr th {\n",
              "        vertical-align: top;\n",
              "    }\n",
              "\n",
              "    .dataframe thead th {\n",
              "        text-align: right;\n",
              "    }\n",
              "</style>\n",
              "<table border=\"1\" class=\"dataframe\">\n",
              "  <thead>\n",
              "    <tr style=\"text-align: right;\">\n",
              "      <th></th>\n",
              "      <th>comment_id</th>\n",
              "      <th>Comment</th>\n",
              "    </tr>\n",
              "  </thead>\n",
              "  <tbody>\n",
              "    <tr>\n",
              "      <th>0</th>\n",
              "      <td>5</td>\n",
              "      <td>djfjkdfjkjkffdk edited</td>\n",
              "    </tr>\n",
              "    <tr>\n",
              "      <th>1</th>\n",
              "      <td>41</td>\n",
              "      <td>Faith has exhibited enthusiasm in taking on th...</td>\n",
              "    </tr>\n",
              "    <tr>\n",
              "      <th>2</th>\n",
              "      <td>49</td>\n",
              "      <td>He now has now understood the structure of gra...</td>\n",
              "    </tr>\n",
              "    <tr>\n",
              "      <th>3</th>\n",
              "      <td>50</td>\n",
              "      <td>The Intern was oriented on ICT setup and Infra...</td>\n",
              "    </tr>\n",
              "    <tr>\n",
              "      <th>4</th>\n",
              "      <td>52</td>\n",
              "      <td>The student was oriented on the organization s...</td>\n",
              "    </tr>\n",
              "    <tr>\n",
              "      <th>5</th>\n",
              "      <td>53</td>\n",
              "      <td>Activities well completed</td>\n",
              "    </tr>\n",
              "    <tr>\n",
              "      <th>6</th>\n",
              "      <td>54</td>\n",
              "      <td>finished on time</td>\n",
              "    </tr>\n",
              "    <tr>\n",
              "      <th>7</th>\n",
              "      <td>55</td>\n",
              "      <td>The student's weekly progress was justifiably ...</td>\n",
              "    </tr>\n",
              "    <tr>\n",
              "      <th>8</th>\n",
              "      <td>56</td>\n",
              "      <td>Noted</td>\n",
              "    </tr>\n",
              "    <tr>\n",
              "      <th>9</th>\n",
              "      <td>57</td>\n",
              "      <td>She found this very interesting as she was abl...</td>\n",
              "    </tr>\n",
              "    <tr>\n",
              "      <th>10</th>\n",
              "      <td>58</td>\n",
              "      <td>Partially done, expected a better result based...</td>\n",
              "    </tr>\n",
              "    <tr>\n",
              "      <th>11</th>\n",
              "      <td>63</td>\n",
              "      <td>Done to partial satisfaction. Hopefully learni...</td>\n",
              "    </tr>\n",
              "    <tr>\n",
              "      <th>12</th>\n",
              "      <td>65</td>\n",
              "      <td>Confirmed done as specified.</td>\n",
              "    </tr>\n",
              "    <tr>\n",
              "      <th>13</th>\n",
              "      <td>66</td>\n",
              "      <td>He faced some problem of identifying the symbo...</td>\n",
              "    </tr>\n",
              "    <tr>\n",
              "      <th>14</th>\n",
              "      <td>68</td>\n",
              "      <td>This activity took some time to be completed, ...</td>\n",
              "    </tr>\n",
              "  </tbody>\n",
              "</table>\n",
              "</div>\n",
              "      <button class=\"colab-df-convert\" onclick=\"convertToInteractive('df-3baa1415-6c85-4e70-b67f-3c5cd55a73c5')\"\n",
              "              title=\"Convert this dataframe to an interactive table.\"\n",
              "              style=\"display:none;\">\n",
              "        \n",
              "  <svg xmlns=\"http://www.w3.org/2000/svg\" height=\"24px\"viewBox=\"0 0 24 24\"\n",
              "       width=\"24px\">\n",
              "    <path d=\"M0 0h24v24H0V0z\" fill=\"none\"/>\n",
              "    <path d=\"M18.56 5.44l.94 2.06.94-2.06 2.06-.94-2.06-.94-.94-2.06-.94 2.06-2.06.94zm-11 1L8.5 8.5l.94-2.06 2.06-.94-2.06-.94L8.5 2.5l-.94 2.06-2.06.94zm10 10l.94 2.06.94-2.06 2.06-.94-2.06-.94-.94-2.06-.94 2.06-2.06.94z\"/><path d=\"M17.41 7.96l-1.37-1.37c-.4-.4-.92-.59-1.43-.59-.52 0-1.04.2-1.43.59L10.3 9.45l-7.72 7.72c-.78.78-.78 2.05 0 2.83L4 21.41c.39.39.9.59 1.41.59.51 0 1.02-.2 1.41-.59l7.78-7.78 2.81-2.81c.8-.78.8-2.07 0-2.86zM5.41 20L4 18.59l7.72-7.72 1.47 1.35L5.41 20z\"/>\n",
              "  </svg>\n",
              "      </button>\n",
              "      \n",
              "  <style>\n",
              "    .colab-df-container {\n",
              "      display:flex;\n",
              "      flex-wrap:wrap;\n",
              "      gap: 12px;\n",
              "    }\n",
              "\n",
              "    .colab-df-convert {\n",
              "      background-color: #E8F0FE;\n",
              "      border: none;\n",
              "      border-radius: 50%;\n",
              "      cursor: pointer;\n",
              "      display: none;\n",
              "      fill: #1967D2;\n",
              "      height: 32px;\n",
              "      padding: 0 0 0 0;\n",
              "      width: 32px;\n",
              "    }\n",
              "\n",
              "    .colab-df-convert:hover {\n",
              "      background-color: #E2EBFA;\n",
              "      box-shadow: 0px 1px 2px rgba(60, 64, 67, 0.3), 0px 1px 3px 1px rgba(60, 64, 67, 0.15);\n",
              "      fill: #174EA6;\n",
              "    }\n",
              "\n",
              "    [theme=dark] .colab-df-convert {\n",
              "      background-color: #3B4455;\n",
              "      fill: #D2E3FC;\n",
              "    }\n",
              "\n",
              "    [theme=dark] .colab-df-convert:hover {\n",
              "      background-color: #434B5C;\n",
              "      box-shadow: 0px 1px 3px 1px rgba(0, 0, 0, 0.15);\n",
              "      filter: drop-shadow(0px 1px 2px rgba(0, 0, 0, 0.3));\n",
              "      fill: #FFFFFF;\n",
              "    }\n",
              "  </style>\n",
              "\n",
              "      <script>\n",
              "        const buttonEl =\n",
              "          document.querySelector('#df-3baa1415-6c85-4e70-b67f-3c5cd55a73c5 button.colab-df-convert');\n",
              "        buttonEl.style.display =\n",
              "          google.colab.kernel.accessAllowed ? 'block' : 'none';\n",
              "\n",
              "        async function convertToInteractive(key) {\n",
              "          const element = document.querySelector('#df-3baa1415-6c85-4e70-b67f-3c5cd55a73c5');\n",
              "          const dataTable =\n",
              "            await google.colab.kernel.invokeFunction('convertToInteractive',\n",
              "                                                     [key], {});\n",
              "          if (!dataTable) return;\n",
              "\n",
              "          const docLinkHtml = 'Like what you see? Visit the ' +\n",
              "            '<a target=\"_blank\" href=https://colab.research.google.com/notebooks/data_table.ipynb>data table notebook</a>'\n",
              "            + ' to learn more about interactive tables.';\n",
              "          element.innerHTML = '';\n",
              "          dataTable['output_type'] = 'display_data';\n",
              "          await google.colab.output.renderOutput(dataTable, element);\n",
              "          const docLink = document.createElement('div');\n",
              "          docLink.innerHTML = docLinkHtml;\n",
              "          element.appendChild(docLink);\n",
              "        }\n",
              "      </script>\n",
              "    </div>\n",
              "  </div>\n",
              "  "
            ]
          },
          "metadata": {},
          "execution_count": 5
        }
      ],
      "source": [
        "# Display the dataset\n",
        "dataFrame.head(15)"
      ]
    },
    {
      "cell_type": "markdown",
      "metadata": {
        "id": "NiVRVQSpH1zB"
      },
      "source": [
        "Shape of the dataset"
      ]
    },
    {
      "cell_type": "code",
      "execution_count": 6,
      "metadata": {
        "colab": {
          "base_uri": "https://localhost:8080/"
        },
        "id": "Ko0kU66pS8hC",
        "outputId": "4219c30f-63a4-4992-a1db-4f9aff4ea81e"
      },
      "outputs": [
        {
          "output_type": "stream",
          "name": "stdout",
          "text": [
            "Display all Comments in Dataset\n",
            "RowsxColumns : (4920, 2)\n"
          ]
        }
      ],
      "source": [
        "print ('Display all Comments in Dataset')\n",
        "print('RowsxColumns :' , dataFrame.shape)"
      ]
    },
    {
      "cell_type": "code",
      "source": [
        "dataFrame.count()"
      ],
      "metadata": {
        "colab": {
          "base_uri": "https://localhost:8080/"
        },
        "id": "0pWdo4qOw7Pe",
        "outputId": "b36026a6-5dec-4ddf-c620-f273ec76716d"
      },
      "execution_count": 7,
      "outputs": [
        {
          "output_type": "execute_result",
          "data": {
            "text/plain": [
              "comment_id    4920\n",
              "Comment       4920\n",
              "dtype: int64"
            ]
          },
          "metadata": {},
          "execution_count": 7
        }
      ]
    },
    {
      "cell_type": "markdown",
      "metadata": {
        "id": "TzVyRfy-btb-"
      },
      "source": [
        "Pick a comment from dataset to handle  data cleaning which later will be converted to the entire dataset"
      ]
    },
    {
      "cell_type": "code",
      "execution_count": 8,
      "metadata": {
        "colab": {
          "base_uri": "https://localhost:8080/"
        },
        "id": "1zCHUhWEUrP-",
        "outputId": "5465d8bc-1ad6-4d18-aee9-85c7625da3b2"
      },
      "outputs": [
        {
          "output_type": "stream",
          "name": "stdout",
          "text": [
            "The Intern was oriented on ICT setup and Infrastructure of Soroti University, drafted workplan and started off the Internship. Simon was encouraged to take the Internship seriously as there was a lot to learn.\n"
          ]
        }
      ],
      "source": [
        "# Pick the second row of dataset \n",
        "pick_single_comment_for_testing = dataFrame.loc[3,:].copy()\n",
        "print(pick_single_comment_for_testing.Comment)"
      ]
    },
    {
      "cell_type": "markdown",
      "metadata": {
        "id": "aYuVYA_fb-Tz"
      },
      "source": [
        "**Convert the String to Lower case** \n",
        "\n",
        "If the original case of the character is already lowercase then the it will retain its lower case. we convert to lower case so the algorithm can easily work with the string data when it is uniform, and its easily interpreted"
      ]
    },
    {
      "cell_type": "code",
      "execution_count": 9,
      "metadata": {
        "id": "hiF4Aw9TYBnw"
      },
      "outputs": [],
      "source": [
        "#convert upper case to lower case and still search accurately\n",
        "def process_string(text):\n",
        "    text = text.lower()#make the text lowercase\n",
        "    text = text.translate(str.maketrans('','',string.punctuation)) #strip punctuation\n",
        "    return text\n"
      ]
    },
    {
      "cell_type": "markdown",
      "metadata": {
        "id": "cqox2v7Mfc3T"
      },
      "source": [
        "Display string converted to lower case"
      ]
    },
    {
      "cell_type": "code",
      "execution_count": 10,
      "metadata": {
        "colab": {
          "base_uri": "https://localhost:8080/",
          "height": 53
        },
        "id": "-GjPfajSYGXl",
        "outputId": "51559812-a800-4261-e4d0-9f74302ea7d1"
      },
      "outputs": [
        {
          "output_type": "execute_result",
          "data": {
            "text/plain": [
              "'the intern was oriented on ict setup and infrastructure of soroti university drafted workplan and started off the internship simon was encouraged to take the internship seriously as there was a lot to learn'"
            ],
            "application/vnd.google.colaboratory.intrinsic+json": {
              "type": "string"
            }
          },
          "metadata": {},
          "execution_count": 10
        }
      ],
      "source": [
        "# converted string to lower case\n",
        "process_string(pick_single_comment_for_testing.Comment)"
      ]
    },
    {
      "cell_type": "markdown",
      "metadata": {
        "id": "FAfhzNWGf4wu"
      },
      "source": [
        "**PARTS OF SPEECH TAGGIN** \n",
        "\n",
        "POS Tagging (Parts of Speech Tagging) is a process to mark up the words in text format for a particular part of a speech based on its definition and context. It is responsible for text reading in a language and assigning some specific token (Parts of Speech) to each word. It is also called grammatical tagging."
      ]
    },
    {
      "cell_type": "code",
      "execution_count": 11,
      "metadata": {
        "id": "_c-wk4mBYJfn"
      },
      "outputs": [],
      "source": [
        "def get_wordnet_pos(word):\n",
        "    # \"\"\"Map POS tag to first character lemmatize() accepts\"\"\"\n",
        "    tag = pos_tag([word])[0][1][0].upper()\n",
        "    tag_dict = {\"J\": wordnet.ADJ,\"N\": wordnet.NOUN,\"V\": wordnet.VERB,\"R\": wordnet.ADV  }\n",
        "    return tag_dict.get(tag, wordnet.NOUN)"
      ]
    },
    {
      "cell_type": "markdown",
      "metadata": {
        "id": "CBMd4KrXiFPO"
      },
      "source": [
        "Display the Parts of speech tags on some words"
      ]
    },
    {
      "cell_type": "code",
      "execution_count": 12,
      "metadata": {
        "colab": {
          "base_uri": "https://localhost:8080/"
        },
        "id": "Bn5zvdrUYPJz",
        "outputId": "f51c8ce4-a1e4-4fdc-a245-96a453429124"
      },
      "outputs": [
        {
          "output_type": "stream",
          "name": "stdout",
          "text": [
            "intern:n\n",
            " oriented:v\n",
            " at:a\n"
          ]
        }
      ],
      "source": [
        "print(\"intern:{}\\n oriented:{}\\n at:{}\".format(get_wordnet_pos(\"windows\"),get_wordnet_pos(\"run\"), get_wordnet_pos(\"happy\")))"
      ]
    },
    {
      "cell_type": "code",
      "execution_count": 13,
      "metadata": {
        "id": "qtke6Q8pYS0y"
      },
      "outputs": [],
      "source": [
        "stop = stopwords.words(\"english\")"
      ]
    },
    {
      "cell_type": "markdown",
      "metadata": {
        "id": "ng7nNgsaa4in"
      },
      "source": [
        "\n",
        "**LEMMATIZATION** \n",
        "\n",
        "Lemmatization is the grouping together of different forms of the same word. In search queries, lemmatization allows end users to query any version of a base word and get relevant results. Because search engine algorithms use lemmatization, the user is free to query any inflectional form of a word and get relevant results. For example, if the user queries the plural form of a word (investments), the search engine knows to also return relevant content that uses the singular form of the same word (investment).\n",
        "\n"
      ]
    },
    {
      "cell_type": "code",
      "execution_count": 14,
      "metadata": {
        "id": "zSm_k5aKYXY3"
      },
      "outputs": [],
      "source": [
        "# lemmatization \n",
        "lem = WordNetLemmatizer()\n",
        "\n",
        "def stop_lemmatize(doc):\n",
        "    tokens = nltk.word_tokenize(doc)\n",
        "    tmp = \"\"\n",
        "    for w in tokens:\n",
        "        if w not in stop:\n",
        "            tmp += lem.lemmatize(w, get_wordnet_pos(w)) + \" \"\n",
        "    return tmp"
      ]
    },
    {
      "cell_type": "markdown",
      "metadata": {
        "id": "VZRt2lV_j7_y"
      },
      "source": [
        "String before lemmatization"
      ]
    },
    {
      "cell_type": "code",
      "execution_count": 15,
      "metadata": {
        "colab": {
          "base_uri": "https://localhost:8080/",
          "height": 53
        },
        "id": "IYdcg3_YjedX",
        "outputId": "fdb72a75-3fe8-4ccc-fae1-106513b5f628"
      },
      "outputs": [
        {
          "output_type": "execute_result",
          "data": {
            "text/plain": [
              "'The Intern was oriented on ICT setup and Infrastructure of Soroti University, drafted workplan and started off the Internship. Simon was encouraged to take the Internship seriously as there was a lot to learn.'"
            ],
            "application/vnd.google.colaboratory.intrinsic+json": {
              "type": "string"
            }
          },
          "metadata": {},
          "execution_count": 15
        }
      ],
      "source": [
        "# String before lemmatization\n",
        "pick_single_comment_for_testing.Comment"
      ]
    },
    {
      "cell_type": "markdown",
      "metadata": {
        "id": "LWWV94dUj-vz"
      },
      "source": [
        "String After lemmatization"
      ]
    },
    {
      "cell_type": "code",
      "execution_count": 16,
      "metadata": {
        "colab": {
          "base_uri": "https://localhost:8080/",
          "height": 53
        },
        "id": "-7sg9V5DYcTH",
        "outputId": "4fcbbcaa-bf5b-446b-fbfe-0bd6a945d301"
      },
      "outputs": [
        {
          "output_type": "execute_result",
          "data": {
            "text/plain": [
              "'The Intern orient ICT setup Infrastructure Soroti University , draft workplan start Internship . Simon encourage take Internship seriously lot learn . '"
            ],
            "application/vnd.google.colaboratory.intrinsic+json": {
              "type": "string"
            }
          },
          "metadata": {},
          "execution_count": 16
        }
      ],
      "source": [
        "# Lemmatize the string\n",
        "stop_lemmatize(doc = pick_single_comment_for_testing.Comment) "
      ]
    },
    {
      "cell_type": "code",
      "execution_count": 17,
      "metadata": {
        "id": "72k0VStnYkcg"
      },
      "outputs": [],
      "source": [
        "dataFrame_processed = dataFrame.copy()"
      ]
    },
    {
      "cell_type": "code",
      "execution_count": 18,
      "metadata": {
        "colab": {
          "base_uri": "https://localhost:8080/",
          "height": 87
        },
        "id": "PSsFYrtwZoHp",
        "outputId": "e276d04c-e1a0-40bf-ef11-982742d0911d"
      },
      "outputs": [
        {
          "output_type": "stream",
          "name": "stdout",
          "text": [
            "CPU times: user 114 µs, sys: 16 µs, total: 130 µs\n",
            "Wall time: 136 µs\n"
          ]
        },
        {
          "output_type": "execute_result",
          "data": {
            "text/plain": [
              "'the intern was oriented on ict setup and infrastructure of soroti university drafted workplan and started off the internship simon was encouraged to take the internship seriously as there was a lot to learn'"
            ],
            "application/vnd.google.colaboratory.intrinsic+json": {
              "type": "string"
            }
          },
          "metadata": {},
          "execution_count": 18
        }
      ],
      "source": [
        "%time process_string(pick_single_comment_for_testing.Comment)"
      ]
    },
    {
      "cell_type": "code",
      "execution_count": 19,
      "metadata": {
        "id": "ht28MWXDbcfi"
      },
      "outputs": [],
      "source": [
        "#Transform the dataframe to enable the processing of column contents \n",
        "# as strings which are arrays of uncoded characters\n",
        "def transform_dataFrame(dataFrame):\n",
        "    dataFrame['Comment'] = dataFrame['Comment'].apply(process_string)\n",
        " "
      ]
    },
    {
      "cell_type": "code",
      "execution_count": 20,
      "metadata": {
        "colab": {
          "base_uri": "https://localhost:8080/"
        },
        "id": "QAGdaVmWbfLY",
        "outputId": "eff09c24-270b-4bd6-8f19-5d5d67c118da"
      },
      "outputs": [
        {
          "output_type": "stream",
          "name": "stdout",
          "text": [
            "CPU times: user 29.4 ms, sys: 855 µs, total: 30.2 ms\n",
            "Wall time: 33.4 ms\n"
          ]
        }
      ],
      "source": [
        "%time transform_dataFrame(dataFrame_processed)"
      ]
    },
    {
      "cell_type": "code",
      "execution_count": 21,
      "metadata": {
        "colab": {
          "base_uri": "https://localhost:8080/",
          "height": 206
        },
        "id": "sKNsYsHYcCL6",
        "outputId": "aee907ba-b202-457e-cbb3-37a01a3ade7c"
      },
      "outputs": [
        {
          "output_type": "execute_result",
          "data": {
            "text/plain": [
              "   comment_id                                            Comment\n",
              "0           5                             djfjkdfjkjkffdk edited\n",
              "1          41  faith has exhibited enthusiasm in taking on th...\n",
              "2          49  he now has now understood the structure of gra...\n",
              "3          50  the intern was oriented on ict setup and infra...\n",
              "4          52  the student was oriented on the organization s..."
            ],
            "text/html": [
              "\n",
              "  <div id=\"df-1c06937f-d912-496d-ac45-45d248039d90\">\n",
              "    <div class=\"colab-df-container\">\n",
              "      <div>\n",
              "<style scoped>\n",
              "    .dataframe tbody tr th:only-of-type {\n",
              "        vertical-align: middle;\n",
              "    }\n",
              "\n",
              "    .dataframe tbody tr th {\n",
              "        vertical-align: top;\n",
              "    }\n",
              "\n",
              "    .dataframe thead th {\n",
              "        text-align: right;\n",
              "    }\n",
              "</style>\n",
              "<table border=\"1\" class=\"dataframe\">\n",
              "  <thead>\n",
              "    <tr style=\"text-align: right;\">\n",
              "      <th></th>\n",
              "      <th>comment_id</th>\n",
              "      <th>Comment</th>\n",
              "    </tr>\n",
              "  </thead>\n",
              "  <tbody>\n",
              "    <tr>\n",
              "      <th>0</th>\n",
              "      <td>5</td>\n",
              "      <td>djfjkdfjkjkffdk edited</td>\n",
              "    </tr>\n",
              "    <tr>\n",
              "      <th>1</th>\n",
              "      <td>41</td>\n",
              "      <td>faith has exhibited enthusiasm in taking on th...</td>\n",
              "    </tr>\n",
              "    <tr>\n",
              "      <th>2</th>\n",
              "      <td>49</td>\n",
              "      <td>he now has now understood the structure of gra...</td>\n",
              "    </tr>\n",
              "    <tr>\n",
              "      <th>3</th>\n",
              "      <td>50</td>\n",
              "      <td>the intern was oriented on ict setup and infra...</td>\n",
              "    </tr>\n",
              "    <tr>\n",
              "      <th>4</th>\n",
              "      <td>52</td>\n",
              "      <td>the student was oriented on the organization s...</td>\n",
              "    </tr>\n",
              "  </tbody>\n",
              "</table>\n",
              "</div>\n",
              "      <button class=\"colab-df-convert\" onclick=\"convertToInteractive('df-1c06937f-d912-496d-ac45-45d248039d90')\"\n",
              "              title=\"Convert this dataframe to an interactive table.\"\n",
              "              style=\"display:none;\">\n",
              "        \n",
              "  <svg xmlns=\"http://www.w3.org/2000/svg\" height=\"24px\"viewBox=\"0 0 24 24\"\n",
              "       width=\"24px\">\n",
              "    <path d=\"M0 0h24v24H0V0z\" fill=\"none\"/>\n",
              "    <path d=\"M18.56 5.44l.94 2.06.94-2.06 2.06-.94-2.06-.94-.94-2.06-.94 2.06-2.06.94zm-11 1L8.5 8.5l.94-2.06 2.06-.94-2.06-.94L8.5 2.5l-.94 2.06-2.06.94zm10 10l.94 2.06.94-2.06 2.06-.94-2.06-.94-.94-2.06-.94 2.06-2.06.94z\"/><path d=\"M17.41 7.96l-1.37-1.37c-.4-.4-.92-.59-1.43-.59-.52 0-1.04.2-1.43.59L10.3 9.45l-7.72 7.72c-.78.78-.78 2.05 0 2.83L4 21.41c.39.39.9.59 1.41.59.51 0 1.02-.2 1.41-.59l7.78-7.78 2.81-2.81c.8-.78.8-2.07 0-2.86zM5.41 20L4 18.59l7.72-7.72 1.47 1.35L5.41 20z\"/>\n",
              "  </svg>\n",
              "      </button>\n",
              "      \n",
              "  <style>\n",
              "    .colab-df-container {\n",
              "      display:flex;\n",
              "      flex-wrap:wrap;\n",
              "      gap: 12px;\n",
              "    }\n",
              "\n",
              "    .colab-df-convert {\n",
              "      background-color: #E8F0FE;\n",
              "      border: none;\n",
              "      border-radius: 50%;\n",
              "      cursor: pointer;\n",
              "      display: none;\n",
              "      fill: #1967D2;\n",
              "      height: 32px;\n",
              "      padding: 0 0 0 0;\n",
              "      width: 32px;\n",
              "    }\n",
              "\n",
              "    .colab-df-convert:hover {\n",
              "      background-color: #E2EBFA;\n",
              "      box-shadow: 0px 1px 2px rgba(60, 64, 67, 0.3), 0px 1px 3px 1px rgba(60, 64, 67, 0.15);\n",
              "      fill: #174EA6;\n",
              "    }\n",
              "\n",
              "    [theme=dark] .colab-df-convert {\n",
              "      background-color: #3B4455;\n",
              "      fill: #D2E3FC;\n",
              "    }\n",
              "\n",
              "    [theme=dark] .colab-df-convert:hover {\n",
              "      background-color: #434B5C;\n",
              "      box-shadow: 0px 1px 3px 1px rgba(0, 0, 0, 0.15);\n",
              "      filter: drop-shadow(0px 1px 2px rgba(0, 0, 0, 0.3));\n",
              "      fill: #FFFFFF;\n",
              "    }\n",
              "  </style>\n",
              "\n",
              "      <script>\n",
              "        const buttonEl =\n",
              "          document.querySelector('#df-1c06937f-d912-496d-ac45-45d248039d90 button.colab-df-convert');\n",
              "        buttonEl.style.display =\n",
              "          google.colab.kernel.accessAllowed ? 'block' : 'none';\n",
              "\n",
              "        async function convertToInteractive(key) {\n",
              "          const element = document.querySelector('#df-1c06937f-d912-496d-ac45-45d248039d90');\n",
              "          const dataTable =\n",
              "            await google.colab.kernel.invokeFunction('convertToInteractive',\n",
              "                                                     [key], {});\n",
              "          if (!dataTable) return;\n",
              "\n",
              "          const docLinkHtml = 'Like what you see? Visit the ' +\n",
              "            '<a target=\"_blank\" href=https://colab.research.google.com/notebooks/data_table.ipynb>data table notebook</a>'\n",
              "            + ' to learn more about interactive tables.';\n",
              "          element.innerHTML = '';\n",
              "          dataTable['output_type'] = 'display_data';\n",
              "          await google.colab.output.renderOutput(dataTable, element);\n",
              "          const docLink = document.createElement('div');\n",
              "          docLink.innerHTML = docLinkHtml;\n",
              "          element.appendChild(docLink);\n",
              "        }\n",
              "      </script>\n",
              "    </div>\n",
              "  </div>\n",
              "  "
            ]
          },
          "metadata": {},
          "execution_count": 21
        }
      ],
      "source": [
        "dataFrame_processed.head() #checking out the data"
      ]
    },
    {
      "cell_type": "code",
      "execution_count": 22,
      "metadata": {
        "colab": {
          "base_uri": "https://localhost:8080/"
        },
        "id": "l6izWym7ia_c",
        "outputId": "9ae463d5-34f6-4c5b-e691-8d57ddf352c9"
      },
      "outputs": [
        {
          "output_type": "stream",
          "name": "stdout",
          "text": [
            "comment_id                                                   41\n",
            "Comment       faith has exhibited enthusiasm in taking on th...\n",
            "Name: 1, dtype: object\n"
          ]
        }
      ],
      "source": [
        "#Let's see the content of the index we are building\n",
        "pick_single_comment_for_testing = dataFrame_processed.loc[1,:].copy()\n",
        "print(pick_single_comment_for_testing)\n",
        "Comment = pick_single_comment_for_testing.Comment\n",
        "index_test = {}"
      ]
    },
    {
      "cell_type": "code",
      "execution_count": 23,
      "metadata": {
        "colab": {
          "base_uri": "https://localhost:8080/"
        },
        "id": "MS0rnwIio3gH",
        "outputId": "96c209eb-7520-4862-f09d-95621b53682a"
      },
      "outputs": [
        {
          "output_type": "stream",
          "name": "stdout",
          "text": [
            "{'taking': ['faith has exhibited enthusiasm in taking on the project at hand she has already shown promising signs in understanding the core concepts of software engineering i look forward discovering more as time goes on']}\n"
          ]
        }
      ],
      "source": [
        "# Here we want the words in the index to be searched and retrieved as single words not\n",
        "# as a sentence for accurate search\n",
        "words = pick_single_comment_for_testing.Comment.split()\n",
        "text = pick_single_comment_for_testing.Comment\n",
        "word = words[5]\n",
        "sample = {word:[text]}\n",
        "print(sample)"
      ]
    },
    {
      "cell_type": "code",
      "execution_count": 24,
      "metadata": {
        "id": "Ed6bSH34pm4E"
      },
      "outputs": [],
      "source": [
        "for word in words:                       #for loop to help us avoid attaching a text to an existing word.\n",
        "    if word in index_test.keys():\n",
        "        if text not in index_test[word]:\n",
        "            index_test[word].append(text)\n",
        "    else:\n",
        "        index_test[word] = [text]"
      ]
    },
    {
      "cell_type": "code",
      "execution_count": 25,
      "metadata": {
        "colab": {
          "base_uri": "https://localhost:8080/"
        },
        "id": "9SAoBimzp6y8",
        "outputId": "50e9ac79-1d2d-4b4d-c18b-be59fb695ee5"
      },
      "outputs": [
        {
          "output_type": "stream",
          "name": "stdout",
          "text": [
            "{'faith': ['faith has exhibited enthusiasm in taking on the project at hand she has already shown promising signs in understanding the core concepts of software engineering i look forward discovering more as time goes on'], 'has': ['faith has exhibited enthusiasm in taking on the project at hand she has already shown promising signs in understanding the core concepts of software engineering i look forward discovering more as time goes on'], 'exhibited': ['faith has exhibited enthusiasm in taking on the project at hand she has already shown promising signs in understanding the core concepts of software engineering i look forward discovering more as time goes on'], 'enthusiasm': ['faith has exhibited enthusiasm in taking on the project at hand she has already shown promising signs in understanding the core concepts of software engineering i look forward discovering more as time goes on'], 'in': ['faith has exhibited enthusiasm in taking on the project at hand she has already shown promising signs in understanding the core concepts of software engineering i look forward discovering more as time goes on'], 'taking': ['faith has exhibited enthusiasm in taking on the project at hand she has already shown promising signs in understanding the core concepts of software engineering i look forward discovering more as time goes on'], 'on': ['faith has exhibited enthusiasm in taking on the project at hand she has already shown promising signs in understanding the core concepts of software engineering i look forward discovering more as time goes on'], 'the': ['faith has exhibited enthusiasm in taking on the project at hand she has already shown promising signs in understanding the core concepts of software engineering i look forward discovering more as time goes on'], 'project': ['faith has exhibited enthusiasm in taking on the project at hand she has already shown promising signs in understanding the core concepts of software engineering i look forward discovering more as time goes on'], 'at': ['faith has exhibited enthusiasm in taking on the project at hand she has already shown promising signs in understanding the core concepts of software engineering i look forward discovering more as time goes on'], 'hand': ['faith has exhibited enthusiasm in taking on the project at hand she has already shown promising signs in understanding the core concepts of software engineering i look forward discovering more as time goes on'], 'she': ['faith has exhibited enthusiasm in taking on the project at hand she has already shown promising signs in understanding the core concepts of software engineering i look forward discovering more as time goes on'], 'already': ['faith has exhibited enthusiasm in taking on the project at hand she has already shown promising signs in understanding the core concepts of software engineering i look forward discovering more as time goes on'], 'shown': ['faith has exhibited enthusiasm in taking on the project at hand she has already shown promising signs in understanding the core concepts of software engineering i look forward discovering more as time goes on'], 'promising': ['faith has exhibited enthusiasm in taking on the project at hand she has already shown promising signs in understanding the core concepts of software engineering i look forward discovering more as time goes on'], 'signs': ['faith has exhibited enthusiasm in taking on the project at hand she has already shown promising signs in understanding the core concepts of software engineering i look forward discovering more as time goes on'], 'understanding': ['faith has exhibited enthusiasm in taking on the project at hand she has already shown promising signs in understanding the core concepts of software engineering i look forward discovering more as time goes on'], 'core': ['faith has exhibited enthusiasm in taking on the project at hand she has already shown promising signs in understanding the core concepts of software engineering i look forward discovering more as time goes on'], 'concepts': ['faith has exhibited enthusiasm in taking on the project at hand she has already shown promising signs in understanding the core concepts of software engineering i look forward discovering more as time goes on'], 'of': ['faith has exhibited enthusiasm in taking on the project at hand she has already shown promising signs in understanding the core concepts of software engineering i look forward discovering more as time goes on'], 'software': ['faith has exhibited enthusiasm in taking on the project at hand she has already shown promising signs in understanding the core concepts of software engineering i look forward discovering more as time goes on'], 'engineering': ['faith has exhibited enthusiasm in taking on the project at hand she has already shown promising signs in understanding the core concepts of software engineering i look forward discovering more as time goes on'], 'i': ['faith has exhibited enthusiasm in taking on the project at hand she has already shown promising signs in understanding the core concepts of software engineering i look forward discovering more as time goes on'], 'look': ['faith has exhibited enthusiasm in taking on the project at hand she has already shown promising signs in understanding the core concepts of software engineering i look forward discovering more as time goes on'], 'forward': ['faith has exhibited enthusiasm in taking on the project at hand she has already shown promising signs in understanding the core concepts of software engineering i look forward discovering more as time goes on'], 'discovering': ['faith has exhibited enthusiasm in taking on the project at hand she has already shown promising signs in understanding the core concepts of software engineering i look forward discovering more as time goes on'], 'more': ['faith has exhibited enthusiasm in taking on the project at hand she has already shown promising signs in understanding the core concepts of software engineering i look forward discovering more as time goes on'], 'as': ['faith has exhibited enthusiasm in taking on the project at hand she has already shown promising signs in understanding the core concepts of software engineering i look forward discovering more as time goes on'], 'time': ['faith has exhibited enthusiasm in taking on the project at hand she has already shown promising signs in understanding the core concepts of software engineering i look forward discovering more as time goes on'], 'goes': ['faith has exhibited enthusiasm in taking on the project at hand she has already shown promising signs in understanding the core concepts of software engineering i look forward discovering more as time goes on']}\n"
          ]
        }
      ],
      "source": [
        "print(index_test)"
      ]
    },
    {
      "cell_type": "code",
      "execution_count": 26,
      "metadata": {
        "colab": {
          "base_uri": "https://localhost:8080/"
        },
        "id": "iE8CgO4WeAJL",
        "outputId": "8cf02ccb-100a-4868-b2c6-c6cc9dfd475d"
      },
      "outputs": [
        {
          "output_type": "stream",
          "name": "stdout",
          "text": [
            "                                                Comment  index\n",
            "0                                djfjkdfjkjkffdk edited      0\n",
            "1     Faith has exhibited enthusiasm in taking on th...      1\n",
            "2     He now has now understood the structure of gra...      2\n",
            "3     The Intern was oriented on ICT setup and Infra...      3\n",
            "4     The student was oriented on the organization s...      4\n",
            "...                                                 ...    ...\n",
            "4915                     Good listener and fast learner   4915\n",
            "4916                     Fast learner and good listener   4916\n",
            "4917  Needs more support to accomplish the pending t...   4917\n",
            "4918         Positive attitude towards work. Keep it up   4918\n",
            "4919  The the intern is more committed to accomplish...   4919\n",
            "\n",
            "[4920 rows x 2 columns]\n"
          ]
        }
      ],
      "source": [
        "data_text = dataFrame[['Comment']]\n",
        "data_text['index'] = data_text.index\n",
        "documents = data_text\n",
        "print(documents)"
      ]
    },
    {
      "cell_type": "code",
      "execution_count": 27,
      "metadata": {
        "id": "C17eTZ17dLvw"
      },
      "outputs": [],
      "source": [
        "def lemmatize_stemming(text):\n",
        "    stemmer = nltk.stem.porter.PorterStemmer()\n",
        "    return stemmer.stem(WordNetLemmatizer().lemmatize(text, pos='v'))\n",
        "def preprocess(text):\n",
        "    \n",
        "    result = []\n",
        "    for token in gensim.utils.simple_preprocess(text):\n",
        "        if token not in gensim.parsing.preprocessing.STOPWORDS and len(token) > 3:\n",
        "            result.append(lemmatize_stemming(token))\n",
        "    return result"
      ]
    },
    {
      "cell_type": "code",
      "execution_count": 28,
      "metadata": {
        "colab": {
          "base_uri": "https://localhost:8080/"
        },
        "id": "7yftEoNzdg1i",
        "outputId": "e88e68dd-1db7-43a7-e129-e2c5fc5b7735"
      },
      "outputs": [
        {
          "output_type": "stream",
          "name": "stdout",
          "text": [
            "original document: \n",
            "['The', 'Intern', 'was', 'oriented', 'on', 'ICT', 'setup', 'and', 'Infrastructure', 'of', 'Soroti', 'University,', 'drafted', 'workplan', 'and', 'started', 'off', 'the', 'Internship.', 'Simon', 'was', 'encouraged', 'to', 'take', 'the', 'Internship', 'seriously', 'as', 'there', 'was', 'a', 'lot', 'to', 'learn.']\n",
            "\n",
            "\n",
            " tokenized and lemmatized document: \n",
            "['intern', 'orient', 'setup', 'infrastructur', 'soroti', 'univers', 'draft', 'workplan', 'start', 'internship', 'simon', 'encourag', 'internship', 'serious', 'learn']\n"
          ]
        }
      ],
      "source": [
        "document_num = 1000  ##randomly pick one comment\n",
        "doc_sample = documents[documents['index'] == 3].values[0][0]\n",
        "print('original document: ')\n",
        "words = []\n",
        "for word in doc_sample.split(' '):\n",
        "    words.append(word)\n",
        "print(words)\n",
        "print('\\n\\n tokenized and lemmatized document: ')\n",
        "print(preprocess(doc_sample))"
      ]
    },
    {
      "cell_type": "code",
      "execution_count": 29,
      "metadata": {
        "colab": {
          "base_uri": "https://localhost:8080/"
        },
        "id": "ovm7BfMCV5Ia",
        "outputId": "9db12814-0d98-4289-8f5d-688a1ec11b0b"
      },
      "outputs": [
        {
          "output_type": "execute_result",
          "data": {
            "text/plain": [
              "0                              [djfjkdfjkjkffdk, edit]\n",
              "1    [faith, exhibit, enthusiasm, take, project, ha...\n",
              "2    [understand, structur, grail, differ, compon, ...\n",
              "3    [intern, orient, setup, infrastructur, soroti,...\n",
              "4    [student, orient, organ, structur, develop, wo...\n",
              "5                                     [activ, complet]\n",
              "6                                       [finish, time]\n",
              "7    [student, weekli, progress, justifi, good, cha...\n",
              "8                                               [note]\n",
              "9    [interest, abl, identifi, know, problem, assoc...\n",
              "Name: Comment, dtype: object"
            ]
          },
          "metadata": {},
          "execution_count": 29
        }
      ],
      "source": [
        "processed_docs = documents['Comment'].map(preprocess)\n",
        "processed_docs[:10]"
      ]
    },
    {
      "cell_type": "markdown",
      "source": [
        "DO SOME TEXT SENTIMENTS ON OUR DATASET\n",
        "\n",
        "We first print existing processed documents to do sentiments on"
      ],
      "metadata": {
        "id": "se-eIVSs9DKk"
      }
    },
    {
      "cell_type": "code",
      "source": [
        "# Processed documents \n",
        "processed_docs"
      ],
      "metadata": {
        "colab": {
          "base_uri": "https://localhost:8080/"
        },
        "id": "lOkBZ3Fy5oGp",
        "outputId": "9009e61d-10aa-4896-c0d6-ad0c508a17ff"
      },
      "execution_count": 30,
      "outputs": [
        {
          "output_type": "execute_result",
          "data": {
            "text/plain": [
              "0                                 [djfjkdfjkjkffdk, edit]\n",
              "1       [faith, exhibit, enthusiasm, take, project, ha...\n",
              "2       [understand, structur, grail, differ, compon, ...\n",
              "3       [intern, orient, setup, infrastructur, soroti,...\n",
              "4       [student, orient, organ, structur, develop, wo...\n",
              "                              ...                        \n",
              "4915                        [good, listen, fast, learner]\n",
              "4916                        [fast, learner, good, listen]\n",
              "4917              [need, support, accomplish, pend, task]\n",
              "4918                               [posit, attitud, work]\n",
              "4919                   [intern, commit, accomplish, task]\n",
              "Name: Comment, Length: 4920, dtype: object"
            ]
          },
          "metadata": {},
          "execution_count": 30
        }
      ]
    },
    {
      "cell_type": "markdown",
      "metadata": {
        "id": "BdKpZ-GvlEpY"
      },
      "source": [
        "Tranforming the comments to corpus"
      ]
    },
    {
      "cell_type": "code",
      "source": [
        "processed_docs = []\n",
        "for sentence in dataFrame[\"Comment\"]:\n",
        "     tokens = [word for word in sentence.split()]\n",
        "     processed_docs.append(tokens)\n",
        "    "
      ],
      "metadata": {
        "id": "x-jKnbU0oY3X"
      },
      "execution_count": 31,
      "outputs": []
    },
    {
      "cell_type": "code",
      "execution_count": 32,
      "metadata": {
        "colab": {
          "base_uri": "https://localhost:8080/"
        },
        "id": "hisdqi61YlpS",
        "outputId": "7dd151d2-a7d8-42a2-ca2d-7ac0c18de459"
      },
      "outputs": [
        {
          "output_type": "stream",
          "name": "stdout",
          "text": [
            "0 djfjkdfjkjkffdk\n",
            "1 edited\n",
            "2 Faith\n",
            "3 I\n",
            "4 She\n",
            "5 already\n",
            "6 as\n",
            "7 at\n",
            "8 concepts\n",
            "9 core\n",
            "10 discovering\n"
          ]
        }
      ],
      "source": [
        "##create dictionary based on the preprocessed_documents\n",
        "dictionary = gensim.corpora.Dictionary(processed_docs)\n",
        "\n",
        "##check the dictionary\n",
        "count = 0\n",
        "for k, v in dictionary.iteritems():\n",
        "    print(k, v)\n",
        "    count += 1\n",
        "    if count > 10:\n",
        "        break"
      ]
    },
    {
      "cell_type": "code",
      "execution_count": 33,
      "metadata": {
        "id": "RAIZMwMRYynA"
      },
      "outputs": [],
      "source": [
        "## remove extreme words (very common and very rare)\n",
        "dictionary.filter_extremes(no_below=15, no_above=0.1)\n",
        "\n",
        "##create bag-of-word model for each documents\n",
        "bow_corpus = [dictionary.doc2bow(doc) for doc in processed_docs]"
      ]
    },
    {
      "cell_type": "code",
      "execution_count": 34,
      "metadata": {
        "colab": {
          "base_uri": "https://localhost:8080/"
        },
        "id": "l6SjmPG4Y6VB",
        "outputId": "63078e1b-66be-47a9-af49-122b1fe7821a"
      },
      "outputs": [
        {
          "output_type": "stream",
          "name": "stdout",
          "text": [
            "Word 96 (\"can\") appears 1 time.\n",
            "Word 129 (\"knowledge\") appears 1 time.\n",
            "Word 264 (\"PHP,\") appears 1 time.\n",
            "Word 330 (\"payment\") appears 1 time.\n",
            "Word 466 (\"making\") appears 1 time.\n",
            "Word 493 (\"enable\") appears 1 time.\n",
            "Word 572 (\"customers\") appears 1 time.\n",
            "Word 617 (\"integration\") appears 1 time.\n"
          ]
        }
      ],
      "source": [
        "## check the bow_corpus\n",
        "bow_doc_1000 = bow_corpus[document_num]\n",
        "\n",
        "for i in range(len(bow_doc_1000)):\n",
        "    print(\"Word {} (\\\"{}\\\") appears {} time.\".format(bow_doc_1000[i][0], \n",
        "                                                     dictionary[bow_doc_1000[i][0]], \n",
        "                                                     bow_doc_1000[i][1]))"
      ]
    },
    {
      "cell_type": "code",
      "execution_count": 35,
      "metadata": {
        "colab": {
          "base_uri": "https://localhost:8080/"
        },
        "id": "Ow-23T1IU1nR",
        "outputId": "4c8f8118-64eb-485b-a25d-6bb02e71c8b1"
      },
      "outputs": [
        {
          "output_type": "stream",
          "name": "stdout",
          "text": [
            "start model building at  2022-09-16 13:10:55\n",
            "Model training finished at  2022-09-16 13:12:43\n"
          ]
        }
      ],
      "source": [
        "now = datetime.datetime.now()\n",
        "print (\"start model building at \",now.strftime(\"%Y-%m-%d %H:%M:%S\"))\n",
        "\n",
        "\n",
        "lda_model = gensim.models.LdaMulticore(bow_corpus, # Stream of document vectors or sparse matrix of shape \n",
        "                                       num_topics=5, # The number of requested latent topics to be extracted from the training corpus.\n",
        "                                       id2word = dictionary, #Mapping from word IDs to words. It is used to determine the vocabulary size. \n",
        "                                       passes = 50, #Number of passes through the corpus during training.\n",
        "                                       workers=10) #Number of workers processes to be used for parallelization.\n",
        "\n",
        "\n",
        "now = datetime.datetime.now()\n",
        "print ('Model training finished at ',now.strftime(\"%Y-%m-%d %H:%M:%S\"))"
      ]
    },
    {
      "cell_type": "code",
      "execution_count": 36,
      "metadata": {
        "colab": {
          "base_uri": "https://localhost:8080/"
        },
        "id": "8s-sRPwuokkW",
        "outputId": "ddcbbd65-c88f-4309-f1eb-1be6f763f97b"
      },
      "outputs": [
        {
          "output_type": "stream",
          "name": "stdout",
          "text": [
            "Topic: 0 \n",
            "Words: 0.039*\"can\" + 0.036*\"up\" + 0.034*\"you\" + 0.021*\"also\" + 0.020*\"it\" + 0.016*\"your\" + 0.015*\"that\" + 0.014*\"set\" + 0.013*\"now\" + 0.011*\"server\"\n",
            "\n",
            "\n",
            "Topic: 1 \n",
            "Words: 0.024*\"good\" + 0.022*\"she\" + 0.022*\"very\" + 0.020*\"her\" + 0.018*\"well\" + 0.017*\"She\" + 0.012*\"learn\" + 0.012*\"coding\" + 0.012*\"time\" + 0.012*\"as\"\n",
            "\n",
            "\n",
            "Topic: 2 \n",
            "Words: 0.055*\"skills\" + 0.035*\"internship.\" + 0.031*\"end\" + 0.030*\"new\" + 0.030*\"all\" + 0.029*\"report\" + 0.029*\"Progressive\" + 0.027*\"supposed\" + 0.025*\"detail\" + 0.025*\"acquired.\"\n",
            "\n",
            "\n",
            "Topic: 3 \n",
            "Words: 0.037*\"encourage\" + 0.035*\"any\" + 0.026*\"completed\" + 0.024*\"week's\" + 0.023*\"challenges.\" + 0.021*\"tasks\" + 0.020*\"at\" + 0.019*\"without\" + 0.019*\"doing\" + 0.017*\"Stratcom\"\n",
            "\n",
            "\n",
            "Topic: 4 \n",
            "Words: 0.018*\"tasks\" + 0.017*\"that\" + 0.017*\"The\" + 0.017*\"his\" + 0.013*\"as\" + 0.013*\"work\" + 0.012*\"completed\" + 0.012*\"been\" + 0.012*\"by\" + 0.012*\"data\"\n",
            "\n",
            "\n"
          ]
        }
      ],
      "source": [
        "##print out the key words of five topics\n",
        "for idx, topic in lda_model.print_topics(-1):\n",
        "    print(\"Topic: {} \\nWords: {}\".format(idx, topic))\n",
        "    print(\"\\n\")"
      ]
    },
    {
      "cell_type": "code",
      "execution_count": 37,
      "metadata": {
        "colab": {
          "base_uri": "https://localhost:8080/"
        },
        "id": "31NqlUTEo2sv",
        "outputId": "60f21f02-cf6d-4b1f-c965-848e377fafd6"
      },
      "outputs": [
        {
          "output_type": "stream",
          "name": "stdout",
          "text": [
            "0\n",
            "50\n",
            "100\n",
            "150\n",
            "200\n",
            "250\n",
            "300\n",
            "350\n",
            "400\n",
            "450\n",
            "500\n",
            "550\n",
            "600\n",
            "650\n",
            "700\n",
            "750\n",
            "800\n",
            "850\n",
            "900\n",
            "950\n",
            "1000\n",
            "1050\n",
            "1100\n",
            "1150\n",
            "1200\n",
            "1250\n",
            "1300\n",
            "1350\n",
            "1400\n",
            "1450\n",
            "1500\n",
            "1550\n",
            "1600\n",
            "1650\n",
            "1700\n",
            "1750\n",
            "1800\n",
            "1850\n",
            "1900\n",
            "1950\n",
            "2000\n",
            "2050\n",
            "2100\n",
            "2150\n",
            "2200\n",
            "2250\n",
            "2300\n",
            "2350\n",
            "2400\n",
            "2450\n",
            "2500\n",
            "2550\n",
            "2600\n",
            "2650\n",
            "2700\n",
            "2750\n",
            "2800\n",
            "2850\n",
            "2900\n",
            "2950\n",
            "3000\n",
            "3050\n",
            "3100\n",
            "3150\n",
            "3200\n",
            "3250\n",
            "3300\n",
            "3350\n",
            "3400\n",
            "3450\n",
            "3500\n",
            "3550\n",
            "3600\n",
            "3650\n",
            "3700\n",
            "3750\n",
            "3800\n",
            "3850\n",
            "3900\n",
            "3950\n",
            "4000\n",
            "4050\n",
            "4100\n",
            "4150\n",
            "4200\n",
            "4250\n",
            "4300\n",
            "4350\n",
            "4400\n",
            "4450\n",
            "4500\n",
            "4550\n",
            "4600\n",
            "4650\n",
            "4700\n",
            "4750\n",
            "4800\n",
            "4850\n",
            "4900\n"
          ]
        }
      ],
      "source": [
        "# documents_lda_topics = pd.DataFrame(columns = [\"topic1\", \"topic2\", \"topic3\", \"topic4\", \"topic5\"])\n",
        "# for i in range(len(bow_corpus)):\n",
        "#     if i % 50 ==0:\n",
        "#         print(i)\n",
        "#     documents_lda_topics.loc[i] = [0] * 5\n",
        "\n",
        "#     output = lda_model.get_document_topics(bow_corpus[i])\n",
        "#     for j in range(len(output)):\n",
        "#         a = output[j][0]\n",
        "#         b = output[j][1]\n",
        "#         documents_lda_topics.iloc[i,a] = b\n",
        "\n",
        "# print(\"Data processing finished\")\n",
        "\n",
        "\n",
        "# \n",
        "\n",
        "documents_lda_topics = pd.DataFrame(columns = [\"Excellent\", \"Good\", \"Neutral\", \"Poor\", \"Very Poor\"])\n",
        "for i in range(len(bow_corpus)):\n",
        "    if i % 50 ==0:\n",
        "        print(i)\n",
        "    documents_lda_topics.loc[i] = [0] * 5\n",
        "\n",
        "    output = lda_model.get_document_topics(bow_corpus[i])\n",
        "    for j in range(len(output)):\n",
        "        a = output[j][0]\n",
        "        b = output[j][1]\n",
        "        documents_lda_topics.iloc[i,a] = b\n",
        "\n",
        "#print(\"Data processing finished\")"
      ]
    },
    {
      "cell_type": "code",
      "execution_count": 38,
      "metadata": {
        "id": "rKkbD2gIpZ76"
      },
      "outputs": [],
      "source": [
        "## pick the final topic for each abstract based on max-probability\n",
        "for i in range(5):\n",
        "    documents_lda_topics.iloc[:, i] = documents_lda_topics.iloc[:, i].astype('float64', copy=False)\n",
        "    \n",
        "documents_lda_topics[\"final_topic\"] =documents_lda_topics.iloc[:, :10].idxmax(axis=1)\n"
      ]
    },
    {
      "cell_type": "code",
      "execution_count": 39,
      "metadata": {
        "colab": {
          "base_uri": "https://localhost:8080/",
          "height": 694
        },
        "id": "eu2RPrmvpfra",
        "outputId": "601088d2-74bb-4dbc-86b2-a33847a90b08"
      },
      "outputs": [
        {
          "output_type": "stream",
          "name": "stdout",
          "text": [
            "LDA + bow_corpus: topic probability:\n"
          ]
        },
        {
          "output_type": "execute_result",
          "data": {
            "text/plain": [
              "    Excellent      Good   Neutral      Poor  Very Poor final_topic\n",
              "0    0.200000  0.200000  0.200000  0.200000   0.200000   Excellent\n",
              "1    0.011987  0.291966  0.011820  0.011864   0.672365   Very Poor\n",
              "2    0.910227  0.022439  0.022225  0.022272   0.022837   Excellent\n",
              "3    0.017178  0.373567  0.105533  0.100812   0.402911   Very Poor\n",
              "4    0.221683  0.189673  0.230954  0.017058   0.340631   Very Poor\n",
              "5    0.067030  0.070606  0.066768  0.727777   0.067818        Poor\n",
              "6    0.066787  0.397325  0.399983  0.067629   0.068276     Neutral\n",
              "7    0.367163  0.034275  0.034410  0.033793   0.530358   Very Poor\n",
              "8    0.200000  0.200000  0.200000  0.200000   0.200000   Excellent\n",
              "9    0.020421  0.677015  0.020160  0.020160   0.262245        Good\n",
              "10   0.033582  0.033505  0.033337  0.033357   0.866220   Very Poor\n",
              "11   0.050184  0.050809  0.050000  0.050000   0.799007   Very Poor\n",
              "12   0.067316  0.730870  0.066982  0.066667   0.068165        Good\n",
              "13   0.014401  0.363058  0.014309  0.155447   0.452785   Very Poor\n",
              "14   0.018934  0.018688  0.018214  0.018370   0.925793   Very Poor\n",
              "15   0.706625  0.022267  0.022239  0.022316   0.226552   Excellent\n",
              "16   0.016856  0.016986  0.016718  0.453759   0.495681   Very Poor\n",
              "17   0.945641  0.013823  0.013337  0.013405   0.013793   Excellent\n",
              "18   0.012010  0.012459  0.012329  0.011774   0.951427   Very Poor\n",
              "19   0.066811  0.066792  0.066767  0.731426   0.068204        Poor"
            ],
            "text/html": [
              "\n",
              "  <div id=\"df-c4ce7a87-d3f3-4afd-a95f-b8e9683e601c\">\n",
              "    <div class=\"colab-df-container\">\n",
              "      <div>\n",
              "<style scoped>\n",
              "    .dataframe tbody tr th:only-of-type {\n",
              "        vertical-align: middle;\n",
              "    }\n",
              "\n",
              "    .dataframe tbody tr th {\n",
              "        vertical-align: top;\n",
              "    }\n",
              "\n",
              "    .dataframe thead th {\n",
              "        text-align: right;\n",
              "    }\n",
              "</style>\n",
              "<table border=\"1\" class=\"dataframe\">\n",
              "  <thead>\n",
              "    <tr style=\"text-align: right;\">\n",
              "      <th></th>\n",
              "      <th>Excellent</th>\n",
              "      <th>Good</th>\n",
              "      <th>Neutral</th>\n",
              "      <th>Poor</th>\n",
              "      <th>Very Poor</th>\n",
              "      <th>final_topic</th>\n",
              "    </tr>\n",
              "  </thead>\n",
              "  <tbody>\n",
              "    <tr>\n",
              "      <th>0</th>\n",
              "      <td>0.200000</td>\n",
              "      <td>0.200000</td>\n",
              "      <td>0.200000</td>\n",
              "      <td>0.200000</td>\n",
              "      <td>0.200000</td>\n",
              "      <td>Excellent</td>\n",
              "    </tr>\n",
              "    <tr>\n",
              "      <th>1</th>\n",
              "      <td>0.011987</td>\n",
              "      <td>0.291966</td>\n",
              "      <td>0.011820</td>\n",
              "      <td>0.011864</td>\n",
              "      <td>0.672365</td>\n",
              "      <td>Very Poor</td>\n",
              "    </tr>\n",
              "    <tr>\n",
              "      <th>2</th>\n",
              "      <td>0.910227</td>\n",
              "      <td>0.022439</td>\n",
              "      <td>0.022225</td>\n",
              "      <td>0.022272</td>\n",
              "      <td>0.022837</td>\n",
              "      <td>Excellent</td>\n",
              "    </tr>\n",
              "    <tr>\n",
              "      <th>3</th>\n",
              "      <td>0.017178</td>\n",
              "      <td>0.373567</td>\n",
              "      <td>0.105533</td>\n",
              "      <td>0.100812</td>\n",
              "      <td>0.402911</td>\n",
              "      <td>Very Poor</td>\n",
              "    </tr>\n",
              "    <tr>\n",
              "      <th>4</th>\n",
              "      <td>0.221683</td>\n",
              "      <td>0.189673</td>\n",
              "      <td>0.230954</td>\n",
              "      <td>0.017058</td>\n",
              "      <td>0.340631</td>\n",
              "      <td>Very Poor</td>\n",
              "    </tr>\n",
              "    <tr>\n",
              "      <th>5</th>\n",
              "      <td>0.067030</td>\n",
              "      <td>0.070606</td>\n",
              "      <td>0.066768</td>\n",
              "      <td>0.727777</td>\n",
              "      <td>0.067818</td>\n",
              "      <td>Poor</td>\n",
              "    </tr>\n",
              "    <tr>\n",
              "      <th>6</th>\n",
              "      <td>0.066787</td>\n",
              "      <td>0.397325</td>\n",
              "      <td>0.399983</td>\n",
              "      <td>0.067629</td>\n",
              "      <td>0.068276</td>\n",
              "      <td>Neutral</td>\n",
              "    </tr>\n",
              "    <tr>\n",
              "      <th>7</th>\n",
              "      <td>0.367163</td>\n",
              "      <td>0.034275</td>\n",
              "      <td>0.034410</td>\n",
              "      <td>0.033793</td>\n",
              "      <td>0.530358</td>\n",
              "      <td>Very Poor</td>\n",
              "    </tr>\n",
              "    <tr>\n",
              "      <th>8</th>\n",
              "      <td>0.200000</td>\n",
              "      <td>0.200000</td>\n",
              "      <td>0.200000</td>\n",
              "      <td>0.200000</td>\n",
              "      <td>0.200000</td>\n",
              "      <td>Excellent</td>\n",
              "    </tr>\n",
              "    <tr>\n",
              "      <th>9</th>\n",
              "      <td>0.020421</td>\n",
              "      <td>0.677015</td>\n",
              "      <td>0.020160</td>\n",
              "      <td>0.020160</td>\n",
              "      <td>0.262245</td>\n",
              "      <td>Good</td>\n",
              "    </tr>\n",
              "    <tr>\n",
              "      <th>10</th>\n",
              "      <td>0.033582</td>\n",
              "      <td>0.033505</td>\n",
              "      <td>0.033337</td>\n",
              "      <td>0.033357</td>\n",
              "      <td>0.866220</td>\n",
              "      <td>Very Poor</td>\n",
              "    </tr>\n",
              "    <tr>\n",
              "      <th>11</th>\n",
              "      <td>0.050184</td>\n",
              "      <td>0.050809</td>\n",
              "      <td>0.050000</td>\n",
              "      <td>0.050000</td>\n",
              "      <td>0.799007</td>\n",
              "      <td>Very Poor</td>\n",
              "    </tr>\n",
              "    <tr>\n",
              "      <th>12</th>\n",
              "      <td>0.067316</td>\n",
              "      <td>0.730870</td>\n",
              "      <td>0.066982</td>\n",
              "      <td>0.066667</td>\n",
              "      <td>0.068165</td>\n",
              "      <td>Good</td>\n",
              "    </tr>\n",
              "    <tr>\n",
              "      <th>13</th>\n",
              "      <td>0.014401</td>\n",
              "      <td>0.363058</td>\n",
              "      <td>0.014309</td>\n",
              "      <td>0.155447</td>\n",
              "      <td>0.452785</td>\n",
              "      <td>Very Poor</td>\n",
              "    </tr>\n",
              "    <tr>\n",
              "      <th>14</th>\n",
              "      <td>0.018934</td>\n",
              "      <td>0.018688</td>\n",
              "      <td>0.018214</td>\n",
              "      <td>0.018370</td>\n",
              "      <td>0.925793</td>\n",
              "      <td>Very Poor</td>\n",
              "    </tr>\n",
              "    <tr>\n",
              "      <th>15</th>\n",
              "      <td>0.706625</td>\n",
              "      <td>0.022267</td>\n",
              "      <td>0.022239</td>\n",
              "      <td>0.022316</td>\n",
              "      <td>0.226552</td>\n",
              "      <td>Excellent</td>\n",
              "    </tr>\n",
              "    <tr>\n",
              "      <th>16</th>\n",
              "      <td>0.016856</td>\n",
              "      <td>0.016986</td>\n",
              "      <td>0.016718</td>\n",
              "      <td>0.453759</td>\n",
              "      <td>0.495681</td>\n",
              "      <td>Very Poor</td>\n",
              "    </tr>\n",
              "    <tr>\n",
              "      <th>17</th>\n",
              "      <td>0.945641</td>\n",
              "      <td>0.013823</td>\n",
              "      <td>0.013337</td>\n",
              "      <td>0.013405</td>\n",
              "      <td>0.013793</td>\n",
              "      <td>Excellent</td>\n",
              "    </tr>\n",
              "    <tr>\n",
              "      <th>18</th>\n",
              "      <td>0.012010</td>\n",
              "      <td>0.012459</td>\n",
              "      <td>0.012329</td>\n",
              "      <td>0.011774</td>\n",
              "      <td>0.951427</td>\n",
              "      <td>Very Poor</td>\n",
              "    </tr>\n",
              "    <tr>\n",
              "      <th>19</th>\n",
              "      <td>0.066811</td>\n",
              "      <td>0.066792</td>\n",
              "      <td>0.066767</td>\n",
              "      <td>0.731426</td>\n",
              "      <td>0.068204</td>\n",
              "      <td>Poor</td>\n",
              "    </tr>\n",
              "  </tbody>\n",
              "</table>\n",
              "</div>\n",
              "      <button class=\"colab-df-convert\" onclick=\"convertToInteractive('df-c4ce7a87-d3f3-4afd-a95f-b8e9683e601c')\"\n",
              "              title=\"Convert this dataframe to an interactive table.\"\n",
              "              style=\"display:none;\">\n",
              "        \n",
              "  <svg xmlns=\"http://www.w3.org/2000/svg\" height=\"24px\"viewBox=\"0 0 24 24\"\n",
              "       width=\"24px\">\n",
              "    <path d=\"M0 0h24v24H0V0z\" fill=\"none\"/>\n",
              "    <path d=\"M18.56 5.44l.94 2.06.94-2.06 2.06-.94-2.06-.94-.94-2.06-.94 2.06-2.06.94zm-11 1L8.5 8.5l.94-2.06 2.06-.94-2.06-.94L8.5 2.5l-.94 2.06-2.06.94zm10 10l.94 2.06.94-2.06 2.06-.94-2.06-.94-.94-2.06-.94 2.06-2.06.94z\"/><path d=\"M17.41 7.96l-1.37-1.37c-.4-.4-.92-.59-1.43-.59-.52 0-1.04.2-1.43.59L10.3 9.45l-7.72 7.72c-.78.78-.78 2.05 0 2.83L4 21.41c.39.39.9.59 1.41.59.51 0 1.02-.2 1.41-.59l7.78-7.78 2.81-2.81c.8-.78.8-2.07 0-2.86zM5.41 20L4 18.59l7.72-7.72 1.47 1.35L5.41 20z\"/>\n",
              "  </svg>\n",
              "      </button>\n",
              "      \n",
              "  <style>\n",
              "    .colab-df-container {\n",
              "      display:flex;\n",
              "      flex-wrap:wrap;\n",
              "      gap: 12px;\n",
              "    }\n",
              "\n",
              "    .colab-df-convert {\n",
              "      background-color: #E8F0FE;\n",
              "      border: none;\n",
              "      border-radius: 50%;\n",
              "      cursor: pointer;\n",
              "      display: none;\n",
              "      fill: #1967D2;\n",
              "      height: 32px;\n",
              "      padding: 0 0 0 0;\n",
              "      width: 32px;\n",
              "    }\n",
              "\n",
              "    .colab-df-convert:hover {\n",
              "      background-color: #E2EBFA;\n",
              "      box-shadow: 0px 1px 2px rgba(60, 64, 67, 0.3), 0px 1px 3px 1px rgba(60, 64, 67, 0.15);\n",
              "      fill: #174EA6;\n",
              "    }\n",
              "\n",
              "    [theme=dark] .colab-df-convert {\n",
              "      background-color: #3B4455;\n",
              "      fill: #D2E3FC;\n",
              "    }\n",
              "\n",
              "    [theme=dark] .colab-df-convert:hover {\n",
              "      background-color: #434B5C;\n",
              "      box-shadow: 0px 1px 3px 1px rgba(0, 0, 0, 0.15);\n",
              "      filter: drop-shadow(0px 1px 2px rgba(0, 0, 0, 0.3));\n",
              "      fill: #FFFFFF;\n",
              "    }\n",
              "  </style>\n",
              "\n",
              "      <script>\n",
              "        const buttonEl =\n",
              "          document.querySelector('#df-c4ce7a87-d3f3-4afd-a95f-b8e9683e601c button.colab-df-convert');\n",
              "        buttonEl.style.display =\n",
              "          google.colab.kernel.accessAllowed ? 'block' : 'none';\n",
              "\n",
              "        async function convertToInteractive(key) {\n",
              "          const element = document.querySelector('#df-c4ce7a87-d3f3-4afd-a95f-b8e9683e601c');\n",
              "          const dataTable =\n",
              "            await google.colab.kernel.invokeFunction('convertToInteractive',\n",
              "                                                     [key], {});\n",
              "          if (!dataTable) return;\n",
              "\n",
              "          const docLinkHtml = 'Like what you see? Visit the ' +\n",
              "            '<a target=\"_blank\" href=https://colab.research.google.com/notebooks/data_table.ipynb>data table notebook</a>'\n",
              "            + ' to learn more about interactive tables.';\n",
              "          element.innerHTML = '';\n",
              "          dataTable['output_type'] = 'display_data';\n",
              "          await google.colab.output.renderOutput(dataTable, element);\n",
              "          const docLink = document.createElement('div');\n",
              "          docLink.innerHTML = docLinkHtml;\n",
              "          element.appendChild(docLink);\n",
              "        }\n",
              "      </script>\n",
              "    </div>\n",
              "  </div>\n",
              "  "
            ]
          },
          "metadata": {},
          "execution_count": 39
        }
      ],
      "source": [
        "##preview the dataframe for both models\n",
        "print(\"LDA + bow_corpus: topic probability:\")\n",
        "documents_lda_topics.head(20)"
      ]
    },
    {
      "cell_type": "code",
      "source": [
        "# export the topics to csv\n",
        "topics_to_csv = dataFrame.join(documents_lda_topics)\n",
        "topics_to_csv.to_csv('topics_to-csv.csv')\n",
        "topics_to_csv"
      ],
      "metadata": {
        "colab": {
          "base_uri": "https://localhost:8080/",
          "height": 424
        },
        "id": "d9ujyBalHPCw",
        "outputId": "3d112364-d440-4f98-d606-dd2038395857"
      },
      "execution_count": 40,
      "outputs": [
        {
          "output_type": "execute_result",
          "data": {
            "text/plain": [
              "      comment_id                                            Comment  \\\n",
              "0              5                             djfjkdfjkjkffdk edited   \n",
              "1             41  Faith has exhibited enthusiasm in taking on th...   \n",
              "2             49  He now has now understood the structure of gra...   \n",
              "3             50  The Intern was oriented on ICT setup and Infra...   \n",
              "4             52  The student was oriented on the organization s...   \n",
              "...          ...                                                ...   \n",
              "4915        8150                     Good listener and fast learner   \n",
              "4916        8151                     Fast learner and good listener   \n",
              "4917        8160  Needs more support to accomplish the pending t...   \n",
              "4918        8161         Positive attitude towards work. Keep it up   \n",
              "4919        8162  The the intern is more committed to accomplish...   \n",
              "\n",
              "      Excellent      Good   Neutral      Poor  Very Poor final_topic  \n",
              "0      0.200000  0.200000  0.200000  0.200000   0.200000   Excellent  \n",
              "1      0.011987  0.291966  0.011820  0.011864   0.672365   Very Poor  \n",
              "2      0.910227  0.022439  0.022225  0.022272   0.022837   Excellent  \n",
              "3      0.017178  0.373567  0.105533  0.100812   0.402911   Very Poor  \n",
              "4      0.221683  0.189673  0.230954  0.017058   0.340631   Very Poor  \n",
              "...         ...       ...       ...       ...        ...         ...  \n",
              "4915   0.050517  0.519357  0.050977  0.328582   0.050566        Good  \n",
              "4916   0.066780  0.732258  0.066667  0.067392   0.066903        Good  \n",
              "4917   0.040688  0.040331  0.040276  0.040332   0.838373   Very Poor  \n",
              "4918   0.884049  0.028734  0.028582  0.028584   0.030052   Excellent  \n",
              "4919   0.025465  0.025585  0.025008  0.025183   0.898759   Very Poor  \n",
              "\n",
              "[4920 rows x 8 columns]"
            ],
            "text/html": [
              "\n",
              "  <div id=\"df-fec160b3-ddf0-45ca-8f47-54615fe6a76e\">\n",
              "    <div class=\"colab-df-container\">\n",
              "      <div>\n",
              "<style scoped>\n",
              "    .dataframe tbody tr th:only-of-type {\n",
              "        vertical-align: middle;\n",
              "    }\n",
              "\n",
              "    .dataframe tbody tr th {\n",
              "        vertical-align: top;\n",
              "    }\n",
              "\n",
              "    .dataframe thead th {\n",
              "        text-align: right;\n",
              "    }\n",
              "</style>\n",
              "<table border=\"1\" class=\"dataframe\">\n",
              "  <thead>\n",
              "    <tr style=\"text-align: right;\">\n",
              "      <th></th>\n",
              "      <th>comment_id</th>\n",
              "      <th>Comment</th>\n",
              "      <th>Excellent</th>\n",
              "      <th>Good</th>\n",
              "      <th>Neutral</th>\n",
              "      <th>Poor</th>\n",
              "      <th>Very Poor</th>\n",
              "      <th>final_topic</th>\n",
              "    </tr>\n",
              "  </thead>\n",
              "  <tbody>\n",
              "    <tr>\n",
              "      <th>0</th>\n",
              "      <td>5</td>\n",
              "      <td>djfjkdfjkjkffdk edited</td>\n",
              "      <td>0.200000</td>\n",
              "      <td>0.200000</td>\n",
              "      <td>0.200000</td>\n",
              "      <td>0.200000</td>\n",
              "      <td>0.200000</td>\n",
              "      <td>Excellent</td>\n",
              "    </tr>\n",
              "    <tr>\n",
              "      <th>1</th>\n",
              "      <td>41</td>\n",
              "      <td>Faith has exhibited enthusiasm in taking on th...</td>\n",
              "      <td>0.011987</td>\n",
              "      <td>0.291966</td>\n",
              "      <td>0.011820</td>\n",
              "      <td>0.011864</td>\n",
              "      <td>0.672365</td>\n",
              "      <td>Very Poor</td>\n",
              "    </tr>\n",
              "    <tr>\n",
              "      <th>2</th>\n",
              "      <td>49</td>\n",
              "      <td>He now has now understood the structure of gra...</td>\n",
              "      <td>0.910227</td>\n",
              "      <td>0.022439</td>\n",
              "      <td>0.022225</td>\n",
              "      <td>0.022272</td>\n",
              "      <td>0.022837</td>\n",
              "      <td>Excellent</td>\n",
              "    </tr>\n",
              "    <tr>\n",
              "      <th>3</th>\n",
              "      <td>50</td>\n",
              "      <td>The Intern was oriented on ICT setup and Infra...</td>\n",
              "      <td>0.017178</td>\n",
              "      <td>0.373567</td>\n",
              "      <td>0.105533</td>\n",
              "      <td>0.100812</td>\n",
              "      <td>0.402911</td>\n",
              "      <td>Very Poor</td>\n",
              "    </tr>\n",
              "    <tr>\n",
              "      <th>4</th>\n",
              "      <td>52</td>\n",
              "      <td>The student was oriented on the organization s...</td>\n",
              "      <td>0.221683</td>\n",
              "      <td>0.189673</td>\n",
              "      <td>0.230954</td>\n",
              "      <td>0.017058</td>\n",
              "      <td>0.340631</td>\n",
              "      <td>Very Poor</td>\n",
              "    </tr>\n",
              "    <tr>\n",
              "      <th>...</th>\n",
              "      <td>...</td>\n",
              "      <td>...</td>\n",
              "      <td>...</td>\n",
              "      <td>...</td>\n",
              "      <td>...</td>\n",
              "      <td>...</td>\n",
              "      <td>...</td>\n",
              "      <td>...</td>\n",
              "    </tr>\n",
              "    <tr>\n",
              "      <th>4915</th>\n",
              "      <td>8150</td>\n",
              "      <td>Good listener and fast learner</td>\n",
              "      <td>0.050517</td>\n",
              "      <td>0.519357</td>\n",
              "      <td>0.050977</td>\n",
              "      <td>0.328582</td>\n",
              "      <td>0.050566</td>\n",
              "      <td>Good</td>\n",
              "    </tr>\n",
              "    <tr>\n",
              "      <th>4916</th>\n",
              "      <td>8151</td>\n",
              "      <td>Fast learner and good listener</td>\n",
              "      <td>0.066780</td>\n",
              "      <td>0.732258</td>\n",
              "      <td>0.066667</td>\n",
              "      <td>0.067392</td>\n",
              "      <td>0.066903</td>\n",
              "      <td>Good</td>\n",
              "    </tr>\n",
              "    <tr>\n",
              "      <th>4917</th>\n",
              "      <td>8160</td>\n",
              "      <td>Needs more support to accomplish the pending t...</td>\n",
              "      <td>0.040688</td>\n",
              "      <td>0.040331</td>\n",
              "      <td>0.040276</td>\n",
              "      <td>0.040332</td>\n",
              "      <td>0.838373</td>\n",
              "      <td>Very Poor</td>\n",
              "    </tr>\n",
              "    <tr>\n",
              "      <th>4918</th>\n",
              "      <td>8161</td>\n",
              "      <td>Positive attitude towards work. Keep it up</td>\n",
              "      <td>0.884049</td>\n",
              "      <td>0.028734</td>\n",
              "      <td>0.028582</td>\n",
              "      <td>0.028584</td>\n",
              "      <td>0.030052</td>\n",
              "      <td>Excellent</td>\n",
              "    </tr>\n",
              "    <tr>\n",
              "      <th>4919</th>\n",
              "      <td>8162</td>\n",
              "      <td>The the intern is more committed to accomplish...</td>\n",
              "      <td>0.025465</td>\n",
              "      <td>0.025585</td>\n",
              "      <td>0.025008</td>\n",
              "      <td>0.025183</td>\n",
              "      <td>0.898759</td>\n",
              "      <td>Very Poor</td>\n",
              "    </tr>\n",
              "  </tbody>\n",
              "</table>\n",
              "<p>4920 rows × 8 columns</p>\n",
              "</div>\n",
              "      <button class=\"colab-df-convert\" onclick=\"convertToInteractive('df-fec160b3-ddf0-45ca-8f47-54615fe6a76e')\"\n",
              "              title=\"Convert this dataframe to an interactive table.\"\n",
              "              style=\"display:none;\">\n",
              "        \n",
              "  <svg xmlns=\"http://www.w3.org/2000/svg\" height=\"24px\"viewBox=\"0 0 24 24\"\n",
              "       width=\"24px\">\n",
              "    <path d=\"M0 0h24v24H0V0z\" fill=\"none\"/>\n",
              "    <path d=\"M18.56 5.44l.94 2.06.94-2.06 2.06-.94-2.06-.94-.94-2.06-.94 2.06-2.06.94zm-11 1L8.5 8.5l.94-2.06 2.06-.94-2.06-.94L8.5 2.5l-.94 2.06-2.06.94zm10 10l.94 2.06.94-2.06 2.06-.94-2.06-.94-.94-2.06-.94 2.06-2.06.94z\"/><path d=\"M17.41 7.96l-1.37-1.37c-.4-.4-.92-.59-1.43-.59-.52 0-1.04.2-1.43.59L10.3 9.45l-7.72 7.72c-.78.78-.78 2.05 0 2.83L4 21.41c.39.39.9.59 1.41.59.51 0 1.02-.2 1.41-.59l7.78-7.78 2.81-2.81c.8-.78.8-2.07 0-2.86zM5.41 20L4 18.59l7.72-7.72 1.47 1.35L5.41 20z\"/>\n",
              "  </svg>\n",
              "      </button>\n",
              "      \n",
              "  <style>\n",
              "    .colab-df-container {\n",
              "      display:flex;\n",
              "      flex-wrap:wrap;\n",
              "      gap: 12px;\n",
              "    }\n",
              "\n",
              "    .colab-df-convert {\n",
              "      background-color: #E8F0FE;\n",
              "      border: none;\n",
              "      border-radius: 50%;\n",
              "      cursor: pointer;\n",
              "      display: none;\n",
              "      fill: #1967D2;\n",
              "      height: 32px;\n",
              "      padding: 0 0 0 0;\n",
              "      width: 32px;\n",
              "    }\n",
              "\n",
              "    .colab-df-convert:hover {\n",
              "      background-color: #E2EBFA;\n",
              "      box-shadow: 0px 1px 2px rgba(60, 64, 67, 0.3), 0px 1px 3px 1px rgba(60, 64, 67, 0.15);\n",
              "      fill: #174EA6;\n",
              "    }\n",
              "\n",
              "    [theme=dark] .colab-df-convert {\n",
              "      background-color: #3B4455;\n",
              "      fill: #D2E3FC;\n",
              "    }\n",
              "\n",
              "    [theme=dark] .colab-df-convert:hover {\n",
              "      background-color: #434B5C;\n",
              "      box-shadow: 0px 1px 3px 1px rgba(0, 0, 0, 0.15);\n",
              "      filter: drop-shadow(0px 1px 2px rgba(0, 0, 0, 0.3));\n",
              "      fill: #FFFFFF;\n",
              "    }\n",
              "  </style>\n",
              "\n",
              "      <script>\n",
              "        const buttonEl =\n",
              "          document.querySelector('#df-fec160b3-ddf0-45ca-8f47-54615fe6a76e button.colab-df-convert');\n",
              "        buttonEl.style.display =\n",
              "          google.colab.kernel.accessAllowed ? 'block' : 'none';\n",
              "\n",
              "        async function convertToInteractive(key) {\n",
              "          const element = document.querySelector('#df-fec160b3-ddf0-45ca-8f47-54615fe6a76e');\n",
              "          const dataTable =\n",
              "            await google.colab.kernel.invokeFunction('convertToInteractive',\n",
              "                                                     [key], {});\n",
              "          if (!dataTable) return;\n",
              "\n",
              "          const docLinkHtml = 'Like what you see? Visit the ' +\n",
              "            '<a target=\"_blank\" href=https://colab.research.google.com/notebooks/data_table.ipynb>data table notebook</a>'\n",
              "            + ' to learn more about interactive tables.';\n",
              "          element.innerHTML = '';\n",
              "          dataTable['output_type'] = 'display_data';\n",
              "          await google.colab.output.renderOutput(dataTable, element);\n",
              "          const docLink = document.createElement('div');\n",
              "          docLink.innerHTML = docLinkHtml;\n",
              "          element.appendChild(docLink);\n",
              "        }\n",
              "      </script>\n",
              "    </div>\n",
              "  </div>\n",
              "  "
            ]
          },
          "metadata": {},
          "execution_count": 40
        }
      ]
    },
    {
      "cell_type": "code",
      "execution_count": 41,
      "metadata": {
        "id": "1iecoMNIjC3-"
      },
      "outputs": [],
      "source": [
        "def get_wordcloud(topic):\n",
        "\n",
        "  cols = [color for name, color in mcolors.TABLEAU_COLORS.items()]  # more colors: 'mcolors.XKCD_COLORS'\n",
        "\n",
        "  cloud = WordCloud(stopwords=STOPWORDS,\n",
        "                    background_color='black',\n",
        "                    width=2500,\n",
        "                    height=1800,\n",
        "                    max_words=10,\n",
        "                    colormap='tab10',\n",
        "                    color_func=lambda *args, **kwargs: cols[i],\n",
        "                    prefer_horizontal=1.0)\n",
        "\n",
        "  topics = topic.show_topics(formatted=False)\n",
        "\n",
        "  fig, axes = plt.subplots(2, 2, figsize=(10,10), sharex=True, sharey=True)\n",
        "\n",
        "  for i, ax in enumerate(axes.flatten()):\n",
        "      fig.add_subplot(ax)\n",
        "      topic_words = dict(topics[i][1])\n",
        "      cloud.generate_from_frequencies(topic_words, max_font_size=300)\n",
        "      plt.gca().imshow(cloud)\n",
        "      plt.gca().set_title('Topic ' + str(i), fontdict=dict(size=16))\n",
        "      plt.gca().axis('off')\n",
        "\n",
        "\n",
        "  plt.subplots_adjust(wspace=0, hspace=0)\n",
        "  plt.axis('off')\n",
        "  plt.margins(x=0, y=0)\n",
        "  plt.tight_layout()\n",
        "  plt.show()"
      ]
    },
    {
      "cell_type": "code",
      "execution_count": 42,
      "metadata": {
        "colab": {
          "base_uri": "https://localhost:8080/",
          "height": 625
        },
        "id": "eYMumePtpj7S",
        "outputId": "d4840f12-c2a2-424a-f6ec-d812fb66a632"
      },
      "outputs": [
        {
          "output_type": "display_data",
          "data": {
            "text/plain": [
              "<Figure size 720x720 with 4 Axes>"
            ],
            "image/png": "[encoded data removed]"
          },
          "metadata": {
            "needs_background": "light"
          }
        }
      ],
      "source": [
        "get_wordcloud(topic= lda_model)"
      ]
    },
    {
      "cell_type": "markdown",
      "source": [
        "**Word Counts of Topic Keywords**\n",
        "\n",
        "\n",
        "I also obtained the weights which are useful in to measure the frequency of the words as regards to their appearance in the document  , and it is summerized per topic .I plotted the word counts and the weights with each having a keywork in the chart and corresponding weights . "
      ],
      "metadata": {
        "id": "MP8DOes6iMu8"
      }
    },
    {
      "cell_type": "code",
      "source": [
        "\n",
        "from collections import Counter\n",
        "topics = lda_model.show_topics(formatted=False)\n",
        "data_flat = [w for w_list in processed_docs for w in w_list]\n",
        "counter = Counter(data_flat)\n",
        "\n",
        "out = []\n",
        "for i, topic in topics:\n",
        "    for word, weight in topic:\n",
        "        out.append([word, i , weight, counter[word]])\n",
        "\n",
        "df = pd.DataFrame(out, columns=['word', 'topic_id', 'importance', 'word_count'])        \n",
        "\n",
        "# Plot Word Count and Weights of Topic Keywords\n",
        "fig, axes = plt.subplots(2, 2, figsize=(16,10), sharey=True, dpi=160)\n",
        "cols = [color for name, color in mcolors.TABLEAU_COLORS.items()]\n",
        "for i, ax in enumerate(axes.flatten()):\n",
        "    ax.bar(x='word', height=\"word_count\", data=df.loc[df.topic_id==i, :], color=cols[i], width=0.5, alpha=0.3, label='Word Count')\n",
        "    ax_twin = ax.twinx()\n",
        "    ax_twin.bar(x='word', height=\"importance\", data=df.loc[df.topic_id==i, :], color=cols[i], width=0.2, label='Weights')\n",
        "    ax.set_ylabel('Word Count', color=cols[i])\n",
        "    ax_twin.set_ylim(0, 0.030); ax.set_ylim(0, 3500)\n",
        "    ax.set_title('Topic: ' + str(i), color=cols[i], fontsize=16)\n",
        "    ax.tick_params(axis='y', left=False)\n",
        "    ax.set_xticklabels(df.loc[df.topic_id==i, 'word'], rotation=30, horizontalalignment= 'right')\n",
        "    ax.legend(loc='upper left'); ax_twin.legend(loc='upper right')\n",
        "\n",
        "fig.tight_layout(w_pad=2)    \n",
        "fig.suptitle('Word Count and Importance of Topic Keywords', fontsize=22, y=1.05)    \n",
        "plt.show()"
      ],
      "metadata": {
        "colab": {
          "base_uri": "https://localhost:8080/",
          "height": 842
        },
        "id": "Ms3Rv7E9g8NJ",
        "outputId": "96beaea9-7a93-446f-fc74-d4ab82f5c12d"
      },
      "execution_count": 43,
      "outputs": [
        {
          "output_type": "display_data",
          "data": {
            "text/plain": [
              "<Figure size 2560x1600 with 8 Axes>"
            ],
            "image/png": "[encoded data removed]"
          },
          "metadata": {
            "needs_background": "light"
          }
        }
      ]
    },
    {
      "cell_type": "markdown",
      "source": [
        "**Vizualize the topics key_words**\n",
        "\n",
        "I used pyLDAvis package to handle the interactive charting in my notebook. Since i have build the LDA model , the next part is to do the examination of the topics that have been produced and the key words associated. In this topics vizualization , each buble on the left side is to represent a topic , and the larger the buble , the more prevalent the topic. When a curseor is moved on the buble on the left side of the vizualization , the right hand side will display the salient keywords that are in that topic that has been selected on the specific buble , and this is the topic modeling for the model . "
      ],
      "metadata": {
        "id": "k2sPaiZkYD_X"
      }
    },
    {
      "cell_type": "code",
      "source": [
        "# Vizualize the topics keywords\n",
        "!pip install pyLDAvis\n",
        "import pyLDAvis.gensim_models \n",
        "import pickle \n",
        "import pyLDAvis# Visualize the topics\n",
        "pyLDAvis.enable_notebook()\n",
        "LDAvis_prepared = pyLDAvis.gensim_models.prepare(lda_model, bow_corpus, dictionary)\n",
        "LDAvis_prepared"
      ],
      "metadata": {
        "colab": {
          "base_uri": "https://localhost:8080/",
          "height": 1000
        },
        "id": "UcnW29g4OV0U",
        "outputId": "f4021293-b8b8-4e6e-951e-6323074dd855"
      },
      "execution_count": 44,
      "outputs": [
        {
          "output_type": "stream",
          "name": "stdout",
          "text": [
            "Looking in indexes: https://pypi.org/simple, https://us-python.pkg.dev/colab-wheels/public/simple/\n",
            "Collecting pyLDAvis\n",
            "  Downloading pyLDAvis-3.3.1.tar.gz (1.7 MB)\n",
            "\u001b[K     |████████████████████████████████| 1.7 MB 5.4 MB/s \n",
            "\u001b[?25h  Installing build dependencies ... \u001b[?25l\u001b[?25hdone\n",
            "  Getting requirements to build wheel ... \u001b[?25l\u001b[?25hdone\n",
            "  Installing backend dependencies ... \u001b[?25l\u001b[?25hdone\n",
            "    Preparing wheel metadata ... \u001b[?25l\u001b[?25hdone\n",
            "Collecting sklearn\n",
            "  Downloading sklearn-0.0.tar.gz (1.1 kB)\n",
            "Requirement already satisfied: numpy>=1.20.0 in /usr/local/lib/python3.7/dist-packages (from pyLDAvis) (1.21.6)\n",
            "Requirement already satisfied: scipy in /usr/local/lib/python3.7/dist-packages (from pyLDAvis) (1.7.3)\n",
            "Requirement already satisfied: numexpr in /usr/local/lib/python3.7/dist-packages (from pyLDAvis) (2.8.3)\n",
            "Requirement already satisfied: future in /usr/local/lib/python3.7/dist-packages (from pyLDAvis) (0.16.0)\n",
            "Requirement already satisfied: scikit-learn in /usr/local/lib/python3.7/dist-packages (from pyLDAvis) (1.0.2)\n",
            "Collecting funcy\n",
            "  Downloading funcy-1.17-py2.py3-none-any.whl (33 kB)\n",
            "Requirement already satisfied: gensim in /usr/local/lib/python3.7/dist-packages (from pyLDAvis) (3.6.0)\n",
            "Requirement already satisfied: joblib in /usr/local/lib/python3.7/dist-packages (from pyLDAvis) (1.1.0)\n",
            "Requirement already satisfied: setuptools in /usr/local/lib/python3.7/dist-packages (from pyLDAvis) (57.4.0)\n",
            "Requirement already satisfied: pandas>=1.2.0 in /usr/local/lib/python3.7/dist-packages (from pyLDAvis) (1.3.5)\n",
            "Requirement already satisfied: jinja2 in /usr/local/lib/python3.7/dist-packages (from pyLDAvis) (2.11.3)\n",
            "Requirement already satisfied: python-dateutil>=2.7.3 in /usr/local/lib/python3.7/dist-packages (from pandas>=1.2.0->pyLDAvis) (2.8.2)\n",
            "Requirement already satisfied: pytz>=2017.3 in /usr/local/lib/python3.7/dist-packages (from pandas>=1.2.0->pyLDAvis) (2022.2.1)\n",
            "Requirement already satisfied: six>=1.5 in /usr/local/lib/python3.7/dist-packages (from python-dateutil>=2.7.3->pandas>=1.2.0->pyLDAvis) (1.15.0)\n",
            "Requirement already satisfied: smart-open>=1.2.1 in /usr/local/lib/python3.7/dist-packages (from gensim->pyLDAvis) (5.2.1)\n",
            "Requirement already satisfied: MarkupSafe>=0.23 in /usr/local/lib/python3.7/dist-packages (from jinja2->pyLDAvis) (2.0.1)\n",
            "Requirement already satisfied: packaging in /usr/local/lib/python3.7/dist-packages (from numexpr->pyLDAvis) (21.3)\n",
            "Requirement already satisfied: pyparsing!=3.0.5,>=2.0.2 in /usr/local/lib/python3.7/dist-packages (from packaging->numexpr->pyLDAvis) (3.0.9)\n",
            "Requirement already satisfied: threadpoolctl>=2.0.0 in /usr/local/lib/python3.7/dist-packages (from scikit-learn->pyLDAvis) (3.1.0)\n",
            "Building wheels for collected packages: pyLDAvis, sklearn\n",
            "  Building wheel for pyLDAvis (PEP 517) ... \u001b[?25l\u001b[?25hdone\n",
            "  Created wheel for pyLDAvis: filename=pyLDAvis-3.3.1-py2.py3-none-any.whl size=136898 sha256=877ed3d1c9eef01327c2bf122d9afb1f79feff02eaaebe2c6a09bc7e0ceb7770\n",
            "  Stored in directory: /root/.cache/pip/wheels/c9/21/f6/17bcf2667e8a68532ba2fbf6d5c72fdf4c7f7d9abfa4852d2f\n",
            "  Building wheel for sklearn (setup.py) ... \u001b[?25l\u001b[?25hdone\n",
            "  Created wheel for sklearn: filename=sklearn-0.0-py2.py3-none-any.whl size=1310 sha256=ffead923457ab0112450f8ff2c770a840685df257e66d7e28e1f999c90b24dff\n",
            "  Stored in directory: /root/.cache/pip/wheels/46/ef/c3/157e41f5ee1372d1be90b09f74f82b10e391eaacca8f22d33e\n",
            "Successfully built pyLDAvis sklearn\n",
            "Installing collected packages: sklearn, funcy, pyLDAvis\n",
            "Successfully installed funcy-1.17 pyLDAvis-3.3.1 sklearn-0.0\n"
          ]
        },
        {
          "output_type": "stream",
          "name": "stderr",
          "text": [
            "/usr/local/lib/python3.7/dist-packages/past/types/oldstr.py:5: DeprecationWarning: Using or importing the ABCs from 'collections' instead of from 'collections.abc' is deprecated since Python 3.3,and in 3.9 it will stop working\n",
            "  from collections import Iterable\n",
            "/usr/local/lib/python3.7/dist-packages/pyLDAvis/_prepare.py:247: FutureWarning: In a future version of pandas all arguments of DataFrame.drop except for the argument 'labels' will be keyword-only\n",
            "  by='saliency', ascending=False).head(R).drop('saliency', 1)\n"
          ]
        },
        {
          "output_type": "execute_result",
          "data": {
            "text/plain": [
              "PreparedData(topic_coordinates=              x         y  topics  cluster       Freq\n",
              "topic                                                \n",
              "4      0.111477  0.052219       1        1  30.474373\n",
              "1      0.041494  0.076585       2        1  20.307440\n",
              "0      0.120224  0.157858       3        1  20.177971\n",
              "3      0.091773 -0.290318       4        1  15.228277\n",
              "2     -0.364968  0.003655       5        1  13.811938, topic_info=            Term        Freq       Total Category  logprob  loglift\n",
              "38        skills  459.000000  459.000000  Default  30.0000  30.0000\n",
              "449          you  361.000000  361.000000  Default  29.0000  29.0000\n",
              "298  internship.  257.000000  257.000000  Default  28.0000  28.0000\n",
              "382          any  314.000000  314.000000  Default  27.0000  27.0000\n",
              "84            up  475.000000  475.000000  Default  26.0000  26.0000\n",
              "..           ...         ...         ...      ...      ...      ...\n",
              "34      acquired   59.201339   90.811711   Topic5  -4.8207   1.5518\n",
              "121          him  123.791382  405.306880   Topic5  -4.0831   0.7936\n",
              "368          are  100.803481  288.366834   Topic5  -4.2885   0.9286\n",
              "335      managed   94.571935  333.541852   Topic5  -4.3523   0.7192\n",
              "54           she   90.093083  504.202967   Topic5  -4.4008   0.2575\n",
              "\n",
              "[333 rows x 6 columns], token_table=      Topic      Freq      Term\n",
              "term                           \n",
              "845       5  0.942762  -Started\n",
              "831       5  0.963616   -Worked\n",
              "548       1  0.894706         .\n",
              "548       3  0.092556         .\n",
              "513       1  0.983742         2\n",
              "...     ...       ...       ...\n",
              "145       4  0.370985   working\n",
              "620       3  0.379384     write\n",
              "620       5  0.617303     write\n",
              "449       3  0.997347       you\n",
              "338       3  0.992464      your\n",
              "\n",
              "[532 rows x 3 columns], R=30, lambda_step=0.01, plot_opts={'xlab': 'PC1', 'ylab': 'PC2'}, topic_order=[5, 2, 1, 4, 3])"
            ],
            "text/html": [
              "\n",
              "<link rel=\"stylesheet\" type=\"text/css\" href=\"https://cdn.jsdelivr.net/gh/bmabey/pyLDAvis@3.3.1/pyLDAvis/js/ldavis.v1.0.0.css\">\n",
              "\n",
              "\n",
              "<div id=\"ldavis_el581403284068777766849591274\"></div>\n",
              "<script type=\"text/javascript\">\n",
              "\n",
              "var ldavis_el581403284068777766849591274_data = {\"mdsDat\": {\"x\": [0.11147708559270399, 0.041494037867488495, 0.12022375931120718, 0.09177263231153311, -0.36496751508293296], \"y\": [0.052219246959154746, 0.07658514009972844, 0.1578579001238469, -0.2903177435432446, 0.0036554563605144027], \"topics\": [1, 2, 3, 4, 5], \"cluster\": [1, 1, 1, 1, 1], \"Freq\": [30.474373428343743, 20.307440257639193, 20.17797143579808, 15.22827725994486, 13.81193761827412]}, \"tinfo\": {\"Term\": [\"skills\", \"you\", \"internship.\", \"any\", \"up\", \"can\", \"Progressive\", \"end\", \"report\", \"encourage\", \"supposed\", \"new\", \"detail\", \"acquired.\", \"explaining\", \"challenges.\", \"tasks\", \"all\", \"week's\", \"very\", \"without\", \"good\", \"finished\", \"your\", \"hands-on\", \"We\", \"Stratcom\", \"doing\", \"it\", \"completed\", \"devices\", \"layer\", \"3\", \"plan\", \"early\", \"2\", \"movements\", \"configuring\", \"All\", \"less\", \"spend\", \"tools\", \"equipment\", \"machine\", \"transport.\", \"cisco\", \"manipulation\", \"analysis\", \"protocols\", \"upgrade\", \"accomplished\", \"ability\", \"instructions\", \"far\", \"routing\", \"Challenged\", \"improving,\", \"gradually\", \"abiding\", \"service\", \"being\", \"forward\", \"data\", \"understanding\", \"The\", \"were\", \"made\", \"student\", \".\", \"which\", \"been\", \"design\", \"by\", \"towards\", \"other\", \"tasks\", \"have\", \"his\", \"that\", \"given\", \"networking\", \"able\", \"as\", \"configure\", \"work\", \"completed\", \"so\", \"task\", \"some\", \"how\", \"time\", \"all\", \"team\", \"can\", \"her\", \"him\", \"be\", \"at\", \"managed\", \"week's\", \"She\", \"also\", \"real\", \"willing\", \"it's\", \"linux\", \"device.\", \"terms\", \"scratch.\", \"building\", \"built\", \"embark\", \"apk\", \"sign\", \"security.\", \"person\", \"almost\", \"Before\", \"off,\", \"flutter\", \"interest\", \"She's\", \"directory\", \"Linux\", \"run\", \"technical\", \"fellow\", \"showed\", \"department\", \"debugging\", \"plot\", \"delivered\", \"interns\", \"System\", \"review\", \"because\", \"very\", \"who\", \"things\", \"promising\", \"website.\", \"coding\", \"well\", \"good\", \"operating\", \"challenge.\", \"done\", \"learn\", \"mobile\", \"she\", \"her\", \"app\", \"delivery\", \"we\", \"She\", \"system\", \"time\", \"an\", \"get\", \"project\", \"our\", \"as\", \"him\", \"new\", \"work\", \"from\", \"end\", \"This\", \"but\", \"team\", \"at\", \"also\", \"it\", \"you\", \"your\", \"Keep\", \"share\", \"setting\", \"PHP\", \"resources\", \"LAN\", \"install\", \"keep\", \"Please\", \"Thank\", \"messaging\", \"online\", \"over\", \"read\", \"up.\", \"server.\", \"enviroment\", \"simple\", \"PHP,\", \"internet.\", \"accessed\", \"secure\", \"deployed\", \"SQL\", \"progress.\", \"You\", \"deploy\", \"server,\", \"up\", \"set\", \"can\", \"Great\", \"server\", \"it\", \"database\", \"also\", \"code\", \"remote\", \"now\", \"like\", \"that\", \"more\", \"development\", \"how\", \"knowledge\", \"using\", \"be\", \"his\", \"from\", \"are\", \"managed\", \"as\", \"by\", \"week's\", \"challenges.\", \"without\", \"contact\", \"incase\", \"Lead\", \"Very\", \"Trainer\", \"attendance\", \"Has\", \"Developer\", \"no\", \"relationships\", \"relationship\", \"record\", \"proper\", \"asks\", \"semester\", \"require\", \"multitasking.\", \"By\", \"regardless\", \"so,\", \"exceedingly\", \"supervision.\", \"attentive\", \"reviewed\", \"Maintains\", \"coworkers.\", \"constant\", \"Takes\", \"continued\", \"Stratcom\", \"any\", \"Tasks\", \"doing\", \"encourage\", \"week's\", \"always\", \"completed\", \"well.\", \"Good\", \"at\", \"tasks\", \"practice\", \"good\", \"week\", \"use\", \"working\", \"tasks.\", \"so\", \"assigned\", \"she\", \"She\", \"not\", \"work\", \"internship.\", \"Progressive\", \"detail\", \"acquired.\", \"explaining\", \"supposed\", \"hands-on\", \"finished\", \"equip\", \"weeks.\", \"6\", \"competence\", \"wish\", \"repair\", \"-Worked\", \"applications\", \"report\", \"designing\", \"started\", \"Systems\", \"cable\", \"Server\", \"Web\", \"Remote\", \"-Started\", \"Studio\", \"competence.\", \"Banker\", \"atara\", \"Laravel\", \"skills\", \"challenges,\", \"best.\", \"present\", \"practical\", \"Despite\", \"few\", \"end\", \"We\", \"new\", \"all\", \"write\", \"next\", \"going\", \"acquired\", \"him\", \"are\", \"managed\", \"she\"], \"Freq\": [459.0, 361.0, 257.0, 314.0, 475.0, 603.0, 211.0, 341.0, 219.0, 498.0, 196.0, 383.0, 186.0, 181.0, 178.0, 187.0, 484.0, 441.0, 370.0, 292.0, 156.0, 470.0, 141.0, 168.0, 132.0, 209.0, 144.0, 219.0, 314.0, 482.0, 126.68534818748914, 86.17812686525389, 76.51551917503569, 68.78543905948668, 58.159819813948936, 58.15891054722547, 55.262522516768776, 52.358143503240264, 40.76207633428359, 37.871532511937495, 35.928452161228705, 34.96395031397652, 33.98850708291494, 44.30351176077713, 31.10903480911666, 31.09942336937376, 31.098102857534695, 34.86144463924645, 29.17648082421069, 29.17083657932143, 28.20459920222362, 44.17272072245431, 31.005621754108606, 29.123426431408074, 27.2436268944727, 26.277653619742697, 25.3132498676557, 25.3132498676557, 25.313247981210214, 25.307833882670053, 78.34913664006802, 60.41502388872078, 186.4201726550172, 83.4498060358913, 274.93829177378376, 146.01149924488578, 58.361929810254104, 168.96445493272597, 58.45228300317382, 128.3729925009404, 198.27216633705734, 81.9219738380945, 195.99599630717213, 49.891914090804086, 84.36037817963613, 295.10059092767557, 162.85274885244192, 267.76324919443, 275.1283247460979, 67.81020711031935, 58.874299722483755, 141.97361550605075, 206.00372542586612, 70.72398062236006, 203.01600325083783, 199.50538857066803, 140.2706079805747, 87.60302705164115, 92.09472920776176, 96.77800367571182, 118.45202478296389, 135.8439051900638, 111.83598882110458, 145.59107845845563, 126.73059269598643, 119.2934096521237, 108.66173491658112, 108.6744269218, 103.56859621113148, 104.94994968995739, 104.2392200350455, 95.26898311228523, 53.34907504654747, 52.356918163699326, 51.377679086733394, 51.362910851670705, 44.487807166821426, 44.48590142589914, 41.533679947797275, 42.48850894743538, 40.555290660319116, 39.57182777761513, 38.58744973700123, 31.693982553871752, 30.711027533524366, 34.517998956973294, 29.72308942807411, 27.758169970391712, 27.758162427881466, 27.745986302173495, 26.76194264618053, 24.802946573211734, 23.819581743140954, 28.514329250136395, 48.42541486774014, 21.84269483586741, 21.82796934169611, 23.70620775745538, 20.85219101984829, 28.42037471416554, 19.881632115091065, 19.87807205025471, 33.601536192789176, 23.53297138211324, 35.95884468936661, 73.6870265173831, 233.28050932561518, 27.881075174858807, 37.65366685512101, 46.060219419614924, 30.35924988396669, 129.05543771887156, 189.2720135999398, 257.23570288881854, 50.38306334554488, 91.61698130861458, 116.23776620269246, 132.38062878615375, 104.20953403563578, 233.6757770892543, 215.04002435919418, 99.47701112315568, 55.468580765902445, 116.0754614388676, 183.16052873746904, 99.23663634993915, 127.0949985122756, 95.7135298137882, 73.42016747652096, 80.57248858297095, 73.22402198339003, 124.93632202304035, 118.56863317251566, 114.37177933774363, 111.01204357353237, 86.82865387699053, 97.90574533191965, 72.15103956074014, 72.14291879137473, 78.7521992734357, 82.56090547424134, 77.46628172984614, 72.4838352261774, 361.15950324831135, 167.4530791072233, 88.23429535791318, 76.4946557576017, 95.80948869922457, 71.5991484769892, 68.66859408600156, 67.6907167190412, 55.92598079276449, 53.016275887791764, 52.039937375778116, 48.12764349161648, 47.1498810391489, 47.14211681646326, 45.18785097466632, 44.20784519144851, 44.20536703543044, 42.254653550344884, 41.27974897134976, 41.2677853733956, 38.33084323549444, 34.43117245854984, 33.45565833311478, 31.498359747965083, 31.4971656364967, 30.51332520661787, 38.109030784889306, 28.56274911929541, 28.562177044972692, 28.556861000611352, 385.46309907957345, 154.290373402383, 414.30895504066285, 68.45067623744498, 121.27100292992904, 209.2353491554708, 81.66061679509738, 220.49894797504533, 72.80114907511589, 64.16356125555052, 139.2615462679852, 76.02379612160415, 159.59901327336252, 112.23330782793842, 78.69331974411604, 84.34320069952707, 72.35222311839117, 82.37511514090356, 93.58702242385928, 107.34166766982185, 85.74530739983048, 78.2529324338326, 80.30371645699455, 78.7056105985605, 70.94432572690843, 70.18902274360313, 186.56246298656265, 155.24229455526833, 107.98890857747085, 102.95425994384176, 80.79164471422612, 77.76466708600348, 57.62181921892868, 51.575684362949964, 50.56495227757879, 48.554962300963595, 45.518550419140524, 43.51526094957888, 41.50347235627008, 41.49185487611702, 38.478979609391445, 38.476170449146714, 36.465656347331496, 36.46444972816597, 34.45271769513055, 34.45201634774059, 34.45068906665851, 33.44401046754652, 32.43799550897557, 32.43230177478825, 31.42849266687927, 31.41914513903135, 30.423209221177416, 30.423205450492524, 30.421355929552867, 29.413955244284008, 47.028355274112094, 137.8964954930557, 284.3468349124294, 33.099765790307345, 153.9591908173894, 297.05585292810497, 194.58280024884408, 96.6655343046344, 207.08880458992022, 107.35103689698623, 133.1031556097919, 162.7826839617229, 172.2761523977138, 69.37220093170458, 134.6266480509224, 103.45803098681792, 79.77268499442003, 83.50265403121666, 73.53938088175914, 82.79040936191704, 64.15768308734476, 71.59354156721604, 67.88914531535873, 57.74310329848833, 59.45333513822327, 256.2799754166749, 211.01134357851154, 185.7810409277669, 180.7482882393418, 177.72350391430606, 195.59729787101523, 131.32174929877283, 140.3213414237354, 85.9382196782921, 80.88592520131593, 81.80088035963625, 57.69318745545892, 43.57072264380226, 39.53213878300438, 34.495145314424676, 31.444656389677768, 214.03023185113878, 30.434810355414548, 117.44865262015793, 26.42390271510134, 25.369764468110652, 23.392984648769453, 22.387521323996644, 20.37360731843084, 19.361586174346396, 18.35631778866134, 18.354908755255135, 17.349127371970734, 17.349125661978736, 17.348838383323102, 405.93541076001793, 79.05166466503285, 40.588014381864845, 105.30404321280909, 104.94459605489982, 111.50119101226018, 83.03390770948664, 224.3714836975891, 142.51428988148072, 222.34019104334945, 220.3869697837622, 96.2809626377645, 79.04901759742023, 89.79174820508617, 59.20133883782219, 123.79138229833522, 100.80348107391279, 94.5719350754336, 90.0930829949416], \"Total\": [459.0, 361.0, 257.0, 314.0, 475.0, 603.0, 211.0, 341.0, 219.0, 498.0, 196.0, 383.0, 186.0, 181.0, 178.0, 187.0, 484.0, 441.0, 370.0, 292.0, 156.0, 470.0, 141.0, 168.0, 132.0, 209.0, 144.0, 219.0, 314.0, 482.0, 127.55662809844048, 86.97704850852452, 77.31552456618405, 69.58626449129352, 58.958506510920834, 58.95852679354072, 56.060015031640575, 53.161596615216425, 41.567838211295644, 38.66916448794787, 36.737137148823926, 35.77092438296428, 34.80529240453106, 45.43645971668214, 31.906054974656065, 31.90640453384639, 31.90623655624884, 35.77210857393236, 29.97375547932326, 29.973835520561305, 29.00767064060535, 45.43920615835839, 31.907985270766666, 29.97479096429652, 28.04145549258613, 27.07527060146364, 26.10906844108103, 26.10906886794751, 26.109067319028053, 26.109174041929084, 83.16214649504461, 63.831533101318485, 204.09060067685368, 89.94719547754065, 326.53529388063987, 167.55248565976197, 63.860309832034304, 203.54135370108787, 64.8257778396366, 157.05370042235197, 257.99625634217705, 95.8357777078241, 267.55662173570363, 55.148959408279964, 104.6117514554976, 484.6135613499456, 236.77527082715082, 459.1911573633609, 482.0724734704281, 81.41091410550202, 68.98941449031238, 239.16884016580556, 410.0547359538105, 89.63144572397321, 424.43685843526174, 482.5969802268791, 291.30152797476234, 140.80508673725808, 156.1688049327493, 181.7341567477622, 290.9569086381218, 441.0605913959839, 295.1278147137048, 603.7162766544251, 456.8189108081454, 405.3068797585726, 306.7339866545665, 372.9654029552765, 333.5418515790674, 370.1896822651294, 493.2286758683579, 428.7908321444072, 54.14566666762664, 53.161404131487245, 52.176855035596404, 52.17669589918096, 45.2861241975692, 45.286256225041086, 42.3331259064812, 43.31721361747375, 41.348678687338506, 40.364298617866844, 39.3799156473418, 32.489277804567074, 31.504845883625663, 35.44155001893632, 30.5205672294708, 28.55172347496522, 28.551722027287777, 28.551547927517504, 27.56738151867618, 25.598569381786675, 24.614133998885567, 29.53199256608105, 50.20193697273495, 22.645310072765895, 22.64589363077286, 24.612050349972364, 21.66080429985878, 29.541640420672323, 20.67658309476421, 20.676566059550414, 35.42347596619635, 24.6143287189452, 38.385492189052506, 82.58963733892567, 292.30048866778014, 29.521760937741707, 41.33062017466606, 52.30613231749966, 32.52194544629103, 183.21183461782724, 315.90714947847806, 470.5414118163946, 60.85400542750715, 135.85714713159507, 186.79766378082874, 225.97317806792807, 166.96079255883194, 504.2029674552821, 456.8189108081454, 164.97478978417368, 71.7671829958758, 235.79549189424165, 493.2286758683579, 191.3173861854693, 290.9569086381218, 191.7363444108236, 126.86079807108564, 155.5866335767479, 132.16202380784802, 410.0547359538105, 405.3068797585726, 383.05806480269564, 424.43685843526174, 244.32330471778906, 341.7120450595505, 175.5821849978053, 181.2692799750802, 295.1278147137048, 372.9654029552765, 428.7908321444072, 314.080142438786, 361.96019750349154, 168.26812163418882, 89.03074508010886, 77.2918251047275, 96.8536266031167, 72.40071410678722, 69.46592014268973, 68.48765885919205, 56.74867730865038, 53.8140205842113, 52.83580993324958, 48.92282988607017, 47.94460695475575, 47.94457764666166, 45.98808785431283, 45.00987100490327, 45.009860340472, 43.05339293009315, 42.07515787595683, 42.075234414992025, 39.14085939725717, 35.22749953325323, 34.24920907050653, 32.29273329185905, 32.292707780990504, 31.314631692900157, 39.13754734390161, 29.35799333651728, 29.357980790420587, 29.358047569378925, 475.43399242360607, 194.41367519494054, 603.7162766544251, 79.12520874084522, 162.64473008734885, 314.080142438786, 109.23894519787703, 428.7908321444072, 99.04381002232489, 82.93819772903319, 270.0492280973274, 109.37037080170569, 482.0724734704281, 255.6634515301648, 136.77499108288245, 181.7341567477622, 133.79561415691234, 207.56111148049928, 306.7339866545665, 459.1911573633609, 244.32330471778906, 288.36683433080066, 333.5418515790674, 410.0547359538105, 267.55662173570363, 370.1896822651294, 187.35650710261598, 156.1238140126582, 108.77990166010127, 103.74301229099338, 81.58036294224172, 78.55805544472544, 58.41035108904192, 52.36592360376957, 51.3584550660324, 49.34379436604886, 46.32122170605954, 44.30676187165617, 42.29204803319146, 42.291707715951844, 39.269793170802835, 39.26974793492389, 37.25507152318965, 37.255014796344916, 35.24032067379535, 35.24030366728009, 35.240276563080734, 34.23288972275321, 33.22553939037565, 33.225330394966406, 32.218088152078, 32.217788982261304, 31.210755491358185, 31.21075383006612, 31.21068467182244, 30.203310915611215, 48.33680097950254, 144.864276464826, 314.4192778363737, 34.225026834812496, 219.2230803414665, 498.0550280186972, 370.1896822651294, 150.72005032988466, 482.5969802268791, 194.19991844973393, 269.14492974904044, 372.9654029552765, 484.6135613499456, 120.08361516808412, 470.5414118163946, 291.7666516637807, 192.18217796852, 226.42426533522217, 184.2274490412406, 291.30152797476234, 145.70589664519696, 504.2029674552821, 493.2286758683579, 186.38874749559514, 424.43685843526174, 257.18839381625475, 211.80132658171266, 186.5841343770185, 181.54107248608025, 178.51508526448012, 196.6643457263803, 132.11610912640683, 141.19226263213588, 86.72605182844929, 81.682600377965, 82.69122298213142, 58.483192298386655, 44.36176542918112, 40.3269377269652, 35.283763174311176, 32.256990747832255, 219.72017882825597, 31.248072404085626, 120.94538668778449, 27.21433987126987, 26.203812414274438, 24.188180186501988, 23.17960085208265, 21.162368783655737, 20.15354753932914, 19.145005278625494, 19.145032371964074, 18.13638826198823, 18.136388212316426, 18.136382605597003, 459.6348120746158, 96.39641204229157, 46.22824923681087, 133.45835074776815, 137.7679507995709, 148.16812489566047, 106.03082812601355, 341.7120450595505, 209.20349633832046, 383.05806480269564, 441.0605913959839, 155.51518320980995, 133.37224151063396, 170.34444060479444, 90.81171073290244, 405.3068797585726, 288.36683433080066, 333.5418515790674, 504.2029674552821], \"Category\": [\"Default\", \"Default\", \"Default\", \"Default\", \"Default\", \"Default\", \"Default\", \"Default\", \"Default\", \"Default\", \"Default\", \"Default\", \"Default\", \"Default\", \"Default\", \"Default\", \"Default\", \"Default\", \"Default\", \"Default\", \"Default\", \"Default\", \"Default\", \"Default\", \"Default\", \"Default\", \"Default\", \"Default\", \"Default\", \"Default\", \"Topic1\", \"Topic1\", \"Topic1\", \"Topic1\", \"Topic1\", \"Topic1\", \"Topic1\", \"Topic1\", \"Topic1\", \"Topic1\", \"Topic1\", \"Topic1\", \"Topic1\", \"Topic1\", \"Topic1\", \"Topic1\", \"Topic1\", \"Topic1\", \"Topic1\", \"Topic1\", \"Topic1\", \"Topic1\", \"Topic1\", \"Topic1\", \"Topic1\", \"Topic1\", \"Topic1\", \"Topic1\", \"Topic1\", \"Topic1\", \"Topic1\", \"Topic1\", \"Topic1\", \"Topic1\", \"Topic1\", \"Topic1\", \"Topic1\", \"Topic1\", \"Topic1\", \"Topic1\", \"Topic1\", \"Topic1\", \"Topic1\", \"Topic1\", \"Topic1\", \"Topic1\", \"Topic1\", \"Topic1\", \"Topic1\", \"Topic1\", \"Topic1\", \"Topic1\", \"Topic1\", \"Topic1\", \"Topic1\", \"Topic1\", \"Topic1\", \"Topic1\", \"Topic1\", \"Topic1\", \"Topic1\", \"Topic1\", \"Topic1\", \"Topic1\", \"Topic1\", \"Topic1\", \"Topic1\", \"Topic1\", \"Topic1\", \"Topic1\", \"Topic1\", \"Topic1\", \"Topic2\", \"Topic2\", \"Topic2\", \"Topic2\", \"Topic2\", \"Topic2\", \"Topic2\", \"Topic2\", \"Topic2\", \"Topic2\", \"Topic2\", \"Topic2\", \"Topic2\", \"Topic2\", \"Topic2\", \"Topic2\", \"Topic2\", \"Topic2\", \"Topic2\", \"Topic2\", \"Topic2\", \"Topic2\", \"Topic2\", \"Topic2\", \"Topic2\", \"Topic2\", \"Topic2\", \"Topic2\", \"Topic2\", \"Topic2\", \"Topic2\", \"Topic2\", \"Topic2\", \"Topic2\", \"Topic2\", \"Topic2\", \"Topic2\", \"Topic2\", \"Topic2\", \"Topic2\", \"Topic2\", \"Topic2\", \"Topic2\", \"Topic2\", \"Topic2\", \"Topic2\", \"Topic2\", \"Topic2\", \"Topic2\", \"Topic2\", \"Topic2\", \"Topic2\", \"Topic2\", \"Topic2\", \"Topic2\", \"Topic2\", \"Topic2\", \"Topic2\", \"Topic2\", \"Topic2\", \"Topic2\", \"Topic2\", \"Topic2\", \"Topic2\", \"Topic2\", \"Topic2\", \"Topic2\", \"Topic2\", \"Topic2\", \"Topic2\", \"Topic2\", \"Topic3\", \"Topic3\", \"Topic3\", \"Topic3\", \"Topic3\", \"Topic3\", \"Topic3\", \"Topic3\", \"Topic3\", \"Topic3\", \"Topic3\", \"Topic3\", \"Topic3\", \"Topic3\", \"Topic3\", \"Topic3\", \"Topic3\", \"Topic3\", \"Topic3\", \"Topic3\", \"Topic3\", \"Topic3\", \"Topic3\", \"Topic3\", \"Topic3\", \"Topic3\", \"Topic3\", \"Topic3\", \"Topic3\", \"Topic3\", \"Topic3\", \"Topic3\", \"Topic3\", \"Topic3\", \"Topic3\", \"Topic3\", \"Topic3\", \"Topic3\", \"Topic3\", \"Topic3\", \"Topic3\", \"Topic3\", \"Topic3\", \"Topic3\", \"Topic3\", \"Topic3\", \"Topic3\", \"Topic3\", \"Topic3\", \"Topic3\", \"Topic3\", \"Topic3\", \"Topic3\", \"Topic3\", \"Topic3\", \"Topic3\", \"Topic4\", \"Topic4\", \"Topic4\", \"Topic4\", \"Topic4\", \"Topic4\", \"Topic4\", \"Topic4\", \"Topic4\", \"Topic4\", \"Topic4\", \"Topic4\", \"Topic4\", \"Topic4\", \"Topic4\", \"Topic4\", \"Topic4\", \"Topic4\", \"Topic4\", \"Topic4\", \"Topic4\", \"Topic4\", \"Topic4\", \"Topic4\", \"Topic4\", \"Topic4\", \"Topic4\", \"Topic4\", \"Topic4\", \"Topic4\", \"Topic4\", \"Topic4\", \"Topic4\", \"Topic4\", \"Topic4\", \"Topic4\", \"Topic4\", \"Topic4\", \"Topic4\", \"Topic4\", \"Topic4\", \"Topic4\", \"Topic4\", \"Topic4\", \"Topic4\", \"Topic4\", \"Topic4\", \"Topic4\", \"Topic4\", \"Topic4\", \"Topic4\", \"Topic4\", \"Topic4\", \"Topic4\", \"Topic4\", \"Topic5\", \"Topic5\", \"Topic5\", \"Topic5\", \"Topic5\", \"Topic5\", \"Topic5\", \"Topic5\", \"Topic5\", \"Topic5\", \"Topic5\", \"Topic5\", \"Topic5\", \"Topic5\", \"Topic5\", \"Topic5\", \"Topic5\", \"Topic5\", \"Topic5\", \"Topic5\", \"Topic5\", \"Topic5\", \"Topic5\", \"Topic5\", \"Topic5\", \"Topic5\", \"Topic5\", \"Topic5\", \"Topic5\", \"Topic5\", \"Topic5\", \"Topic5\", \"Topic5\", \"Topic5\", \"Topic5\", \"Topic5\", \"Topic5\", \"Topic5\", \"Topic5\", \"Topic5\", \"Topic5\", \"Topic5\", \"Topic5\", \"Topic5\", \"Topic5\", \"Topic5\", \"Topic5\", \"Topic5\", \"Topic5\"], \"logprob\": [30.0, 29.0, 28.0, 27.0, 26.0, 25.0, 24.0, 23.0, 22.0, 21.0, 20.0, 19.0, 18.0, 17.0, 16.0, 15.0, 14.0, 13.0, 12.0, 11.0, 10.0, 9.0, 8.0, 7.0, 6.0, 5.0, 4.0, 3.0, 2.0, 1.0, -4.8513, -5.2366, -5.3555, -5.462, -5.6298, -5.6299, -5.6809, -5.7349, -5.9853, -6.0588, -6.1115, -6.1387, -6.167, -5.902, -6.2555, -6.2559, -6.2559, -6.1417, -6.3197, -6.3199, -6.3536, -5.9049, -6.2589, -6.3215, -6.3882, -6.4243, -6.4617, -6.4617, -6.4617, -6.4619, -5.3319, -5.5918, -4.465, -5.2688, -4.0765, -4.7094, -5.6264, -4.5634, -5.6248, -4.8381, -4.4034, -5.2873, -4.4149, -5.7832, -5.2579, -4.0057, -4.6002, -4.1029, -4.0758, -5.4763, -5.6176, -4.7374, -4.3651, -5.4343, -4.3798, -4.3972, -4.7495, -5.2202, -5.1702, -5.1206, -4.9185, -4.7815, -4.976, -4.7122, -4.851, -4.9115, -5.0048, -5.0047, -5.0528, -5.0396, -5.0464, -5.1363, -5.3103, -5.3291, -5.3479, -5.3482, -5.4919, -5.492, -5.5606, -5.5379, -5.5845, -5.609, -5.6342, -5.831, -5.8625, -5.7457, -5.8952, -5.9636, -5.9636, -5.9641, -6.0002, -6.0762, -6.1166, -5.9367, -5.4071, -6.2033, -6.2039, -6.1214, -6.2497, -5.94, -6.2973, -6.2975, -5.7726, -6.1287, -5.7048, -4.9873, -3.8349, -5.9592, -5.6587, -5.4572, -5.874, -4.4269, -4.044, -3.7371, -5.3675, -4.7695, -4.5315, -4.4015, -4.6407, -3.8332, -3.9163, -4.6872, -5.2713, -4.5329, -4.0768, -4.6896, -4.4422, -4.7258, -4.9909, -4.898, -4.9936, -4.4593, -4.5117, -4.5477, -4.5775, -4.8232, -4.7031, -5.0084, -5.0085, -4.9208, -4.8736, -4.9373, -5.0038, -3.3914, -4.16, -4.8008, -4.9435, -4.7184, -5.0097, -5.0515, -5.0658, -5.2567, -5.3101, -5.3287, -5.4069, -5.4274, -5.4276, -5.4699, -5.4918, -5.4919, -5.537, -5.5604, -5.5607, -5.6345, -5.7418, -5.7705, -5.8308, -5.8308, -5.8626, -5.6403, -5.9286, -5.9287, -5.9288, -3.3263, -4.2419, -3.2541, -5.0546, -4.4827, -3.9373, -4.8782, -3.8849, -4.993, -5.1193, -4.3444, -4.9497, -4.2081, -4.5602, -4.9152, -4.8459, -4.9992, -4.8695, -4.7419, -4.6047, -4.8294, -4.9208, -4.8949, -4.915, -5.0189, -5.0296, -3.7705, -3.9543, -4.3173, -4.365, -4.6074, -4.6456, -4.9454, -5.0563, -5.076, -5.1166, -5.1812, -5.2262, -5.2735, -5.2738, -5.3492, -5.3493, -5.4029, -5.403, -5.4597, -5.4597, -5.4598, -5.4894, -5.52, -5.5202, -5.5516, -5.5519, -5.5841, -5.5841, -5.5842, -5.6178, -5.1486, -4.0728, -3.3491, -5.4998, -3.9626, -3.3054, -3.7285, -4.4281, -3.6662, -4.3232, -4.1082, -3.9069, -3.8502, -4.7598, -4.0968, -4.3601, -4.6201, -4.5744, -4.7015, -4.583, -4.838, -4.7283, -4.7814, -4.9433, -4.9141, -3.3554, -3.5498, -3.6771, -3.7046, -3.7215, -3.6256, -4.024, -3.9578, -4.4481, -4.5086, -4.4974, -4.8465, -5.1273, -5.2246, -5.3609, -5.4535, -3.5356, -5.4861, -4.1357, -5.6274, -5.6681, -5.7493, -5.7932, -5.8874, -5.9384, -5.9917, -5.9918, -6.0481, -6.0481, -6.0482, -2.8955, -4.5316, -5.1982, -4.2448, -4.2483, -4.1877, -4.4824, -3.4884, -3.9422, -3.4975, -3.5063, -4.3344, -4.5316, -4.4042, -4.8207, -4.0831, -4.2885, -4.3523, -4.4008], \"loglift\": [30.0, 29.0, 28.0, 27.0, 26.0, 25.0, 24.0, 23.0, 22.0, 21.0, 20.0, 19.0, 18.0, 17.0, 16.0, 15.0, 14.0, 13.0, 12.0, 11.0, 10.0, 9.0, 8.0, 7.0, 6.0, 5.0, 4.0, 3.0, 2.0, 1.0, 1.1814, 1.1791, 1.1779, 1.1767, 1.1746, 1.1746, 1.174, 1.1731, 1.1687, 1.1674, 1.166, 1.1655, 1.1645, 1.163, 1.163, 1.1627, 1.1626, 1.1625, 1.1613, 1.1611, 1.1602, 1.16, 1.1596, 1.1595, 1.1594, 1.1584, 1.1573, 1.1573, 1.1573, 1.1571, 1.1287, 1.1333, 1.0977, 1.1133, 1.0163, 1.0507, 1.0982, 1.0021, 1.0848, 0.9866, 0.925, 1.0314, 0.877, 1.0881, 0.9731, 0.6922, 0.814, 0.6489, 0.6274, 1.0055, 1.0297, 0.6668, 0.4999, 0.9514, 0.4508, 0.3049, 0.4575, 0.7137, 0.6602, 0.5582, 0.2896, 0.0106, 0.2179, -0.234, -0.0939, -0.0348, 0.1505, -0.0448, 0.0187, -0.0722, -0.366, -0.316, 1.5794, 1.5789, 1.5787, 1.5785, 1.5764, 1.5764, 1.5751, 1.5749, 1.5748, 1.5744, 1.5739, 1.5694, 1.5687, 1.5678, 1.5677, 1.566, 1.566, 1.5656, 1.5645, 1.5626, 1.5614, 1.5591, 1.5582, 1.5581, 1.5574, 1.5567, 1.5561, 1.5555, 1.555, 1.5548, 1.5414, 1.5493, 1.5289, 1.4801, 1.3686, 1.537, 1.501, 1.467, 1.5254, 1.2438, 1.0819, 0.9903, 1.4054, 1.2002, 1.1198, 1.0594, 1.1228, 0.8251, 0.8407, 1.0883, 1.3366, 0.8855, 0.6036, 0.9378, 0.7659, 0.8994, 1.0473, 0.9361, 1.0037, 0.4057, 0.365, 0.3855, 0.2531, 0.5596, 0.3442, 0.7048, 0.6728, 0.2731, 0.0862, -0.1169, 0.1279, 1.5984, 1.5957, 1.5916, 1.5902, 1.5897, 1.5894, 1.589, 1.5889, 1.586, 1.5856, 1.5854, 1.5842, 1.5839, 1.5837, 1.583, 1.5826, 1.5825, 1.5819, 1.5815, 1.5812, 1.5797, 1.5777, 1.5771, 1.5757, 1.5756, 1.5747, 1.5739, 1.5731, 1.5731, 1.5729, 1.3908, 1.3694, 1.2241, 1.4557, 1.307, 1.1944, 1.3096, 0.9355, 1.2927, 1.3439, 0.9383, 1.2369, 0.4951, 0.7773, 1.0478, 0.8329, 0.9858, 0.6764, 0.4135, 0.1471, 0.5535, 0.2963, 0.1766, -0.05, 0.2731, -0.0622, 1.8778, 1.8764, 1.8747, 1.8744, 1.8723, 1.8719, 1.8684, 1.8668, 1.8664, 1.8659, 1.8645, 1.864, 1.8632, 1.8629, 1.8617, 1.8616, 1.8606, 1.8606, 1.8594, 1.8594, 1.8594, 1.8587, 1.858, 1.8579, 1.8572, 1.8569, 1.8565, 1.8565, 1.8564, 1.8555, 1.8546, 1.8327, 1.7815, 1.8486, 1.5286, 1.3652, 1.2389, 1.4378, 1.036, 1.2892, 1.1779, 1.0529, 0.8478, 1.3333, 0.6306, 0.8452, 1.0028, 0.8845, 0.9637, 0.624, 1.0618, -0.07, -0.1011, 0.7102, -0.0836, 1.9761, 1.9759, 1.9753, 1.9753, 1.9752, 1.9742, 1.9736, 1.9734, 1.9705, 1.9698, 1.9688, 1.966, 1.9616, 1.9597, 1.957, 1.9541, 1.9534, 1.9533, 1.9503, 1.9502, 1.9473, 1.9462, 1.9449, 1.9417, 1.9395, 1.9376, 1.9375, 1.9353, 1.9353, 1.9352, 1.8554, 1.7813, 1.8495, 1.7427, 1.7075, 1.6953, 1.7352, 1.559, 1.5958, 1.4357, 1.2858, 1.5002, 1.4566, 1.3393, 1.5518, 0.7936, 0.9286, 0.7192, 0.2575]}, \"token.table\": {\"Topic\": [5, 5, 1, 3, 1, 1, 5, 1, 5, 2, 4, 1, 2, 3, 5, 4, 1, 3, 4, 5, 1, 3, 4, 3, 3, 5, 4, 2, 4, 3, 3, 3, 5, 5, 3, 5, 1, 2, 3, 4, 5, 2, 1, 2, 4, 5, 2, 5, 4, 2, 4, 3, 1, 2, 3, 1, 2, 3, 4, 4, 1, 2, 3, 5, 5, 3, 1, 1, 3, 1, 2, 3, 4, 3, 1, 3, 5, 5, 1, 2, 3, 4, 5, 2, 1, 2, 3, 4, 1, 2, 3, 4, 1, 2, 3, 1, 3, 4, 2, 2, 3, 5, 1, 2, 3, 4, 5, 1, 2, 3, 4, 1, 2, 4, 1, 2, 3, 4, 5, 5, 4, 4, 1, 2, 3, 4, 1, 2, 3, 1, 2, 3, 4, 1, 3, 3, 5, 2, 2, 1, 2, 3, 1, 3, 5, 1, 2, 3, 4, 2, 4, 3, 4, 5, 4, 1, 2, 3, 5, 2, 3, 4, 5, 5, 1, 2, 3, 4, 5, 1, 3, 4, 1, 4, 4, 4, 5, 4, 1, 3, 1, 3, 2, 2, 2, 3, 2, 3, 3, 1, 3, 5, 5, 1, 2, 3, 2, 1, 2, 1, 2, 4, 5, 1, 2, 5, 1, 2, 1, 2, 3, 4, 1, 2, 3, 5, 3, 5, 1, 4, 5, 1, 2, 1, 3, 5, 5, 2, 1, 2, 3, 1, 2, 3, 4, 1, 2, 3, 4, 1, 2, 3, 2, 3, 5, 1, 2, 3, 4, 1, 5, 1, 2, 3, 1, 2, 3, 4, 5, 1, 2, 3, 4, 5, 1, 2, 3, 4, 5, 1, 3, 1, 4, 3, 1, 2, 3, 1, 2, 5, 1, 2, 3, 2, 3, 1, 2, 3, 5, 1, 1, 2, 3, 4, 1, 1, 2, 3, 2, 1, 3, 1, 2, 3, 1, 2, 3, 4, 5, 1, 3, 2, 3, 1, 2, 3, 1, 4, 1, 2, 4, 5, 1, 2, 3, 4, 5, 1, 3, 5, 4, 1, 2, 3, 4, 1, 2, 3, 4, 5, 2, 3, 1, 2, 1, 2, 3, 1, 2, 3, 4, 3, 2, 1, 2, 1, 5, 1, 2, 3, 4, 2, 5, 3, 1, 2, 3, 2, 5, 4, 1, 3, 2, 4, 4, 4, 4, 1, 3, 5, 2, 3, 5, 4, 3, 2, 3, 4, 1, 2, 3, 2, 3, 2, 4, 3, 5, 3, 3, 1, 2, 3, 5, 3, 3, 1, 2, 3, 4, 5, 2, 2, 3, 2, 5, 1, 2, 3, 4, 5, 4, 1, 2, 3, 4, 5, 1, 1, 4, 5, 1, 2, 4, 5, 1, 2, 3, 1, 2, 3, 1, 2, 3, 4, 1, 3, 4, 5, 1, 2, 3, 4, 2, 2, 1, 2, 3, 2, 3, 1, 2, 3, 4, 1, 1, 3, 1, 1, 3, 1, 3, 4, 5, 3, 1, 1, 2, 3, 4, 1, 2, 3, 5, 1, 2, 5, 1, 2, 3, 5, 2, 5, 1, 2, 3, 4, 5, 1, 3, 4, 5, 1, 2, 3, 4, 1, 2, 3, 4, 5, 1, 2, 1, 2, 3, 1, 2, 2, 5, 4, 1, 2, 3, 4, 1, 2, 3, 4, 3, 5, 3, 3], \"Freq\": [0.9427620602736059, 0.9636160358528356, 0.8947058089064209, 0.09255577333514699, 0.9837423550812716, 0.9959190011585066, 0.9916409147524546, 0.986339481778936, 0.9373420856692858, 0.9806763512735411, 0.9648043989918371, 0.9602858779403848, 0.020247269796473368, 0.22271996776120706, 0.7558980724016724, 0.9930326726903391, 0.014861881305844146, 0.21921274926120116, 0.49415755341931783, 0.27122933383165565, 0.12638197306692095, 0.8593974168550625, 0.9930205247495952, 0.9884225940243294, 0.9928796097382353, 0.9373423780083737, 0.9928859970547984, 0.9819858898822807, 0.9612071072200279, 0.9944653293585449, 0.9708524693932216, 0.9841809951564005, 0.9962166120739404, 0.9450737866096793, 0.9899525660724443, 0.9508776527485502, 0.21085554244570617, 0.3710246564188868, 0.1257023426118633, 0.13786708544526943, 0.15408674255647758, 0.9766170768038094, 0.013806026225420822, 0.027612052450841643, 0.9526158095540367, 0.9401930027199398, 0.9750418251921548, 0.9553786762047516, 0.9601596355123683, 0.029218384687512797, 0.9642066946879223, 0.9811370297217225, 0.8421754253018731, 0.14393543632432013, 0.012249824368027245, 0.43854107408996224, 0.41006438096723746, 0.14807880423816908, 0.9929746854557273, 0.9928962670783253, 0.23422170689135138, 0.06214045284872588, 0.0191201393380695, 0.6835449813359846, 0.9491103897944531, 0.9878059330413437, 0.9575217565041179, 0.9683267759268798, 0.022007426725610905, 0.5937228273614467, 0.07107949341651122, 0.16724586686237933, 0.16724586686237933, 0.9635259001767057, 0.9652619249201347, 0.34136566473434177, 0.6496959425589085, 0.997019558832221, 0.3083476571088603, 0.05441429243097535, 0.011336310923119864, 0.12696668233894248, 0.49879768061727403, 0.9829437236353806, 0.2215532443287083, 0.17957473487695305, 0.5130706710770087, 0.08162487948952411, 0.01990445195203841, 0.2521230580591532, 0.09288744244284591, 0.6435772797825753, 0.2555592689042314, 0.5006875472409432, 0.2451282783367118, 0.9784159054438574, 0.0922335303342686, 0.9032525039631822, 0.9903525530439413, 0.6000916875209574, 0.39399959281679026, 0.9610319896961644, 0.21847172593963912, 0.13524440177215755, 0.2704888035443151, 0.027742441389160523, 0.35024832253815164, 0.5023719565653408, 0.3048373522847942, 0.19265720664398994, 0.9676660024141723, 0.5284617971742067, 0.02745256089216658, 0.4392409742746653, 0.29225230848843786, 0.22254074866550774, 0.0241309245540912, 0.43703785581298504, 0.026812138393434666, 0.9373420882364712, 0.993012180849929, 0.9621924135805855, 0.35535677408565797, 0.15974754064401137, 0.3064544657252463, 0.17930846398817604, 0.0484322262317859, 0.8959961852880391, 0.0484322262317859, 0.7674529964395886, 0.06201640375269403, 0.015504100938173507, 0.1511649841471917, 0.9379267285344516, 0.048098806591510335, 0.10815897384274234, 0.8869035855104872, 0.9695914508928064, 0.9915673559976349, 0.5075322195390615, 0.39719912833491766, 0.09378312752352223, 0.7325552203810216, 0.2653643910563905, 0.954059646159783, 0.2418354542452932, 0.021533293871156246, 0.6857525894352835, 0.05134862384660335, 0.6771818924689048, 0.32386960074599797, 0.13485979119530472, 0.04149532036778607, 0.8195325772637749, 0.9980971725608616, 0.9715917682644287, 0.23222046884924666, 0.7370475750432611, 0.030289626371640867, 0.7041029869554496, 0.021832650758308515, 0.2674499717892793, 0.9917379288065986, 0.9401916721937302, 0.4144244746537281, 0.04973093695844737, 0.06630791594459651, 0.4289293312666086, 0.04144244746537281, 0.7921327099715634, 0.01115679873199385, 0.2008223771758893, 0.978149704125253, 0.9612092882757081, 0.9928304618022344, 0.9723440328608131, 0.020688170911932192, 0.9612071583833464, 0.9113599518211161, 0.08329633968257512, 0.24716459822174044, 0.7506480390438044, 0.9478146643612407, 0.9672786062442941, 0.7663669898142812, 0.22294312430960905, 0.9694930857270574, 0.9878063551789844, 0.9599690496765504, 0.8556303497634731, 0.13564871398689207, 0.9600592193993239, 0.9968693245062403, 0.2193383436729358, 0.20471578742807342, 0.5775909716720643, 0.9716000381936365, 0.9956362275583914, 0.9750495386547675, 0.009123126985008868, 0.07298501588007095, 0.7024807778456827, 0.2189550476402128, 0.2409023704536202, 0.6209927771693321, 0.13383465025201122, 0.9837426935035525, 0.9909747318709611, 0.16664825236315883, 0.12448423670501021, 0.11243737508839632, 0.5963196500223876, 0.05560237127927068, 0.2867911781772909, 0.0029264405936458254, 0.6555226929766649, 0.9744467298464681, 0.9916282153615678, 0.9768629323617972, 0.9631145374052031, 0.9971146121140575, 0.9674796409603786, 0.9714785540679581, 0.1320370711748242, 0.08488097432667269, 0.7827912076793148, 0.9915557509320307, 0.9806823809021601, 0.9399742898978037, 0.03133247632992679, 0.015666238164963396, 0.2824126829804465, 0.3560855568014326, 0.3519926193669334, 0.012278812303497675, 0.2285970168952432, 0.5754338701156122, 0.03941327877504193, 0.14977045934515934, 0.8352688426010971, 0.1474003839884289, 0.012283365332369076, 0.3346161447806927, 0.1408910083287127, 0.5283412812326727, 0.1041353614570269, 0.5461793447848146, 0.06375634374920014, 0.2869035468714006, 0.9575216996991782, 0.9915520587626528, 0.6884164863609943, 0.07179803845482763, 0.2365111854982557, 0.2780095066014844, 0.4706460151127491, 0.017512409864660433, 0.12477592028570558, 0.1094525616541277, 0.29360468805978374, 0.29360468805978374, 0.0024672662862166702, 0.10609245030731682, 0.3059410194908671, 0.5836349322117497, 0.1567974444747984, 0.23301842442782542, 0.0021777422843722, 0.023955165128094202, 0.5337466645559155, 0.4622136064195557, 0.9575217153540424, 0.9928379533755076, 0.9868071408153111, 0.9715436351414346, 0.9794183746362783, 0.9651550763035417, 0.028229866570809496, 0.9598154634075229, 0.9953792867608802, 0.10188482389088567, 0.22924085375449274, 0.665435256037347, 0.9774448836597468, 0.9848734479346796, 0.29148937538611486, 0.12705947132215262, 0.5381342314820582, 0.037370432741809595, 0.9887665938856415, 0.12390851091001222, 0.5841401228614862, 0.06637955941607797, 0.22569050201466512, 0.9826951397370784, 0.20115137069332217, 0.10057568534666109, 0.6948865533042038, 0.9774478648196765, 0.9683853071819604, 0.02200875698140819, 0.9082323614237369, 0.031318357290473685, 0.04697753593571053, 0.3118049489371093, 0.032979369599117334, 0.23984996072085332, 0.13191747839646933, 0.28482182835601333, 0.9715968834290062, 0.9802979518499932, 0.6229007325977657, 0.37134466751020645, 0.3207341507330199, 0.2385949170087099, 0.43807591319631983, 0.9810914244128851, 0.9648039333899237, 0.855203663284965, 0.014494977343812967, 0.07247488671906484, 0.05797990937525187, 0.07831710844008025, 0.29760501207230494, 0.007831710844008025, 0.033937413657368104, 0.5795466024565938, 0.059982496427955355, 0.34489935446074327, 0.5923271522260591, 0.9930653446902175, 0.16631905314312287, 0.17704931463622758, 0.3433683677793505, 0.31117758330003636, 0.23329079828843063, 0.18144839866877938, 0.5147209676522517, 0.06295148525243366, 0.007406057088521607, 0.9806764009974432, 0.9802985510974163, 0.1643277205789286, 0.8216386028946431, 0.8029690625697444, 0.009559155506782671, 0.18162395462887077, 0.3102252736354159, 0.5523523164728137, 0.09079764106402416, 0.037832350443343404, 0.9785142653149002, 0.987541458578973, 0.9915749969397069, 0.9672778093138833, 0.23227463146747818, 0.7621511345026628, 0.19986073842302784, 0.00832753076762616, 0.208188269190654, 0.574599622966205, 0.2098032820210634, 0.7867623075789878, 0.9709346287362879, 0.23780963151791965, 0.5206102744040944, 0.23780963151791965, 0.8794379924858282, 0.11470930336771672, 0.9676648877349594, 0.9675130638870066, 0.9775633437209084, 0.9788410275810376, 0.9694571871008976, 0.9648051410476131, 0.9930944930129121, 0.9930764095885687, 0.21702907095724064, 0.7716589189590779, 0.9918928203976523, 0.004551243337470833, 0.022756216687354166, 0.9739660742187584, 0.9663128627594038, 0.9932928241397698, 0.9378543284711913, 0.052103018248399524, 0.9622013483628004, 0.9628601485090001, 0.9561384060951506, 0.019919550126982304, 0.9921308455412172, 0.9599682913126172, 0.9839756117046091, 0.9663113913924868, 0.7439527855284126, 0.25208317526169355, 0.9878041082761793, 0.9755328707355638, 0.9575178425733482, 0.10287342173818688, 0.792125347384039, 0.10287342173818688, 0.9911864260218706, 0.9832863940917799, 0.1507329486448143, 0.4640988155642966, 0.06544983296419568, 0.1427996355582451, 0.17849954444780639, 0.975132086060719, 0.9849403299294546, 0.9744449572309715, 0.11530893354395474, 0.8833099437518043, 0.48060166719114933, 0.006865738102730705, 0.21283788118465183, 0.2849281312633242, 0.01373147620546141, 0.9639852278689242, 0.5891061280747957, 0.1152598946233296, 0.14727653201869892, 0.0192099824372216, 0.1280665495814773, 0.9799348232869168, 0.016536389313987786, 0.008268194656993893, 0.9673787748682854, 0.8302981036875001, 0.16704222204363908, 0.963120595629892, 0.9966219310168981, 0.4390609848629631, 0.5174647321599207, 0.04181533189171077, 0.6249774211936516, 0.049714113049495016, 0.32669274289668154, 0.6087324489604549, 0.020634998269845925, 0.014444498788892148, 0.3549219702413499, 0.46681425839397206, 0.08684916435236689, 0.40167738512969686, 0.043424582176183446, 0.37949659237862093, 0.26768063212420584, 0.16941812159759861, 0.1863599337573585, 0.9715035885712172, 0.971597205592591, 0.5704536457356332, 0.09749571399845366, 0.3319003029734593, 0.9194151899828595, 0.07258540973548891, 0.40555833697959287, 0.4364907525119347, 0.024058545414043644, 0.1306035322476655, 0.9784482957524175, 0.9066354204408269, 0.09066354204408268, 0.9716024129158001, 0.9227636232496507, 0.06670580409033619, 0.132510508301787, 0.8097864396220318, 0.010516707008078335, 0.04627351083554467, 0.9775635753403137, 0.967510480268924, 0.37464452094925166, 0.010406792248590323, 0.19772905272321614, 0.41627168994361297, 0.4480608112793687, 0.12526431283079126, 0.3950643712355724, 0.028907149114797984, 0.03763250636403234, 0.7971249075290487, 0.16079343628268364, 0.2671806805715208, 0.4919517293062923, 0.22477104873477147, 0.0127228895510248, 0.9224540410580314, 0.06149693607053543, 0.2981834952825762, 0.23649035832756043, 0.013709585990003503, 0.3530218392425902, 0.09596710193002451, 0.28363837521759755, 0.18909225014506503, 0.5267569825469669, 0.9916432584809195, 0.18992922477079818, 0.5982770580280142, 0.05381328035172615, 0.15827435397566517, 0.1184346532357234, 0.0463439947444135, 0.015447998248137834, 0.5509786041835828, 0.26776530296772244, 0.8713687500672045, 0.12533386131103627, 0.8150078581770428, 0.1782829689762281, 0.006367248892008147, 0.033873318129934556, 0.9484529076381676, 0.9781532457529776, 0.9918451074775498, 0.9928017771038627, 0.4782807995243021, 0.2615229987546676, 0.12015921564403648, 0.1390077200587873, 0.1634100477050078, 0.31357063208258257, 0.15457707215338576, 0.37098497316812584, 0.379384178330687, 0.6173030698262026, 0.9973472290320478, 0.9924636846131456], \"Term\": [\"-Started\", \"-Worked\", \".\", \".\", \"2\", \"3\", \"6\", \"All\", \"Banker\", \"Before\", \"By\", \"Challenged\", \"Despite\", \"Despite\", \"Despite\", \"Developer\", \"Good\", \"Good\", \"Good\", \"Good\", \"Great\", \"Great\", \"Has\", \"Keep\", \"LAN\", \"Laravel\", \"Lead\", \"Linux\", \"Maintains\", \"PHP\", \"PHP,\", \"Please\", \"Progressive\", \"Remote\", \"SQL\", \"Server\", \"She\", \"She\", \"She\", \"She\", \"She\", \"She's\", \"Stratcom\", \"Stratcom\", \"Stratcom\", \"Studio\", \"System\", \"Systems\", \"Takes\", \"Tasks\", \"Tasks\", \"Thank\", \"The\", \"The\", \"The\", \"This\", \"This\", \"This\", \"Trainer\", \"Very\", \"We\", \"We\", \"We\", \"We\", \"Web\", \"You\", \"abiding\", \"ability\", \"ability\", \"able\", \"able\", \"able\", \"able\", \"accessed\", \"accomplished\", \"acquired\", \"acquired\", \"acquired.\", \"all\", \"all\", \"all\", \"all\", \"all\", \"almost\", \"also\", \"also\", \"also\", \"also\", \"always\", \"always\", \"always\", \"always\", \"an\", \"an\", \"an\", \"analysis\", \"any\", \"any\", \"apk\", \"app\", \"app\", \"applications\", \"are\", \"are\", \"are\", \"are\", \"are\", \"as\", \"as\", \"as\", \"asks\", \"assigned\", \"assigned\", \"assigned\", \"at\", \"at\", \"at\", \"at\", \"at\", \"atara\", \"attendance\", \"attentive\", \"be\", \"be\", \"be\", \"be\", \"because\", \"because\", \"because\", \"been\", \"been\", \"been\", \"been\", \"being\", \"being\", \"best.\", \"best.\", \"building\", \"built\", \"but\", \"but\", \"but\", \"by\", \"by\", \"cable\", \"can\", \"can\", \"can\", \"can\", \"challenge.\", \"challenge.\", \"challenges,\", \"challenges,\", \"challenges,\", \"challenges.\", \"cisco\", \"code\", \"code\", \"code\", \"coding\", \"coding\", \"coding\", \"competence\", \"competence.\", \"completed\", \"completed\", \"completed\", \"completed\", \"completed\", \"configure\", \"configure\", \"configure\", \"configuring\", \"constant\", \"contact\", \"continued\", \"continued\", \"coworkers.\", \"data\", \"data\", \"database\", \"database\", \"debugging\", \"delivered\", \"delivery\", \"delivery\", \"department\", \"deploy\", \"deployed\", \"design\", \"design\", \"designing\", \"detail\", \"development\", \"development\", \"development\", \"device.\", \"devices\", \"directory\", \"doing\", \"doing\", \"doing\", \"doing\", \"done\", \"done\", \"done\", \"early\", \"embark\", \"encourage\", \"encourage\", \"encourage\", \"encourage\", \"end\", \"end\", \"end\", \"end\", \"enviroment\", \"equip\", \"equipment\", \"exceedingly\", \"explaining\", \"far\", \"fellow\", \"few\", \"few\", \"few\", \"finished\", \"flutter\", \"forward\", \"forward\", \"forward\", \"from\", \"from\", \"from\", \"from\", \"get\", \"get\", \"get\", \"get\", \"given\", \"given\", \"given\", \"going\", \"going\", \"going\", \"good\", \"good\", \"good\", \"good\", \"gradually\", \"hands-on\", \"have\", \"have\", \"have\", \"her\", \"her\", \"her\", \"her\", \"her\", \"him\", \"him\", \"him\", \"him\", \"him\", \"his\", \"his\", \"his\", \"his\", \"his\", \"how\", \"how\", \"improving,\", \"incase\", \"install\", \"instructions\", \"interest\", \"internet.\", \"interns\", \"interns\", \"internship.\", \"it\", \"it\", \"it\", \"it's\", \"keep\", \"knowledge\", \"knowledge\", \"knowledge\", \"knowledge\", \"layer\", \"learn\", \"learn\", \"learn\", \"learn\", \"less\", \"like\", \"like\", \"like\", \"linux\", \"machine\", \"machine\", \"made\", \"made\", \"made\", \"managed\", \"managed\", \"managed\", \"managed\", \"managed\", \"manipulation\", \"messaging\", \"mobile\", \"mobile\", \"more\", \"more\", \"more\", \"movements\", \"multitasking.\", \"networking\", \"networking\", \"networking\", \"networking\", \"new\", \"new\", \"new\", \"new\", \"new\", \"next\", \"next\", \"next\", \"no\", \"not\", \"not\", \"not\", \"not\", \"now\", \"now\", \"now\", \"now\", \"now\", \"off,\", \"online\", \"operating\", \"operating\", \"other\", \"other\", \"other\", \"our\", \"our\", \"our\", \"our\", \"over\", \"person\", \"plan\", \"plot\", \"practical\", \"practical\", \"practice\", \"practice\", \"practice\", \"practice\", \"present\", \"present\", \"progress.\", \"project\", \"project\", \"project\", \"promising\", \"promising\", \"proper\", \"protocols\", \"read\", \"real\", \"record\", \"regardless\", \"relationship\", \"relationships\", \"remote\", \"remote\", \"repair\", \"report\", \"report\", \"report\", \"require\", \"resources\", \"review\", \"review\", \"reviewed\", \"routing\", \"run\", \"run\", \"scratch.\", \"secure\", \"security.\", \"semester\", \"server\", \"server\", \"server,\", \"server.\", \"service\", \"set\", \"set\", \"set\", \"setting\", \"share\", \"she\", \"she\", \"she\", \"she\", \"she\", \"showed\", \"sign\", \"simple\", \"skills\", \"skills\", \"so\", \"so\", \"so\", \"so\", \"so\", \"so,\", \"some\", \"some\", \"some\", \"some\", \"some\", \"spend\", \"started\", \"started\", \"started\", \"student\", \"student\", \"supervision.\", \"supposed\", \"system\", \"system\", \"system\", \"task\", \"task\", \"task\", \"tasks\", \"tasks\", \"tasks\", \"tasks\", \"tasks.\", \"tasks.\", \"tasks.\", \"tasks.\", \"team\", \"team\", \"team\", \"team\", \"technical\", \"terms\", \"that\", \"that\", \"that\", \"things\", \"things\", \"time\", \"time\", \"time\", \"time\", \"tools\", \"towards\", \"towards\", \"transport.\", \"understanding\", \"understanding\", \"up\", \"up\", \"up\", \"up\", \"up.\", \"upgrade\", \"use\", \"use\", \"use\", \"use\", \"using\", \"using\", \"using\", \"using\", \"very\", \"very\", \"very\", \"we\", \"we\", \"we\", \"we\", \"website.\", \"website.\", \"week\", \"week\", \"week\", \"week\", \"week\", \"week's\", \"week's\", \"week's\", \"weeks.\", \"well\", \"well\", \"well\", \"well\", \"well.\", \"well.\", \"well.\", \"well.\", \"well.\", \"were\", \"were\", \"which\", \"which\", \"which\", \"who\", \"who\", \"willing\", \"wish\", \"without\", \"work\", \"work\", \"work\", \"work\", \"working\", \"working\", \"working\", \"working\", \"write\", \"write\", \"you\", \"your\"]}, \"R\": 30, \"lambda.step\": 0.01, \"plot.opts\": {\"xlab\": \"PC1\", \"ylab\": \"PC2\"}, \"topic.order\": [5, 2, 1, 4, 3]};\n",
              "\n",
              "function LDAvis_load_lib(url, callback){\n",
              "  var s = document.createElement('script');\n",
              "  s.src = url;\n",
              "  s.async = true;\n",
              "  s.onreadystatechange = s.onload = callback;\n",
              "  s.onerror = function(){console.warn(\"failed to load library \" + url);};\n",
              "  document.getElementsByTagName(\"head\")[0].appendChild(s);\n",
              "}\n",
              "\n",
              "if(typeof(LDAvis) !== \"undefined\"){\n",
              "   // already loaded: just create the visualization\n",
              "   !function(LDAvis){\n",
              "       new LDAvis(\"#\" + \"ldavis_el581403284068777766849591274\", ldavis_el581403284068777766849591274_data);\n",
              "   }(LDAvis);\n",
              "}else if(typeof define === \"function\" && define.amd){\n",
              "   // require.js is available: use it to load d3/LDAvis\n",
              "   require.config({paths: {d3: \"https://d3js.org/d3.v5\"}});\n",
              "   require([\"d3\"], function(d3){\n",
              "      window.d3 = d3;\n",
              "      LDAvis_load_lib(\"https://cdn.jsdelivr.net/gh/bmabey/pyLDAvis@3.3.1/pyLDAvis/js/ldavis.v3.0.0.js\", function(){\n",
              "        new LDAvis(\"#\" + \"ldavis_el581403284068777766849591274\", ldavis_el581403284068777766849591274_data);\n",
              "      });\n",
              "    });\n",
              "}else{\n",
              "    // require.js not available: dynamically load d3 & LDAvis\n",
              "    LDAvis_load_lib(\"https://d3js.org/d3.v5.js\", function(){\n",
              "         LDAvis_load_lib(\"https://cdn.jsdelivr.net/gh/bmabey/pyLDAvis@3.3.1/pyLDAvis/js/ldavis.v3.0.0.js\", function(){\n",
              "                 new LDAvis(\"#\" + \"ldavis_el581403284068777766849591274\", ldavis_el581403284068777766849591274_data);\n",
              "            })\n",
              "         });\n",
              "}\n",
              "</script>"
            ]
          },
          "metadata": {},
          "execution_count": 44
        }
      ]
    },
    {
      "cell_type": "code",
      "source": [
        "# coherence \n",
        "from gensim.models import CoherenceModel# Compute Coherence Score\n",
        "coherence_model_lda = CoherenceModel(model=lda_model, texts=processed_docs, dictionary=dictionary, coherence='c_v')\n",
        "coherence_lda = coherence_model_lda.get_coherence()\n",
        "print('\\nCoherence Score: ', coherence_lda)"
      ],
      "metadata": {
        "colab": {
          "base_uri": "https://localhost:8080/"
        },
        "id": "mFDsVN9FoySf",
        "outputId": "cf0464d5-f8fa-4fab-e3be-fa913387e86f"
      },
      "execution_count": 45,
      "outputs": [
        {
          "output_type": "stream",
          "name": "stdout",
          "text": [
            "\n",
            "Coherence Score:  0.4602436656468162\n"
          ]
        }
      ]
    },
    {
      "cell_type": "code",
      "execution_count": 46,
      "metadata": {
        "colab": {
          "base_uri": "https://localhost:8080/",
          "height": 1000
        },
        "id": "pw3WwB1q9gTS",
        "outputId": "3a19ed31-0aca-412a-bb2c-cf797542cd8d"
      },
      "outputs": [
        {
          "output_type": "display_data",
          "data": {
            "text/plain": [
              "<IPython.core.display.HTML object>"
            ],
            "text/html": [
              "<h1>Clustered comments of Field Supervisors about Interns into categories: Excellent, Good, Neutral, Poor, Very Poor.</h1>"
            ]
          },
          "metadata": {}
        },
        {
          "output_type": "display_data",
          "data": {
            "text/plain": [
              "<IPython.core.display.HTML object>"
            ],
            "text/html": [
              "<h3>Task Topic: excellent</h3>"
            ]
          },
          "metadata": {}
        },
        {
          "output_type": "display_data",
          "data": {
            "text/plain": [
              "<IPython.core.display.HTML object>"
            ],
            "text/html": [
              "<b>The tasks given to her were assessed and she was excellent and submitted them in time despite the internet shut down</b> - <i>faith has exhibited enthusiasm in taking on the project at hand she has already shown promising signs in understanding the core concepts of software engineering i look forward discovering more as time goes on</i>"
            ]
          },
          "metadata": {}
        },
        {
          "output_type": "display_data",
          "data": {
            "text/plain": [
              "<IPython.core.display.HTML object>"
            ],
            "text/html": [
              "<b>Overall she is an excellent intern and has been resourceful</b> - <i>faith has exhibited enthusiasm in taking on the project at hand she has already shown promising signs in understanding the core concepts of software engineering i look forward discovering more as time goes on</i>"
            ]
          },
          "metadata": {}
        },
        {
          "output_type": "display_data",
          "data": {
            "text/plain": [
              "<IPython.core.display.HTML object>"
            ],
            "text/html": [
              "<b>These combined with outstanding social skills and a dedicated work ethic made her an outstanding asset to our IT team, so intelligent and committed to the work, Her sense of purpose and professionalism\n",
              "will see her far in the career path of her choice, she could take more initiative, self-confidence, excellent prospects</b> - <i>faith has exhibited enthusiasm in taking on the project at hand she has already shown promising signs in understanding the core concepts of software engineering i look forward discovering more as time goes on</i>"
            ]
          },
          "metadata": {}
        },
        {
          "output_type": "display_data",
          "data": {
            "text/plain": [
              "<IPython.core.display.HTML object>"
            ],
            "text/html": [
              "<b>she is an excellent asset to our company (BILLBRAIN TECHNOLOGIES LDT) and brought new and innovative ideas to the table</b> - <i>faith has exhibited enthusiasm in taking on the project at hand she has already shown promising signs in understanding the core concepts of software engineering i look forward discovering more as time goes on</i>"
            ]
          },
          "metadata": {}
        },
        {
          "output_type": "display_data",
          "data": {
            "text/plain": [
              "<IPython.core.display.HTML object>"
            ],
            "text/html": [
              "<b>She was unbelievably responsible, poised, professional, personable, and a great team member!  she did an excellent job during her internship program</b> - <i>faith has exhibited enthusiasm in taking on the project at hand she has already shown promising signs in understanding the core concepts of software engineering i look forward discovering more as time goes on</i>"
            ]
          },
          "metadata": {}
        },
        {
          "output_type": "display_data",
          "data": {
            "text/plain": [
              "<IPython.core.display.HTML object>"
            ],
            "text/html": [
              "<b>She is picking up so well and with persistency will be excellent</b> - <i>faith has exhibited enthusiasm in taking on the project at hand she has already shown promising signs in understanding the core concepts of software engineering i look forward discovering more as time goes on</i>"
            ]
          },
          "metadata": {}
        },
        {
          "output_type": "display_data",
          "data": {
            "text/plain": [
              "<IPython.core.display.HTML object>"
            ],
            "text/html": [
              "<b>He was able to complete and demo all the tasks assigned, excellent performance for DevOps.</b> - <i>faith has exhibited enthusiasm in taking on the project at hand she has already shown promising signs in understanding the core concepts of software engineering i look forward discovering more as time goes on</i>"
            ]
          },
          "metadata": {}
        },
        {
          "output_type": "display_data",
          "data": {
            "text/plain": [
              "<IPython.core.display.HTML object>"
            ],
            "text/html": [
              "<b>Ms Angella's work attitude is excellent</b> - <i>faith has exhibited enthusiasm in taking on the project at hand she has already shown promising signs in understanding the core concepts of software engineering i look forward discovering more as time goes on</i>"
            ]
          },
          "metadata": {}
        },
        {
          "output_type": "display_data",
          "data": {
            "text/plain": [
              "<IPython.core.display.HTML object>"
            ],
            "text/html": [
              "<b>I commend you Benadette for the excellent attitude and diligence this week</b> - <i>faith has exhibited enthusiasm in taking on the project at hand she has already shown promising signs in understanding the core concepts of software engineering i look forward discovering more as time goes on</i>"
            ]
          },
          "metadata": {}
        },
        {
          "output_type": "display_data",
          "data": {
            "text/plain": [
              "<IPython.core.display.HTML object>"
            ],
            "text/html": [
              "<b>And we have a registered an excellent working ethics improvement of him this week</b> - <i>faith has exhibited enthusiasm in taking on the project at hand she has already shown promising signs in understanding the core concepts of software engineering i look forward discovering more as time goes on</i>"
            ]
          },
          "metadata": {}
        },
        {
          "output_type": "display_data",
          "data": {
            "text/plain": [
              "<IPython.core.display.HTML object>"
            ],
            "text/html": [
              "<h3>Task Topic: good</h3>"
            ]
          },
          "metadata": {}
        },
        {
          "output_type": "display_data",
          "data": {
            "text/plain": [
              "<IPython.core.display.HTML object>"
            ],
            "text/html": [
              "<b>Namugema is very focused and good at time management</b> - <i>faith has exhibited enthusiasm in taking on the project at hand she has already shown promising signs in understanding the core concepts of software engineering i look forward discovering more as time goes on</i>"
            ]
          },
          "metadata": {}
        },
        {
          "output_type": "display_data",
          "data": {
            "text/plain": [
              "<IPython.core.display.HTML object>"
            ],
            "text/html": [
              "<b> Awesome leadership skills, computer competency, very good communication skills, great team player and cooperation, fantastic time management, hardworking spirit are a great description of Bridget</b> - <i>faith has exhibited enthusiasm in taking on the project at hand she has already shown promising signs in understanding the core concepts of software engineering i look forward discovering more as time goes on</i>"
            ]
          },
          "metadata": {}
        },
        {
          "output_type": "display_data",
          "data": {
            "text/plain": [
              "<IPython.core.display.HTML object>"
            ],
            "text/html": [
              "<b>she was a good time keeper that is to say, she could make it  to the office early in the morning in order to start up her given tasks, however there are days she used to come at the office a little bit late but she had strong evident reasons, she is confident and self driven, she's has got leadership skills and good communication skills as well.\n",
              "its a pleasure to work with her because she is very diligent, responsible</b> - <i>faith has exhibited enthusiasm in taking on the project at hand she has already shown promising signs in understanding the core concepts of software engineering i look forward discovering more as time goes on</i>"
            ]
          },
          "metadata": {}
        },
        {
          "output_type": "display_data",
          "data": {
            "text/plain": [
              "<IPython.core.display.HTML object>"
            ],
            "text/html": [
              "<b>Very hard working, good ideas; needs a little work on taking constructive criticism, she is a tremendous help to us that is to say, she was able to put together all of the information that was needed in a precise research and computer skills, communication skills are some of the best I've seen in her</b> - <i>faith has exhibited enthusiasm in taking on the project at hand she has already shown promising signs in understanding the core concepts of software engineering i look forward discovering more as time goes on</i>"
            ]
          },
          "metadata": {}
        },
        {
          "output_type": "display_data",
          "data": {
            "text/plain": [
              "<IPython.core.display.HTML object>"
            ],
            "text/html": [
              "<b>He was good at asking were necessary thus he did an excellent job.</b> - <i>faith has exhibited enthusiasm in taking on the project at hand she has already shown promising signs in understanding the core concepts of software engineering i look forward discovering more as time goes on</i>"
            ]
          },
          "metadata": {}
        },
        {
          "output_type": "display_data",
          "data": {
            "text/plain": [
              "<IPython.core.display.HTML object>"
            ],
            "text/html": [
              "<b>Has many good qualities such - he is result-oriented, keeps time, respects colleagues, good communication skills and is excelled with solving the problems assigned to him</b> - <i>faith has exhibited enthusiasm in taking on the project at hand she has already shown promising signs in understanding the core concepts of software engineering i look forward discovering more as time goes on</i>"
            ]
          },
          "metadata": {}
        },
        {
          "output_type": "display_data",
          "data": {
            "text/plain": [
              "<IPython.core.display.HTML object>"
            ],
            "text/html": [
              "<b>Time management is excellent, His general application of knowledge to address problems is excellent, He is a good listener and fast learner</b> - <i>faith has exhibited enthusiasm in taking on the project at hand she has already shown promising signs in understanding the core concepts of software engineering i look forward discovering more as time goes on</i>"
            ]
          },
          "metadata": {}
        },
        {
          "output_type": "display_data",
          "data": {
            "text/plain": [
              "<IPython.core.display.HTML object>"
            ],
            "text/html": [
              "<b>Passionate about motion graphics and willing to learnt more and more, Good presenter, Has good ideas, His time management is excellent.</b> - <i>faith has exhibited enthusiasm in taking on the project at hand she has already shown promising signs in understanding the core concepts of software engineering i look forward discovering more as time goes on</i>"
            ]
          },
          "metadata": {}
        },
        {
          "output_type": "display_data",
          "data": {
            "text/plain": [
              "<IPython.core.display.HTML object>"
            ],
            "text/html": [
              "<b>The student's weekly progress was justifiably good, characterized with enthusiasm to learning more.</b> - <i>faith has exhibited enthusiasm in taking on the project at hand she has already shown promising signs in understanding the core concepts of software engineering i look forward discovering more as time goes on</i>"
            ]
          },
          "metadata": {}
        },
        {
          "output_type": "display_data",
          "data": {
            "text/plain": [
              "<IPython.core.display.HTML object>"
            ],
            "text/html": [
              "<b>Very good</b> - <i>faith has exhibited enthusiasm in taking on the project at hand she has already shown promising signs in understanding the core concepts of software engineering i look forward discovering more as time goes on</i>"
            ]
          },
          "metadata": {}
        },
        {
          "output_type": "display_data",
          "data": {
            "text/plain": [
              "<IPython.core.display.HTML object>"
            ],
            "text/html": [
              "<h3>Task Topic: neutral</h3>"
            ]
          },
          "metadata": {}
        },
        {
          "output_type": "display_data",
          "data": {
            "text/plain": [
              "<IPython.core.display.HTML object>"
            ],
            "text/html": [
              "<h3>Task Topic: poor</h3>"
            ]
          },
          "metadata": {}
        },
        {
          "output_type": "display_data",
          "data": {
            "text/plain": [
              "<IPython.core.display.HTML object>"
            ],
            "text/html": [
              "<b>You can record the resultant challenges such as poor connectivity</b> - <i>faith has exhibited enthusiasm in taking on the project at hand she has already shown promising signs in understanding the core concepts of software engineering i look forward discovering more as time goes on</i>"
            ]
          },
          "metadata": {}
        },
        {
          "output_type": "display_data",
          "data": {
            "text/plain": [
              "<IPython.core.display.HTML object>"
            ],
            "text/html": [
              "<b>\n",
              "For internet, may be it is limited but not poor</b> - <i>faith has exhibited enthusiasm in taking on the project at hand she has already shown promising signs in understanding the core concepts of software engineering i look forward discovering more as time goes on</i>"
            ]
          },
          "metadata": {}
        },
        {
          "output_type": "display_data",
          "data": {
            "text/plain": [
              "<IPython.core.display.HTML object>"
            ],
            "text/html": [
              "<b>You can record the resultant challenges such as poor connectivity</b> - <i>faith has exhibited enthusiasm in taking on the project at hand she has already shown promising signs in understanding the core concepts of software engineering i look forward discovering more as time goes on</i>"
            ]
          },
          "metadata": {}
        },
        {
          "output_type": "display_data",
          "data": {
            "text/plain": [
              "<IPython.core.display.HTML object>"
            ],
            "text/html": [
              "<b>You could highlight resultant challenges from this new normal such as poor or intermittent network connectivity</b> - <i>faith has exhibited enthusiasm in taking on the project at hand she has already shown promising signs in understanding the core concepts of software engineering i look forward discovering more as time goes on</i>"
            ]
          },
          "metadata": {}
        },
        {
          "output_type": "display_data",
          "data": {
            "text/plain": [
              "<IPython.core.display.HTML object>"
            ],
            "text/html": [
              "<b>\n",
              "In order to address the challenges you have highlighted, you will need to make better preparations for the online collaboration sessions to avoid being affected by some of them such as poor network</b> - <i>faith has exhibited enthusiasm in taking on the project at hand she has already shown promising signs in understanding the core concepts of software engineering i look forward discovering more as time goes on</i>"
            ]
          },
          "metadata": {}
        },
        {
          "output_type": "display_data",
          "data": {
            "text/plain": [
              "<IPython.core.display.HTML object>"
            ],
            "text/html": [
              "<b>Indeed there was poor network, especially during our weekly catch up meeting</b> - <i>faith has exhibited enthusiasm in taking on the project at hand she has already shown promising signs in understanding the core concepts of software engineering i look forward discovering more as time goes on</i>"
            ]
          },
          "metadata": {}
        },
        {
          "output_type": "display_data",
          "data": {
            "text/plain": [
              "<IPython.core.display.HTML object>"
            ],
            "text/html": [
              "<b>Incase of poor network, I encourage her to make use of recordings and contact the Lead developer for guidance.</b> - <i>faith has exhibited enthusiasm in taking on the project at hand she has already shown promising signs in understanding the core concepts of software engineering i look forward discovering more as time goes on</i>"
            ]
          },
          "metadata": {}
        },
        {
          "output_type": "display_data",
          "data": {
            "text/plain": [
              "<IPython.core.display.HTML object>"
            ],
            "text/html": [
              "<b>In case of poor network, I encourage her to make use of recordings</b> - <i>faith has exhibited enthusiasm in taking on the project at hand she has already shown promising signs in understanding the core concepts of software engineering i look forward discovering more as time goes on</i>"
            ]
          },
          "metadata": {}
        },
        {
          "output_type": "display_data",
          "data": {
            "text/plain": [
              "<IPython.core.display.HTML object>"
            ],
            "text/html": [
              "<b>Internet was too poor this week</b> - <i>faith has exhibited enthusiasm in taking on the project at hand she has already shown promising signs in understanding the core concepts of software engineering i look forward discovering more as time goes on</i>"
            ]
          },
          "metadata": {}
        },
        {
          "output_type": "display_data",
          "data": {
            "text/plain": [
              "<IPython.core.display.HTML object>"
            ],
            "text/html": [
              "<b>Another week of low performance due to the online nature of the work hampered by poor connectivity</b> - <i>faith has exhibited enthusiasm in taking on the project at hand she has already shown promising signs in understanding the core concepts of software engineering i look forward discovering more as time goes on</i>"
            ]
          },
          "metadata": {}
        },
        {
          "output_type": "display_data",
          "data": {
            "text/plain": [
              "<IPython.core.display.HTML object>"
            ],
            "text/html": [
              "<h3>Task Topic: very poor</h3>"
            ]
          },
          "metadata": {}
        }
      ],
      "source": [
        "import functools\n",
        "from IPython.core.display import display, HTML\n",
        "from nltk import PorterStemmer\n",
        "\n",
        "#tell the system how many sentences are needed\n",
        "max_sentences=10\n",
        "\n",
        "# function to stem keywords into a common base word\n",
        "def stem_words(words):\n",
        "    stemmer = PorterStemmer()\n",
        "    singles=[]\n",
        "    for w in words:\n",
        "        singles.append(stemmer.stem(w))\n",
        "    return singles\n",
        "\n",
        "# list of lists for topic words related to this tasks\n",
        "display(HTML('<h1>Clustered comments of Field Supervisors about Interns into categories: Excellent, Good, Neutral, Poor, Very Poor.</h1>'))\n",
        "tasks = [[\"excellent\"], [\"good\"],[\"neutral\"],['poor'],[\"very poor\"]]\n",
        "\n",
        "\n",
        "# loop through the list of lists\n",
        "for search_words in tasks:\n",
        "    #str1=''\n",
        "    # a string of the search words to print readable search\n",
        "    str1=' '.join(search_words)\n",
        "    search_words=stem_words(search_words)\n",
        "    # add excellent to focus the search for comments and avoid unrelated comments\n",
        "    search_words.append(\"excellent\")\n",
        "    # search the dataframe for all the keywords\n",
        "    dataFrame1=dataFrame[functools.reduce(lambda a, b: a&b, (dataFrame['Comment'].str.contains(s) for s in search_words))]\n",
        "    search_words.pop()\n",
        "\n",
        "    search_words.append(\"good\")\n",
        "    # search the dataframe for all the keywords\n",
        "    dataFrame3=dataFrame[functools.reduce(lambda a, b: a&b, (dataFrame['Comment'].str.contains(s) for s in search_words))]\n",
        "    search_words.pop()\n",
        "\n",
        "    search_words.append(\"poor\")\n",
        "    # search the dataframe for all the keywords\n",
        "    dataFrame4=dataFrame[functools.reduce(lambda a, b: a&b, (dataFrame['Comment'].str.contains(s) for s in search_words))]\n",
        "    search_words.pop()\n",
        "\n",
        "    search_words.append(\"very poor\")\n",
        "    # search the dataframe for all the keywords\n",
        "    dataFrame5=dataFrame[functools.reduce(lambda a, b: a&b, (dataFrame['Comment'].str.contains(s) for s in search_words))]\n",
        "    search_words.pop()\n",
        "\n",
        "    search_words.append(\"neutral\")\n",
        "    dataFrame2=dataFrame[functools.reduce(lambda a, b: a&b, (dataFrame['Comment'].str.contains(s) for s in search_words))]\n",
        "    # remove the neutral word for sentence level analysis\n",
        "    search_words.pop()\n",
        "    #combine frames with excellent, good, neutral, poor, and very poor and drop duplicates\n",
        "    frames = [dataFrame1, dataFrame2, dataFrame3, dataFrame4, dataFrame5]\n",
        "    dataFrame1a = pd.concat(frames)\n",
        "    dataFrame=dataFrame.drop_duplicates()\n",
        "    \n",
        "    display(HTML('<h3>Task Topic: '+str1+'</h3>'))\n",
        "    # record how many sentences have been saved for display\n",
        "    sentences_used=0\n",
        "    # loop through the result of the dataframe search\n",
        "    for index, row in dataFrame1a.iterrows():\n",
        "        #break apart the comment to sentence level\n",
        "        sentences = row['Comment'].split('. ')\n",
        "        #loop through the sentences of the comment\n",
        "        for sentence in sentences:\n",
        "            # missing lets the system know if all the words are in the sentence\n",
        "            missing=0\n",
        "            #loop through the words of sentence\n",
        "            for word in search_words:\n",
        "                #if keyword missing change missing variable\n",
        "                if word not in sentence:\n",
        "                    missing=1\n",
        "            # after all sentences processed show the sentences not missing keywords limit to max_sentences\n",
        "            if missing==0 and sentences_used < max_sentences:\n",
        "                sentences_used=sentences_used+1\n",
        "              \n",
        "                display(HTML('<b>'+sentence+'</b> - <i>'+Comment+'</i>'))\n"
      ]
    },
    {
      "cell_type": "markdown",
      "metadata": {
        "id": "S5oBeTlGuqmU"
      },
      "source": [
        "**NAMED ENTITY RECOGNITION** \n",
        "\n",
        "Create a Named Entity Recognition (NER) model that takes in a comment as an input and outputs the Entities, if any, belonging\n",
        "to the categories: \n",
        "\n",
        "\n",
        "1.   Person\n",
        "2.   Organization\n",
        "3.   Place/Location\n",
        "4. Time\n",
        "\n"
      ]
    },
    {
      "cell_type": "markdown",
      "metadata": {
        "id": "cD1bgEnVz4sf"
      },
      "source": [
        "**Implementation of NER Using spaCy Package**\n"
      ]
    },
    {
      "cell_type": "markdown",
      "metadata": {
        "id": "rDI_ANfdvLWE"
      },
      "source": [
        "Import Libraries to use for the NER"
      ]
    },
    {
      "cell_type": "code",
      "execution_count": 47,
      "metadata": {
        "colab": {
          "base_uri": "https://localhost:8080/"
        },
        "id": "czRtago-vOJL",
        "outputId": "b3dd1a71-e654-4357-85f3-b656d52682a8"
      },
      "outputs": [
        {
          "output_type": "stream",
          "name": "stderr",
          "text": [
            "[nltk_data] Downloading package punkt to /root/nltk_data...\n",
            "[nltk_data]   Package punkt is already up-to-date!\n",
            "[nltk_data] Downloading package averaged_perceptron_tagger to\n",
            "[nltk_data]     /root/nltk_data...\n",
            "[nltk_data]   Package averaged_perceptron_tagger is already up-to-\n",
            "[nltk_data]       date!\n",
            "[nltk_data] Downloading package maxent_ne_chunker to\n",
            "[nltk_data]     /root/nltk_data...\n",
            "[nltk_data]   Unzipping chunkers/maxent_ne_chunker.zip.\n",
            "[nltk_data] Downloading package words to /root/nltk_data...\n",
            "[nltk_data]   Unzipping corpora/words.zip.\n"
          ]
        }
      ],
      "source": [
        "# Importing libraries\n",
        "import nltk\n",
        "import re\n",
        "import time\n",
        "nltk.download('punkt')\n",
        "nltk.download('averaged_perceptron_tagger')\n",
        "nltk.download('maxent_ne_chunker')\n",
        "nltk.download('words')\n",
        "import spacy"
      ]
    },
    {
      "cell_type": "markdown",
      "metadata": {
        "id": "D5Ed-627vVDC"
      },
      "source": [
        "Capture a string to use for picking and classifying the categories\n"
      ]
    },
    {
      "cell_type": "code",
      "execution_count": 48,
      "metadata": {
        "id": "39FT9GZ_vZnG"
      },
      "outputs": [],
      "source": [
        "# custom_text_to_process =  \"\"\" Faith has exhibited enthusiasm in\n",
        "#  taking on the project at hand. She has already shown promising signs in\n",
        "#   understanding the core concepts of software engineering. I look forward\n",
        "#    discovering more as time goes on. The Intern was oriented on ICT setup and \n",
        "#    Infrastructure of Soroti University, drafted workplan and started off the Internship. \n",
        "#    Simon was encouraged to take the Internship seriously as there was a lot to learn. \n",
        "#    The student was oriented on the organization structure, developed workplan for the 4 week \n",
        "#    internship and participated in assessment of printers for servicing.  He acquired both technical and \n",
        "#    teamwork skills at workplace. A little delays and constant supervision. The task has been finally completed,\n",
        "#     and reviewed by the line supervisor. Good job Mahad. Stephen was diligent in his work. He made effort to resolve\n",
        "#      issues that were assigned to him. He has a quick understanding of technical problems and he tries his best to solve them \n",
        "#      independently. Stephen is a quick learner and he has great future ahead of him in the software engineering field.\n",
        "#  \"\"\""
      ]
    },
    {
      "cell_type": "markdown",
      "source": [
        "**EXTRACT THE INPUT TEXT TO PROCESS FROM THE DATASET (DIRECTLY)**\n",
        "\n",
        "In this case we are extracting , random rows to test how the model reacts to the entities predictions"
      ],
      "metadata": {
        "id": "7G9oRw-BQhh2"
      }
    },
    {
      "cell_type": "code",
      "execution_count": 49,
      "metadata": {
        "colab": {
          "base_uri": "https://localhost:8080/"
        },
        "id": "qb4aRyRvyitp",
        "outputId": "3f5bb912-b956-4062-9cd6-d20069caed78"
      },
      "outputs": [
        {
          "output_type": "stream",
          "name": "stdout",
          "text": [
            "Billbrain staff, stake holders and I are satisfied with Sherinah's overall performance. I certainly would consider her for a more permanent job in the future, she did all of the tasks asked of her and more. She felt comfortable enough\n",
            "to trust her instincts and handled many situations which alleviated much of our work load. We were all very impressed by her ability to assess the work and get things accomplished in a short work day. Our IT department trusted her to deal with our Websites with her intern team, and they  always delivered above and beyond. I expected Nantambi to come in each day and know exactly what had to get done. She also did this with ease and was great about updating me, asked\n",
            "intelligent questions and picked everything up very quickly, which was the biggest advantage. She surpassed all expectations and really ran with everything we handed to her.\n",
            "I would like to express what an amazing intern Nantambi Sherinah was for me and our for the short period we interacted with her, truly one of a kind. She was unbelievably responsible, poised, professional, personable, and a great team member!  she did an excellent job during her internship program. She shows a strong desire to learn and great maturity. She was given many different tasks and completed all with little guidance. I believe that she has an amazing future ahead of her in information system and anywhere else. She is the type of person that people want to work with and be around which is rare. I hope she is\n",
            "proud of what she accomplished here.\n"
          ]
        }
      ],
      "source": [
        "# Pick the second row of dataset for testing of NER\n",
        "# 3  - Organization Testin \n",
        "# 152 - Time testing\n",
        "# 155 Date, Person\n",
        "\n",
        "pick_single_comment_for_testing = dataFrame.loc[155,:].copy()\n",
        "print(pick_single_comment_for_testing.Comment)"
      ]
    },
    {
      "cell_type": "markdown",
      "metadata": {
        "id": "s7b4seJUvprS"
      },
      "source": [
        "Loading  the Named Entity recognition Model of spicy on the String Data Provided\n",
        "\n"
      ]
    },
    {
      "cell_type": "code",
      "execution_count": 50,
      "metadata": {
        "id": "gJjNNH0pv2nj"
      },
      "outputs": [],
      "source": [
        "NER = spacy.load(\"en_core_web_sm\", disable=[\"tok2vec\", \"tagger\", \"parser\", \"attribute_ruler\", \"lemmatizer\"])\n"
      ]
    },
    {
      "cell_type": "markdown",
      "metadata": {
        "id": "FhGbHxaNv7Sb"
      },
      "source": [
        "Fitting the model on the text data that has been captured for extracting the respective categories"
      ]
    },
    {
      "cell_type": "code",
      "execution_count": 51,
      "metadata": {
        "id": "rRdtuM_5wCjH"
      },
      "outputs": [],
      "source": [
        "# Fitting the model\n",
        "text= NER(pick_single_comment_for_testing.Comment)"
      ]
    },
    {
      "cell_type": "markdown",
      "metadata": {
        "id": "LJ-Svbs9wSI1"
      },
      "source": [
        "Printing the named entity found by the model in our sample text."
      ]
    },
    {
      "cell_type": "code",
      "execution_count": 52,
      "metadata": {
        "colab": {
          "base_uri": "https://localhost:8080/"
        },
        "id": "Bs7M1NLNwTjU",
        "outputId": "43c3acf2-67ec-4440-8ca2-0886c24e8c36"
      },
      "outputs": [
        {
          "output_type": "stream",
          "name": "stdout",
          "text": [
            "a short work day  , Belongs to Entity :  DATE\n",
            "Nantambi Sherinah  , Belongs to Entity :  PERSON\n"
          ]
        }
      ],
      "source": [
        "for w in text.ents:\n",
        "    print(w.text , ' , Belongs to Entity : ',w.label_)"
      ]
    },
    {
      "cell_type": "markdown",
      "metadata": {
        "id": "W2oE7KvkwbRw"
      },
      "source": [
        "Vizualizing  the name entities with the data using the display package of spacy."
      ]
    },
    {
      "cell_type": "code",
      "execution_count": 53,
      "metadata": {
        "colab": {
          "base_uri": "https://localhost:8080/",
          "height": 402
        },
        "id": "v3R444pqwkhR",
        "outputId": "06e495fc-005a-4e45-9dbc-fec3159ecc53"
      },
      "outputs": [
        {
          "output_type": "display_data",
          "data": {
            "text/plain": [
              "<IPython.core.display.HTML object>"
            ],
            "text/html": [
              "<span class=\"tex2jax_ignore\"><div class=\"entities\" style=\"line-height: 2.5; direction: ltr\">Billbrain staff, stake holders and I are satisfied with Sherinah's overall performance. I certainly would consider her for a more permanent job in the future, she did all of the tasks asked of her and more. She felt comfortable enough</br>to trust her instincts and handled many situations which alleviated much of our work load. We were all very impressed by her ability to assess the work and get things accomplished in \n",
              "<mark class=\"entity\" style=\"background: #bfe1d9; padding: 0.45em 0.6em; margin: 0 0.25em; line-height: 1; border-radius: 0.35em;\">\n",
              "    a short work day\n",
              "    <span style=\"font-size: 0.8em; font-weight: bold; line-height: 1; border-radius: 0.35em; vertical-align: middle; margin-left: 0.5rem\">DATE</span>\n",
              "</mark>\n",
              ". Our IT department trusted her to deal with our Websites with her intern team, and they  always delivered above and beyond. I expected Nantambi to come in each day and know exactly what had to get done. She also did this with ease and was great about updating me, asked</br>intelligent questions and picked everything up very quickly, which was the biggest advantage. She surpassed all expectations and really ran with everything we handed to her.</br>I would like to express what an amazing intern \n",
              "<mark class=\"entity\" style=\"background: #aa9cfc; padding: 0.45em 0.6em; margin: 0 0.25em; line-height: 1; border-radius: 0.35em;\">\n",
              "    Nantambi Sherinah\n",
              "    <span style=\"font-size: 0.8em; font-weight: bold; line-height: 1; border-radius: 0.35em; vertical-align: middle; margin-left: 0.5rem\">PERSON</span>\n",
              "</mark>\n",
              " was for me and our for the short period we interacted with her, truly one of a kind. She was unbelievably responsible, poised, professional, personable, and a great team member!  she did an excellent job during her internship program. She shows a strong desire to learn and great maturity. She was given many different tasks and completed all with little guidance. I believe that she has an amazing future ahead of her in information system and anywhere else. She is the type of person that people want to work with and be around which is rare. I hope she is</br>proud of what she accomplished here.</div></span>"
            ]
          },
          "metadata": {}
        }
      ],
      "source": [
        "# displaying with spacy package\n",
        "spacy.displacy.render(text, style=\"ent\",jupyter=True)"
      ]
    },
    {
      "cell_type": "markdown",
      "source": [
        "**A Different way of using Spacy to do the analysis**"
      ],
      "metadata": {
        "id": "d-e_0h3qPdwj"
      }
    },
    {
      "cell_type": "markdown",
      "source": [
        "Import libraries"
      ],
      "metadata": {
        "id": "T-KBJZPcPpdb"
      }
    },
    {
      "cell_type": "code",
      "source": [
        "#import libraries\n",
        "import spacy \n",
        "from spacy import displacy\n",
        "#SpaCy 2.x brough significant speed and accuracy improvements\n",
        "spacy.__version__"
      ],
      "metadata": {
        "colab": {
          "base_uri": "https://localhost:8080/",
          "height": 35
        },
        "id": "eG3TG_p1Pq0g",
        "outputId": "bacdcf24-1679-46df-cf26-c5fa714aec18"
      },
      "execution_count": 54,
      "outputs": [
        {
          "output_type": "execute_result",
          "data": {
            "text/plain": [
              "'3.4.1'"
            ],
            "application/vnd.google.colaboratory.intrinsic+json": {
              "type": "string"
            }
          },
          "metadata": {},
          "execution_count": 54
        }
      ]
    },
    {
      "cell_type": "code",
      "source": [
        "#Download spacy models\n",
        "#!python -m spacy download en_core_web_sm"
      ],
      "metadata": {
        "id": "rODzPvBSPvum"
      },
      "execution_count": 55,
      "outputs": []
    },
    {
      "cell_type": "code",
      "source": [
        "# Load SpaCy model\n",
        "nlp = spacy.load(\"en_core_web_sm\")"
      ],
      "metadata": {
        "id": "4nkqobzYPzi1"
      },
      "execution_count": 56,
      "outputs": []
    },
    {
      "cell_type": "code",
      "source": [
        "doc = nlp(text)\n",
        "\n",
        "entities = []\n",
        "labels = []\n",
        "position_start = []\n",
        "position_end = []\n",
        "\n",
        "for ent in doc.ents:\n",
        "    entities.append(ent)\n",
        "    labels.append(ent.label_)\n",
        "    position_start.append(ent.start_char)\n",
        "    position_end.append(ent.end_char)\n",
        "    \n",
        "df = pd.DataFrame({'Entities':entities,'Labels':labels,'Position_Start':position_start, 'Position_End':position_end})\n",
        "\n",
        "df"
      ],
      "metadata": {
        "colab": {
          "base_uri": "https://localhost:8080/",
          "height": 112
        },
        "id": "fD9qQF9iP3_u",
        "outputId": "4704c007-1121-4646-9f93-c3336c10a81d"
      },
      "execution_count": 57,
      "outputs": [
        {
          "output_type": "execute_result",
          "data": {
            "text/plain": [
              "                Entities  Labels  Position_Start  Position_End\n",
              "0  (a, short, work, day)    DATE             418           434\n",
              "1   (Nantambi, Sherinah)  PERSON             926           943"
            ],
            "text/html": [
              "\n",
              "  <div id=\"df-b66d1275-8f2e-4ddb-95d5-1f54bb4b5ef5\">\n",
              "    <div class=\"colab-df-container\">\n",
              "      <div>\n",
              "<style scoped>\n",
              "    .dataframe tbody tr th:only-of-type {\n",
              "        vertical-align: middle;\n",
              "    }\n",
              "\n",
              "    .dataframe tbody tr th {\n",
              "        vertical-align: top;\n",
              "    }\n",
              "\n",
              "    .dataframe thead th {\n",
              "        text-align: right;\n",
              "    }\n",
              "</style>\n",
              "<table border=\"1\" class=\"dataframe\">\n",
              "  <thead>\n",
              "    <tr style=\"text-align: right;\">\n",
              "      <th></th>\n",
              "      <th>Entities</th>\n",
              "      <th>Labels</th>\n",
              "      <th>Position_Start</th>\n",
              "      <th>Position_End</th>\n",
              "    </tr>\n",
              "  </thead>\n",
              "  <tbody>\n",
              "    <tr>\n",
              "      <th>0</th>\n",
              "      <td>(a, short, work, day)</td>\n",
              "      <td>DATE</td>\n",
              "      <td>418</td>\n",
              "      <td>434</td>\n",
              "    </tr>\n",
              "    <tr>\n",
              "      <th>1</th>\n",
              "      <td>(Nantambi, Sherinah)</td>\n",
              "      <td>PERSON</td>\n",
              "      <td>926</td>\n",
              "      <td>943</td>\n",
              "    </tr>\n",
              "  </tbody>\n",
              "</table>\n",
              "</div>\n",
              "      <button class=\"colab-df-convert\" onclick=\"convertToInteractive('df-b66d1275-8f2e-4ddb-95d5-1f54bb4b5ef5')\"\n",
              "              title=\"Convert this dataframe to an interactive table.\"\n",
              "              style=\"display:none;\">\n",
              "        \n",
              "  <svg xmlns=\"http://www.w3.org/2000/svg\" height=\"24px\"viewBox=\"0 0 24 24\"\n",
              "       width=\"24px\">\n",
              "    <path d=\"M0 0h24v24H0V0z\" fill=\"none\"/>\n",
              "    <path d=\"M18.56 5.44l.94 2.06.94-2.06 2.06-.94-2.06-.94-.94-2.06-.94 2.06-2.06.94zm-11 1L8.5 8.5l.94-2.06 2.06-.94-2.06-.94L8.5 2.5l-.94 2.06-2.06.94zm10 10l.94 2.06.94-2.06 2.06-.94-2.06-.94-.94-2.06-.94 2.06-2.06.94z\"/><path d=\"M17.41 7.96l-1.37-1.37c-.4-.4-.92-.59-1.43-.59-.52 0-1.04.2-1.43.59L10.3 9.45l-7.72 7.72c-.78.78-.78 2.05 0 2.83L4 21.41c.39.39.9.59 1.41.59.51 0 1.02-.2 1.41-.59l7.78-7.78 2.81-2.81c.8-.78.8-2.07 0-2.86zM5.41 20L4 18.59l7.72-7.72 1.47 1.35L5.41 20z\"/>\n",
              "  </svg>\n",
              "      </button>\n",
              "      \n",
              "  <style>\n",
              "    .colab-df-container {\n",
              "      display:flex;\n",
              "      flex-wrap:wrap;\n",
              "      gap: 12px;\n",
              "    }\n",
              "\n",
              "    .colab-df-convert {\n",
              "      background-color: #E8F0FE;\n",
              "      border: none;\n",
              "      border-radius: 50%;\n",
              "      cursor: pointer;\n",
              "      display: none;\n",
              "      fill: #1967D2;\n",
              "      height: 32px;\n",
              "      padding: 0 0 0 0;\n",
              "      width: 32px;\n",
              "    }\n",
              "\n",
              "    .colab-df-convert:hover {\n",
              "      background-color: #E2EBFA;\n",
              "      box-shadow: 0px 1px 2px rgba(60, 64, 67, 0.3), 0px 1px 3px 1px rgba(60, 64, 67, 0.15);\n",
              "      fill: #174EA6;\n",
              "    }\n",
              "\n",
              "    [theme=dark] .colab-df-convert {\n",
              "      background-color: #3B4455;\n",
              "      fill: #D2E3FC;\n",
              "    }\n",
              "\n",
              "    [theme=dark] .colab-df-convert:hover {\n",
              "      background-color: #434B5C;\n",
              "      box-shadow: 0px 1px 3px 1px rgba(0, 0, 0, 0.15);\n",
              "      filter: drop-shadow(0px 1px 2px rgba(0, 0, 0, 0.3));\n",
              "      fill: #FFFFFF;\n",
              "    }\n",
              "  </style>\n",
              "\n",
              "      <script>\n",
              "        const buttonEl =\n",
              "          document.querySelector('#df-b66d1275-8f2e-4ddb-95d5-1f54bb4b5ef5 button.colab-df-convert');\n",
              "        buttonEl.style.display =\n",
              "          google.colab.kernel.accessAllowed ? 'block' : 'none';\n",
              "\n",
              "        async function convertToInteractive(key) {\n",
              "          const element = document.querySelector('#df-b66d1275-8f2e-4ddb-95d5-1f54bb4b5ef5');\n",
              "          const dataTable =\n",
              "            await google.colab.kernel.invokeFunction('convertToInteractive',\n",
              "                                                     [key], {});\n",
              "          if (!dataTable) return;\n",
              "\n",
              "          const docLinkHtml = 'Like what you see? Visit the ' +\n",
              "            '<a target=\"_blank\" href=https://colab.research.google.com/notebooks/data_table.ipynb>data table notebook</a>'\n",
              "            + ' to learn more about interactive tables.';\n",
              "          element.innerHTML = '';\n",
              "          dataTable['output_type'] = 'display_data';\n",
              "          await google.colab.output.renderOutput(dataTable, element);\n",
              "          const docLink = document.createElement('div');\n",
              "          docLink.innerHTML = docLinkHtml;\n",
              "          element.appendChild(docLink);\n",
              "        }\n",
              "      </script>\n",
              "    </div>\n",
              "  </div>\n",
              "  "
            ]
          },
          "metadata": {},
          "execution_count": 57
        }
      ]
    },
    {
      "cell_type": "markdown",
      "source": [
        "**Implementation of NER Using NLTK**\n"
      ],
      "metadata": {
        "id": "8ZIqdDiSG60d"
      }
    },
    {
      "cell_type": "code",
      "source": [
        "import nltk \n",
        "import pandas as pd\n",
        "nltk.download('tagsets')\n"
      ],
      "metadata": {
        "colab": {
          "base_uri": "https://localhost:8080/"
        },
        "id": "Xz4YwLGvG_qg",
        "outputId": "5456de25-0e9b-434b-854c-bf90dadf6919"
      },
      "execution_count": 58,
      "outputs": [
        {
          "output_type": "stream",
          "name": "stderr",
          "text": [
            "[nltk_data] Downloading package tagsets to /root/nltk_data...\n",
            "[nltk_data]   Unzipping help/tagsets.zip.\n"
          ]
        },
        {
          "output_type": "execute_result",
          "data": {
            "text/plain": [
              "True"
            ]
          },
          "metadata": {},
          "execution_count": 58
        }
      ]
    },
    {
      "cell_type": "markdown",
      "source": [
        "Load the text data"
      ],
      "metadata": {
        "id": "IEvplRC3HaEP"
      }
    },
    {
      "cell_type": "code",
      "source": [
        "# ner_text_processing = \"Apple acquired Zoom in China on Wednesday New York German, Califonia, USA, Faith has exhibited enthusiasm in taking on the project at hand. She has already shown promising signs in understanding the core concepts of software engineering. I look forward discovering more as time goes on. The Intern was oriented on ICT setup and Infrastructure of Soroti University, drafted workplan and started off the Internship. Simon was encouraged to take the Internship seriously as there was a lot to learn. The student was oriented on the organization structure, developed workplan for the 4 week internship and participated in assessment of printers for servicing.  He acquired both technical and teamwork skills at workplace. A little delays and constant supervision. The task has been finally completed, and reviewed by the line supervisor. Good job Mahad. Stephen was diligent in his work. He made effort to resolve issues that were assigned to him. He has a quick understanding of technical problems and he tries his best to solve them independently. Stephen is a quick learner and he has great future ahead of him in the software engineering field.\"\n",
        "ner_text_processing = pick_single_comment_for_testing.Comment"
      ],
      "metadata": {
        "id": "qloUCvElHS7F"
      },
      "execution_count": 59,
      "outputs": []
    },
    {
      "cell_type": "markdown",
      "source": [
        "NER using NLTKT Word based approach"
      ],
      "metadata": {
        "id": "B5L4dBZ6H2I7"
      }
    },
    {
      "cell_type": "code",
      "source": [
        "# tokenize the words\n",
        "words = nltk.word_tokenize(ner_text_processing)"
      ],
      "metadata": {
        "id": "okXBt1yTH23-"
      },
      "execution_count": 60,
      "outputs": []
    },
    {
      "cell_type": "code",
      "source": [
        "# display the words to process\n",
        "words"
      ],
      "metadata": {
        "colab": {
          "base_uri": "https://localhost:8080/"
        },
        "id": "YPx_pG1gITwC",
        "outputId": "76aad7bd-05fb-4c74-909a-2ed05054bca9"
      },
      "execution_count": 61,
      "outputs": [
        {
          "output_type": "execute_result",
          "data": {
            "text/plain": [
              "['Billbrain',\n",
              " 'staff',\n",
              " ',',\n",
              " 'stake',\n",
              " 'holders',\n",
              " 'and',\n",
              " 'I',\n",
              " 'are',\n",
              " 'satisfied',\n",
              " 'with',\n",
              " 'Sherinah',\n",
              " \"'s\",\n",
              " 'overall',\n",
              " 'performance',\n",
              " '.',\n",
              " 'I',\n",
              " 'certainly',\n",
              " 'would',\n",
              " 'consider',\n",
              " 'her',\n",
              " 'for',\n",
              " 'a',\n",
              " 'more',\n",
              " 'permanent',\n",
              " 'job',\n",
              " 'in',\n",
              " 'the',\n",
              " 'future',\n",
              " ',',\n",
              " 'she',\n",
              " 'did',\n",
              " 'all',\n",
              " 'of',\n",
              " 'the',\n",
              " 'tasks',\n",
              " 'asked',\n",
              " 'of',\n",
              " 'her',\n",
              " 'and',\n",
              " 'more',\n",
              " '.',\n",
              " 'She',\n",
              " 'felt',\n",
              " 'comfortable',\n",
              " 'enough',\n",
              " 'to',\n",
              " 'trust',\n",
              " 'her',\n",
              " 'instincts',\n",
              " 'and',\n",
              " 'handled',\n",
              " 'many',\n",
              " 'situations',\n",
              " 'which',\n",
              " 'alleviated',\n",
              " 'much',\n",
              " 'of',\n",
              " 'our',\n",
              " 'work',\n",
              " 'load',\n",
              " '.',\n",
              " 'We',\n",
              " 'were',\n",
              " 'all',\n",
              " 'very',\n",
              " 'impressed',\n",
              " 'by',\n",
              " 'her',\n",
              " 'ability',\n",
              " 'to',\n",
              " 'assess',\n",
              " 'the',\n",
              " 'work',\n",
              " 'and',\n",
              " 'get',\n",
              " 'things',\n",
              " 'accomplished',\n",
              " 'in',\n",
              " 'a',\n",
              " 'short',\n",
              " 'work',\n",
              " 'day',\n",
              " '.',\n",
              " 'Our',\n",
              " 'IT',\n",
              " 'department',\n",
              " 'trusted',\n",
              " 'her',\n",
              " 'to',\n",
              " 'deal',\n",
              " 'with',\n",
              " 'our',\n",
              " 'Websites',\n",
              " 'with',\n",
              " 'her',\n",
              " 'intern',\n",
              " 'team',\n",
              " ',',\n",
              " 'and',\n",
              " 'they',\n",
              " 'always',\n",
              " 'delivered',\n",
              " 'above',\n",
              " 'and',\n",
              " 'beyond',\n",
              " '.',\n",
              " 'I',\n",
              " 'expected',\n",
              " 'Nantambi',\n",
              " 'to',\n",
              " 'come',\n",
              " 'in',\n",
              " 'each',\n",
              " 'day',\n",
              " 'and',\n",
              " 'know',\n",
              " 'exactly',\n",
              " 'what',\n",
              " 'had',\n",
              " 'to',\n",
              " 'get',\n",
              " 'done',\n",
              " '.',\n",
              " 'She',\n",
              " 'also',\n",
              " 'did',\n",
              " 'this',\n",
              " 'with',\n",
              " 'ease',\n",
              " 'and',\n",
              " 'was',\n",
              " 'great',\n",
              " 'about',\n",
              " 'updating',\n",
              " 'me',\n",
              " ',',\n",
              " 'asked',\n",
              " 'intelligent',\n",
              " 'questions',\n",
              " 'and',\n",
              " 'picked',\n",
              " 'everything',\n",
              " 'up',\n",
              " 'very',\n",
              " 'quickly',\n",
              " ',',\n",
              " 'which',\n",
              " 'was',\n",
              " 'the',\n",
              " 'biggest',\n",
              " 'advantage',\n",
              " '.',\n",
              " 'She',\n",
              " 'surpassed',\n",
              " 'all',\n",
              " 'expectations',\n",
              " 'and',\n",
              " 'really',\n",
              " 'ran',\n",
              " 'with',\n",
              " 'everything',\n",
              " 'we',\n",
              " 'handed',\n",
              " 'to',\n",
              " 'her',\n",
              " '.',\n",
              " 'I',\n",
              " 'would',\n",
              " 'like',\n",
              " 'to',\n",
              " 'express',\n",
              " 'what',\n",
              " 'an',\n",
              " 'amazing',\n",
              " 'intern',\n",
              " 'Nantambi',\n",
              " 'Sherinah',\n",
              " 'was',\n",
              " 'for',\n",
              " 'me',\n",
              " 'and',\n",
              " 'our',\n",
              " 'for',\n",
              " 'the',\n",
              " 'short',\n",
              " 'period',\n",
              " 'we',\n",
              " 'interacted',\n",
              " 'with',\n",
              " 'her',\n",
              " ',',\n",
              " 'truly',\n",
              " 'one',\n",
              " 'of',\n",
              " 'a',\n",
              " 'kind',\n",
              " '.',\n",
              " 'She',\n",
              " 'was',\n",
              " 'unbelievably',\n",
              " 'responsible',\n",
              " ',',\n",
              " 'poised',\n",
              " ',',\n",
              " 'professional',\n",
              " ',',\n",
              " 'personable',\n",
              " ',',\n",
              " 'and',\n",
              " 'a',\n",
              " 'great',\n",
              " 'team',\n",
              " 'member',\n",
              " '!',\n",
              " 'she',\n",
              " 'did',\n",
              " 'an',\n",
              " 'excellent',\n",
              " 'job',\n",
              " 'during',\n",
              " 'her',\n",
              " 'internship',\n",
              " 'program',\n",
              " '.',\n",
              " 'She',\n",
              " 'shows',\n",
              " 'a',\n",
              " 'strong',\n",
              " 'desire',\n",
              " 'to',\n",
              " 'learn',\n",
              " 'and',\n",
              " 'great',\n",
              " 'maturity',\n",
              " '.',\n",
              " 'She',\n",
              " 'was',\n",
              " 'given',\n",
              " 'many',\n",
              " 'different',\n",
              " 'tasks',\n",
              " 'and',\n",
              " 'completed',\n",
              " 'all',\n",
              " 'with',\n",
              " 'little',\n",
              " 'guidance',\n",
              " '.',\n",
              " 'I',\n",
              " 'believe',\n",
              " 'that',\n",
              " 'she',\n",
              " 'has',\n",
              " 'an',\n",
              " 'amazing',\n",
              " 'future',\n",
              " 'ahead',\n",
              " 'of',\n",
              " 'her',\n",
              " 'in',\n",
              " 'information',\n",
              " 'system',\n",
              " 'and',\n",
              " 'anywhere',\n",
              " 'else',\n",
              " '.',\n",
              " 'She',\n",
              " 'is',\n",
              " 'the',\n",
              " 'type',\n",
              " 'of',\n",
              " 'person',\n",
              " 'that',\n",
              " 'people',\n",
              " 'want',\n",
              " 'to',\n",
              " 'work',\n",
              " 'with',\n",
              " 'and',\n",
              " 'be',\n",
              " 'around',\n",
              " 'which',\n",
              " 'is',\n",
              " 'rare',\n",
              " '.',\n",
              " 'I',\n",
              " 'hope',\n",
              " 'she',\n",
              " 'is',\n",
              " 'proud',\n",
              " 'of',\n",
              " 'what',\n",
              " 'she',\n",
              " 'accomplished',\n",
              " 'here',\n",
              " '.']"
            ]
          },
          "metadata": {},
          "execution_count": 61
        }
      ]
    },
    {
      "cell_type": "code",
      "source": [
        "# part of speech tagging \n",
        "pos_tags = nltk.pos_tag(words)"
      ],
      "metadata": {
        "id": "puQyzuM5Iljy"
      },
      "execution_count": 62,
      "outputs": []
    },
    {
      "cell_type": "code",
      "source": [
        "# print pos tags\n",
        "pos_tags"
      ],
      "metadata": {
        "colab": {
          "base_uri": "https://localhost:8080/"
        },
        "id": "b2RhdbJ5Izvh",
        "outputId": "2eaf3b81-c10c-40c3-e1cc-a60c70eed98b"
      },
      "execution_count": 63,
      "outputs": [
        {
          "output_type": "execute_result",
          "data": {
            "text/plain": [
              "[('Billbrain', 'NNP'),\n",
              " ('staff', 'NN'),\n",
              " (',', ','),\n",
              " ('stake', 'NN'),\n",
              " ('holders', 'NNS'),\n",
              " ('and', 'CC'),\n",
              " ('I', 'PRP'),\n",
              " ('are', 'VBP'),\n",
              " ('satisfied', 'JJ'),\n",
              " ('with', 'IN'),\n",
              " ('Sherinah', 'NNP'),\n",
              " (\"'s\", 'POS'),\n",
              " ('overall', 'JJ'),\n",
              " ('performance', 'NN'),\n",
              " ('.', '.'),\n",
              " ('I', 'PRP'),\n",
              " ('certainly', 'RB'),\n",
              " ('would', 'MD'),\n",
              " ('consider', 'VB'),\n",
              " ('her', 'PRP$'),\n",
              " ('for', 'IN'),\n",
              " ('a', 'DT'),\n",
              " ('more', 'RBR'),\n",
              " ('permanent', 'JJ'),\n",
              " ('job', 'NN'),\n",
              " ('in', 'IN'),\n",
              " ('the', 'DT'),\n",
              " ('future', 'NN'),\n",
              " (',', ','),\n",
              " ('she', 'PRP'),\n",
              " ('did', 'VBD'),\n",
              " ('all', 'DT'),\n",
              " ('of', 'IN'),\n",
              " ('the', 'DT'),\n",
              " ('tasks', 'NNS'),\n",
              " ('asked', 'VBD'),\n",
              " ('of', 'IN'),\n",
              " ('her', 'PRP$'),\n",
              " ('and', 'CC'),\n",
              " ('more', 'RBR'),\n",
              " ('.', '.'),\n",
              " ('She', 'PRP'),\n",
              " ('felt', 'VBD'),\n",
              " ('comfortable', 'JJ'),\n",
              " ('enough', 'RB'),\n",
              " ('to', 'TO'),\n",
              " ('trust', 'VB'),\n",
              " ('her', 'PRP$'),\n",
              " ('instincts', 'NNS'),\n",
              " ('and', 'CC'),\n",
              " ('handled', 'VBD'),\n",
              " ('many', 'JJ'),\n",
              " ('situations', 'NNS'),\n",
              " ('which', 'WDT'),\n",
              " ('alleviated', 'VBD'),\n",
              " ('much', 'RB'),\n",
              " ('of', 'IN'),\n",
              " ('our', 'PRP$'),\n",
              " ('work', 'NN'),\n",
              " ('load', 'NN'),\n",
              " ('.', '.'),\n",
              " ('We', 'PRP'),\n",
              " ('were', 'VBD'),\n",
              " ('all', 'DT'),\n",
              " ('very', 'RB'),\n",
              " ('impressed', 'JJ'),\n",
              " ('by', 'IN'),\n",
              " ('her', 'PRP$'),\n",
              " ('ability', 'NN'),\n",
              " ('to', 'TO'),\n",
              " ('assess', 'VB'),\n",
              " ('the', 'DT'),\n",
              " ('work', 'NN'),\n",
              " ('and', 'CC'),\n",
              " ('get', 'VB'),\n",
              " ('things', 'NNS'),\n",
              " ('accomplished', 'VBN'),\n",
              " ('in', 'IN'),\n",
              " ('a', 'DT'),\n",
              " ('short', 'JJ'),\n",
              " ('work', 'NN'),\n",
              " ('day', 'NN'),\n",
              " ('.', '.'),\n",
              " ('Our', 'PRP$'),\n",
              " ('IT', 'NNP'),\n",
              " ('department', 'NN'),\n",
              " ('trusted', 'VBD'),\n",
              " ('her', 'PRP'),\n",
              " ('to', 'TO'),\n",
              " ('deal', 'VB'),\n",
              " ('with', 'IN'),\n",
              " ('our', 'PRP$'),\n",
              " ('Websites', 'NNS'),\n",
              " ('with', 'IN'),\n",
              " ('her', 'PRP$'),\n",
              " ('intern', 'JJ'),\n",
              " ('team', 'NN'),\n",
              " (',', ','),\n",
              " ('and', 'CC'),\n",
              " ('they', 'PRP'),\n",
              " ('always', 'RB'),\n",
              " ('delivered', 'VBD'),\n",
              " ('above', 'IN'),\n",
              " ('and', 'CC'),\n",
              " ('beyond', 'IN'),\n",
              " ('.', '.'),\n",
              " ('I', 'PRP'),\n",
              " ('expected', 'VBD'),\n",
              " ('Nantambi', 'NNP'),\n",
              " ('to', 'TO'),\n",
              " ('come', 'VB'),\n",
              " ('in', 'IN'),\n",
              " ('each', 'DT'),\n",
              " ('day', 'NN'),\n",
              " ('and', 'CC'),\n",
              " ('know', 'VB'),\n",
              " ('exactly', 'RB'),\n",
              " ('what', 'WP'),\n",
              " ('had', 'VBD'),\n",
              " ('to', 'TO'),\n",
              " ('get', 'VB'),\n",
              " ('done', 'VBN'),\n",
              " ('.', '.'),\n",
              " ('She', 'PRP'),\n",
              " ('also', 'RB'),\n",
              " ('did', 'VBD'),\n",
              " ('this', 'DT'),\n",
              " ('with', 'IN'),\n",
              " ('ease', 'NN'),\n",
              " ('and', 'CC'),\n",
              " ('was', 'VBD'),\n",
              " ('great', 'JJ'),\n",
              " ('about', 'IN'),\n",
              " ('updating', 'VBG'),\n",
              " ('me', 'PRP'),\n",
              " (',', ','),\n",
              " ('asked', 'VBD'),\n",
              " ('intelligent', 'JJ'),\n",
              " ('questions', 'NNS'),\n",
              " ('and', 'CC'),\n",
              " ('picked', 'VBD'),\n",
              " ('everything', 'NN'),\n",
              " ('up', 'RP'),\n",
              " ('very', 'RB'),\n",
              " ('quickly', 'RB'),\n",
              " (',', ','),\n",
              " ('which', 'WDT'),\n",
              " ('was', 'VBD'),\n",
              " ('the', 'DT'),\n",
              " ('biggest', 'JJS'),\n",
              " ('advantage', 'NN'),\n",
              " ('.', '.'),\n",
              " ('She', 'PRP'),\n",
              " ('surpassed', 'VBD'),\n",
              " ('all', 'DT'),\n",
              " ('expectations', 'NNS'),\n",
              " ('and', 'CC'),\n",
              " ('really', 'RB'),\n",
              " ('ran', 'VB'),\n",
              " ('with', 'IN'),\n",
              " ('everything', 'NN'),\n",
              " ('we', 'PRP'),\n",
              " ('handed', 'VBD'),\n",
              " ('to', 'TO'),\n",
              " ('her', 'PRP$'),\n",
              " ('.', '.'),\n",
              " ('I', 'PRP'),\n",
              " ('would', 'MD'),\n",
              " ('like', 'VB'),\n",
              " ('to', 'TO'),\n",
              " ('express', 'VB'),\n",
              " ('what', 'WP'),\n",
              " ('an', 'DT'),\n",
              " ('amazing', 'JJ'),\n",
              " ('intern', 'JJ'),\n",
              " ('Nantambi', 'NNP'),\n",
              " ('Sherinah', 'NNP'),\n",
              " ('was', 'VBD'),\n",
              " ('for', 'IN'),\n",
              " ('me', 'PRP'),\n",
              " ('and', 'CC'),\n",
              " ('our', 'PRP$'),\n",
              " ('for', 'IN'),\n",
              " ('the', 'DT'),\n",
              " ('short', 'JJ'),\n",
              " ('period', 'NN'),\n",
              " ('we', 'PRP'),\n",
              " ('interacted', 'VBD'),\n",
              " ('with', 'IN'),\n",
              " ('her', 'PRP'),\n",
              " (',', ','),\n",
              " ('truly', 'RB'),\n",
              " ('one', 'CD'),\n",
              " ('of', 'IN'),\n",
              " ('a', 'DT'),\n",
              " ('kind', 'NN'),\n",
              " ('.', '.'),\n",
              " ('She', 'PRP'),\n",
              " ('was', 'VBD'),\n",
              " ('unbelievably', 'RB'),\n",
              " ('responsible', 'JJ'),\n",
              " (',', ','),\n",
              " ('poised', 'VBN'),\n",
              " (',', ','),\n",
              " ('professional', 'JJ'),\n",
              " (',', ','),\n",
              " ('personable', 'JJ'),\n",
              " (',', ','),\n",
              " ('and', 'CC'),\n",
              " ('a', 'DT'),\n",
              " ('great', 'JJ'),\n",
              " ('team', 'NN'),\n",
              " ('member', 'NN'),\n",
              " ('!', '.'),\n",
              " ('she', 'PRP'),\n",
              " ('did', 'VBD'),\n",
              " ('an', 'DT'),\n",
              " ('excellent', 'JJ'),\n",
              " ('job', 'NN'),\n",
              " ('during', 'IN'),\n",
              " ('her', 'PRP$'),\n",
              " ('internship', 'JJ'),\n",
              " ('program', 'NN'),\n",
              " ('.', '.'),\n",
              " ('She', 'PRP'),\n",
              " ('shows', 'VBZ'),\n",
              " ('a', 'DT'),\n",
              " ('strong', 'JJ'),\n",
              " ('desire', 'NN'),\n",
              " ('to', 'TO'),\n",
              " ('learn', 'VB'),\n",
              " ('and', 'CC'),\n",
              " ('great', 'JJ'),\n",
              " ('maturity', 'NN'),\n",
              " ('.', '.'),\n",
              " ('She', 'PRP'),\n",
              " ('was', 'VBD'),\n",
              " ('given', 'VBN'),\n",
              " ('many', 'JJ'),\n",
              " ('different', 'JJ'),\n",
              " ('tasks', 'NNS'),\n",
              " ('and', 'CC'),\n",
              " ('completed', 'VBD'),\n",
              " ('all', 'DT'),\n",
              " ('with', 'IN'),\n",
              " ('little', 'JJ'),\n",
              " ('guidance', 'NN'),\n",
              " ('.', '.'),\n",
              " ('I', 'PRP'),\n",
              " ('believe', 'VBP'),\n",
              " ('that', 'IN'),\n",
              " ('she', 'PRP'),\n",
              " ('has', 'VBZ'),\n",
              " ('an', 'DT'),\n",
              " ('amazing', 'JJ'),\n",
              " ('future', 'NN'),\n",
              " ('ahead', 'RB'),\n",
              " ('of', 'IN'),\n",
              " ('her', 'PRP$'),\n",
              " ('in', 'IN'),\n",
              " ('information', 'NN'),\n",
              " ('system', 'NN'),\n",
              " ('and', 'CC'),\n",
              " ('anywhere', 'RB'),\n",
              " ('else', 'RB'),\n",
              " ('.', '.'),\n",
              " ('She', 'PRP'),\n",
              " ('is', 'VBZ'),\n",
              " ('the', 'DT'),\n",
              " ('type', 'NN'),\n",
              " ('of', 'IN'),\n",
              " ('person', 'NN'),\n",
              " ('that', 'WDT'),\n",
              " ('people', 'NNS'),\n",
              " ('want', 'VBP'),\n",
              " ('to', 'TO'),\n",
              " ('work', 'VB'),\n",
              " ('with', 'IN'),\n",
              " ('and', 'CC'),\n",
              " ('be', 'VB'),\n",
              " ('around', 'IN'),\n",
              " ('which', 'WDT'),\n",
              " ('is', 'VBZ'),\n",
              " ('rare', 'JJ'),\n",
              " ('.', '.'),\n",
              " ('I', 'PRP'),\n",
              " ('hope', 'VBP'),\n",
              " ('she', 'PRP'),\n",
              " ('is', 'VBZ'),\n",
              " ('proud', 'JJ'),\n",
              " ('of', 'IN'),\n",
              " ('what', 'WP'),\n",
              " ('she', 'PRP'),\n",
              " ('accomplished', 'VBD'),\n",
              " ('here', 'RB'),\n",
              " ('.', '.')]"
            ]
          },
          "metadata": {},
          "execution_count": 63
        }
      ]
    },
    {
      "cell_type": "code",
      "source": [
        "#check nltk help for description of the tag\n",
        "nltk.help.upenn_tagset('NNP')"
      ],
      "metadata": {
        "colab": {
          "base_uri": "https://localhost:8080/"
        },
        "id": "jQu3US5LJK5U",
        "outputId": "4fd669fd-0634-4c35-efcb-d4e899683d65"
      },
      "execution_count": 64,
      "outputs": [
        {
          "output_type": "stream",
          "name": "stdout",
          "text": [
            "NNP: noun, proper, singular\n",
            "    Motown Venneboerger Czestochwa Ranzer Conchita Trumplane Christos\n",
            "    Oceanside Escobar Kreisler Sawyer Cougar Yvette Ervin ODI Darryl CTCA\n",
            "    Shannon A.K.C. Meltex Liverpool ...\n"
          ]
        }
      ]
    },
    {
      "cell_type": "code",
      "source": [
        "# Binary = True  // will give us 2 outputs, either named entity or NOT\n",
        "# Binary = False  // will have multiple labels ,ie person , organization or entity\n",
        "\n",
        "chunks = nltk.ne_chunk(pos_tags, binary=True) #either NE or not NE\n",
        "for chunk in chunks:\n",
        "    print(chunk)\n"
      ],
      "metadata": {
        "colab": {
          "base_uri": "https://localhost:8080/"
        },
        "id": "ulHFzoIQK6-n",
        "outputId": "1a39f9bd-be7f-4367-e524-2470effb1d71"
      },
      "execution_count": 65,
      "outputs": [
        {
          "output_type": "stream",
          "name": "stdout",
          "text": [
            "(NE Billbrain/NNP)\n",
            "('staff', 'NN')\n",
            "(',', ',')\n",
            "('stake', 'NN')\n",
            "('holders', 'NNS')\n",
            "('and', 'CC')\n",
            "('I', 'PRP')\n",
            "('are', 'VBP')\n",
            "('satisfied', 'JJ')\n",
            "('with', 'IN')\n",
            "(NE Sherinah/NNP)\n",
            "(\"'s\", 'POS')\n",
            "('overall', 'JJ')\n",
            "('performance', 'NN')\n",
            "('.', '.')\n",
            "('I', 'PRP')\n",
            "('certainly', 'RB')\n",
            "('would', 'MD')\n",
            "('consider', 'VB')\n",
            "('her', 'PRP$')\n",
            "('for', 'IN')\n",
            "('a', 'DT')\n",
            "('more', 'RBR')\n",
            "('permanent', 'JJ')\n",
            "('job', 'NN')\n",
            "('in', 'IN')\n",
            "('the', 'DT')\n",
            "('future', 'NN')\n",
            "(',', ',')\n",
            "('she', 'PRP')\n",
            "('did', 'VBD')\n",
            "('all', 'DT')\n",
            "('of', 'IN')\n",
            "('the', 'DT')\n",
            "('tasks', 'NNS')\n",
            "('asked', 'VBD')\n",
            "('of', 'IN')\n",
            "('her', 'PRP$')\n",
            "('and', 'CC')\n",
            "('more', 'RBR')\n",
            "('.', '.')\n",
            "('She', 'PRP')\n",
            "('felt', 'VBD')\n",
            "('comfortable', 'JJ')\n",
            "('enough', 'RB')\n",
            "('to', 'TO')\n",
            "('trust', 'VB')\n",
            "('her', 'PRP$')\n",
            "('instincts', 'NNS')\n",
            "('and', 'CC')\n",
            "('handled', 'VBD')\n",
            "('many', 'JJ')\n",
            "('situations', 'NNS')\n",
            "('which', 'WDT')\n",
            "('alleviated', 'VBD')\n",
            "('much', 'RB')\n",
            "('of', 'IN')\n",
            "('our', 'PRP$')\n",
            "('work', 'NN')\n",
            "('load', 'NN')\n",
            "('.', '.')\n",
            "('We', 'PRP')\n",
            "('were', 'VBD')\n",
            "('all', 'DT')\n",
            "('very', 'RB')\n",
            "('impressed', 'JJ')\n",
            "('by', 'IN')\n",
            "('her', 'PRP$')\n",
            "('ability', 'NN')\n",
            "('to', 'TO')\n",
            "('assess', 'VB')\n",
            "('the', 'DT')\n",
            "('work', 'NN')\n",
            "('and', 'CC')\n",
            "('get', 'VB')\n",
            "('things', 'NNS')\n",
            "('accomplished', 'VBN')\n",
            "('in', 'IN')\n",
            "('a', 'DT')\n",
            "('short', 'JJ')\n",
            "('work', 'NN')\n",
            "('day', 'NN')\n",
            "('.', '.')\n",
            "('Our', 'PRP$')\n",
            "('IT', 'NNP')\n",
            "('department', 'NN')\n",
            "('trusted', 'VBD')\n",
            "('her', 'PRP')\n",
            "('to', 'TO')\n",
            "('deal', 'VB')\n",
            "('with', 'IN')\n",
            "('our', 'PRP$')\n",
            "('Websites', 'NNS')\n",
            "('with', 'IN')\n",
            "('her', 'PRP$')\n",
            "('intern', 'JJ')\n",
            "('team', 'NN')\n",
            "(',', ',')\n",
            "('and', 'CC')\n",
            "('they', 'PRP')\n",
            "('always', 'RB')\n",
            "('delivered', 'VBD')\n",
            "('above', 'IN')\n",
            "('and', 'CC')\n",
            "('beyond', 'IN')\n",
            "('.', '.')\n",
            "('I', 'PRP')\n",
            "('expected', 'VBD')\n",
            "(NE Nantambi/NNP)\n",
            "('to', 'TO')\n",
            "('come', 'VB')\n",
            "('in', 'IN')\n",
            "('each', 'DT')\n",
            "('day', 'NN')\n",
            "('and', 'CC')\n",
            "('know', 'VB')\n",
            "('exactly', 'RB')\n",
            "('what', 'WP')\n",
            "('had', 'VBD')\n",
            "('to', 'TO')\n",
            "('get', 'VB')\n",
            "('done', 'VBN')\n",
            "('.', '.')\n",
            "('She', 'PRP')\n",
            "('also', 'RB')\n",
            "('did', 'VBD')\n",
            "('this', 'DT')\n",
            "('with', 'IN')\n",
            "('ease', 'NN')\n",
            "('and', 'CC')\n",
            "('was', 'VBD')\n",
            "('great', 'JJ')\n",
            "('about', 'IN')\n",
            "('updating', 'VBG')\n",
            "('me', 'PRP')\n",
            "(',', ',')\n",
            "('asked', 'VBD')\n",
            "('intelligent', 'JJ')\n",
            "('questions', 'NNS')\n",
            "('and', 'CC')\n",
            "('picked', 'VBD')\n",
            "('everything', 'NN')\n",
            "('up', 'RP')\n",
            "('very', 'RB')\n",
            "('quickly', 'RB')\n",
            "(',', ',')\n",
            "('which', 'WDT')\n",
            "('was', 'VBD')\n",
            "('the', 'DT')\n",
            "('biggest', 'JJS')\n",
            "('advantage', 'NN')\n",
            "('.', '.')\n",
            "('She', 'PRP')\n",
            "('surpassed', 'VBD')\n",
            "('all', 'DT')\n",
            "('expectations', 'NNS')\n",
            "('and', 'CC')\n",
            "('really', 'RB')\n",
            "('ran', 'VB')\n",
            "('with', 'IN')\n",
            "('everything', 'NN')\n",
            "('we', 'PRP')\n",
            "('handed', 'VBD')\n",
            "('to', 'TO')\n",
            "('her', 'PRP$')\n",
            "('.', '.')\n",
            "('I', 'PRP')\n",
            "('would', 'MD')\n",
            "('like', 'VB')\n",
            "('to', 'TO')\n",
            "('express', 'VB')\n",
            "('what', 'WP')\n",
            "('an', 'DT')\n",
            "('amazing', 'JJ')\n",
            "('intern', 'JJ')\n",
            "(NE Nantambi/NNP Sherinah/NNP)\n",
            "('was', 'VBD')\n",
            "('for', 'IN')\n",
            "('me', 'PRP')\n",
            "('and', 'CC')\n",
            "('our', 'PRP$')\n",
            "('for', 'IN')\n",
            "('the', 'DT')\n",
            "('short', 'JJ')\n",
            "('period', 'NN')\n",
            "('we', 'PRP')\n",
            "('interacted', 'VBD')\n",
            "('with', 'IN')\n",
            "('her', 'PRP')\n",
            "(',', ',')\n",
            "('truly', 'RB')\n",
            "('one', 'CD')\n",
            "('of', 'IN')\n",
            "('a', 'DT')\n",
            "('kind', 'NN')\n",
            "('.', '.')\n",
            "('She', 'PRP')\n",
            "('was', 'VBD')\n",
            "('unbelievably', 'RB')\n",
            "('responsible', 'JJ')\n",
            "(',', ',')\n",
            "('poised', 'VBN')\n",
            "(',', ',')\n",
            "('professional', 'JJ')\n",
            "(',', ',')\n",
            "('personable', 'JJ')\n",
            "(',', ',')\n",
            "('and', 'CC')\n",
            "('a', 'DT')\n",
            "('great', 'JJ')\n",
            "('team', 'NN')\n",
            "('member', 'NN')\n",
            "('!', '.')\n",
            "('she', 'PRP')\n",
            "('did', 'VBD')\n",
            "('an', 'DT')\n",
            "('excellent', 'JJ')\n",
            "('job', 'NN')\n",
            "('during', 'IN')\n",
            "('her', 'PRP$')\n",
            "('internship', 'JJ')\n",
            "('program', 'NN')\n",
            "('.', '.')\n",
            "('She', 'PRP')\n",
            "('shows', 'VBZ')\n",
            "('a', 'DT')\n",
            "('strong', 'JJ')\n",
            "('desire', 'NN')\n",
            "('to', 'TO')\n",
            "('learn', 'VB')\n",
            "('and', 'CC')\n",
            "('great', 'JJ')\n",
            "('maturity', 'NN')\n",
            "('.', '.')\n",
            "('She', 'PRP')\n",
            "('was', 'VBD')\n",
            "('given', 'VBN')\n",
            "('many', 'JJ')\n",
            "('different', 'JJ')\n",
            "('tasks', 'NNS')\n",
            "('and', 'CC')\n",
            "('completed', 'VBD')\n",
            "('all', 'DT')\n",
            "('with', 'IN')\n",
            "('little', 'JJ')\n",
            "('guidance', 'NN')\n",
            "('.', '.')\n",
            "('I', 'PRP')\n",
            "('believe', 'VBP')\n",
            "('that', 'IN')\n",
            "('she', 'PRP')\n",
            "('has', 'VBZ')\n",
            "('an', 'DT')\n",
            "('amazing', 'JJ')\n",
            "('future', 'NN')\n",
            "('ahead', 'RB')\n",
            "('of', 'IN')\n",
            "('her', 'PRP$')\n",
            "('in', 'IN')\n",
            "('information', 'NN')\n",
            "('system', 'NN')\n",
            "('and', 'CC')\n",
            "('anywhere', 'RB')\n",
            "('else', 'RB')\n",
            "('.', '.')\n",
            "('She', 'PRP')\n",
            "('is', 'VBZ')\n",
            "('the', 'DT')\n",
            "('type', 'NN')\n",
            "('of', 'IN')\n",
            "('person', 'NN')\n",
            "('that', 'WDT')\n",
            "('people', 'NNS')\n",
            "('want', 'VBP')\n",
            "('to', 'TO')\n",
            "('work', 'VB')\n",
            "('with', 'IN')\n",
            "('and', 'CC')\n",
            "('be', 'VB')\n",
            "('around', 'IN')\n",
            "('which', 'WDT')\n",
            "('is', 'VBZ')\n",
            "('rare', 'JJ')\n",
            "('.', '.')\n",
            "('I', 'PRP')\n",
            "('hope', 'VBP')\n",
            "('she', 'PRP')\n",
            "('is', 'VBZ')\n",
            "('proud', 'JJ')\n",
            "('of', 'IN')\n",
            "('what', 'WP')\n",
            "('she', 'PRP')\n",
            "('accomplished', 'VBD')\n",
            "('here', 'RB')\n",
            "('.', '.')\n"
          ]
        }
      ]
    },
    {
      "cell_type": "code",
      "source": [
        "# showing the table of named entities are those which are not\n",
        "entities =[]\n",
        "labels =[]\n",
        "for chunk in chunks:\n",
        "    if hasattr(chunk,'label'):\n",
        "        #print(chunk)\n",
        "        entities.append(' '.join(c[0] for c in chunk))\n",
        "        labels.append(chunk.label())\n",
        "        \n",
        "entities_labels = list(set(zip(entities, labels)))\n",
        "entities_df = pd.DataFrame(entities_labels)\n",
        "entities_df.columns = [\"Entities\",\"Labels\"]\n",
        "entities_df"
      ],
      "metadata": {
        "colab": {
          "base_uri": "https://localhost:8080/",
          "height": 175
        },
        "id": "PtPBG6fWL1H7",
        "outputId": "b13f293e-ecba-4efb-dcd4-9b437be5fc53"
      },
      "execution_count": 66,
      "outputs": [
        {
          "output_type": "execute_result",
          "data": {
            "text/plain": [
              "            Entities Labels\n",
              "0  Nantambi Sherinah     NE\n",
              "1           Sherinah     NE\n",
              "2          Billbrain     NE\n",
              "3           Nantambi     NE"
            ],
            "text/html": [
              "\n",
              "  <div id=\"df-5d48839f-ff40-48b5-bda9-596a946bf1fa\">\n",
              "    <div class=\"colab-df-container\">\n",
              "      <div>\n",
              "<style scoped>\n",
              "    .dataframe tbody tr th:only-of-type {\n",
              "        vertical-align: middle;\n",
              "    }\n",
              "\n",
              "    .dataframe tbody tr th {\n",
              "        vertical-align: top;\n",
              "    }\n",
              "\n",
              "    .dataframe thead th {\n",
              "        text-align: right;\n",
              "    }\n",
              "</style>\n",
              "<table border=\"1\" class=\"dataframe\">\n",
              "  <thead>\n",
              "    <tr style=\"text-align: right;\">\n",
              "      <th></th>\n",
              "      <th>Entities</th>\n",
              "      <th>Labels</th>\n",
              "    </tr>\n",
              "  </thead>\n",
              "  <tbody>\n",
              "    <tr>\n",
              "      <th>0</th>\n",
              "      <td>Nantambi Sherinah</td>\n",
              "      <td>NE</td>\n",
              "    </tr>\n",
              "    <tr>\n",
              "      <th>1</th>\n",
              "      <td>Sherinah</td>\n",
              "      <td>NE</td>\n",
              "    </tr>\n",
              "    <tr>\n",
              "      <th>2</th>\n",
              "      <td>Billbrain</td>\n",
              "      <td>NE</td>\n",
              "    </tr>\n",
              "    <tr>\n",
              "      <th>3</th>\n",
              "      <td>Nantambi</td>\n",
              "      <td>NE</td>\n",
              "    </tr>\n",
              "  </tbody>\n",
              "</table>\n",
              "</div>\n",
              "      <button class=\"colab-df-convert\" onclick=\"convertToInteractive('df-5d48839f-ff40-48b5-bda9-596a946bf1fa')\"\n",
              "              title=\"Convert this dataframe to an interactive table.\"\n",
              "              style=\"display:none;\">\n",
              "        \n",
              "  <svg xmlns=\"http://www.w3.org/2000/svg\" height=\"24px\"viewBox=\"0 0 24 24\"\n",
              "       width=\"24px\">\n",
              "    <path d=\"M0 0h24v24H0V0z\" fill=\"none\"/>\n",
              "    <path d=\"M18.56 5.44l.94 2.06.94-2.06 2.06-.94-2.06-.94-.94-2.06-.94 2.06-2.06.94zm-11 1L8.5 8.5l.94-2.06 2.06-.94-2.06-.94L8.5 2.5l-.94 2.06-2.06.94zm10 10l.94 2.06.94-2.06 2.06-.94-2.06-.94-.94-2.06-.94 2.06-2.06.94z\"/><path d=\"M17.41 7.96l-1.37-1.37c-.4-.4-.92-.59-1.43-.59-.52 0-1.04.2-1.43.59L10.3 9.45l-7.72 7.72c-.78.78-.78 2.05 0 2.83L4 21.41c.39.39.9.59 1.41.59.51 0 1.02-.2 1.41-.59l7.78-7.78 2.81-2.81c.8-.78.8-2.07 0-2.86zM5.41 20L4 18.59l7.72-7.72 1.47 1.35L5.41 20z\"/>\n",
              "  </svg>\n",
              "      </button>\n",
              "      \n",
              "  <style>\n",
              "    .colab-df-container {\n",
              "      display:flex;\n",
              "      flex-wrap:wrap;\n",
              "      gap: 12px;\n",
              "    }\n",
              "\n",
              "    .colab-df-convert {\n",
              "      background-color: #E8F0FE;\n",
              "      border: none;\n",
              "      border-radius: 50%;\n",
              "      cursor: pointer;\n",
              "      display: none;\n",
              "      fill: #1967D2;\n",
              "      height: 32px;\n",
              "      padding: 0 0 0 0;\n",
              "      width: 32px;\n",
              "    }\n",
              "\n",
              "    .colab-df-convert:hover {\n",
              "      background-color: #E2EBFA;\n",
              "      box-shadow: 0px 1px 2px rgba(60, 64, 67, 0.3), 0px 1px 3px 1px rgba(60, 64, 67, 0.15);\n",
              "      fill: #174EA6;\n",
              "    }\n",
              "\n",
              "    [theme=dark] .colab-df-convert {\n",
              "      background-color: #3B4455;\n",
              "      fill: #D2E3FC;\n",
              "    }\n",
              "\n",
              "    [theme=dark] .colab-df-convert:hover {\n",
              "      background-color: #434B5C;\n",
              "      box-shadow: 0px 1px 3px 1px rgba(0, 0, 0, 0.15);\n",
              "      filter: drop-shadow(0px 1px 2px rgba(0, 0, 0, 0.3));\n",
              "      fill: #FFFFFF;\n",
              "    }\n",
              "  </style>\n",
              "\n",
              "      <script>\n",
              "        const buttonEl =\n",
              "          document.querySelector('#df-5d48839f-ff40-48b5-bda9-596a946bf1fa button.colab-df-convert');\n",
              "        buttonEl.style.display =\n",
              "          google.colab.kernel.accessAllowed ? 'block' : 'none';\n",
              "\n",
              "        async function convertToInteractive(key) {\n",
              "          const element = document.querySelector('#df-5d48839f-ff40-48b5-bda9-596a946bf1fa');\n",
              "          const dataTable =\n",
              "            await google.colab.kernel.invokeFunction('convertToInteractive',\n",
              "                                                     [key], {});\n",
              "          if (!dataTable) return;\n",
              "\n",
              "          const docLinkHtml = 'Like what you see? Visit the ' +\n",
              "            '<a target=\"_blank\" href=https://colab.research.google.com/notebooks/data_table.ipynb>data table notebook</a>'\n",
              "            + ' to learn more about interactive tables.';\n",
              "          element.innerHTML = '';\n",
              "          dataTable['output_type'] = 'display_data';\n",
              "          await google.colab.output.renderOutput(dataTable, element);\n",
              "          const docLink = document.createElement('div');\n",
              "          docLink.innerHTML = docLinkHtml;\n",
              "          element.appendChild(docLink);\n",
              "        }\n",
              "      </script>\n",
              "    </div>\n",
              "  </div>\n",
              "  "
            ]
          },
          "metadata": {},
          "execution_count": 66
        }
      ]
    }
  ],
  "metadata": {
    "accelerator": "TPU",
    "colab": {
      "collapsed_sections": [],
      "provenance": [],
      "include_colab_link": true
    },
    "gpuClass": "standard",
    "kernelspec": {
      "display_name": "Python 3",
      "name": "python3"
    }
  },
  "nbformat": 4,
  "nbformat_minor": 0
}